{
 "cells": [
  {
   "cell_type": "markdown",
   "metadata": {},
   "source": [
    "---\n",
    "\n",
    "<h1><center><font color='#82ad32'>Gasto Público em Educação x Desempenho no PISA</font></center></h1>\n",
    "\n",
    "---\n",
    "\n",
    "O objetivo deste trabalho é avaliar possíveis correlações entre o gasto público de um país em educação e o desempenho dos alunos deste país na prova do Programa Internacional de Avaliação de Estudantes (PISA). Todas as informações necessárias foram baixadas no site de dados da OCDE [aqui](https://data.oecd.org/), onde é possível encontrar o histórico dos indicadores pertinentes em formato csv. \n",
    "\n",
    "Vale notar que por gasto público em educação nos referimos à porcentagem do PIB investida pelo país na educação primária e secundária. O desempenho do país no PISA, por sua vez, faz referência à nota de cada país na prova e está dividido em três bases, uma para cada área do conhecimento avaliada: Leitura, Matemática e Ciência. Maiores informações a respeito do PISA podem ser encontradas [aqui](http://portal.inep.gov.br/pisa), no site do INEP."
   ]
  },
  {
   "cell_type": "markdown",
   "metadata": {},
   "source": [
    "### <font color='#82ad32'>Divisão do Trabalho</font>\n",
    "\n",
    "0. Importação das Bibliotecas\n",
    "1. Input das Bases\n",
    "2. Tratamento das Bases\n",
    "3. Unificação das Bases\n",
    "4. Análise Exploratória dos Dados\n",
    "5. Correlação entre Gasto Público em Educação x Desempenho no PISA\n"
   ]
  },
  {
   "cell_type": "markdown",
   "metadata": {},
   "source": [
    "---\n",
    "\n",
    "## <font color='#82ad32'>0. Importação das Bibliotecas"
   ]
  },
  {
   "cell_type": "code",
   "execution_count": 1,
   "metadata": {},
   "outputs": [],
   "source": [
    "import pandas as pd\n",
    "import numpy as np\n",
    "import matplotlib.pyplot as plt\n",
    "import matplotlib.gridspec as gridspec\n",
    "\n",
    "import seaborn as sns\n",
    "import plotly.figure_factory as ff\n",
    "import plotly.express as px"
   ]
  },
  {
   "cell_type": "markdown",
   "metadata": {},
   "source": [
    "---\n",
    "\n",
    "## <font color='#82ad32'>1. Input das Bases"
   ]
  },
  {
   "cell_type": "code",
   "execution_count": 2,
   "metadata": {},
   "outputs": [],
   "source": [
    "#Gasto Público em Educação\n",
    "gp_educ = pd.read_csv('gasto_publico_educ_00-15.csv')\n",
    "\n",
    "#Desempenho no PISA\n",
    "#Matemática\n",
    "pisa_m = pd.read_csv('pisa_mat_03-18.csv')\n",
    "#Leitura\n",
    "pisa_l = pd.read_csv('pisa_leitura_00-18.csv')\n",
    "#Ciência\n",
    "pisa_c = pd.read_csv('pisa_sci_06-18.csv')"
   ]
  },
  {
   "cell_type": "markdown",
   "metadata": {},
   "source": [
    "---\n",
    "\n",
    "## <font color='#82ad32'>2. Tratamento das Bases"
   ]
  },
  {
   "cell_type": "code",
   "execution_count": 3,
   "metadata": {},
   "outputs": [],
   "source": [
    "#Selecionando apenas colunas pertinentes\n",
    "gp_educ.drop(['INDICATOR','SUBJECT','MEASURE','FREQUENCY','Flag Codes'],axis=1,inplace=True)\n",
    "\n",
    "pisa_m.drop( ['INDICATOR','SUBJECT','MEASURE','FREQUENCY','Flag Codes'],axis=1,inplace=True)\n",
    "pisa_l.drop( ['INDICATOR','SUBJECT','MEASURE','FREQUENCY','Flag Codes'],axis=1,inplace=True)\n",
    "pisa_c.drop( ['INDICATOR','SUBJECT','MEASURE','FREQUENCY','Flag Codes'],axis=1,inplace=True)\n",
    "\n",
    "#Com isso, todas as bases contêm apenas o nome do país, o valor do indicador e o ano."
   ]
  },
  {
   "cell_type": "code",
   "execution_count": 4,
   "metadata": {},
   "outputs": [],
   "source": [
    "#Renomeando as colunas para maior comodidade \n",
    "gp_educ.columns = ['País','Ano','Gasto Educ (%)']\n",
    "pisa_m.columns = ['País','Ano','Nota Matemática']\n",
    "pisa_l.columns = ['País','Ano','Nota Leitura']\n",
    "pisa_c.columns = ['País','Ano','Nota Ciências']"
   ]
  },
  {
   "cell_type": "code",
   "execution_count": 5,
   "metadata": {},
   "outputs": [
    {
     "name": "stdout",
     "output_type": "stream",
     "text": [
      "País               object\n",
      "Ano                 int64\n",
      "Gasto Educ (%)    float64\n",
      "dtype: object\n",
      "\n",
      "País               object\n",
      "Ano                 int64\n",
      "Nota Matemática     int64\n",
      "dtype: object\n",
      "\n",
      "País             object\n",
      "Ano               int64\n",
      "Nota Ciências     int64\n",
      "dtype: object\n",
      "\n",
      "País            object\n",
      "Ano              int64\n",
      "Nota Leitura     int64\n",
      "dtype: object\n"
     ]
    }
   ],
   "source": [
    "#Avaliando se as colunas estão sendo lidas corretamente. Ano e Valor devem ser lidos como números inteiros (int)\n",
    "#ou fracionados (float)\n",
    "\n",
    "print(gp_educ.dtypes)\n",
    "print()\n",
    "print(pisa_m.dtypes)\n",
    "print()\n",
    "print(pisa_c.dtypes)\n",
    "print()\n",
    "print(pisa_l.dtypes)"
   ]
  },
  {
   "cell_type": "markdown",
   "metadata": {},
   "source": [
    "---\n",
    "\n",
    "## <font color='#82ad32'>3. Unificação das Bases"
   ]
  },
  {
   "cell_type": "code",
   "execution_count": 6,
   "metadata": {},
   "outputs": [],
   "source": [
    "#Para unificar as bases, precisamos de uma coluna para usar de referência. Como os valores fazem referência a um país e a um ano\n",
    "#simultaneamente, vamos concatenar a coluna país com a coluna ano. Com isso, essa coluna concatenada poderá ser usada para \n",
    "#cruzar as bases sem perda de informação.\n",
    "\n",
    "gp_educ['País-Ano'] = gp_educ['País'] + '-' + gp_educ['Ano'].astype(str)\n",
    "\n",
    "pisa_m['País-Ano'] = pisa_m['País'] + '-' + pisa_m['Ano'].astype(str)\n",
    "pisa_l['País-Ano'] = pisa_l['País'] + '-' + pisa_l['Ano'].astype(str)\n",
    "pisa_c['País-Ano'] = pisa_c['País'] + '-' + pisa_c['Ano'].astype(str)"
   ]
  },
  {
   "cell_type": "code",
   "execution_count": 7,
   "metadata": {},
   "outputs": [],
   "source": [
    "#Concatenando as bases\n",
    "base = pd.concat([gp_educ,pisa_m,pisa_l,pisa_c],axis=0,sort=False)\n",
    "#Com isso, a variável 'base' estará agrupada, mas terá valores repetidos para o país-ano \n",
    "#(duas linhas para Brasil-2005, por exemplo)\n",
    "\n",
    "#Para termos apenas um valor para cada país-ano, vamos agrupar a base na coluna País-Ano utilizando como função a mínimo. \n",
    "#Poderíamos aqui utilizar outras funções que não a mínimo, pois só existe 1 valor de cada indicador para cada país-ano.\n",
    "#Se fizessemos a função max(), por exemplo, o resultado seria o mesmo, pois o mínimo de [nan,nan,x] é igual ao\n",
    "#máximo de [nan,nan,x], já que só possui um valor - nan não conta.\n",
    "\n",
    "base_group = base.groupby('País-Ano').min()"
   ]
  },
  {
   "cell_type": "markdown",
   "metadata": {},
   "source": [
    "---\n",
    "\n",
    "## <font color='#82ad32'>4. Análise Exploratória dos Dados"
   ]
  },
  {
   "cell_type": "markdown",
   "metadata": {},
   "source": [
    "Nesta seção, vamos buscar entender o comportamento das bases. Antes de mais nada, veremos quais são as estatísticas descritivas da base."
   ]
  },
  {
   "cell_type": "code",
   "execution_count": 8,
   "metadata": {},
   "outputs": [
    {
     "data": {
      "text/html": [
       "<div>\n",
       "<style scoped>\n",
       "    .dataframe tbody tr th:only-of-type {\n",
       "        vertical-align: middle;\n",
       "    }\n",
       "\n",
       "    .dataframe tbody tr th {\n",
       "        vertical-align: top;\n",
       "    }\n",
       "\n",
       "    .dataframe thead th {\n",
       "        text-align: right;\n",
       "    }\n",
       "</style>\n",
       "<table border=\"1\" class=\"dataframe\">\n",
       "  <thead>\n",
       "    <tr style=\"text-align: right;\">\n",
       "      <th></th>\n",
       "      <th>Gasto Educ (%)</th>\n",
       "      <th>Nota Matemática</th>\n",
       "      <th>Nota Leitura</th>\n",
       "      <th>Nota Ciências</th>\n",
       "    </tr>\n",
       "  </thead>\n",
       "  <tbody>\n",
       "    <tr>\n",
       "      <th>count</th>\n",
       "      <td>369.000000</td>\n",
       "      <td>236.000000</td>\n",
       "      <td>263.000000</td>\n",
       "      <td>202.000000</td>\n",
       "    </tr>\n",
       "    <tr>\n",
       "      <th>mean</th>\n",
       "      <td>3.293992</td>\n",
       "      <td>486.792373</td>\n",
       "      <td>485.866920</td>\n",
       "      <td>490.480198</td>\n",
       "    </tr>\n",
       "    <tr>\n",
       "      <th>std</th>\n",
       "      <td>0.693616</td>\n",
       "      <td>41.084077</td>\n",
       "      <td>34.442027</td>\n",
       "      <td>36.536115</td>\n",
       "    </tr>\n",
       "    <tr>\n",
       "      <th>min</th>\n",
       "      <td>1.543000</td>\n",
       "      <td>356.000000</td>\n",
       "      <td>371.000000</td>\n",
       "      <td>382.000000</td>\n",
       "    </tr>\n",
       "    <tr>\n",
       "      <th>25%</th>\n",
       "      <td>2.747000</td>\n",
       "      <td>480.750000</td>\n",
       "      <td>476.000000</td>\n",
       "      <td>478.000000</td>\n",
       "    </tr>\n",
       "    <tr>\n",
       "      <th>50%</th>\n",
       "      <td>3.238000</td>\n",
       "      <td>494.500000</td>\n",
       "      <td>493.000000</td>\n",
       "      <td>497.000000</td>\n",
       "    </tr>\n",
       "    <tr>\n",
       "      <th>75%</th>\n",
       "      <td>3.754000</td>\n",
       "      <td>512.000000</td>\n",
       "      <td>506.500000</td>\n",
       "      <td>513.000000</td>\n",
       "    </tr>\n",
       "    <tr>\n",
       "      <th>max</th>\n",
       "      <td>5.158000</td>\n",
       "      <td>564.000000</td>\n",
       "      <td>556.000000</td>\n",
       "      <td>563.000000</td>\n",
       "    </tr>\n",
       "  </tbody>\n",
       "</table>\n",
       "</div>"
      ],
      "text/plain": [
       "       Gasto Educ (%)  Nota Matemática  Nota Leitura  Nota Ciências\n",
       "count      369.000000       236.000000    263.000000     202.000000\n",
       "mean         3.293992       486.792373    485.866920     490.480198\n",
       "std          0.693616        41.084077     34.442027      36.536115\n",
       "min          1.543000       356.000000    371.000000     382.000000\n",
       "25%          2.747000       480.750000    476.000000     478.000000\n",
       "50%          3.238000       494.500000    493.000000     497.000000\n",
       "75%          3.754000       512.000000    506.500000     513.000000\n",
       "max          5.158000       564.000000    556.000000     563.000000"
      ]
     },
     "execution_count": 8,
     "metadata": {},
     "output_type": "execute_result"
    }
   ],
   "source": [
    "base_group.describe()[['Gasto Educ (%)', 'Nota Matemática', 'Nota Leitura','Nota Ciências']]\n",
    "\n",
    "#Antes de mais nada, percebemos que o count das colunas não é igual. Isto significa que não existem todos os indicadores,\n",
    "#todos os anos para todos os países. Isto é um problema, pois implica que precisaremos lidar com esses espaços vazios.\n",
    "\n",
    "#Quanto ao Gasto Público em educação, percebemos que existe uma amplitude grande - de 1.5% à 5.1% de investimento -, com uma \n",
    "#média de 3.29%\n",
    "\n",
    "#Já as notas do PISA possuem médias muito parecidas, entre 485 e 490 pontos."
   ]
  },
  {
   "cell_type": "code",
   "execution_count": 9,
   "metadata": {
    "scrolled": false
   },
   "outputs": [
    {
     "data": {
      "text/plain": [
       "Text(0.5, 0.98, 'Distribuição das Variáveis')"
      ]
     },
     "execution_count": 9,
     "metadata": {},
     "output_type": "execute_result"
    },
    {
     "data": {
      "image/png": "[encoded data removed]",
      "text/plain": [
       "<Figure size 864x432 with 4 Axes>"
      ]
     },
     "metadata": {
      "needs_background": "light"
     },
     "output_type": "display_data"
    }
   ],
   "source": [
    "#Vamos visualizar as distribuições dessas colunas.\n",
    "fig = plt.figure(figsize=(12,6))\n",
    "\n",
    "#Gerando um espaço de imagem do matplotlib\n",
    "gs = gridspec.GridSpec(3, 2, wspace=0.2, hspace=0.4,figure=fig)\n",
    "\n",
    "#Criando os sub-espaços (1 maior, e 3 menores)\n",
    "#No código abaixo estamos forçando os gráficos do PISA a terem todos os mesmo eixo X.\n",
    "ax0 = fig.add_subplot(gs[0, 1])\n",
    "plt.yticks([])\n",
    "plt.yticks([])\n",
    "plt.title('Nota em Matemática')\n",
    "plt.setp(ax0.get_xticklabels(), visible=False)\n",
    "\n",
    "ax1 = fig.add_subplot(gs[1, 1],sharex=ax0)\n",
    "plt.yticks([])\n",
    "plt.title('Nota em Leitura')\n",
    "plt.setp(ax1.get_xticklabels(), visible=False)\n",
    "\n",
    "ax2 = fig.add_subplot(gs[2, 1],sharex=ax0)\n",
    "plt.yticks([])\n",
    "plt.title('Nota em Ciências')\n",
    "\n",
    "ax3 = fig.add_subplot(gs[:, 0])\n",
    "plt.yticks([])\n",
    "plt.xticks([x/100 for x in range(100,700,50)])\n",
    "plt.title('Gasto Público em Educação (% do PIB)')\n",
    "\n",
    "#Plotando os gráficos de distribuição.\n",
    "sns.distplot(base_group['Gasto Educ (%)'],ax=ax3,hist=False,axlabel=False,kde_kws={\"shade\": True},color='#342d36')\n",
    "sns.distplot(base_group['Nota Matemática'],ax=ax0,hist=False,axlabel=False,kde_kws={\"shade\": True},color='#eb8989')\n",
    "sns.distplot(base_group['Nota Leitura'],ax=ax1,hist=False,kde_kws={\"shade\": True},axlabel=False)\n",
    "sns.distplot(base_group['Nota Ciências'],ax=ax2,hist=False,axlabel=False,kde_kws={\"shade\": True},color='#62e571')\n",
    "\n",
    "fig.suptitle('Distribuição das Variáveis',fontsize=20)"
   ]
  },
  {
   "cell_type": "markdown",
   "metadata": {},
   "source": [
    "---\n",
    "\n",
    "# <font color='#82ad32'>5. Correlação entre Gasto Público em Educação x Desempenho no PISA"
   ]
  },
  {
   "cell_type": "code",
   "execution_count": 101,
   "metadata": {
    "scrolled": false
   },
   "outputs": [
    {
     "data": {
      "image/png": "[encoded data removed]",
      "text/plain": [
       "<Figure size 900x900 with 20 Axes>"
      ]
     },
     "metadata": {
      "needs_background": "light"
     },
     "output_type": "display_data"
    }
   ],
   "source": [
    "g = sns.pairplot(base_group, \n",
    "                 markers=\"+\",\n",
    "                 kind='reg',\n",
    "                 diag_kind='hist',\n",
    "                 palette='Viridis',\n",
    "                 diag_kws={'color': '#82ad32'},\n",
    "                 plot_kws={'line_kws':{'color':'#aec6cf'}, \n",
    "                           'scatter_kws': {'alpha': 0.5, \n",
    "                                           'color': '#82ad32'}}, \n",
    "#                            'diag_kws': {'color': '#82ad32'}}, # abri uma questao: https://stackoverflow.com/questions/62617588/change-the-seaborn-pairplot-diagonal-color\n",
    "                 corner=True)"
   ]
  },
  {
   "cell_type": "markdown",
   "metadata": {},
   "source": [
    "### <font color='#FGG99'>Ano\n",
    "    \n",
    "  • Podemos ver em [1,1] que a maioria dos registros estao entre 2010 e 2015; \n",
    "\n",
    "  • Pela linha de regressao linear contra as vari'aveis ```['Gasto Educ (%)', 'Nota Matemática', 'Nota Leitura', 'Nota Ciências']``` podemos notar que mesmo com os gastos p'ublicos com a educacao aumentando nos ultimos anos, os resultados das notas vem diminuindo.\n",
    "    \n",
    "### <font color='#FGG99'>Gasto Educ (%)\n",
    "\n",
    "  • Podemos ver em [2,2] que a maioria dos gastos em educacao foram entre 2 a 4% do PIB, temos que investigar se houve alguma tendencia ou sempre foi assim;\n",
    "\n",
    "  • Pela linha de regressao linear contra as vari'aveis ```['Nota Matemática', 'Nota Leitura', 'Nota Ciências']``` podemos notar que os gastos educacionais estao correlacionados com um aumento do desempenho na notas, porem faz contraponto com a analise de Ano.\n",
    "        \n",
    "### <font color='#FGG99'>Notas Matemática, Leitura e Ciencias\n",
    "\n",
    "  • Podemos ver em [[3,3], [4,4], [5,5]] que a maioria dos registros estao entre 475 a 525 pontos; \n",
    "    \n",
    "  • Pela linha de regressao linear vemos que a correlacao dos desempenhos 'e linear quase perfeita, indicando uma causalidade, possivelmente explicada pelo modelo de ensino no qual essas areas do conhecimento tendem a ter a mesma qualidade para os mesmos grupos de alunos."
   ]
  },
  {
   "cell_type": "code",
   "execution_count": 102,
   "metadata": {},
   "outputs": [
    {
     "data": {
      "text/html": [
       "<div>\n",
       "<style scoped>\n",
       "    .dataframe tbody tr th:only-of-type {\n",
       "        vertical-align: middle;\n",
       "    }\n",
       "\n",
       "    .dataframe tbody tr th {\n",
       "        vertical-align: top;\n",
       "    }\n",
       "\n",
       "    .dataframe thead th {\n",
       "        text-align: right;\n",
       "    }\n",
       "</style>\n",
       "<table border=\"1\" class=\"dataframe\">\n",
       "  <thead>\n",
       "    <tr style=\"text-align: right;\">\n",
       "      <th></th>\n",
       "      <th>Ano</th>\n",
       "      <th>Gasto Educ (%)</th>\n",
       "      <th>Nota Matemática</th>\n",
       "      <th>Nota Leitura</th>\n",
       "      <th>Nota Ciências</th>\n",
       "    </tr>\n",
       "  </thead>\n",
       "  <tbody>\n",
       "    <tr>\n",
       "      <th>Ano</th>\n",
       "      <td>1.000000</td>\n",
       "      <td>0.040331</td>\n",
       "      <td>-0.051232</td>\n",
       "      <td>-0.011577</td>\n",
       "      <td>-0.098750</td>\n",
       "    </tr>\n",
       "    <tr>\n",
       "      <th>Gasto Educ (%)</th>\n",
       "      <td>0.040331</td>\n",
       "      <td>1.000000</td>\n",
       "      <td>0.128036</td>\n",
       "      <td>0.214869</td>\n",
       "      <td>0.112744</td>\n",
       "    </tr>\n",
       "    <tr>\n",
       "      <th>Nota Matemática</th>\n",
       "      <td>-0.051232</td>\n",
       "      <td>0.128036</td>\n",
       "      <td>1.000000</td>\n",
       "      <td>0.928911</td>\n",
       "      <td>0.959004</td>\n",
       "    </tr>\n",
       "    <tr>\n",
       "      <th>Nota Leitura</th>\n",
       "      <td>-0.011577</td>\n",
       "      <td>0.214869</td>\n",
       "      <td>0.928911</td>\n",
       "      <td>1.000000</td>\n",
       "      <td>0.947920</td>\n",
       "    </tr>\n",
       "    <tr>\n",
       "      <th>Nota Ciências</th>\n",
       "      <td>-0.098750</td>\n",
       "      <td>0.112744</td>\n",
       "      <td>0.959004</td>\n",
       "      <td>0.947920</td>\n",
       "      <td>1.000000</td>\n",
       "    </tr>\n",
       "  </tbody>\n",
       "</table>\n",
       "</div>"
      ],
      "text/plain": [
       "                      Ano  Gasto Educ (%)  Nota Matemática  Nota Leitura  \\\n",
       "Ano              1.000000        0.040331        -0.051232     -0.011577   \n",
       "Gasto Educ (%)   0.040331        1.000000         0.128036      0.214869   \n",
       "Nota Matemática -0.051232        0.128036         1.000000      0.928911   \n",
       "Nota Leitura    -0.011577        0.214869         0.928911      1.000000   \n",
       "Nota Ciências   -0.098750        0.112744         0.959004      0.947920   \n",
       "\n",
       "                 Nota Ciências  \n",
       "Ano                  -0.098750  \n",
       "Gasto Educ (%)        0.112744  \n",
       "Nota Matemática       0.959004  \n",
       "Nota Leitura          0.947920  \n",
       "Nota Ciências         1.000000  "
      ]
     },
     "execution_count": 102,
     "metadata": {},
     "output_type": "execute_result"
    }
   ],
   "source": [
    "base_group.corr()"
   ]
  },
  {
   "cell_type": "markdown",
   "metadata": {},
   "source": [
    "---\n",
    "---\n",
    "\n",
    "# <font color='#82ad32'>Testes"
   ]
  },
  {
   "cell_type": "markdown",
   "metadata": {},
   "source": [
    "### <font color='#82ad32'>Análise por país \n",
    "    \n",
    "    teste"
   ]
  },
  {
   "cell_type": "code",
   "execution_count": 11,
   "metadata": {
    "scrolled": true
   },
   "outputs": [
    {
     "data": {
      "text/html": [
       "<div>\n",
       "<style scoped>\n",
       "    .dataframe tbody tr th:only-of-type {\n",
       "        vertical-align: middle;\n",
       "    }\n",
       "\n",
       "    .dataframe tbody tr th {\n",
       "        vertical-align: top;\n",
       "    }\n",
       "\n",
       "    .dataframe thead th {\n",
       "        text-align: right;\n",
       "    }\n",
       "</style>\n",
       "<table border=\"1\" class=\"dataframe\">\n",
       "  <thead>\n",
       "    <tr style=\"text-align: right;\">\n",
       "      <th></th>\n",
       "      <th>Ano</th>\n",
       "      <th>2000</th>\n",
       "      <th>2003</th>\n",
       "      <th>2005</th>\n",
       "      <th>2006</th>\n",
       "      <th>2008</th>\n",
       "      <th>2009</th>\n",
       "      <th>2010</th>\n",
       "      <th>2011</th>\n",
       "      <th>2012</th>\n",
       "      <th>2013</th>\n",
       "      <th>2014</th>\n",
       "      <th>2015</th>\n",
       "      <th>2018</th>\n",
       "    </tr>\n",
       "  </thead>\n",
       "  <tbody>\n",
       "    <tr>\n",
       "      <th rowspan=\"8\" valign=\"top\">Gasto Educ (%)</th>\n",
       "      <th>count</th>\n",
       "      <td>28.000000</td>\n",
       "      <td>0.000000</td>\n",
       "      <td>36.000000</td>\n",
       "      <td>0.000000</td>\n",
       "      <td>34.000000</td>\n",
       "      <td>34.000000</td>\n",
       "      <td>35.000000</td>\n",
       "      <td>35.000000</td>\n",
       "      <td>41.000000</td>\n",
       "      <td>44.000000</td>\n",
       "      <td>42.000000</td>\n",
       "      <td>40.000000</td>\n",
       "      <td>0.000000</td>\n",
       "    </tr>\n",
       "    <tr>\n",
       "      <th>mean</th>\n",
       "      <td>3.105571</td>\n",
       "      <td>NaN</td>\n",
       "      <td>3.241667</td>\n",
       "      <td>NaN</td>\n",
       "      <td>3.243765</td>\n",
       "      <td>3.490735</td>\n",
       "      <td>3.409743</td>\n",
       "      <td>3.304371</td>\n",
       "      <td>3.329512</td>\n",
       "      <td>3.303477</td>\n",
       "      <td>3.314643</td>\n",
       "      <td>3.169550</td>\n",
       "      <td>NaN</td>\n",
       "    </tr>\n",
       "    <tr>\n",
       "      <th>std</th>\n",
       "      <td>0.780224</td>\n",
       "      <td>NaN</td>\n",
       "      <td>0.694592</td>\n",
       "      <td>NaN</td>\n",
       "      <td>0.662192</td>\n",
       "      <td>0.655540</td>\n",
       "      <td>0.660031</td>\n",
       "      <td>0.646487</td>\n",
       "      <td>0.705673</td>\n",
       "      <td>0.727715</td>\n",
       "      <td>0.721720</td>\n",
       "      <td>0.685821</td>\n",
       "      <td>NaN</td>\n",
       "    </tr>\n",
       "    <tr>\n",
       "      <th>min</th>\n",
       "      <td>1.543000</td>\n",
       "      <td>NaN</td>\n",
       "      <td>1.746000</td>\n",
       "      <td>NaN</td>\n",
       "      <td>1.864000</td>\n",
       "      <td>2.134000</td>\n",
       "      <td>1.849000</td>\n",
       "      <td>1.822000</td>\n",
       "      <td>2.015000</td>\n",
       "      <td>2.044000</td>\n",
       "      <td>1.945000</td>\n",
       "      <td>1.843000</td>\n",
       "      <td>NaN</td>\n",
       "    </tr>\n",
       "    <tr>\n",
       "      <th>25%</th>\n",
       "      <td>2.676250</td>\n",
       "      <td>NaN</td>\n",
       "      <td>2.906000</td>\n",
       "      <td>NaN</td>\n",
       "      <td>2.934750</td>\n",
       "      <td>3.160250</td>\n",
       "      <td>2.972500</td>\n",
       "      <td>2.860500</td>\n",
       "      <td>2.747000</td>\n",
       "      <td>2.673000</td>\n",
       "      <td>2.675250</td>\n",
       "      <td>2.649500</td>\n",
       "      <td>NaN</td>\n",
       "    </tr>\n",
       "    <tr>\n",
       "      <th>50%</th>\n",
       "      <td>2.937500</td>\n",
       "      <td>NaN</td>\n",
       "      <td>3.206000</td>\n",
       "      <td>NaN</td>\n",
       "      <td>3.202500</td>\n",
       "      <td>3.530000</td>\n",
       "      <td>3.360000</td>\n",
       "      <td>3.242000</td>\n",
       "      <td>3.253000</td>\n",
       "      <td>3.247500</td>\n",
       "      <td>3.197500</td>\n",
       "      <td>3.157000</td>\n",
       "      <td>NaN</td>\n",
       "    </tr>\n",
       "    <tr>\n",
       "      <th>75%</th>\n",
       "      <td>3.733750</td>\n",
       "      <td>NaN</td>\n",
       "      <td>3.587000</td>\n",
       "      <td>NaN</td>\n",
       "      <td>3.644250</td>\n",
       "      <td>3.873250</td>\n",
       "      <td>3.764500</td>\n",
       "      <td>3.672500</td>\n",
       "      <td>3.855000</td>\n",
       "      <td>3.816500</td>\n",
       "      <td>3.815500</td>\n",
       "      <td>3.513250</td>\n",
       "      <td>NaN</td>\n",
       "    </tr>\n",
       "    <tr>\n",
       "      <th>max</th>\n",
       "      <td>4.921000</td>\n",
       "      <td>NaN</td>\n",
       "      <td>5.031000</td>\n",
       "      <td>NaN</td>\n",
       "      <td>4.649000</td>\n",
       "      <td>4.989000</td>\n",
       "      <td>4.866000</td>\n",
       "      <td>4.732000</td>\n",
       "      <td>5.158000</td>\n",
       "      <td>4.815000</td>\n",
       "      <td>4.861000</td>\n",
       "      <td>4.995000</td>\n",
       "      <td>NaN</td>\n",
       "    </tr>\n",
       "    <tr>\n",
       "      <th rowspan=\"8\" valign=\"top\">Nota Matemática</th>\n",
       "      <th>count</th>\n",
       "      <td>0.000000</td>\n",
       "      <td>33.000000</td>\n",
       "      <td>0.000000</td>\n",
       "      <td>39.000000</td>\n",
       "      <td>0.000000</td>\n",
       "      <td>38.000000</td>\n",
       "      <td>0.000000</td>\n",
       "      <td>0.000000</td>\n",
       "      <td>39.000000</td>\n",
       "      <td>0.000000</td>\n",
       "      <td>0.000000</td>\n",
       "      <td>45.000000</td>\n",
       "      <td>42.000000</td>\n",
       "    </tr>\n",
       "    <tr>\n",
       "      <th>mean</th>\n",
       "      <td>NaN</td>\n",
       "      <td>489.575758</td>\n",
       "      <td>NaN</td>\n",
       "      <td>487.641026</td>\n",
       "      <td>NaN</td>\n",
       "      <td>488.394737</td>\n",
       "      <td>NaN</td>\n",
       "      <td>NaN</td>\n",
       "      <td>487.923077</td>\n",
       "      <td>NaN</td>\n",
       "      <td>NaN</td>\n",
       "      <td>486.222222</td>\n",
       "      <td>481.928571</td>\n",
       "    </tr>\n",
       "    <tr>\n",
       "      <th>std</th>\n",
       "      <td>NaN</td>\n",
       "      <td>48.178723</td>\n",
       "      <td>NaN</td>\n",
       "      <td>41.296417</td>\n",
       "      <td>NaN</td>\n",
       "      <td>38.743466</td>\n",
       "      <td>NaN</td>\n",
       "      <td>NaN</td>\n",
       "      <td>37.195348</td>\n",
       "      <td>NaN</td>\n",
       "      <td>NaN</td>\n",
       "      <td>43.994260</td>\n",
       "      <td>39.155969</td>\n",
       "    </tr>\n",
       "    <tr>\n",
       "      <th>min</th>\n",
       "      <td>NaN</td>\n",
       "      <td>356.000000</td>\n",
       "      <td>NaN</td>\n",
       "      <td>370.000000</td>\n",
       "      <td>NaN</td>\n",
       "      <td>371.000000</td>\n",
       "      <td>NaN</td>\n",
       "      <td>NaN</td>\n",
       "      <td>375.000000</td>\n",
       "      <td>NaN</td>\n",
       "      <td>NaN</td>\n",
       "      <td>377.000000</td>\n",
       "      <td>379.000000</td>\n",
       "    </tr>\n",
       "    <tr>\n",
       "      <th>25%</th>\n",
       "      <td>NaN</td>\n",
       "      <td>483.000000</td>\n",
       "      <td>NaN</td>\n",
       "      <td>475.000000</td>\n",
       "      <td>NaN</td>\n",
       "      <td>483.000000</td>\n",
       "      <td>NaN</td>\n",
       "      <td>NaN</td>\n",
       "      <td>481.500000</td>\n",
       "      <td>NaN</td>\n",
       "      <td>NaN</td>\n",
       "      <td>477.000000</td>\n",
       "      <td>481.000000</td>\n",
       "    </tr>\n",
       "    <tr>\n",
       "      <th>50%</th>\n",
       "      <td>NaN</td>\n",
       "      <td>503.000000</td>\n",
       "      <td>NaN</td>\n",
       "      <td>495.000000</td>\n",
       "      <td>NaN</td>\n",
       "      <td>494.500000</td>\n",
       "      <td>NaN</td>\n",
       "      <td>NaN</td>\n",
       "      <td>494.000000</td>\n",
       "      <td>NaN</td>\n",
       "      <td>NaN</td>\n",
       "      <td>494.000000</td>\n",
       "      <td>494.500000</td>\n",
       "    </tr>\n",
       "    <tr>\n",
       "      <th>75%</th>\n",
       "      <td>NaN</td>\n",
       "      <td>523.000000</td>\n",
       "      <td>NaN</td>\n",
       "      <td>514.000000</td>\n",
       "      <td>NaN</td>\n",
       "      <td>512.750000</td>\n",
       "      <td>NaN</td>\n",
       "      <td>NaN</td>\n",
       "      <td>510.000000</td>\n",
       "      <td>NaN</td>\n",
       "      <td>NaN</td>\n",
       "      <td>511.000000</td>\n",
       "      <td>505.750000</td>\n",
       "    </tr>\n",
       "    <tr>\n",
       "      <th>max</th>\n",
       "      <td>NaN</td>\n",
       "      <td>544.000000</td>\n",
       "      <td>NaN</td>\n",
       "      <td>548.000000</td>\n",
       "      <td>NaN</td>\n",
       "      <td>546.000000</td>\n",
       "      <td>NaN</td>\n",
       "      <td>NaN</td>\n",
       "      <td>554.000000</td>\n",
       "      <td>NaN</td>\n",
       "      <td>NaN</td>\n",
       "      <td>564.000000</td>\n",
       "      <td>527.000000</td>\n",
       "    </tr>\n",
       "    <tr>\n",
       "      <th rowspan=\"8\" valign=\"top\">Nota Leitura</th>\n",
       "      <th>count</th>\n",
       "      <td>31.000000</td>\n",
       "      <td>33.000000</td>\n",
       "      <td>0.000000</td>\n",
       "      <td>37.000000</td>\n",
       "      <td>0.000000</td>\n",
       "      <td>37.000000</td>\n",
       "      <td>0.000000</td>\n",
       "      <td>0.000000</td>\n",
       "      <td>39.000000</td>\n",
       "      <td>0.000000</td>\n",
       "      <td>0.000000</td>\n",
       "      <td>45.000000</td>\n",
       "      <td>41.000000</td>\n",
       "    </tr>\n",
       "    <tr>\n",
       "      <th>mean</th>\n",
       "      <td>486.064516</td>\n",
       "      <td>485.969697</td>\n",
       "      <td>NaN</td>\n",
       "      <td>482.189189</td>\n",
       "      <td>NaN</td>\n",
       "      <td>488.135135</td>\n",
       "      <td>NaN</td>\n",
       "      <td>NaN</td>\n",
       "      <td>490.820513</td>\n",
       "      <td>NaN</td>\n",
       "      <td>NaN</td>\n",
       "      <td>487.177778</td>\n",
       "      <td>480.756098</td>\n",
       "    </tr>\n",
       "    <tr>\n",
       "      <th>std</th>\n",
       "      <td>41.373047</td>\n",
       "      <td>36.953082</td>\n",
       "      <td>NaN</td>\n",
       "      <td>36.625612</td>\n",
       "      <td>NaN</td>\n",
       "      <td>29.834881</td>\n",
       "      <td>NaN</td>\n",
       "      <td>NaN</td>\n",
       "      <td>30.920843</td>\n",
       "      <td>NaN</td>\n",
       "      <td>NaN</td>\n",
       "      <td>34.426660</td>\n",
       "      <td>33.217300</td>\n",
       "    </tr>\n",
       "    <tr>\n",
       "      <th>min</th>\n",
       "      <td>371.000000</td>\n",
       "      <td>382.000000</td>\n",
       "      <td>NaN</td>\n",
       "      <td>393.000000</td>\n",
       "      <td>NaN</td>\n",
       "      <td>402.000000</td>\n",
       "      <td>NaN</td>\n",
       "      <td>NaN</td>\n",
       "      <td>396.000000</td>\n",
       "      <td>NaN</td>\n",
       "      <td>NaN</td>\n",
       "      <td>397.000000</td>\n",
       "      <td>371.000000</td>\n",
       "    </tr>\n",
       "    <tr>\n",
       "      <th>25%</th>\n",
       "      <td>472.000000</td>\n",
       "      <td>478.000000</td>\n",
       "      <td>NaN</td>\n",
       "      <td>466.000000</td>\n",
       "      <td>NaN</td>\n",
       "      <td>478.000000</td>\n",
       "      <td>NaN</td>\n",
       "      <td>NaN</td>\n",
       "      <td>483.000000</td>\n",
       "      <td>NaN</td>\n",
       "      <td>NaN</td>\n",
       "      <td>481.000000</td>\n",
       "      <td>470.000000</td>\n",
       "    </tr>\n",
       "    <tr>\n",
       "      <th>50%</th>\n",
       "      <td>493.000000</td>\n",
       "      <td>492.000000</td>\n",
       "      <td>NaN</td>\n",
       "      <td>488.000000</td>\n",
       "      <td>NaN</td>\n",
       "      <td>495.000000</td>\n",
       "      <td>NaN</td>\n",
       "      <td>NaN</td>\n",
       "      <td>493.000000</td>\n",
       "      <td>NaN</td>\n",
       "      <td>NaN</td>\n",
       "      <td>497.000000</td>\n",
       "      <td>487.000000</td>\n",
       "    </tr>\n",
       "    <tr>\n",
       "      <th>75%</th>\n",
       "      <td>511.500000</td>\n",
       "      <td>507.000000</td>\n",
       "      <td>NaN</td>\n",
       "      <td>501.000000</td>\n",
       "      <td>NaN</td>\n",
       "      <td>501.000000</td>\n",
       "      <td>NaN</td>\n",
       "      <td>NaN</td>\n",
       "      <td>510.000000</td>\n",
       "      <td>NaN</td>\n",
       "      <td>NaN</td>\n",
       "      <td>509.000000</td>\n",
       "      <td>504.000000</td>\n",
       "    </tr>\n",
       "    <tr>\n",
       "      <th>max</th>\n",
       "      <td>546.000000</td>\n",
       "      <td>543.000000</td>\n",
       "      <td>NaN</td>\n",
       "      <td>556.000000</td>\n",
       "      <td>NaN</td>\n",
       "      <td>539.000000</td>\n",
       "      <td>NaN</td>\n",
       "      <td>NaN</td>\n",
       "      <td>538.000000</td>\n",
       "      <td>NaN</td>\n",
       "      <td>NaN</td>\n",
       "      <td>535.000000</td>\n",
       "      <td>523.000000</td>\n",
       "    </tr>\n",
       "    <tr>\n",
       "      <th rowspan=\"8\" valign=\"top\">Nota Ciências</th>\n",
       "      <th>count</th>\n",
       "      <td>0.000000</td>\n",
       "      <td>0.000000</td>\n",
       "      <td>0.000000</td>\n",
       "      <td>39.000000</td>\n",
       "      <td>0.000000</td>\n",
       "      <td>38.000000</td>\n",
       "      <td>0.000000</td>\n",
       "      <td>0.000000</td>\n",
       "      <td>39.000000</td>\n",
       "      <td>0.000000</td>\n",
       "      <td>0.000000</td>\n",
       "      <td>44.000000</td>\n",
       "      <td>42.000000</td>\n",
       "    </tr>\n",
       "    <tr>\n",
       "      <th>mean</th>\n",
       "      <td>NaN</td>\n",
       "      <td>NaN</td>\n",
       "      <td>NaN</td>\n",
       "      <td>492.025641</td>\n",
       "      <td>NaN</td>\n",
       "      <td>494.815789</td>\n",
       "      <td>NaN</td>\n",
       "      <td>NaN</td>\n",
       "      <td>495.128205</td>\n",
       "      <td>NaN</td>\n",
       "      <td>NaN</td>\n",
       "      <td>488.931818</td>\n",
       "      <td>482.428571</td>\n",
       "    </tr>\n",
       "    <tr>\n",
       "      <th>std</th>\n",
       "      <td>NaN</td>\n",
       "      <td>NaN</td>\n",
       "      <td>NaN</td>\n",
       "      <td>38.276341</td>\n",
       "      <td>NaN</td>\n",
       "      <td>36.208746</td>\n",
       "      <td>NaN</td>\n",
       "      <td>NaN</td>\n",
       "      <td>36.239829</td>\n",
       "      <td>NaN</td>\n",
       "      <td>NaN</td>\n",
       "      <td>38.805057</td>\n",
       "      <td>33.127354</td>\n",
       "    </tr>\n",
       "    <tr>\n",
       "      <th>min</th>\n",
       "      <td>NaN</td>\n",
       "      <td>NaN</td>\n",
       "      <td>NaN</td>\n",
       "      <td>390.000000</td>\n",
       "      <td>NaN</td>\n",
       "      <td>383.000000</td>\n",
       "      <td>NaN</td>\n",
       "      <td>NaN</td>\n",
       "      <td>382.000000</td>\n",
       "      <td>NaN</td>\n",
       "      <td>NaN</td>\n",
       "      <td>397.000000</td>\n",
       "      <td>396.000000</td>\n",
       "    </tr>\n",
       "    <tr>\n",
       "      <th>25%</th>\n",
       "      <td>NaN</td>\n",
       "      <td>NaN</td>\n",
       "      <td>NaN</td>\n",
       "      <td>482.000000</td>\n",
       "      <td>NaN</td>\n",
       "      <td>488.250000</td>\n",
       "      <td>NaN</td>\n",
       "      <td>NaN</td>\n",
       "      <td>486.000000</td>\n",
       "      <td>NaN</td>\n",
       "      <td>NaN</td>\n",
       "      <td>476.000000</td>\n",
       "      <td>469.750000</td>\n",
       "    </tr>\n",
       "    <tr>\n",
       "      <th>50%</th>\n",
       "      <td>NaN</td>\n",
       "      <td>NaN</td>\n",
       "      <td>NaN</td>\n",
       "      <td>498.000000</td>\n",
       "      <td>NaN</td>\n",
       "      <td>500.000000</td>\n",
       "      <td>NaN</td>\n",
       "      <td>NaN</td>\n",
       "      <td>499.000000</td>\n",
       "      <td>NaN</td>\n",
       "      <td>NaN</td>\n",
       "      <td>497.000000</td>\n",
       "      <td>491.000000</td>\n",
       "    </tr>\n",
       "    <tr>\n",
       "      <th>75%</th>\n",
       "      <td>NaN</td>\n",
       "      <td>NaN</td>\n",
       "      <td>NaN</td>\n",
       "      <td>515.500000</td>\n",
       "      <td>NaN</td>\n",
       "      <td>516.250000</td>\n",
       "      <td>NaN</td>\n",
       "      <td>NaN</td>\n",
       "      <td>518.500000</td>\n",
       "      <td>NaN</td>\n",
       "      <td>NaN</td>\n",
       "      <td>510.750000</td>\n",
       "      <td>503.000000</td>\n",
       "    </tr>\n",
       "    <tr>\n",
       "      <th>max</th>\n",
       "      <td>NaN</td>\n",
       "      <td>NaN</td>\n",
       "      <td>NaN</td>\n",
       "      <td>563.000000</td>\n",
       "      <td>NaN</td>\n",
       "      <td>554.000000</td>\n",
       "      <td>NaN</td>\n",
       "      <td>NaN</td>\n",
       "      <td>547.000000</td>\n",
       "      <td>NaN</td>\n",
       "      <td>NaN</td>\n",
       "      <td>556.000000</td>\n",
       "      <td>530.000000</td>\n",
       "    </tr>\n",
       "  </tbody>\n",
       "</table>\n",
       "</div>"
      ],
      "text/plain": [
       "Ano                          2000        2003       2005        2006  \\\n",
       "Gasto Educ (%)  count   28.000000    0.000000  36.000000    0.000000   \n",
       "                mean     3.105571         NaN   3.241667         NaN   \n",
       "                std      0.780224         NaN   0.694592         NaN   \n",
       "                min      1.543000         NaN   1.746000         NaN   \n",
       "                25%      2.676250         NaN   2.906000         NaN   \n",
       "                50%      2.937500         NaN   3.206000         NaN   \n",
       "                75%      3.733750         NaN   3.587000         NaN   \n",
       "                max      4.921000         NaN   5.031000         NaN   \n",
       "Nota Matemática count    0.000000   33.000000   0.000000   39.000000   \n",
       "                mean          NaN  489.575758        NaN  487.641026   \n",
       "                std           NaN   48.178723        NaN   41.296417   \n",
       "                min           NaN  356.000000        NaN  370.000000   \n",
       "                25%           NaN  483.000000        NaN  475.000000   \n",
       "                50%           NaN  503.000000        NaN  495.000000   \n",
       "                75%           NaN  523.000000        NaN  514.000000   \n",
       "                max           NaN  544.000000        NaN  548.000000   \n",
       "Nota Leitura    count   31.000000   33.000000   0.000000   37.000000   \n",
       "                mean   486.064516  485.969697        NaN  482.189189   \n",
       "                std     41.373047   36.953082        NaN   36.625612   \n",
       "                min    371.000000  382.000000        NaN  393.000000   \n",
       "                25%    472.000000  478.000000        NaN  466.000000   \n",
       "                50%    493.000000  492.000000        NaN  488.000000   \n",
       "                75%    511.500000  507.000000        NaN  501.000000   \n",
       "                max    546.000000  543.000000        NaN  556.000000   \n",
       "Nota Ciências   count    0.000000    0.000000   0.000000   39.000000   \n",
       "                mean          NaN         NaN        NaN  492.025641   \n",
       "                std           NaN         NaN        NaN   38.276341   \n",
       "                min           NaN         NaN        NaN  390.000000   \n",
       "                25%           NaN         NaN        NaN  482.000000   \n",
       "                50%           NaN         NaN        NaN  498.000000   \n",
       "                75%           NaN         NaN        NaN  515.500000   \n",
       "                max           NaN         NaN        NaN  563.000000   \n",
       "\n",
       "Ano                         2008        2009       2010       2011  \\\n",
       "Gasto Educ (%)  count  34.000000   34.000000  35.000000  35.000000   \n",
       "                mean    3.243765    3.490735   3.409743   3.304371   \n",
       "                std     0.662192    0.655540   0.660031   0.646487   \n",
       "                min     1.864000    2.134000   1.849000   1.822000   \n",
       "                25%     2.934750    3.160250   2.972500   2.860500   \n",
       "                50%     3.202500    3.530000   3.360000   3.242000   \n",
       "                75%     3.644250    3.873250   3.764500   3.672500   \n",
       "                max     4.649000    4.989000   4.866000   4.732000   \n",
       "Nota Matemática count   0.000000   38.000000   0.000000   0.000000   \n",
       "                mean         NaN  488.394737        NaN        NaN   \n",
       "                std          NaN   38.743466        NaN        NaN   \n",
       "                min          NaN  371.000000        NaN        NaN   \n",
       "                25%          NaN  483.000000        NaN        NaN   \n",
       "                50%          NaN  494.500000        NaN        NaN   \n",
       "                75%          NaN  512.750000        NaN        NaN   \n",
       "                max          NaN  546.000000        NaN        NaN   \n",
       "Nota Leitura    count   0.000000   37.000000   0.000000   0.000000   \n",
       "                mean         NaN  488.135135        NaN        NaN   \n",
       "                std          NaN   29.834881        NaN        NaN   \n",
       "                min          NaN  402.000000        NaN        NaN   \n",
       "                25%          NaN  478.000000        NaN        NaN   \n",
       "                50%          NaN  495.000000        NaN        NaN   \n",
       "                75%          NaN  501.000000        NaN        NaN   \n",
       "                max          NaN  539.000000        NaN        NaN   \n",
       "Nota Ciências   count   0.000000   38.000000   0.000000   0.000000   \n",
       "                mean         NaN  494.815789        NaN        NaN   \n",
       "                std          NaN   36.208746        NaN        NaN   \n",
       "                min          NaN  383.000000        NaN        NaN   \n",
       "                25%          NaN  488.250000        NaN        NaN   \n",
       "                50%          NaN  500.000000        NaN        NaN   \n",
       "                75%          NaN  516.250000        NaN        NaN   \n",
       "                max          NaN  554.000000        NaN        NaN   \n",
       "\n",
       "Ano                          2012       2013       2014        2015  \\\n",
       "Gasto Educ (%)  count   41.000000  44.000000  42.000000   40.000000   \n",
       "                mean     3.329512   3.303477   3.314643    3.169550   \n",
       "                std      0.705673   0.727715   0.721720    0.685821   \n",
       "                min      2.015000   2.044000   1.945000    1.843000   \n",
       "                25%      2.747000   2.673000   2.675250    2.649500   \n",
       "                50%      3.253000   3.247500   3.197500    3.157000   \n",
       "                75%      3.855000   3.816500   3.815500    3.513250   \n",
       "                max      5.158000   4.815000   4.861000    4.995000   \n",
       "Nota Matemática count   39.000000   0.000000   0.000000   45.000000   \n",
       "                mean   487.923077        NaN        NaN  486.222222   \n",
       "                std     37.195348        NaN        NaN   43.994260   \n",
       "                min    375.000000        NaN        NaN  377.000000   \n",
       "                25%    481.500000        NaN        NaN  477.000000   \n",
       "                50%    494.000000        NaN        NaN  494.000000   \n",
       "                75%    510.000000        NaN        NaN  511.000000   \n",
       "                max    554.000000        NaN        NaN  564.000000   \n",
       "Nota Leitura    count   39.000000   0.000000   0.000000   45.000000   \n",
       "                mean   490.820513        NaN        NaN  487.177778   \n",
       "                std     30.920843        NaN        NaN   34.426660   \n",
       "                min    396.000000        NaN        NaN  397.000000   \n",
       "                25%    483.000000        NaN        NaN  481.000000   \n",
       "                50%    493.000000        NaN        NaN  497.000000   \n",
       "                75%    510.000000        NaN        NaN  509.000000   \n",
       "                max    538.000000        NaN        NaN  535.000000   \n",
       "Nota Ciências   count   39.000000   0.000000   0.000000   44.000000   \n",
       "                mean   495.128205        NaN        NaN  488.931818   \n",
       "                std     36.239829        NaN        NaN   38.805057   \n",
       "                min    382.000000        NaN        NaN  397.000000   \n",
       "                25%    486.000000        NaN        NaN  476.000000   \n",
       "                50%    499.000000        NaN        NaN  497.000000   \n",
       "                75%    518.500000        NaN        NaN  510.750000   \n",
       "                max    547.000000        NaN        NaN  556.000000   \n",
       "\n",
       "Ano                          2018  \n",
       "Gasto Educ (%)  count    0.000000  \n",
       "                mean          NaN  \n",
       "                std           NaN  \n",
       "                min           NaN  \n",
       "                25%           NaN  \n",
       "                50%           NaN  \n",
       "                75%           NaN  \n",
       "                max           NaN  \n",
       "Nota Matemática count   42.000000  \n",
       "                mean   481.928571  \n",
       "                std     39.155969  \n",
       "                min    379.000000  \n",
       "                25%    481.000000  \n",
       "                50%    494.500000  \n",
       "                75%    505.750000  \n",
       "                max    527.000000  \n",
       "Nota Leitura    count   41.000000  \n",
       "                mean   480.756098  \n",
       "                std     33.217300  \n",
       "                min    371.000000  \n",
       "                25%    470.000000  \n",
       "                50%    487.000000  \n",
       "                75%    504.000000  \n",
       "                max    523.000000  \n",
       "Nota Ciências   count   42.000000  \n",
       "                mean   482.428571  \n",
       "                std     33.127354  \n",
       "                min    396.000000  \n",
       "                25%    469.750000  \n",
       "                50%    491.000000  \n",
       "                75%    503.000000  \n",
       "                max    530.000000  "
      ]
     },
     "execution_count": 11,
     "metadata": {},
     "output_type": "execute_result"
    }
   ],
   "source": [
    "base_group.groupby('Ano').describe().T"
   ]
  },
  {
   "cell_type": "markdown",
   "metadata": {},
   "source": [
    "### <font color='#82ad32'>Mapas geográficos:\n",
    "\n",
    "https://plotly.com/python/choropleth-maps/"
   ]
  },
  {
   "cell_type": "code",
   "execution_count": 64,
   "metadata": {},
   "outputs": [],
   "source": [
    "def geograficos_que_precisam_de_tratamento(variável):\n",
    "    \n",
    "    if variável in ['Gasto Educ (%)', 'Nota Matemática', \n",
    "                    'Nota Leitura', 'Nota Ciências']:\n",
    "    \n",
    "        return px.choropleth(base_group.dropna(axis=0),        # talvez usar o .dropna() \n",
    "                             locations=\"País\", \n",
    "                             color=\"{}\".format(variável), \n",
    "                             hover_name=\"País\", \n",
    "                             animation_frame=\"Ano\",\n",
    "                             title = 'Evolução {}'.format(variável),\n",
    "                             color_continuous_scale=\"Viridis\", # definir uma paleta de cores bonita;\n",
    "                             projection=\"natural earth\")       # estou pensando em algo c tons de verde"
   ]
  },
  {
   "cell_type": "code",
   "execution_count": 65,
   "metadata": {},
   "outputs": [
    {
     "data": {
      "application/vnd.plotly.v1+json": {
       "config": {
        "plotlyServerURL": "https://plot.ly"
       },
       "data": [
        {
         "coloraxis": "coloraxis",
         "geo": "geo",
         "hovertemplate": "<b>%{hovertext}</b><br><br>Ano=2009<br>País=%{location}<br>Gasto Educ (%)=%{z}<extra></extra>",
         "hovertext": [
          "AUS",
          "BEL",
          "BRA",
          "CAN",
          "CHE",
          "CHL",
          "CZE",
          "DNK",
          "ESP",
          "EST",
          "FIN",
          "FRA",
          "GBR",
          "HUN",
          "IRL",
          "ISL",
          "ISR",
          "ITA",
          "JPN",
          "KOR",
          "LUX",
          "LVA",
          "MEX",
          "NLD",
          "NOR",
          "POL",
          "PRT",
          "RUS",
          "SVK",
          "SVN",
          "SWE",
          "TUR",
          "USA"
         ],
         "locations": [
          "AUS",
          "BEL",
          "BRA",
          "CAN",
          "CHE",
          "CHL",
          "CZE",
          "DNK",
          "ESP",
          "EST",
          "FIN",
          "FRA",
          "GBR",
          "HUN",
          "IRL",
          "ISL",
          "ISR",
          "ITA",
          "JPN",
          "KOR",
          "LUX",
          "LVA",
          "MEX",
          "NLD",
          "NOR",
          "POL",
          "PRT",
          "RUS",
          "SVK",
          "SVN",
          "SWE",
          "TUR",
          "USA"
         ],
         "name": "",
         "type": "choropleth",
         "z": [
          3.569,
          4.125,
          4.129,
          3.418,
          3.278,
          3.014,
          2.506,
          4.506,
          2.998,
          4.022,
          3.89,
          3.635,
          3.2710000000000004,
          2.855,
          4.302,
          4.6530000000000005,
          3.531,
          3.167,
          2.595,
          3.284,
          3.775,
          3.6510000000000002,
          3.158,
          3.321,
          4.989,
          3.377,
          3.823,
          2.134,
          2.5140000000000002,
          3.529,
          3.983,
          2.3680000000000003,
          3.662
         ]
        }
       ],
       "frames": [
        {
         "data": [
          {
           "coloraxis": "coloraxis",
           "geo": "geo",
           "hovertemplate": "<b>%{hovertext}</b><br><br>Ano=2009<br>País=%{location}<br>Gasto Educ (%)=%{z}<extra></extra>",
           "hovertext": [
            "AUS",
            "BEL",
            "BRA",
            "CAN",
            "CHE",
            "CHL",
            "CZE",
            "DNK",
            "ESP",
            "EST",
            "FIN",
            "FRA",
            "GBR",
            "HUN",
            "IRL",
            "ISL",
            "ISR",
            "ITA",
            "JPN",
            "KOR",
            "LUX",
            "LVA",
            "MEX",
            "NLD",
            "NOR",
            "POL",
            "PRT",
            "RUS",
            "SVK",
            "SVN",
            "SWE",
            "TUR",
            "USA"
           ],
           "locations": [
            "AUS",
            "BEL",
            "BRA",
            "CAN",
            "CHE",
            "CHL",
            "CZE",
            "DNK",
            "ESP",
            "EST",
            "FIN",
            "FRA",
            "GBR",
            "HUN",
            "IRL",
            "ISL",
            "ISR",
            "ITA",
            "JPN",
            "KOR",
            "LUX",
            "LVA",
            "MEX",
            "NLD",
            "NOR",
            "POL",
            "PRT",
            "RUS",
            "SVK",
            "SVN",
            "SWE",
            "TUR",
            "USA"
           ],
           "name": "",
           "type": "choropleth",
           "z": [
            3.569,
            4.125,
            4.129,
            3.418,
            3.278,
            3.014,
            2.506,
            4.506,
            2.998,
            4.022,
            3.89,
            3.635,
            3.2710000000000004,
            2.855,
            4.302,
            4.6530000000000005,
            3.531,
            3.167,
            2.595,
            3.284,
            3.775,
            3.6510000000000002,
            3.158,
            3.321,
            4.989,
            3.377,
            3.823,
            2.134,
            2.5140000000000002,
            3.529,
            3.983,
            2.3680000000000003,
            3.662
           ]
          }
         ],
         "name": "2009"
        },
        {
         "data": [
          {
           "coloraxis": "coloraxis",
           "geo": "geo",
           "hovertemplate": "<b>%{hovertext}</b><br><br>Ano=2012<br>País=%{location}<br>Gasto Educ (%)=%{z}<extra></extra>",
           "hovertext": [
            "AUS",
            "AUT",
            "BEL",
            "BRA",
            "CAN",
            "CHE",
            "CHL",
            "CZE",
            "DEU",
            "DNK",
            "ESP",
            "EST",
            "FIN",
            "FRA",
            "GBR",
            "GRC",
            "HUN",
            "IDN",
            "IRL",
            "ISL",
            "ISR",
            "ITA",
            "JPN",
            "KOR",
            "LUX",
            "LVA",
            "MEX",
            "NLD",
            "NOR",
            "NZL",
            "POL",
            "PRT",
            "RUS",
            "SVK",
            "SVN",
            "SWE",
            "TUR",
            "USA"
           ],
           "locations": [
            "AUS",
            "AUT",
            "BEL",
            "BRA",
            "CAN",
            "CHE",
            "CHL",
            "CZE",
            "DEU",
            "DNK",
            "ESP",
            "EST",
            "FIN",
            "FRA",
            "GBR",
            "GRC",
            "HUN",
            "IDN",
            "IRL",
            "ISL",
            "ISR",
            "ITA",
            "JPN",
            "KOR",
            "LUX",
            "LVA",
            "MEX",
            "NLD",
            "NOR",
            "NZL",
            "POL",
            "PRT",
            "RUS",
            "SVK",
            "SVN",
            "SWE",
            "TUR",
            "USA"
           ],
           "name": "",
           "type": "choropleth",
           "z": [
            3.302,
            2.9939999999999998,
            4.171,
            4.168,
            3.238,
            3.3930000000000002,
            2.93,
            2.504,
            2.708,
            4.513,
            2.747,
            3.1460000000000004,
            3.912,
            3.447,
            3.634,
            2.637,
            2.434,
            2.515,
            4.128,
            4.407,
            3.897,
            2.787,
            2.62,
            3.736,
            3.1460000000000004,
            2.766,
            3.159,
            3.253,
            4.6,
            3.946,
            3.105,
            3.543,
            2.015,
            2.342,
            3.359,
            3.708,
            2.5789999999999997,
            3.3110000000000004
           ]
          }
         ],
         "name": "2012"
        },
        {
         "data": [
          {
           "coloraxis": "coloraxis",
           "geo": "geo",
           "hovertemplate": "<b>%{hovertext}</b><br><br>Ano=2015<br>País=%{location}<br>Gasto Educ (%)=%{z}<extra></extra>",
           "hovertext": [
            "AUS",
            "AUT",
            "BEL",
            "BRA",
            "CAN",
            "CHE",
            "CHL",
            "COL",
            "CZE",
            "DEU",
            "ESP",
            "EST",
            "FIN",
            "FRA",
            "GBR",
            "GRC",
            "HUN",
            "IDN",
            "IRL",
            "ISL",
            "ISR",
            "ITA",
            "JPN",
            "KOR",
            "LUX",
            "LVA",
            "MEX",
            "NLD",
            "NOR",
            "NZL",
            "POL",
            "PRT",
            "SVK",
            "SVN",
            "SWE",
            "TUR",
            "USA"
           ],
           "locations": [
            "AUS",
            "AUT",
            "BEL",
            "BRA",
            "CAN",
            "CHE",
            "CHL",
            "COL",
            "CZE",
            "DEU",
            "ESP",
            "EST",
            "FIN",
            "FRA",
            "GBR",
            "GRC",
            "HUN",
            "IDN",
            "IRL",
            "ISL",
            "ISR",
            "ITA",
            "JPN",
            "KOR",
            "LUX",
            "LVA",
            "MEX",
            "NLD",
            "NOR",
            "NZL",
            "POL",
            "PRT",
            "SVK",
            "SVN",
            "SWE",
            "TUR",
            "USA"
           ],
           "name": "",
           "type": "choropleth",
           "z": [
            3.182,
            2.978,
            4.13,
            4.061,
            3.1689999999999996,
            3.2319999999999998,
            2.63,
            3.145,
            2.424,
            2.608,
            2.656,
            2.7489999999999997,
            3.97,
            3.398,
            3.783,
            2.66,
            2.674,
            2.492,
            2.511,
            4.376,
            4.033,
            2.78,
            2.479,
            3.469,
            2.7939999999999996,
            3.2539999999999996,
            3.2039999999999997,
            3.176,
            4.612,
            3.784,
            2.929,
            3.392,
            2.5540000000000003,
            2.955,
            3.6460000000000004,
            2.533,
            3.207
           ]
          }
         ],
         "name": "2015"
        }
       ],
       "layout": {
        "coloraxis": {
         "colorbar": {
          "title": {
           "text": "Gasto Educ (%)"
          }
         },
         "colorscale": [
          [
           0,
           "#440154"
          ],
          [
           0.1111111111111111,
           "#482878"
          ],
          [
           0.2222222222222222,
           "#3e4989"
          ],
          [
           0.3333333333333333,
           "#31688e"
          ],
          [
           0.4444444444444444,
           "#26828e"
          ],
          [
           0.5555555555555556,
           "#1f9e89"
          ],
          [
           0.6666666666666666,
           "#35b779"
          ],
          [
           0.7777777777777778,
           "#6ece58"
          ],
          [
           0.8888888888888888,
           "#b5de2b"
          ],
          [
           1,
           "#fde725"
          ]
         ]
        },
        "geo": {
         "center": {},
         "domain": {
          "x": [
           0,
           1
          ],
          "y": [
           0,
           1
          ]
         },
         "projection": {
          "type": "natural earth"
         }
        },
        "legend": {
         "tracegroupgap": 0
        },
        "sliders": [
         {
          "active": 0,
          "currentvalue": {
           "prefix": "Ano="
          },
          "len": 0.9,
          "pad": {
           "b": 10,
           "t": 60
          },
          "steps": [
           {
            "args": [
             [
              "2009"
             ],
             {
              "frame": {
               "duration": 0,
               "redraw": true
              },
              "fromcurrent": true,
              "mode": "immediate",
              "transition": {
               "duration": 0,
               "easing": "linear"
              }
             }
            ],
            "label": "2009",
            "method": "animate"
           },
           {
            "args": [
             [
              "2012"
             ],
             {
              "frame": {
               "duration": 0,
               "redraw": true
              },
              "fromcurrent": true,
              "mode": "immediate",
              "transition": {
               "duration": 0,
               "easing": "linear"
              }
             }
            ],
            "label": "2012",
            "method": "animate"
           },
           {
            "args": [
             [
              "2015"
             ],
             {
              "frame": {
               "duration": 0,
               "redraw": true
              },
              "fromcurrent": true,
              "mode": "immediate",
              "transition": {
               "duration": 0,
               "easing": "linear"
              }
             }
            ],
            "label": "2015",
            "method": "animate"
           }
          ],
          "x": 0.1,
          "xanchor": "left",
          "y": 0,
          "yanchor": "top"
         }
        ],
        "template": {
         "data": {
          "bar": [
           {
            "error_x": {
             "color": "#2a3f5f"
            },
            "error_y": {
             "color": "#2a3f5f"
            },
            "marker": {
             "line": {
              "color": "#E5ECF6",
              "width": 0.5
             }
            },
            "type": "bar"
           }
          ],
          "barpolar": [
           {
            "marker": {
             "line": {
              "color": "#E5ECF6",
              "width": 0.5
             }
            },
            "type": "barpolar"
           }
          ],
          "carpet": [
           {
            "aaxis": {
             "endlinecolor": "#2a3f5f",
             "gridcolor": "white",
             "linecolor": "white",
             "minorgridcolor": "white",
             "startlinecolor": "#2a3f5f"
            },
            "baxis": {
             "endlinecolor": "#2a3f5f",
             "gridcolor": "white",
             "linecolor": "white",
             "minorgridcolor": "white",
             "startlinecolor": "#2a3f5f"
            },
            "type": "carpet"
           }
          ],
          "choropleth": [
           {
            "colorbar": {
             "outlinewidth": 0,
             "ticks": ""
            },
            "type": "choropleth"
           }
          ],
          "contour": [
           {
            "colorbar": {
             "outlinewidth": 0,
             "ticks": ""
            },
            "colorscale": [
             [
              0,
              "#0d0887"
             ],
             [
              0.1111111111111111,
              "#46039f"
             ],
             [
              0.2222222222222222,
              "#7201a8"
             ],
             [
              0.3333333333333333,
              "#9c179e"
             ],
             [
              0.4444444444444444,
              "#bd3786"
             ],
             [
              0.5555555555555556,
              "#d8576b"
             ],
             [
              0.6666666666666666,
              "#ed7953"
             ],
             [
              0.7777777777777778,
              "#fb9f3a"
             ],
             [
              0.8888888888888888,
              "#fdca26"
             ],
             [
              1,
              "#f0f921"
             ]
            ],
            "type": "contour"
           }
          ],
          "contourcarpet": [
           {
            "colorbar": {
             "outlinewidth": 0,
             "ticks": ""
            },
            "type": "contourcarpet"
           }
          ],
          "heatmap": [
           {
            "colorbar": {
             "outlinewidth": 0,
             "ticks": ""
            },
            "colorscale": [
             [
              0,
              "#0d0887"
             ],
             [
              0.1111111111111111,
              "#46039f"
             ],
             [
              0.2222222222222222,
              "#7201a8"
             ],
             [
              0.3333333333333333,
              "#9c179e"
             ],
             [
              0.4444444444444444,
              "#bd3786"
             ],
             [
              0.5555555555555556,
              "#d8576b"
             ],
             [
              0.6666666666666666,
              "#ed7953"
             ],
             [
              0.7777777777777778,
              "#fb9f3a"
             ],
             [
              0.8888888888888888,
              "#fdca26"
             ],
             [
              1,
              "#f0f921"
             ]
            ],
            "type": "heatmap"
           }
          ],
          "heatmapgl": [
           {
            "colorbar": {
             "outlinewidth": 0,
             "ticks": ""
            },
            "colorscale": [
             [
              0,
              "#0d0887"
             ],
             [
              0.1111111111111111,
              "#46039f"
             ],
             [
              0.2222222222222222,
              "#7201a8"
             ],
             [
              0.3333333333333333,
              "#9c179e"
             ],
             [
              0.4444444444444444,
              "#bd3786"
             ],
             [
              0.5555555555555556,
              "#d8576b"
             ],
             [
              0.6666666666666666,
              "#ed7953"
             ],
             [
              0.7777777777777778,
              "#fb9f3a"
             ],
             [
              0.8888888888888888,
              "#fdca26"
             ],
             [
              1,
              "#f0f921"
             ]
            ],
            "type": "heatmapgl"
           }
          ],
          "histogram": [
           {
            "marker": {
             "colorbar": {
              "outlinewidth": 0,
              "ticks": ""
             }
            },
            "type": "histogram"
           }
          ],
          "histogram2d": [
           {
            "colorbar": {
             "outlinewidth": 0,
             "ticks": ""
            },
            "colorscale": [
             [
              0,
              "#0d0887"
             ],
             [
              0.1111111111111111,
              "#46039f"
             ],
             [
              0.2222222222222222,
              "#7201a8"
             ],
             [
              0.3333333333333333,
              "#9c179e"
             ],
             [
              0.4444444444444444,
              "#bd3786"
             ],
             [
              0.5555555555555556,
              "#d8576b"
             ],
             [
              0.6666666666666666,
              "#ed7953"
             ],
             [
              0.7777777777777778,
              "#fb9f3a"
             ],
             [
              0.8888888888888888,
              "#fdca26"
             ],
             [
              1,
              "#f0f921"
             ]
            ],
            "type": "histogram2d"
           }
          ],
          "histogram2dcontour": [
           {
            "colorbar": {
             "outlinewidth": 0,
             "ticks": ""
            },
            "colorscale": [
             [
              0,
              "#0d0887"
             ],
             [
              0.1111111111111111,
              "#46039f"
             ],
             [
              0.2222222222222222,
              "#7201a8"
             ],
             [
              0.3333333333333333,
              "#9c179e"
             ],
             [
              0.4444444444444444,
              "#bd3786"
             ],
             [
              0.5555555555555556,
              "#d8576b"
             ],
             [
              0.6666666666666666,
              "#ed7953"
             ],
             [
              0.7777777777777778,
              "#fb9f3a"
             ],
             [
              0.8888888888888888,
              "#fdca26"
             ],
             [
              1,
              "#f0f921"
             ]
            ],
            "type": "histogram2dcontour"
           }
          ],
          "mesh3d": [
           {
            "colorbar": {
             "outlinewidth": 0,
             "ticks": ""
            },
            "type": "mesh3d"
           }
          ],
          "parcoords": [
           {
            "line": {
             "colorbar": {
              "outlinewidth": 0,
              "ticks": ""
             }
            },
            "type": "parcoords"
           }
          ],
          "pie": [
           {
            "automargin": true,
            "type": "pie"
           }
          ],
          "scatter": [
           {
            "marker": {
             "colorbar": {
              "outlinewidth": 0,
              "ticks": ""
             }
            },
            "type": "scatter"
           }
          ],
          "scatter3d": [
           {
            "line": {
             "colorbar": {
              "outlinewidth": 0,
              "ticks": ""
             }
            },
            "marker": {
             "colorbar": {
              "outlinewidth": 0,
              "ticks": ""
             }
            },
            "type": "scatter3d"
           }
          ],
          "scattercarpet": [
           {
            "marker": {
             "colorbar": {
              "outlinewidth": 0,
              "ticks": ""
             }
            },
            "type": "scattercarpet"
           }
          ],
          "scattergeo": [
           {
            "marker": {
             "colorbar": {
              "outlinewidth": 0,
              "ticks": ""
             }
            },
            "type": "scattergeo"
           }
          ],
          "scattergl": [
           {
            "marker": {
             "colorbar": {
              "outlinewidth": 0,
              "ticks": ""
             }
            },
            "type": "scattergl"
           }
          ],
          "scattermapbox": [
           {
            "marker": {
             "colorbar": {
              "outlinewidth": 0,
              "ticks": ""
             }
            },
            "type": "scattermapbox"
           }
          ],
          "scatterpolar": [
           {
            "marker": {
             "colorbar": {
              "outlinewidth": 0,
              "ticks": ""
             }
            },
            "type": "scatterpolar"
           }
          ],
          "scatterpolargl": [
           {
            "marker": {
             "colorbar": {
              "outlinewidth": 0,
              "ticks": ""
             }
            },
            "type": "scatterpolargl"
           }
          ],
          "scatterternary": [
           {
            "marker": {
             "colorbar": {
              "outlinewidth": 0,
              "ticks": ""
             }
            },
            "type": "scatterternary"
           }
          ],
          "surface": [
           {
            "colorbar": {
             "outlinewidth": 0,
             "ticks": ""
            },
            "colorscale": [
             [
              0,
              "#0d0887"
             ],
             [
              0.1111111111111111,
              "#46039f"
             ],
             [
              0.2222222222222222,
              "#7201a8"
             ],
             [
              0.3333333333333333,
              "#9c179e"
             ],
             [
              0.4444444444444444,
              "#bd3786"
             ],
             [
              0.5555555555555556,
              "#d8576b"
             ],
             [
              0.6666666666666666,
              "#ed7953"
             ],
             [
              0.7777777777777778,
              "#fb9f3a"
             ],
             [
              0.8888888888888888,
              "#fdca26"
             ],
             [
              1,
              "#f0f921"
             ]
            ],
            "type": "surface"
           }
          ],
          "table": [
           {
            "cells": {
             "fill": {
              "color": "#EBF0F8"
             },
             "line": {
              "color": "white"
             }
            },
            "header": {
             "fill": {
              "color": "#C8D4E3"
             },
             "line": {
              "color": "white"
             }
            },
            "type": "table"
           }
          ]
         },
         "layout": {
          "annotationdefaults": {
           "arrowcolor": "#2a3f5f",
           "arrowhead": 0,
           "arrowwidth": 1
          },
          "coloraxis": {
           "colorbar": {
            "outlinewidth": 0,
            "ticks": ""
           }
          },
          "colorscale": {
           "diverging": [
            [
             0,
             "#8e0152"
            ],
            [
             0.1,
             "#c51b7d"
            ],
            [
             0.2,
             "#de77ae"
            ],
            [
             0.3,
             "#f1b6da"
            ],
            [
             0.4,
             "#fde0ef"
            ],
            [
             0.5,
             "#f7f7f7"
            ],
            [
             0.6,
             "#e6f5d0"
            ],
            [
             0.7,
             "#b8e186"
            ],
            [
             0.8,
             "#7fbc41"
            ],
            [
             0.9,
             "#4d9221"
            ],
            [
             1,
             "#276419"
            ]
           ],
           "sequential": [
            [
             0,
             "#0d0887"
            ],
            [
             0.1111111111111111,
             "#46039f"
            ],
            [
             0.2222222222222222,
             "#7201a8"
            ],
            [
             0.3333333333333333,
             "#9c179e"
            ],
            [
             0.4444444444444444,
             "#bd3786"
            ],
            [
             0.5555555555555556,
             "#d8576b"
            ],
            [
             0.6666666666666666,
             "#ed7953"
            ],
            [
             0.7777777777777778,
             "#fb9f3a"
            ],
            [
             0.8888888888888888,
             "#fdca26"
            ],
            [
             1,
             "#f0f921"
            ]
           ],
           "sequentialminus": [
            [
             0,
             "#0d0887"
            ],
            [
             0.1111111111111111,
             "#46039f"
            ],
            [
             0.2222222222222222,
             "#7201a8"
            ],
            [
             0.3333333333333333,
             "#9c179e"
            ],
            [
             0.4444444444444444,
             "#bd3786"
            ],
            [
             0.5555555555555556,
             "#d8576b"
            ],
            [
             0.6666666666666666,
             "#ed7953"
            ],
            [
             0.7777777777777778,
             "#fb9f3a"
            ],
            [
             0.8888888888888888,
             "#fdca26"
            ],
            [
             1,
             "#f0f921"
            ]
           ]
          },
          "colorway": [
           "#636efa",
           "#EF553B",
           "#00cc96",
           "#ab63fa",
           "#FFA15A",
           "#19d3f3",
           "#FF6692",
           "#B6E880",
           "#FF97FF",
           "#FECB52"
          ],
          "font": {
           "color": "#2a3f5f"
          },
          "geo": {
           "bgcolor": "white",
           "lakecolor": "white",
           "landcolor": "#E5ECF6",
           "showlakes": true,
           "showland": true,
           "subunitcolor": "white"
          },
          "hoverlabel": {
           "align": "left"
          },
          "hovermode": "closest",
          "mapbox": {
           "style": "light"
          },
          "paper_bgcolor": "white",
          "plot_bgcolor": "#E5ECF6",
          "polar": {
           "angularaxis": {
            "gridcolor": "white",
            "linecolor": "white",
            "ticks": ""
           },
           "bgcolor": "#E5ECF6",
           "radialaxis": {
            "gridcolor": "white",
            "linecolor": "white",
            "ticks": ""
           }
          },
          "scene": {
           "xaxis": {
            "backgroundcolor": "#E5ECF6",
            "gridcolor": "white",
            "gridwidth": 2,
            "linecolor": "white",
            "showbackground": true,
            "ticks": "",
            "zerolinecolor": "white"
           },
           "yaxis": {
            "backgroundcolor": "#E5ECF6",
            "gridcolor": "white",
            "gridwidth": 2,
            "linecolor": "white",
            "showbackground": true,
            "ticks": "",
            "zerolinecolor": "white"
           },
           "zaxis": {
            "backgroundcolor": "#E5ECF6",
            "gridcolor": "white",
            "gridwidth": 2,
            "linecolor": "white",
            "showbackground": true,
            "ticks": "",
            "zerolinecolor": "white"
           }
          },
          "shapedefaults": {
           "line": {
            "color": "#2a3f5f"
           }
          },
          "ternary": {
           "aaxis": {
            "gridcolor": "white",
            "linecolor": "white",
            "ticks": ""
           },
           "baxis": {
            "gridcolor": "white",
            "linecolor": "white",
            "ticks": ""
           },
           "bgcolor": "#E5ECF6",
           "caxis": {
            "gridcolor": "white",
            "linecolor": "white",
            "ticks": ""
           }
          },
          "title": {
           "x": 0.05
          },
          "xaxis": {
           "automargin": true,
           "gridcolor": "white",
           "linecolor": "white",
           "ticks": "",
           "title": {
            "standoff": 15
           },
           "zerolinecolor": "white",
           "zerolinewidth": 2
          },
          "yaxis": {
           "automargin": true,
           "gridcolor": "white",
           "linecolor": "white",
           "ticks": "",
           "title": {
            "standoff": 15
           },
           "zerolinecolor": "white",
           "zerolinewidth": 2
          }
         }
        },
        "title": {
         "text": "Evolução Gasto Educ (%)"
        },
        "updatemenus": [
         {
          "buttons": [
           {
            "args": [
             null,
             {
              "frame": {
               "duration": 500,
               "redraw": true
              },
              "fromcurrent": true,
              "mode": "immediate",
              "transition": {
               "duration": 500,
               "easing": "linear"
              }
             }
            ],
            "label": "&#9654;",
            "method": "animate"
           },
           {
            "args": [
             [
              null
             ],
             {
              "frame": {
               "duration": 0,
               "redraw": true
              },
              "fromcurrent": true,
              "mode": "immediate",
              "transition": {
               "duration": 0,
               "easing": "linear"
              }
             }
            ],
            "label": "&#9724;",
            "method": "animate"
           }
          ],
          "direction": "left",
          "pad": {
           "r": 10,
           "t": 70
          },
          "showactive": false,
          "type": "buttons",
          "x": 0.1,
          "xanchor": "right",
          "y": 0,
          "yanchor": "top"
         }
        ]
       }
      },
      "text/html": [
       "<div>\n",
       "        \n",
       "        \n",
       "            <div id=\"dd44f4ef-ec7d-4554-9959-7bc1fd62fb12\" class=\"plotly-graph-div\" style=\"height:525px; width:100%;\"></div>\n",
       "            <script type=\"text/javascript\">\n",
       "                require([\"plotly\"], function(Plotly) {\n",
       "                    window.PLOTLYENV=window.PLOTLYENV || {};\n",
       "                    \n",
       "                if (document.getElementById(\"dd44f4ef-ec7d-4554-9959-7bc1fd62fb12\")) {\n",
       "                    Plotly.newPlot(\n",
       "                        'dd44f4ef-ec7d-4554-9959-7bc1fd62fb12',\n",
       "                        [{\"coloraxis\": \"coloraxis\", \"geo\": \"geo\", \"hovertemplate\": \"<b>%{hovertext}</b><br><br>Ano=2009<br>Pa\\u00eds=%{location}<br>Gasto Educ (%)=%{z}<extra></extra>\", \"hovertext\": [\"AUS\", \"BEL\", \"BRA\", \"CAN\", \"CHE\", \"CHL\", \"CZE\", \"DNK\", \"ESP\", \"EST\", \"FIN\", \"FRA\", \"GBR\", \"HUN\", \"IRL\", \"ISL\", \"ISR\", \"ITA\", \"JPN\", \"KOR\", \"LUX\", \"LVA\", \"MEX\", \"NLD\", \"NOR\", \"POL\", \"PRT\", \"RUS\", \"SVK\", \"SVN\", \"SWE\", \"TUR\", \"USA\"], \"locations\": [\"AUS\", \"BEL\", \"BRA\", \"CAN\", \"CHE\", \"CHL\", \"CZE\", \"DNK\", \"ESP\", \"EST\", \"FIN\", \"FRA\", \"GBR\", \"HUN\", \"IRL\", \"ISL\", \"ISR\", \"ITA\", \"JPN\", \"KOR\", \"LUX\", \"LVA\", \"MEX\", \"NLD\", \"NOR\", \"POL\", \"PRT\", \"RUS\", \"SVK\", \"SVN\", \"SWE\", \"TUR\", \"USA\"], \"name\": \"\", \"type\": \"choropleth\", \"z\": [3.569, 4.125, 4.129, 3.418, 3.278, 3.014, 2.506, 4.506, 2.998, 4.022, 3.89, 3.635, 3.2710000000000004, 2.855, 4.302, 4.6530000000000005, 3.531, 3.167, 2.595, 3.284, 3.775, 3.6510000000000002, 3.158, 3.321, 4.989, 3.377, 3.823, 2.134, 2.5140000000000002, 3.529, 3.983, 2.3680000000000003, 3.662]}],\n",
       "                        {\"coloraxis\": {\"colorbar\": {\"title\": {\"text\": \"Gasto Educ (%)\"}}, \"colorscale\": [[0.0, \"#440154\"], [0.1111111111111111, \"#482878\"], [0.2222222222222222, \"#3e4989\"], [0.3333333333333333, \"#31688e\"], [0.4444444444444444, \"#26828e\"], [0.5555555555555556, \"#1f9e89\"], [0.6666666666666666, \"#35b779\"], [0.7777777777777778, \"#6ece58\"], [0.8888888888888888, \"#b5de2b\"], [1.0, \"#fde725\"]]}, \"geo\": {\"center\": {}, \"domain\": {\"x\": [0.0, 1.0], \"y\": [0.0, 1.0]}, \"projection\": {\"type\": \"natural earth\"}}, \"legend\": {\"tracegroupgap\": 0}, \"sliders\": [{\"active\": 0, \"currentvalue\": {\"prefix\": \"Ano=\"}, \"len\": 0.9, \"pad\": {\"b\": 10, \"t\": 60}, \"steps\": [{\"args\": [[\"2009\"], {\"frame\": {\"duration\": 0, \"redraw\": true}, \"fromcurrent\": true, \"mode\": \"immediate\", \"transition\": {\"duration\": 0, \"easing\": \"linear\"}}], \"label\": \"2009\", \"method\": \"animate\"}, {\"args\": [[\"2012\"], {\"frame\": {\"duration\": 0, \"redraw\": true}, \"fromcurrent\": true, \"mode\": \"immediate\", \"transition\": {\"duration\": 0, \"easing\": \"linear\"}}], \"label\": \"2012\", \"method\": \"animate\"}, {\"args\": [[\"2015\"], {\"frame\": {\"duration\": 0, \"redraw\": true}, \"fromcurrent\": true, \"mode\": \"immediate\", \"transition\": {\"duration\": 0, \"easing\": \"linear\"}}], \"label\": \"2015\", \"method\": \"animate\"}], \"x\": 0.1, \"xanchor\": \"left\", \"y\": 0, \"yanchor\": \"top\"}], \"template\": {\"data\": {\"bar\": [{\"error_x\": {\"color\": \"#2a3f5f\"}, \"error_y\": {\"color\": \"#2a3f5f\"}, \"marker\": {\"line\": {\"color\": \"#E5ECF6\", \"width\": 0.5}}, \"type\": \"bar\"}], \"barpolar\": [{\"marker\": {\"line\": {\"color\": \"#E5ECF6\", \"width\": 0.5}}, \"type\": \"barpolar\"}], \"carpet\": [{\"aaxis\": {\"endlinecolor\": \"#2a3f5f\", \"gridcolor\": \"white\", \"linecolor\": \"white\", \"minorgridcolor\": \"white\", \"startlinecolor\": \"#2a3f5f\"}, \"baxis\": {\"endlinecolor\": \"#2a3f5f\", \"gridcolor\": \"white\", \"linecolor\": \"white\", \"minorgridcolor\": \"white\", \"startlinecolor\": \"#2a3f5f\"}, \"type\": \"carpet\"}], \"choropleth\": [{\"colorbar\": {\"outlinewidth\": 0, \"ticks\": \"\"}, \"type\": \"choropleth\"}], \"contour\": [{\"colorbar\": {\"outlinewidth\": 0, \"ticks\": \"\"}, \"colorscale\": [[0.0, \"#0d0887\"], [0.1111111111111111, \"#46039f\"], [0.2222222222222222, \"#7201a8\"], [0.3333333333333333, \"#9c179e\"], [0.4444444444444444, \"#bd3786\"], [0.5555555555555556, \"#d8576b\"], [0.6666666666666666, \"#ed7953\"], [0.7777777777777778, \"#fb9f3a\"], [0.8888888888888888, \"#fdca26\"], [1.0, \"#f0f921\"]], \"type\": \"contour\"}], \"contourcarpet\": [{\"colorbar\": {\"outlinewidth\": 0, \"ticks\": \"\"}, \"type\": \"contourcarpet\"}], \"heatmap\": [{\"colorbar\": {\"outlinewidth\": 0, \"ticks\": \"\"}, \"colorscale\": [[0.0, \"#0d0887\"], [0.1111111111111111, \"#46039f\"], [0.2222222222222222, \"#7201a8\"], [0.3333333333333333, \"#9c179e\"], [0.4444444444444444, \"#bd3786\"], [0.5555555555555556, \"#d8576b\"], [0.6666666666666666, \"#ed7953\"], [0.7777777777777778, \"#fb9f3a\"], [0.8888888888888888, \"#fdca26\"], [1.0, \"#f0f921\"]], \"type\": \"heatmap\"}], \"heatmapgl\": [{\"colorbar\": {\"outlinewidth\": 0, \"ticks\": \"\"}, \"colorscale\": [[0.0, \"#0d0887\"], [0.1111111111111111, \"#46039f\"], [0.2222222222222222, \"#7201a8\"], [0.3333333333333333, \"#9c179e\"], [0.4444444444444444, \"#bd3786\"], [0.5555555555555556, \"#d8576b\"], [0.6666666666666666, \"#ed7953\"], [0.7777777777777778, \"#fb9f3a\"], [0.8888888888888888, \"#fdca26\"], [1.0, \"#f0f921\"]], \"type\": \"heatmapgl\"}], \"histogram\": [{\"marker\": {\"colorbar\": {\"outlinewidth\": 0, \"ticks\": \"\"}}, \"type\": \"histogram\"}], \"histogram2d\": [{\"colorbar\": {\"outlinewidth\": 0, \"ticks\": \"\"}, \"colorscale\": [[0.0, \"#0d0887\"], [0.1111111111111111, \"#46039f\"], [0.2222222222222222, \"#7201a8\"], [0.3333333333333333, \"#9c179e\"], [0.4444444444444444, \"#bd3786\"], [0.5555555555555556, \"#d8576b\"], [0.6666666666666666, \"#ed7953\"], [0.7777777777777778, \"#fb9f3a\"], [0.8888888888888888, \"#fdca26\"], [1.0, \"#f0f921\"]], \"type\": \"histogram2d\"}], \"histogram2dcontour\": [{\"colorbar\": {\"outlinewidth\": 0, \"ticks\": \"\"}, \"colorscale\": [[0.0, \"#0d0887\"], [0.1111111111111111, \"#46039f\"], [0.2222222222222222, \"#7201a8\"], [0.3333333333333333, \"#9c179e\"], [0.4444444444444444, \"#bd3786\"], [0.5555555555555556, \"#d8576b\"], [0.6666666666666666, \"#ed7953\"], [0.7777777777777778, \"#fb9f3a\"], [0.8888888888888888, \"#fdca26\"], [1.0, \"#f0f921\"]], \"type\": \"histogram2dcontour\"}], \"mesh3d\": [{\"colorbar\": {\"outlinewidth\": 0, \"ticks\": \"\"}, \"type\": \"mesh3d\"}], \"parcoords\": [{\"line\": {\"colorbar\": {\"outlinewidth\": 0, \"ticks\": \"\"}}, \"type\": \"parcoords\"}], \"pie\": [{\"automargin\": true, \"type\": \"pie\"}], \"scatter\": [{\"marker\": {\"colorbar\": {\"outlinewidth\": 0, \"ticks\": \"\"}}, \"type\": \"scatter\"}], \"scatter3d\": [{\"line\": {\"colorbar\": {\"outlinewidth\": 0, \"ticks\": \"\"}}, \"marker\": {\"colorbar\": {\"outlinewidth\": 0, \"ticks\": \"\"}}, \"type\": \"scatter3d\"}], \"scattercarpet\": [{\"marker\": {\"colorbar\": {\"outlinewidth\": 0, \"ticks\": \"\"}}, \"type\": \"scattercarpet\"}], \"scattergeo\": [{\"marker\": {\"colorbar\": {\"outlinewidth\": 0, \"ticks\": \"\"}}, \"type\": \"scattergeo\"}], \"scattergl\": [{\"marker\": {\"colorbar\": {\"outlinewidth\": 0, \"ticks\": \"\"}}, \"type\": \"scattergl\"}], \"scattermapbox\": [{\"marker\": {\"colorbar\": {\"outlinewidth\": 0, \"ticks\": \"\"}}, \"type\": \"scattermapbox\"}], \"scatterpolar\": [{\"marker\": {\"colorbar\": {\"outlinewidth\": 0, \"ticks\": \"\"}}, \"type\": \"scatterpolar\"}], \"scatterpolargl\": [{\"marker\": {\"colorbar\": {\"outlinewidth\": 0, \"ticks\": \"\"}}, \"type\": \"scatterpolargl\"}], \"scatterternary\": [{\"marker\": {\"colorbar\": {\"outlinewidth\": 0, \"ticks\": \"\"}}, \"type\": \"scatterternary\"}], \"surface\": [{\"colorbar\": {\"outlinewidth\": 0, \"ticks\": \"\"}, \"colorscale\": [[0.0, \"#0d0887\"], [0.1111111111111111, \"#46039f\"], [0.2222222222222222, \"#7201a8\"], [0.3333333333333333, \"#9c179e\"], [0.4444444444444444, \"#bd3786\"], [0.5555555555555556, \"#d8576b\"], [0.6666666666666666, \"#ed7953\"], [0.7777777777777778, \"#fb9f3a\"], [0.8888888888888888, \"#fdca26\"], [1.0, \"#f0f921\"]], \"type\": \"surface\"}], \"table\": [{\"cells\": {\"fill\": {\"color\": \"#EBF0F8\"}, \"line\": {\"color\": \"white\"}}, \"header\": {\"fill\": {\"color\": \"#C8D4E3\"}, \"line\": {\"color\": \"white\"}}, \"type\": \"table\"}]}, \"layout\": {\"annotationdefaults\": {\"arrowcolor\": \"#2a3f5f\", \"arrowhead\": 0, \"arrowwidth\": 1}, \"coloraxis\": {\"colorbar\": {\"outlinewidth\": 0, \"ticks\": \"\"}}, \"colorscale\": {\"diverging\": [[0, \"#8e0152\"], [0.1, \"#c51b7d\"], [0.2, \"#de77ae\"], [0.3, \"#f1b6da\"], [0.4, \"#fde0ef\"], [0.5, \"#f7f7f7\"], [0.6, \"#e6f5d0\"], [0.7, \"#b8e186\"], [0.8, \"#7fbc41\"], [0.9, \"#4d9221\"], [1, \"#276419\"]], \"sequential\": [[0.0, \"#0d0887\"], [0.1111111111111111, \"#46039f\"], [0.2222222222222222, \"#7201a8\"], [0.3333333333333333, \"#9c179e\"], [0.4444444444444444, \"#bd3786\"], [0.5555555555555556, \"#d8576b\"], [0.6666666666666666, \"#ed7953\"], [0.7777777777777778, \"#fb9f3a\"], [0.8888888888888888, \"#fdca26\"], [1.0, \"#f0f921\"]], \"sequentialminus\": [[0.0, \"#0d0887\"], [0.1111111111111111, \"#46039f\"], [0.2222222222222222, \"#7201a8\"], [0.3333333333333333, \"#9c179e\"], [0.4444444444444444, \"#bd3786\"], [0.5555555555555556, \"#d8576b\"], [0.6666666666666666, \"#ed7953\"], [0.7777777777777778, \"#fb9f3a\"], [0.8888888888888888, \"#fdca26\"], [1.0, \"#f0f921\"]]}, \"colorway\": [\"#636efa\", \"#EF553B\", \"#00cc96\", \"#ab63fa\", \"#FFA15A\", \"#19d3f3\", \"#FF6692\", \"#B6E880\", \"#FF97FF\", \"#FECB52\"], \"font\": {\"color\": \"#2a3f5f\"}, \"geo\": {\"bgcolor\": \"white\", \"lakecolor\": \"white\", \"landcolor\": \"#E5ECF6\", \"showlakes\": true, \"showland\": true, \"subunitcolor\": \"white\"}, \"hoverlabel\": {\"align\": \"left\"}, \"hovermode\": \"closest\", \"mapbox\": {\"style\": \"light\"}, \"paper_bgcolor\": \"white\", \"plot_bgcolor\": \"#E5ECF6\", \"polar\": {\"angularaxis\": {\"gridcolor\": \"white\", \"linecolor\": \"white\", \"ticks\": \"\"}, \"bgcolor\": \"#E5ECF6\", \"radialaxis\": {\"gridcolor\": \"white\", \"linecolor\": \"white\", \"ticks\": \"\"}}, \"scene\": {\"xaxis\": {\"backgroundcolor\": \"#E5ECF6\", \"gridcolor\": \"white\", \"gridwidth\": 2, \"linecolor\": \"white\", \"showbackground\": true, \"ticks\": \"\", \"zerolinecolor\": \"white\"}, \"yaxis\": {\"backgroundcolor\": \"#E5ECF6\", \"gridcolor\": \"white\", \"gridwidth\": 2, \"linecolor\": \"white\", \"showbackground\": true, \"ticks\": \"\", \"zerolinecolor\": \"white\"}, \"zaxis\": {\"backgroundcolor\": \"#E5ECF6\", \"gridcolor\": \"white\", \"gridwidth\": 2, \"linecolor\": \"white\", \"showbackground\": true, \"ticks\": \"\", \"zerolinecolor\": \"white\"}}, \"shapedefaults\": {\"line\": {\"color\": \"#2a3f5f\"}}, \"ternary\": {\"aaxis\": {\"gridcolor\": \"white\", \"linecolor\": \"white\", \"ticks\": \"\"}, \"baxis\": {\"gridcolor\": \"white\", \"linecolor\": \"white\", \"ticks\": \"\"}, \"bgcolor\": \"#E5ECF6\", \"caxis\": {\"gridcolor\": \"white\", \"linecolor\": \"white\", \"ticks\": \"\"}}, \"title\": {\"x\": 0.05}, \"xaxis\": {\"automargin\": true, \"gridcolor\": \"white\", \"linecolor\": \"white\", \"ticks\": \"\", \"title\": {\"standoff\": 15}, \"zerolinecolor\": \"white\", \"zerolinewidth\": 2}, \"yaxis\": {\"automargin\": true, \"gridcolor\": \"white\", \"linecolor\": \"white\", \"ticks\": \"\", \"title\": {\"standoff\": 15}, \"zerolinecolor\": \"white\", \"zerolinewidth\": 2}}}, \"title\": {\"text\": \"Evolu\\u00e7\\u00e3o Gasto Educ (%)\"}, \"updatemenus\": [{\"buttons\": [{\"args\": [null, {\"frame\": {\"duration\": 500, \"redraw\": true}, \"fromcurrent\": true, \"mode\": \"immediate\", \"transition\": {\"duration\": 500, \"easing\": \"linear\"}}], \"label\": \"&#9654;\", \"method\": \"animate\"}, {\"args\": [[null], {\"frame\": {\"duration\": 0, \"redraw\": true}, \"fromcurrent\": true, \"mode\": \"immediate\", \"transition\": {\"duration\": 0, \"easing\": \"linear\"}}], \"label\": \"&#9724;\", \"method\": \"animate\"}], \"direction\": \"left\", \"pad\": {\"r\": 10, \"t\": 70}, \"showactive\": false, \"type\": \"buttons\", \"x\": 0.1, \"xanchor\": \"right\", \"y\": 0, \"yanchor\": \"top\"}]},\n",
       "                        {\"responsive\": true}\n",
       "                    ).then(function(){\n",
       "                            Plotly.addFrames('dd44f4ef-ec7d-4554-9959-7bc1fd62fb12', [{\"data\": [{\"coloraxis\": \"coloraxis\", \"geo\": \"geo\", \"hovertemplate\": \"<b>%{hovertext}</b><br><br>Ano=2009<br>Pa\\u00eds=%{location}<br>Gasto Educ (%)=%{z}<extra></extra>\", \"hovertext\": [\"AUS\", \"BEL\", \"BRA\", \"CAN\", \"CHE\", \"CHL\", \"CZE\", \"DNK\", \"ESP\", \"EST\", \"FIN\", \"FRA\", \"GBR\", \"HUN\", \"IRL\", \"ISL\", \"ISR\", \"ITA\", \"JPN\", \"KOR\", \"LUX\", \"LVA\", \"MEX\", \"NLD\", \"NOR\", \"POL\", \"PRT\", \"RUS\", \"SVK\", \"SVN\", \"SWE\", \"TUR\", \"USA\"], \"locations\": [\"AUS\", \"BEL\", \"BRA\", \"CAN\", \"CHE\", \"CHL\", \"CZE\", \"DNK\", \"ESP\", \"EST\", \"FIN\", \"FRA\", \"GBR\", \"HUN\", \"IRL\", \"ISL\", \"ISR\", \"ITA\", \"JPN\", \"KOR\", \"LUX\", \"LVA\", \"MEX\", \"NLD\", \"NOR\", \"POL\", \"PRT\", \"RUS\", \"SVK\", \"SVN\", \"SWE\", \"TUR\", \"USA\"], \"name\": \"\", \"z\": [3.569, 4.125, 4.129, 3.418, 3.278, 3.014, 2.506, 4.506, 2.998, 4.022, 3.89, 3.635, 3.2710000000000004, 2.855, 4.302, 4.6530000000000005, 3.531, 3.167, 2.595, 3.284, 3.775, 3.6510000000000002, 3.158, 3.321, 4.989, 3.377, 3.823, 2.134, 2.5140000000000002, 3.529, 3.983, 2.3680000000000003, 3.662], \"type\": \"choropleth\"}], \"name\": \"2009\"}, {\"data\": [{\"coloraxis\": \"coloraxis\", \"geo\": \"geo\", \"hovertemplate\": \"<b>%{hovertext}</b><br><br>Ano=2012<br>Pa\\u00eds=%{location}<br>Gasto Educ (%)=%{z}<extra></extra>\", \"hovertext\": [\"AUS\", \"AUT\", \"BEL\", \"BRA\", \"CAN\", \"CHE\", \"CHL\", \"CZE\", \"DEU\", \"DNK\", \"ESP\", \"EST\", \"FIN\", \"FRA\", \"GBR\", \"GRC\", \"HUN\", \"IDN\", \"IRL\", \"ISL\", \"ISR\", \"ITA\", \"JPN\", \"KOR\", \"LUX\", \"LVA\", \"MEX\", \"NLD\", \"NOR\", \"NZL\", \"POL\", \"PRT\", \"RUS\", \"SVK\", \"SVN\", \"SWE\", \"TUR\", \"USA\"], \"locations\": [\"AUS\", \"AUT\", \"BEL\", \"BRA\", \"CAN\", \"CHE\", \"CHL\", \"CZE\", \"DEU\", \"DNK\", \"ESP\", \"EST\", \"FIN\", \"FRA\", \"GBR\", \"GRC\", \"HUN\", \"IDN\", \"IRL\", \"ISL\", \"ISR\", \"ITA\", \"JPN\", \"KOR\", \"LUX\", \"LVA\", \"MEX\", \"NLD\", \"NOR\", \"NZL\", \"POL\", \"PRT\", \"RUS\", \"SVK\", \"SVN\", \"SWE\", \"TUR\", \"USA\"], \"name\": \"\", \"z\": [3.302, 2.9939999999999998, 4.171, 4.168, 3.238, 3.3930000000000002, 2.93, 2.504, 2.708, 4.513, 2.747, 3.1460000000000004, 3.912, 3.447, 3.634, 2.637, 2.434, 2.515, 4.128, 4.407, 3.897, 2.787, 2.62, 3.736, 3.1460000000000004, 2.766, 3.159, 3.253, 4.6, 3.946, 3.105, 3.543, 2.015, 2.342, 3.359, 3.708, 2.5789999999999997, 3.3110000000000004], \"type\": \"choropleth\"}], \"name\": \"2012\"}, {\"data\": [{\"coloraxis\": \"coloraxis\", \"geo\": \"geo\", \"hovertemplate\": \"<b>%{hovertext}</b><br><br>Ano=2015<br>Pa\\u00eds=%{location}<br>Gasto Educ (%)=%{z}<extra></extra>\", \"hovertext\": [\"AUS\", \"AUT\", \"BEL\", \"BRA\", \"CAN\", \"CHE\", \"CHL\", \"COL\", \"CZE\", \"DEU\", \"ESP\", \"EST\", \"FIN\", \"FRA\", \"GBR\", \"GRC\", \"HUN\", \"IDN\", \"IRL\", \"ISL\", \"ISR\", \"ITA\", \"JPN\", \"KOR\", \"LUX\", \"LVA\", \"MEX\", \"NLD\", \"NOR\", \"NZL\", \"POL\", \"PRT\", \"SVK\", \"SVN\", \"SWE\", \"TUR\", \"USA\"], \"locations\": [\"AUS\", \"AUT\", \"BEL\", \"BRA\", \"CAN\", \"CHE\", \"CHL\", \"COL\", \"CZE\", \"DEU\", \"ESP\", \"EST\", \"FIN\", \"FRA\", \"GBR\", \"GRC\", \"HUN\", \"IDN\", \"IRL\", \"ISL\", \"ISR\", \"ITA\", \"JPN\", \"KOR\", \"LUX\", \"LVA\", \"MEX\", \"NLD\", \"NOR\", \"NZL\", \"POL\", \"PRT\", \"SVK\", \"SVN\", \"SWE\", \"TUR\", \"USA\"], \"name\": \"\", \"z\": [3.182, 2.978, 4.13, 4.061, 3.1689999999999996, 3.2319999999999998, 2.63, 3.145, 2.424, 2.608, 2.656, 2.7489999999999997, 3.97, 3.398, 3.783, 2.66, 2.674, 2.492, 2.511, 4.376, 4.033, 2.78, 2.479, 3.469, 2.7939999999999996, 3.2539999999999996, 3.2039999999999997, 3.176, 4.612, 3.784, 2.929, 3.392, 2.5540000000000003, 2.955, 3.6460000000000004, 2.533, 3.207], \"type\": \"choropleth\"}], \"name\": \"2015\"}]);\n",
       "                        }).then(function(){\n",
       "                            \n",
       "var gd = document.getElementById('dd44f4ef-ec7d-4554-9959-7bc1fd62fb12');\n",
       "var x = new MutationObserver(function (mutations, observer) {{\n",
       "        var display = window.getComputedStyle(gd).display;\n",
       "        if (!display || display === 'none') {{\n",
       "            console.log([gd, 'removed!']);\n",
       "            Plotly.purge(gd);\n",
       "            observer.disconnect();\n",
       "        }}\n",
       "}});\n",
       "\n",
       "// Listen for the removal of the full notebook cells\n",
       "var notebookContainer = gd.closest('#notebook-container');\n",
       "if (notebookContainer) {{\n",
       "    x.observe(notebookContainer, {childList: true});\n",
       "}}\n",
       "\n",
       "// Listen for the clearing of the current output cell\n",
       "var outputEl = gd.closest('.output');\n",
       "if (outputEl) {{\n",
       "    x.observe(outputEl, {childList: true});\n",
       "}}\n",
       "\n",
       "                        })\n",
       "                };\n",
       "                });\n",
       "            </script>\n",
       "        </div>"
      ]
     },
     "metadata": {},
     "output_type": "display_data"
    }
   ],
   "source": [
    "geograficos_que_precisam_de_tratamento('Gasto Educ (%)')"
   ]
  },
  {
   "cell_type": "code",
   "execution_count": 66,
   "metadata": {},
   "outputs": [
    {
     "data": {
      "application/vnd.plotly.v1+json": {
       "config": {
        "plotlyServerURL": "https://plot.ly"
       },
       "data": [
        {
         "coloraxis": "coloraxis",
         "geo": "geo",
         "hovertemplate": "<b>%{hovertext}</b><br><br>Ano=2009<br>País=%{location}<br>Nota Matemática=%{z}<extra></extra>",
         "hovertext": [
          "AUS",
          "BEL",
          "BRA",
          "CAN",
          "CHE",
          "CHL",
          "CZE",
          "DNK",
          "ESP",
          "EST",
          "FIN",
          "FRA",
          "GBR",
          "HUN",
          "IRL",
          "ISL",
          "ISR",
          "ITA",
          "JPN",
          "KOR",
          "LUX",
          "LVA",
          "MEX",
          "NLD",
          "NOR",
          "POL",
          "PRT",
          "RUS",
          "SVK",
          "SVN",
          "SWE",
          "TUR",
          "USA"
         ],
         "locations": [
          "AUS",
          "BEL",
          "BRA",
          "CAN",
          "CHE",
          "CHL",
          "CZE",
          "DNK",
          "ESP",
          "EST",
          "FIN",
          "FRA",
          "GBR",
          "HUN",
          "IRL",
          "ISL",
          "ISR",
          "ITA",
          "JPN",
          "KOR",
          "LUX",
          "LVA",
          "MEX",
          "NLD",
          "NOR",
          "POL",
          "PRT",
          "RUS",
          "SVK",
          "SVN",
          "SWE",
          "TUR",
          "USA"
         ],
         "name": "",
         "type": "choropleth",
         "z": [
          514,
          515,
          386,
          527,
          534,
          421,
          493,
          503,
          483,
          512,
          541,
          497,
          492,
          490,
          487,
          507,
          447,
          483,
          529,
          546,
          489,
          482,
          419,
          526,
          498,
          495,
          487,
          468,
          497,
          501,
          494,
          445,
          487
         ]
        }
       ],
       "frames": [
        {
         "data": [
          {
           "coloraxis": "coloraxis",
           "geo": "geo",
           "hovertemplate": "<b>%{hovertext}</b><br><br>Ano=2009<br>País=%{location}<br>Nota Matemática=%{z}<extra></extra>",
           "hovertext": [
            "AUS",
            "BEL",
            "BRA",
            "CAN",
            "CHE",
            "CHL",
            "CZE",
            "DNK",
            "ESP",
            "EST",
            "FIN",
            "FRA",
            "GBR",
            "HUN",
            "IRL",
            "ISL",
            "ISR",
            "ITA",
            "JPN",
            "KOR",
            "LUX",
            "LVA",
            "MEX",
            "NLD",
            "NOR",
            "POL",
            "PRT",
            "RUS",
            "SVK",
            "SVN",
            "SWE",
            "TUR",
            "USA"
           ],
           "locations": [
            "AUS",
            "BEL",
            "BRA",
            "CAN",
            "CHE",
            "CHL",
            "CZE",
            "DNK",
            "ESP",
            "EST",
            "FIN",
            "FRA",
            "GBR",
            "HUN",
            "IRL",
            "ISL",
            "ISR",
            "ITA",
            "JPN",
            "KOR",
            "LUX",
            "LVA",
            "MEX",
            "NLD",
            "NOR",
            "POL",
            "PRT",
            "RUS",
            "SVK",
            "SVN",
            "SWE",
            "TUR",
            "USA"
           ],
           "name": "",
           "type": "choropleth",
           "z": [
            514,
            515,
            386,
            527,
            534,
            421,
            493,
            503,
            483,
            512,
            541,
            497,
            492,
            490,
            487,
            507,
            447,
            483,
            529,
            546,
            489,
            482,
            419,
            526,
            498,
            495,
            487,
            468,
            497,
            501,
            494,
            445,
            487
           ]
          }
         ],
         "name": "2009"
        },
        {
         "data": [
          {
           "coloraxis": "coloraxis",
           "geo": "geo",
           "hovertemplate": "<b>%{hovertext}</b><br><br>Ano=2012<br>País=%{location}<br>Nota Matemática=%{z}<extra></extra>",
           "hovertext": [
            "AUS",
            "AUT",
            "BEL",
            "BRA",
            "CAN",
            "CHE",
            "CHL",
            "CZE",
            "DEU",
            "DNK",
            "ESP",
            "EST",
            "FIN",
            "FRA",
            "GBR",
            "GRC",
            "HUN",
            "IDN",
            "IRL",
            "ISL",
            "ISR",
            "ITA",
            "JPN",
            "KOR",
            "LUX",
            "LVA",
            "MEX",
            "NLD",
            "NOR",
            "NZL",
            "POL",
            "PRT",
            "RUS",
            "SVK",
            "SVN",
            "SWE",
            "TUR",
            "USA"
           ],
           "locations": [
            "AUS",
            "AUT",
            "BEL",
            "BRA",
            "CAN",
            "CHE",
            "CHL",
            "CZE",
            "DEU",
            "DNK",
            "ESP",
            "EST",
            "FIN",
            "FRA",
            "GBR",
            "GRC",
            "HUN",
            "IDN",
            "IRL",
            "ISL",
            "ISR",
            "ITA",
            "JPN",
            "KOR",
            "LUX",
            "LVA",
            "MEX",
            "NLD",
            "NOR",
            "NZL",
            "POL",
            "PRT",
            "RUS",
            "SVK",
            "SVN",
            "SWE",
            "TUR",
            "USA"
           ],
           "name": "",
           "type": "choropleth",
           "z": [
            504,
            506,
            515,
            389,
            518,
            531,
            423,
            499,
            514,
            500,
            484,
            521,
            519,
            495,
            494,
            453,
            477,
            375,
            501,
            493,
            466,
            485,
            536,
            554,
            490,
            491,
            413,
            523,
            489,
            500,
            518,
            487,
            482,
            482,
            501,
            478,
            448,
            481
           ]
          }
         ],
         "name": "2012"
        },
        {
         "data": [
          {
           "coloraxis": "coloraxis",
           "geo": "geo",
           "hovertemplate": "<b>%{hovertext}</b><br><br>Ano=2015<br>País=%{location}<br>Nota Matemática=%{z}<extra></extra>",
           "hovertext": [
            "AUS",
            "AUT",
            "BEL",
            "BRA",
            "CAN",
            "CHE",
            "CHL",
            "COL",
            "CZE",
            "DEU",
            "ESP",
            "EST",
            "FIN",
            "FRA",
            "GBR",
            "GRC",
            "HUN",
            "IDN",
            "IRL",
            "ISL",
            "ISR",
            "ITA",
            "JPN",
            "KOR",
            "LUX",
            "LVA",
            "MEX",
            "NLD",
            "NOR",
            "NZL",
            "POL",
            "PRT",
            "SVK",
            "SVN",
            "SWE",
            "TUR",
            "USA"
           ],
           "locations": [
            "AUS",
            "AUT",
            "BEL",
            "BRA",
            "CAN",
            "CHE",
            "CHL",
            "COL",
            "CZE",
            "DEU",
            "ESP",
            "EST",
            "FIN",
            "FRA",
            "GBR",
            "GRC",
            "HUN",
            "IDN",
            "IRL",
            "ISL",
            "ISR",
            "ITA",
            "JPN",
            "KOR",
            "LUX",
            "LVA",
            "MEX",
            "NLD",
            "NOR",
            "NZL",
            "POL",
            "PRT",
            "SVK",
            "SVN",
            "SWE",
            "TUR",
            "USA"
           ],
           "name": "",
           "type": "choropleth",
           "z": [
            494,
            497,
            507,
            377,
            516,
            521,
            423,
            390,
            492,
            506,
            486,
            520,
            511,
            493,
            492,
            454,
            477,
            386,
            504,
            488,
            470,
            490,
            532,
            524,
            486,
            482,
            408,
            512,
            502,
            495,
            504,
            492,
            475,
            510,
            494,
            420,
            470
           ]
          }
         ],
         "name": "2015"
        }
       ],
       "layout": {
        "coloraxis": {
         "colorbar": {
          "title": {
           "text": "Nota Matemática"
          }
         },
         "colorscale": [
          [
           0,
           "#440154"
          ],
          [
           0.1111111111111111,
           "#482878"
          ],
          [
           0.2222222222222222,
           "#3e4989"
          ],
          [
           0.3333333333333333,
           "#31688e"
          ],
          [
           0.4444444444444444,
           "#26828e"
          ],
          [
           0.5555555555555556,
           "#1f9e89"
          ],
          [
           0.6666666666666666,
           "#35b779"
          ],
          [
           0.7777777777777778,
           "#6ece58"
          ],
          [
           0.8888888888888888,
           "#b5de2b"
          ],
          [
           1,
           "#fde725"
          ]
         ]
        },
        "geo": {
         "center": {},
         "domain": {
          "x": [
           0,
           1
          ],
          "y": [
           0,
           1
          ]
         },
         "projection": {
          "type": "natural earth"
         }
        },
        "legend": {
         "tracegroupgap": 0
        },
        "sliders": [
         {
          "active": 0,
          "currentvalue": {
           "prefix": "Ano="
          },
          "len": 0.9,
          "pad": {
           "b": 10,
           "t": 60
          },
          "steps": [
           {
            "args": [
             [
              "2009"
             ],
             {
              "frame": {
               "duration": 0,
               "redraw": true
              },
              "fromcurrent": true,
              "mode": "immediate",
              "transition": {
               "duration": 0,
               "easing": "linear"
              }
             }
            ],
            "label": "2009",
            "method": "animate"
           },
           {
            "args": [
             [
              "2012"
             ],
             {
              "frame": {
               "duration": 0,
               "redraw": true
              },
              "fromcurrent": true,
              "mode": "immediate",
              "transition": {
               "duration": 0,
               "easing": "linear"
              }
             }
            ],
            "label": "2012",
            "method": "animate"
           },
           {
            "args": [
             [
              "2015"
             ],
             {
              "frame": {
               "duration": 0,
               "redraw": true
              },
              "fromcurrent": true,
              "mode": "immediate",
              "transition": {
               "duration": 0,
               "easing": "linear"
              }
             }
            ],
            "label": "2015",
            "method": "animate"
           }
          ],
          "x": 0.1,
          "xanchor": "left",
          "y": 0,
          "yanchor": "top"
         }
        ],
        "template": {
         "data": {
          "bar": [
           {
            "error_x": {
             "color": "#2a3f5f"
            },
            "error_y": {
             "color": "#2a3f5f"
            },
            "marker": {
             "line": {
              "color": "#E5ECF6",
              "width": 0.5
             }
            },
            "type": "bar"
           }
          ],
          "barpolar": [
           {
            "marker": {
             "line": {
              "color": "#E5ECF6",
              "width": 0.5
             }
            },
            "type": "barpolar"
           }
          ],
          "carpet": [
           {
            "aaxis": {
             "endlinecolor": "#2a3f5f",
             "gridcolor": "white",
             "linecolor": "white",
             "minorgridcolor": "white",
             "startlinecolor": "#2a3f5f"
            },
            "baxis": {
             "endlinecolor": "#2a3f5f",
             "gridcolor": "white",
             "linecolor": "white",
             "minorgridcolor": "white",
             "startlinecolor": "#2a3f5f"
            },
            "type": "carpet"
           }
          ],
          "choropleth": [
           {
            "colorbar": {
             "outlinewidth": 0,
             "ticks": ""
            },
            "type": "choropleth"
           }
          ],
          "contour": [
           {
            "colorbar": {
             "outlinewidth": 0,
             "ticks": ""
            },
            "colorscale": [
             [
              0,
              "#0d0887"
             ],
             [
              0.1111111111111111,
              "#46039f"
             ],
             [
              0.2222222222222222,
              "#7201a8"
             ],
             [
              0.3333333333333333,
              "#9c179e"
             ],
             [
              0.4444444444444444,
              "#bd3786"
             ],
             [
              0.5555555555555556,
              "#d8576b"
             ],
             [
              0.6666666666666666,
              "#ed7953"
             ],
             [
              0.7777777777777778,
              "#fb9f3a"
             ],
             [
              0.8888888888888888,
              "#fdca26"
             ],
             [
              1,
              "#f0f921"
             ]
            ],
            "type": "contour"
           }
          ],
          "contourcarpet": [
           {
            "colorbar": {
             "outlinewidth": 0,
             "ticks": ""
            },
            "type": "contourcarpet"
           }
          ],
          "heatmap": [
           {
            "colorbar": {
             "outlinewidth": 0,
             "ticks": ""
            },
            "colorscale": [
             [
              0,
              "#0d0887"
             ],
             [
              0.1111111111111111,
              "#46039f"
             ],
             [
              0.2222222222222222,
              "#7201a8"
             ],
             [
              0.3333333333333333,
              "#9c179e"
             ],
             [
              0.4444444444444444,
              "#bd3786"
             ],
             [
              0.5555555555555556,
              "#d8576b"
             ],
             [
              0.6666666666666666,
              "#ed7953"
             ],
             [
              0.7777777777777778,
              "#fb9f3a"
             ],
             [
              0.8888888888888888,
              "#fdca26"
             ],
             [
              1,
              "#f0f921"
             ]
            ],
            "type": "heatmap"
           }
          ],
          "heatmapgl": [
           {
            "colorbar": {
             "outlinewidth": 0,
             "ticks": ""
            },
            "colorscale": [
             [
              0,
              "#0d0887"
             ],
             [
              0.1111111111111111,
              "#46039f"
             ],
             [
              0.2222222222222222,
              "#7201a8"
             ],
             [
              0.3333333333333333,
              "#9c179e"
             ],
             [
              0.4444444444444444,
              "#bd3786"
             ],
             [
              0.5555555555555556,
              "#d8576b"
             ],
             [
              0.6666666666666666,
              "#ed7953"
             ],
             [
              0.7777777777777778,
              "#fb9f3a"
             ],
             [
              0.8888888888888888,
              "#fdca26"
             ],
             [
              1,
              "#f0f921"
             ]
            ],
            "type": "heatmapgl"
           }
          ],
          "histogram": [
           {
            "marker": {
             "colorbar": {
              "outlinewidth": 0,
              "ticks": ""
             }
            },
            "type": "histogram"
           }
          ],
          "histogram2d": [
           {
            "colorbar": {
             "outlinewidth": 0,
             "ticks": ""
            },
            "colorscale": [
             [
              0,
              "#0d0887"
             ],
             [
              0.1111111111111111,
              "#46039f"
             ],
             [
              0.2222222222222222,
              "#7201a8"
             ],
             [
              0.3333333333333333,
              "#9c179e"
             ],
             [
              0.4444444444444444,
              "#bd3786"
             ],
             [
              0.5555555555555556,
              "#d8576b"
             ],
             [
              0.6666666666666666,
              "#ed7953"
             ],
             [
              0.7777777777777778,
              "#fb9f3a"
             ],
             [
              0.8888888888888888,
              "#fdca26"
             ],
             [
              1,
              "#f0f921"
             ]
            ],
            "type": "histogram2d"
           }
          ],
          "histogram2dcontour": [
           {
            "colorbar": {
             "outlinewidth": 0,
             "ticks": ""
            },
            "colorscale": [
             [
              0,
              "#0d0887"
             ],
             [
              0.1111111111111111,
              "#46039f"
             ],
             [
              0.2222222222222222,
              "#7201a8"
             ],
             [
              0.3333333333333333,
              "#9c179e"
             ],
             [
              0.4444444444444444,
              "#bd3786"
             ],
             [
              0.5555555555555556,
              "#d8576b"
             ],
             [
              0.6666666666666666,
              "#ed7953"
             ],
             [
              0.7777777777777778,
              "#fb9f3a"
             ],
             [
              0.8888888888888888,
              "#fdca26"
             ],
             [
              1,
              "#f0f921"
             ]
            ],
            "type": "histogram2dcontour"
           }
          ],
          "mesh3d": [
           {
            "colorbar": {
             "outlinewidth": 0,
             "ticks": ""
            },
            "type": "mesh3d"
           }
          ],
          "parcoords": [
           {
            "line": {
             "colorbar": {
              "outlinewidth": 0,
              "ticks": ""
             }
            },
            "type": "parcoords"
           }
          ],
          "pie": [
           {
            "automargin": true,
            "type": "pie"
           }
          ],
          "scatter": [
           {
            "marker": {
             "colorbar": {
              "outlinewidth": 0,
              "ticks": ""
             }
            },
            "type": "scatter"
           }
          ],
          "scatter3d": [
           {
            "line": {
             "colorbar": {
              "outlinewidth": 0,
              "ticks": ""
             }
            },
            "marker": {
             "colorbar": {
              "outlinewidth": 0,
              "ticks": ""
             }
            },
            "type": "scatter3d"
           }
          ],
          "scattercarpet": [
           {
            "marker": {
             "colorbar": {
              "outlinewidth": 0,
              "ticks": ""
             }
            },
            "type": "scattercarpet"
           }
          ],
          "scattergeo": [
           {
            "marker": {
             "colorbar": {
              "outlinewidth": 0,
              "ticks": ""
             }
            },
            "type": "scattergeo"
           }
          ],
          "scattergl": [
           {
            "marker": {
             "colorbar": {
              "outlinewidth": 0,
              "ticks": ""
             }
            },
            "type": "scattergl"
           }
          ],
          "scattermapbox": [
           {
            "marker": {
             "colorbar": {
              "outlinewidth": 0,
              "ticks": ""
             }
            },
            "type": "scattermapbox"
           }
          ],
          "scatterpolar": [
           {
            "marker": {
             "colorbar": {
              "outlinewidth": 0,
              "ticks": ""
             }
            },
            "type": "scatterpolar"
           }
          ],
          "scatterpolargl": [
           {
            "marker": {
             "colorbar": {
              "outlinewidth": 0,
              "ticks": ""
             }
            },
            "type": "scatterpolargl"
           }
          ],
          "scatterternary": [
           {
            "marker": {
             "colorbar": {
              "outlinewidth": 0,
              "ticks": ""
             }
            },
            "type": "scatterternary"
           }
          ],
          "surface": [
           {
            "colorbar": {
             "outlinewidth": 0,
             "ticks": ""
            },
            "colorscale": [
             [
              0,
              "#0d0887"
             ],
             [
              0.1111111111111111,
              "#46039f"
             ],
             [
              0.2222222222222222,
              "#7201a8"
             ],
             [
              0.3333333333333333,
              "#9c179e"
             ],
             [
              0.4444444444444444,
              "#bd3786"
             ],
             [
              0.5555555555555556,
              "#d8576b"
             ],
             [
              0.6666666666666666,
              "#ed7953"
             ],
             [
              0.7777777777777778,
              "#fb9f3a"
             ],
             [
              0.8888888888888888,
              "#fdca26"
             ],
             [
              1,
              "#f0f921"
             ]
            ],
            "type": "surface"
           }
          ],
          "table": [
           {
            "cells": {
             "fill": {
              "color": "#EBF0F8"
             },
             "line": {
              "color": "white"
             }
            },
            "header": {
             "fill": {
              "color": "#C8D4E3"
             },
             "line": {
              "color": "white"
             }
            },
            "type": "table"
           }
          ]
         },
         "layout": {
          "annotationdefaults": {
           "arrowcolor": "#2a3f5f",
           "arrowhead": 0,
           "arrowwidth": 1
          },
          "coloraxis": {
           "colorbar": {
            "outlinewidth": 0,
            "ticks": ""
           }
          },
          "colorscale": {
           "diverging": [
            [
             0,
             "#8e0152"
            ],
            [
             0.1,
             "#c51b7d"
            ],
            [
             0.2,
             "#de77ae"
            ],
            [
             0.3,
             "#f1b6da"
            ],
            [
             0.4,
             "#fde0ef"
            ],
            [
             0.5,
             "#f7f7f7"
            ],
            [
             0.6,
             "#e6f5d0"
            ],
            [
             0.7,
             "#b8e186"
            ],
            [
             0.8,
             "#7fbc41"
            ],
            [
             0.9,
             "#4d9221"
            ],
            [
             1,
             "#276419"
            ]
           ],
           "sequential": [
            [
             0,
             "#0d0887"
            ],
            [
             0.1111111111111111,
             "#46039f"
            ],
            [
             0.2222222222222222,
             "#7201a8"
            ],
            [
             0.3333333333333333,
             "#9c179e"
            ],
            [
             0.4444444444444444,
             "#bd3786"
            ],
            [
             0.5555555555555556,
             "#d8576b"
            ],
            [
             0.6666666666666666,
             "#ed7953"
            ],
            [
             0.7777777777777778,
             "#fb9f3a"
            ],
            [
             0.8888888888888888,
             "#fdca26"
            ],
            [
             1,
             "#f0f921"
            ]
           ],
           "sequentialminus": [
            [
             0,
             "#0d0887"
            ],
            [
             0.1111111111111111,
             "#46039f"
            ],
            [
             0.2222222222222222,
             "#7201a8"
            ],
            [
             0.3333333333333333,
             "#9c179e"
            ],
            [
             0.4444444444444444,
             "#bd3786"
            ],
            [
             0.5555555555555556,
             "#d8576b"
            ],
            [
             0.6666666666666666,
             "#ed7953"
            ],
            [
             0.7777777777777778,
             "#fb9f3a"
            ],
            [
             0.8888888888888888,
             "#fdca26"
            ],
            [
             1,
             "#f0f921"
            ]
           ]
          },
          "colorway": [
           "#636efa",
           "#EF553B",
           "#00cc96",
           "#ab63fa",
           "#FFA15A",
           "#19d3f3",
           "#FF6692",
           "#B6E880",
           "#FF97FF",
           "#FECB52"
          ],
          "font": {
           "color": "#2a3f5f"
          },
          "geo": {
           "bgcolor": "white",
           "lakecolor": "white",
           "landcolor": "#E5ECF6",
           "showlakes": true,
           "showland": true,
           "subunitcolor": "white"
          },
          "hoverlabel": {
           "align": "left"
          },
          "hovermode": "closest",
          "mapbox": {
           "style": "light"
          },
          "paper_bgcolor": "white",
          "plot_bgcolor": "#E5ECF6",
          "polar": {
           "angularaxis": {
            "gridcolor": "white",
            "linecolor": "white",
            "ticks": ""
           },
           "bgcolor": "#E5ECF6",
           "radialaxis": {
            "gridcolor": "white",
            "linecolor": "white",
            "ticks": ""
           }
          },
          "scene": {
           "xaxis": {
            "backgroundcolor": "#E5ECF6",
            "gridcolor": "white",
            "gridwidth": 2,
            "linecolor": "white",
            "showbackground": true,
            "ticks": "",
            "zerolinecolor": "white"
           },
           "yaxis": {
            "backgroundcolor": "#E5ECF6",
            "gridcolor": "white",
            "gridwidth": 2,
            "linecolor": "white",
            "showbackground": true,
            "ticks": "",
            "zerolinecolor": "white"
           },
           "zaxis": {
            "backgroundcolor": "#E5ECF6",
            "gridcolor": "white",
            "gridwidth": 2,
            "linecolor": "white",
            "showbackground": true,
            "ticks": "",
            "zerolinecolor": "white"
           }
          },
          "shapedefaults": {
           "line": {
            "color": "#2a3f5f"
           }
          },
          "ternary": {
           "aaxis": {
            "gridcolor": "white",
            "linecolor": "white",
            "ticks": ""
           },
           "baxis": {
            "gridcolor": "white",
            "linecolor": "white",
            "ticks": ""
           },
           "bgcolor": "#E5ECF6",
           "caxis": {
            "gridcolor": "white",
            "linecolor": "white",
            "ticks": ""
           }
          },
          "title": {
           "x": 0.05
          },
          "xaxis": {
           "automargin": true,
           "gridcolor": "white",
           "linecolor": "white",
           "ticks": "",
           "title": {
            "standoff": 15
           },
           "zerolinecolor": "white",
           "zerolinewidth": 2
          },
          "yaxis": {
           "automargin": true,
           "gridcolor": "white",
           "linecolor": "white",
           "ticks": "",
           "title": {
            "standoff": 15
           },
           "zerolinecolor": "white",
           "zerolinewidth": 2
          }
         }
        },
        "title": {
         "text": "Evolução Nota Matemática"
        },
        "updatemenus": [
         {
          "buttons": [
           {
            "args": [
             null,
             {
              "frame": {
               "duration": 500,
               "redraw": true
              },
              "fromcurrent": true,
              "mode": "immediate",
              "transition": {
               "duration": 500,
               "easing": "linear"
              }
             }
            ],
            "label": "&#9654;",
            "method": "animate"
           },
           {
            "args": [
             [
              null
             ],
             {
              "frame": {
               "duration": 0,
               "redraw": true
              },
              "fromcurrent": true,
              "mode": "immediate",
              "transition": {
               "duration": 0,
               "easing": "linear"
              }
             }
            ],
            "label": "&#9724;",
            "method": "animate"
           }
          ],
          "direction": "left",
          "pad": {
           "r": 10,
           "t": 70
          },
          "showactive": false,
          "type": "buttons",
          "x": 0.1,
          "xanchor": "right",
          "y": 0,
          "yanchor": "top"
         }
        ]
       }
      },
      "text/html": [
       "<div>\n",
       "        \n",
       "        \n",
       "            <div id=\"7603f354-a8a5-4937-9b8f-d8617b1cb943\" class=\"plotly-graph-div\" style=\"height:525px; width:100%;\"></div>\n",
       "            <script type=\"text/javascript\">\n",
       "                require([\"plotly\"], function(Plotly) {\n",
       "                    window.PLOTLYENV=window.PLOTLYENV || {};\n",
       "                    \n",
       "                if (document.getElementById(\"7603f354-a8a5-4937-9b8f-d8617b1cb943\")) {\n",
       "                    Plotly.newPlot(\n",
       "                        '7603f354-a8a5-4937-9b8f-d8617b1cb943',\n",
       "                        [{\"coloraxis\": \"coloraxis\", \"geo\": \"geo\", \"hovertemplate\": \"<b>%{hovertext}</b><br><br>Ano=2009<br>Pa\\u00eds=%{location}<br>Nota Matem\\u00e1tica=%{z}<extra></extra>\", \"hovertext\": [\"AUS\", \"BEL\", \"BRA\", \"CAN\", \"CHE\", \"CHL\", \"CZE\", \"DNK\", \"ESP\", \"EST\", \"FIN\", \"FRA\", \"GBR\", \"HUN\", \"IRL\", \"ISL\", \"ISR\", \"ITA\", \"JPN\", \"KOR\", \"LUX\", \"LVA\", \"MEX\", \"NLD\", \"NOR\", \"POL\", \"PRT\", \"RUS\", \"SVK\", \"SVN\", \"SWE\", \"TUR\", \"USA\"], \"locations\": [\"AUS\", \"BEL\", \"BRA\", \"CAN\", \"CHE\", \"CHL\", \"CZE\", \"DNK\", \"ESP\", \"EST\", \"FIN\", \"FRA\", \"GBR\", \"HUN\", \"IRL\", \"ISL\", \"ISR\", \"ITA\", \"JPN\", \"KOR\", \"LUX\", \"LVA\", \"MEX\", \"NLD\", \"NOR\", \"POL\", \"PRT\", \"RUS\", \"SVK\", \"SVN\", \"SWE\", \"TUR\", \"USA\"], \"name\": \"\", \"type\": \"choropleth\", \"z\": [514.0, 515.0, 386.0, 527.0, 534.0, 421.0, 493.0, 503.0, 483.0, 512.0, 541.0, 497.0, 492.0, 490.0, 487.0, 507.0, 447.0, 483.0, 529.0, 546.0, 489.0, 482.0, 419.0, 526.0, 498.0, 495.0, 487.0, 468.0, 497.0, 501.0, 494.0, 445.0, 487.0]}],\n",
       "                        {\"coloraxis\": {\"colorbar\": {\"title\": {\"text\": \"Nota Matem\\u00e1tica\"}}, \"colorscale\": [[0.0, \"#440154\"], [0.1111111111111111, \"#482878\"], [0.2222222222222222, \"#3e4989\"], [0.3333333333333333, \"#31688e\"], [0.4444444444444444, \"#26828e\"], [0.5555555555555556, \"#1f9e89\"], [0.6666666666666666, \"#35b779\"], [0.7777777777777778, \"#6ece58\"], [0.8888888888888888, \"#b5de2b\"], [1.0, \"#fde725\"]]}, \"geo\": {\"center\": {}, \"domain\": {\"x\": [0.0, 1.0], \"y\": [0.0, 1.0]}, \"projection\": {\"type\": \"natural earth\"}}, \"legend\": {\"tracegroupgap\": 0}, \"sliders\": [{\"active\": 0, \"currentvalue\": {\"prefix\": \"Ano=\"}, \"len\": 0.9, \"pad\": {\"b\": 10, \"t\": 60}, \"steps\": [{\"args\": [[\"2009\"], {\"frame\": {\"duration\": 0, \"redraw\": true}, \"fromcurrent\": true, \"mode\": \"immediate\", \"transition\": {\"duration\": 0, \"easing\": \"linear\"}}], \"label\": \"2009\", \"method\": \"animate\"}, {\"args\": [[\"2012\"], {\"frame\": {\"duration\": 0, \"redraw\": true}, \"fromcurrent\": true, \"mode\": \"immediate\", \"transition\": {\"duration\": 0, \"easing\": \"linear\"}}], \"label\": \"2012\", \"method\": \"animate\"}, {\"args\": [[\"2015\"], {\"frame\": {\"duration\": 0, \"redraw\": true}, \"fromcurrent\": true, \"mode\": \"immediate\", \"transition\": {\"duration\": 0, \"easing\": \"linear\"}}], \"label\": \"2015\", \"method\": \"animate\"}], \"x\": 0.1, \"xanchor\": \"left\", \"y\": 0, \"yanchor\": \"top\"}], \"template\": {\"data\": {\"bar\": [{\"error_x\": {\"color\": \"#2a3f5f\"}, \"error_y\": {\"color\": \"#2a3f5f\"}, \"marker\": {\"line\": {\"color\": \"#E5ECF6\", \"width\": 0.5}}, \"type\": \"bar\"}], \"barpolar\": [{\"marker\": {\"line\": {\"color\": \"#E5ECF6\", \"width\": 0.5}}, \"type\": \"barpolar\"}], \"carpet\": [{\"aaxis\": {\"endlinecolor\": \"#2a3f5f\", \"gridcolor\": \"white\", \"linecolor\": \"white\", \"minorgridcolor\": \"white\", \"startlinecolor\": \"#2a3f5f\"}, \"baxis\": {\"endlinecolor\": \"#2a3f5f\", \"gridcolor\": \"white\", \"linecolor\": \"white\", \"minorgridcolor\": \"white\", \"startlinecolor\": \"#2a3f5f\"}, \"type\": \"carpet\"}], \"choropleth\": [{\"colorbar\": {\"outlinewidth\": 0, \"ticks\": \"\"}, \"type\": \"choropleth\"}], \"contour\": [{\"colorbar\": {\"outlinewidth\": 0, \"ticks\": \"\"}, \"colorscale\": [[0.0, \"#0d0887\"], [0.1111111111111111, \"#46039f\"], [0.2222222222222222, \"#7201a8\"], [0.3333333333333333, \"#9c179e\"], [0.4444444444444444, \"#bd3786\"], [0.5555555555555556, \"#d8576b\"], [0.6666666666666666, \"#ed7953\"], [0.7777777777777778, \"#fb9f3a\"], [0.8888888888888888, \"#fdca26\"], [1.0, \"#f0f921\"]], \"type\": \"contour\"}], \"contourcarpet\": [{\"colorbar\": {\"outlinewidth\": 0, \"ticks\": \"\"}, \"type\": \"contourcarpet\"}], \"heatmap\": [{\"colorbar\": {\"outlinewidth\": 0, \"ticks\": \"\"}, \"colorscale\": [[0.0, \"#0d0887\"], [0.1111111111111111, \"#46039f\"], [0.2222222222222222, \"#7201a8\"], [0.3333333333333333, \"#9c179e\"], [0.4444444444444444, \"#bd3786\"], [0.5555555555555556, \"#d8576b\"], [0.6666666666666666, \"#ed7953\"], [0.7777777777777778, \"#fb9f3a\"], [0.8888888888888888, \"#fdca26\"], [1.0, \"#f0f921\"]], \"type\": \"heatmap\"}], \"heatmapgl\": [{\"colorbar\": {\"outlinewidth\": 0, \"ticks\": \"\"}, \"colorscale\": [[0.0, \"#0d0887\"], [0.1111111111111111, \"#46039f\"], [0.2222222222222222, \"#7201a8\"], [0.3333333333333333, \"#9c179e\"], [0.4444444444444444, \"#bd3786\"], [0.5555555555555556, \"#d8576b\"], [0.6666666666666666, \"#ed7953\"], [0.7777777777777778, \"#fb9f3a\"], [0.8888888888888888, \"#fdca26\"], [1.0, \"#f0f921\"]], \"type\": \"heatmapgl\"}], \"histogram\": [{\"marker\": {\"colorbar\": {\"outlinewidth\": 0, \"ticks\": \"\"}}, \"type\": \"histogram\"}], \"histogram2d\": [{\"colorbar\": {\"outlinewidth\": 0, \"ticks\": \"\"}, \"colorscale\": [[0.0, \"#0d0887\"], [0.1111111111111111, \"#46039f\"], [0.2222222222222222, \"#7201a8\"], [0.3333333333333333, \"#9c179e\"], [0.4444444444444444, \"#bd3786\"], [0.5555555555555556, \"#d8576b\"], [0.6666666666666666, \"#ed7953\"], [0.7777777777777778, \"#fb9f3a\"], [0.8888888888888888, \"#fdca26\"], [1.0, \"#f0f921\"]], \"type\": \"histogram2d\"}], \"histogram2dcontour\": [{\"colorbar\": {\"outlinewidth\": 0, \"ticks\": \"\"}, \"colorscale\": [[0.0, \"#0d0887\"], [0.1111111111111111, \"#46039f\"], [0.2222222222222222, \"#7201a8\"], [0.3333333333333333, \"#9c179e\"], [0.4444444444444444, \"#bd3786\"], [0.5555555555555556, \"#d8576b\"], [0.6666666666666666, \"#ed7953\"], [0.7777777777777778, \"#fb9f3a\"], [0.8888888888888888, \"#fdca26\"], [1.0, \"#f0f921\"]], \"type\": \"histogram2dcontour\"}], \"mesh3d\": [{\"colorbar\": {\"outlinewidth\": 0, \"ticks\": \"\"}, \"type\": \"mesh3d\"}], \"parcoords\": [{\"line\": {\"colorbar\": {\"outlinewidth\": 0, \"ticks\": \"\"}}, \"type\": \"parcoords\"}], \"pie\": [{\"automargin\": true, \"type\": \"pie\"}], \"scatter\": [{\"marker\": {\"colorbar\": {\"outlinewidth\": 0, \"ticks\": \"\"}}, \"type\": \"scatter\"}], \"scatter3d\": [{\"line\": {\"colorbar\": {\"outlinewidth\": 0, \"ticks\": \"\"}}, \"marker\": {\"colorbar\": {\"outlinewidth\": 0, \"ticks\": \"\"}}, \"type\": \"scatter3d\"}], \"scattercarpet\": [{\"marker\": {\"colorbar\": {\"outlinewidth\": 0, \"ticks\": \"\"}}, \"type\": \"scattercarpet\"}], \"scattergeo\": [{\"marker\": {\"colorbar\": {\"outlinewidth\": 0, \"ticks\": \"\"}}, \"type\": \"scattergeo\"}], \"scattergl\": [{\"marker\": {\"colorbar\": {\"outlinewidth\": 0, \"ticks\": \"\"}}, \"type\": \"scattergl\"}], \"scattermapbox\": [{\"marker\": {\"colorbar\": {\"outlinewidth\": 0, \"ticks\": \"\"}}, \"type\": \"scattermapbox\"}], \"scatterpolar\": [{\"marker\": {\"colorbar\": {\"outlinewidth\": 0, \"ticks\": \"\"}}, \"type\": \"scatterpolar\"}], \"scatterpolargl\": [{\"marker\": {\"colorbar\": {\"outlinewidth\": 0, \"ticks\": \"\"}}, \"type\": \"scatterpolargl\"}], \"scatterternary\": [{\"marker\": {\"colorbar\": {\"outlinewidth\": 0, \"ticks\": \"\"}}, \"type\": \"scatterternary\"}], \"surface\": [{\"colorbar\": {\"outlinewidth\": 0, \"ticks\": \"\"}, \"colorscale\": [[0.0, \"#0d0887\"], [0.1111111111111111, \"#46039f\"], [0.2222222222222222, \"#7201a8\"], [0.3333333333333333, \"#9c179e\"], [0.4444444444444444, \"#bd3786\"], [0.5555555555555556, \"#d8576b\"], [0.6666666666666666, \"#ed7953\"], [0.7777777777777778, \"#fb9f3a\"], [0.8888888888888888, \"#fdca26\"], [1.0, \"#f0f921\"]], \"type\": \"surface\"}], \"table\": [{\"cells\": {\"fill\": {\"color\": \"#EBF0F8\"}, \"line\": {\"color\": \"white\"}}, \"header\": {\"fill\": {\"color\": \"#C8D4E3\"}, \"line\": {\"color\": \"white\"}}, \"type\": \"table\"}]}, \"layout\": {\"annotationdefaults\": {\"arrowcolor\": \"#2a3f5f\", \"arrowhead\": 0, \"arrowwidth\": 1}, \"coloraxis\": {\"colorbar\": {\"outlinewidth\": 0, \"ticks\": \"\"}}, \"colorscale\": {\"diverging\": [[0, \"#8e0152\"], [0.1, \"#c51b7d\"], [0.2, \"#de77ae\"], [0.3, \"#f1b6da\"], [0.4, \"#fde0ef\"], [0.5, \"#f7f7f7\"], [0.6, \"#e6f5d0\"], [0.7, \"#b8e186\"], [0.8, \"#7fbc41\"], [0.9, \"#4d9221\"], [1, \"#276419\"]], \"sequential\": [[0.0, \"#0d0887\"], [0.1111111111111111, \"#46039f\"], [0.2222222222222222, \"#7201a8\"], [0.3333333333333333, \"#9c179e\"], [0.4444444444444444, \"#bd3786\"], [0.5555555555555556, \"#d8576b\"], [0.6666666666666666, \"#ed7953\"], [0.7777777777777778, \"#fb9f3a\"], [0.8888888888888888, \"#fdca26\"], [1.0, \"#f0f921\"]], \"sequentialminus\": [[0.0, \"#0d0887\"], [0.1111111111111111, \"#46039f\"], [0.2222222222222222, \"#7201a8\"], [0.3333333333333333, \"#9c179e\"], [0.4444444444444444, \"#bd3786\"], [0.5555555555555556, \"#d8576b\"], [0.6666666666666666, \"#ed7953\"], [0.7777777777777778, \"#fb9f3a\"], [0.8888888888888888, \"#fdca26\"], [1.0, \"#f0f921\"]]}, \"colorway\": [\"#636efa\", \"#EF553B\", \"#00cc96\", \"#ab63fa\", \"#FFA15A\", \"#19d3f3\", \"#FF6692\", \"#B6E880\", \"#FF97FF\", \"#FECB52\"], \"font\": {\"color\": \"#2a3f5f\"}, \"geo\": {\"bgcolor\": \"white\", \"lakecolor\": \"white\", \"landcolor\": \"#E5ECF6\", \"showlakes\": true, \"showland\": true, \"subunitcolor\": \"white\"}, \"hoverlabel\": {\"align\": \"left\"}, \"hovermode\": \"closest\", \"mapbox\": {\"style\": \"light\"}, \"paper_bgcolor\": \"white\", \"plot_bgcolor\": \"#E5ECF6\", \"polar\": {\"angularaxis\": {\"gridcolor\": \"white\", \"linecolor\": \"white\", \"ticks\": \"\"}, \"bgcolor\": \"#E5ECF6\", \"radialaxis\": {\"gridcolor\": \"white\", \"linecolor\": \"white\", \"ticks\": \"\"}}, \"scene\": {\"xaxis\": {\"backgroundcolor\": \"#E5ECF6\", \"gridcolor\": \"white\", \"gridwidth\": 2, \"linecolor\": \"white\", \"showbackground\": true, \"ticks\": \"\", \"zerolinecolor\": \"white\"}, \"yaxis\": {\"backgroundcolor\": \"#E5ECF6\", \"gridcolor\": \"white\", \"gridwidth\": 2, \"linecolor\": \"white\", \"showbackground\": true, \"ticks\": \"\", \"zerolinecolor\": \"white\"}, \"zaxis\": {\"backgroundcolor\": \"#E5ECF6\", \"gridcolor\": \"white\", \"gridwidth\": 2, \"linecolor\": \"white\", \"showbackground\": true, \"ticks\": \"\", \"zerolinecolor\": \"white\"}}, \"shapedefaults\": {\"line\": {\"color\": \"#2a3f5f\"}}, \"ternary\": {\"aaxis\": {\"gridcolor\": \"white\", \"linecolor\": \"white\", \"ticks\": \"\"}, \"baxis\": {\"gridcolor\": \"white\", \"linecolor\": \"white\", \"ticks\": \"\"}, \"bgcolor\": \"#E5ECF6\", \"caxis\": {\"gridcolor\": \"white\", \"linecolor\": \"white\", \"ticks\": \"\"}}, \"title\": {\"x\": 0.05}, \"xaxis\": {\"automargin\": true, \"gridcolor\": \"white\", \"linecolor\": \"white\", \"ticks\": \"\", \"title\": {\"standoff\": 15}, \"zerolinecolor\": \"white\", \"zerolinewidth\": 2}, \"yaxis\": {\"automargin\": true, \"gridcolor\": \"white\", \"linecolor\": \"white\", \"ticks\": \"\", \"title\": {\"standoff\": 15}, \"zerolinecolor\": \"white\", \"zerolinewidth\": 2}}}, \"title\": {\"text\": \"Evolu\\u00e7\\u00e3o Nota Matem\\u00e1tica\"}, \"updatemenus\": [{\"buttons\": [{\"args\": [null, {\"frame\": {\"duration\": 500, \"redraw\": true}, \"fromcurrent\": true, \"mode\": \"immediate\", \"transition\": {\"duration\": 500, \"easing\": \"linear\"}}], \"label\": \"&#9654;\", \"method\": \"animate\"}, {\"args\": [[null], {\"frame\": {\"duration\": 0, \"redraw\": true}, \"fromcurrent\": true, \"mode\": \"immediate\", \"transition\": {\"duration\": 0, \"easing\": \"linear\"}}], \"label\": \"&#9724;\", \"method\": \"animate\"}], \"direction\": \"left\", \"pad\": {\"r\": 10, \"t\": 70}, \"showactive\": false, \"type\": \"buttons\", \"x\": 0.1, \"xanchor\": \"right\", \"y\": 0, \"yanchor\": \"top\"}]},\n",
       "                        {\"responsive\": true}\n",
       "                    ).then(function(){\n",
       "                            Plotly.addFrames('7603f354-a8a5-4937-9b8f-d8617b1cb943', [{\"data\": [{\"coloraxis\": \"coloraxis\", \"geo\": \"geo\", \"hovertemplate\": \"<b>%{hovertext}</b><br><br>Ano=2009<br>Pa\\u00eds=%{location}<br>Nota Matem\\u00e1tica=%{z}<extra></extra>\", \"hovertext\": [\"AUS\", \"BEL\", \"BRA\", \"CAN\", \"CHE\", \"CHL\", \"CZE\", \"DNK\", \"ESP\", \"EST\", \"FIN\", \"FRA\", \"GBR\", \"HUN\", \"IRL\", \"ISL\", \"ISR\", \"ITA\", \"JPN\", \"KOR\", \"LUX\", \"LVA\", \"MEX\", \"NLD\", \"NOR\", \"POL\", \"PRT\", \"RUS\", \"SVK\", \"SVN\", \"SWE\", \"TUR\", \"USA\"], \"locations\": [\"AUS\", \"BEL\", \"BRA\", \"CAN\", \"CHE\", \"CHL\", \"CZE\", \"DNK\", \"ESP\", \"EST\", \"FIN\", \"FRA\", \"GBR\", \"HUN\", \"IRL\", \"ISL\", \"ISR\", \"ITA\", \"JPN\", \"KOR\", \"LUX\", \"LVA\", \"MEX\", \"NLD\", \"NOR\", \"POL\", \"PRT\", \"RUS\", \"SVK\", \"SVN\", \"SWE\", \"TUR\", \"USA\"], \"name\": \"\", \"z\": [514.0, 515.0, 386.0, 527.0, 534.0, 421.0, 493.0, 503.0, 483.0, 512.0, 541.0, 497.0, 492.0, 490.0, 487.0, 507.0, 447.0, 483.0, 529.0, 546.0, 489.0, 482.0, 419.0, 526.0, 498.0, 495.0, 487.0, 468.0, 497.0, 501.0, 494.0, 445.0, 487.0], \"type\": \"choropleth\"}], \"name\": \"2009\"}, {\"data\": [{\"coloraxis\": \"coloraxis\", \"geo\": \"geo\", \"hovertemplate\": \"<b>%{hovertext}</b><br><br>Ano=2012<br>Pa\\u00eds=%{location}<br>Nota Matem\\u00e1tica=%{z}<extra></extra>\", \"hovertext\": [\"AUS\", \"AUT\", \"BEL\", \"BRA\", \"CAN\", \"CHE\", \"CHL\", \"CZE\", \"DEU\", \"DNK\", \"ESP\", \"EST\", \"FIN\", \"FRA\", \"GBR\", \"GRC\", \"HUN\", \"IDN\", \"IRL\", \"ISL\", \"ISR\", \"ITA\", \"JPN\", \"KOR\", \"LUX\", \"LVA\", \"MEX\", \"NLD\", \"NOR\", \"NZL\", \"POL\", \"PRT\", \"RUS\", \"SVK\", \"SVN\", \"SWE\", \"TUR\", \"USA\"], \"locations\": [\"AUS\", \"AUT\", \"BEL\", \"BRA\", \"CAN\", \"CHE\", \"CHL\", \"CZE\", \"DEU\", \"DNK\", \"ESP\", \"EST\", \"FIN\", \"FRA\", \"GBR\", \"GRC\", \"HUN\", \"IDN\", \"IRL\", \"ISL\", \"ISR\", \"ITA\", \"JPN\", \"KOR\", \"LUX\", \"LVA\", \"MEX\", \"NLD\", \"NOR\", \"NZL\", \"POL\", \"PRT\", \"RUS\", \"SVK\", \"SVN\", \"SWE\", \"TUR\", \"USA\"], \"name\": \"\", \"z\": [504.0, 506.0, 515.0, 389.0, 518.0, 531.0, 423.0, 499.0, 514.0, 500.0, 484.0, 521.0, 519.0, 495.0, 494.0, 453.0, 477.0, 375.0, 501.0, 493.0, 466.0, 485.0, 536.0, 554.0, 490.0, 491.0, 413.0, 523.0, 489.0, 500.0, 518.0, 487.0, 482.0, 482.0, 501.0, 478.0, 448.0, 481.0], \"type\": \"choropleth\"}], \"name\": \"2012\"}, {\"data\": [{\"coloraxis\": \"coloraxis\", \"geo\": \"geo\", \"hovertemplate\": \"<b>%{hovertext}</b><br><br>Ano=2015<br>Pa\\u00eds=%{location}<br>Nota Matem\\u00e1tica=%{z}<extra></extra>\", \"hovertext\": [\"AUS\", \"AUT\", \"BEL\", \"BRA\", \"CAN\", \"CHE\", \"CHL\", \"COL\", \"CZE\", \"DEU\", \"ESP\", \"EST\", \"FIN\", \"FRA\", \"GBR\", \"GRC\", \"HUN\", \"IDN\", \"IRL\", \"ISL\", \"ISR\", \"ITA\", \"JPN\", \"KOR\", \"LUX\", \"LVA\", \"MEX\", \"NLD\", \"NOR\", \"NZL\", \"POL\", \"PRT\", \"SVK\", \"SVN\", \"SWE\", \"TUR\", \"USA\"], \"locations\": [\"AUS\", \"AUT\", \"BEL\", \"BRA\", \"CAN\", \"CHE\", \"CHL\", \"COL\", \"CZE\", \"DEU\", \"ESP\", \"EST\", \"FIN\", \"FRA\", \"GBR\", \"GRC\", \"HUN\", \"IDN\", \"IRL\", \"ISL\", \"ISR\", \"ITA\", \"JPN\", \"KOR\", \"LUX\", \"LVA\", \"MEX\", \"NLD\", \"NOR\", \"NZL\", \"POL\", \"PRT\", \"SVK\", \"SVN\", \"SWE\", \"TUR\", \"USA\"], \"name\": \"\", \"z\": [494.0, 497.0, 507.0, 377.0, 516.0, 521.0, 423.0, 390.0, 492.0, 506.0, 486.0, 520.0, 511.0, 493.0, 492.0, 454.0, 477.0, 386.0, 504.0, 488.0, 470.0, 490.0, 532.0, 524.0, 486.0, 482.0, 408.0, 512.0, 502.0, 495.0, 504.0, 492.0, 475.0, 510.0, 494.0, 420.0, 470.0], \"type\": \"choropleth\"}], \"name\": \"2015\"}]);\n",
       "                        }).then(function(){\n",
       "                            \n",
       "var gd = document.getElementById('7603f354-a8a5-4937-9b8f-d8617b1cb943');\n",
       "var x = new MutationObserver(function (mutations, observer) {{\n",
       "        var display = window.getComputedStyle(gd).display;\n",
       "        if (!display || display === 'none') {{\n",
       "            console.log([gd, 'removed!']);\n",
       "            Plotly.purge(gd);\n",
       "            observer.disconnect();\n",
       "        }}\n",
       "}});\n",
       "\n",
       "// Listen for the removal of the full notebook cells\n",
       "var notebookContainer = gd.closest('#notebook-container');\n",
       "if (notebookContainer) {{\n",
       "    x.observe(notebookContainer, {childList: true});\n",
       "}}\n",
       "\n",
       "// Listen for the clearing of the current output cell\n",
       "var outputEl = gd.closest('.output');\n",
       "if (outputEl) {{\n",
       "    x.observe(outputEl, {childList: true});\n",
       "}}\n",
       "\n",
       "                        })\n",
       "                };\n",
       "                });\n",
       "            </script>\n",
       "        </div>"
      ]
     },
     "metadata": {},
     "output_type": "display_data"
    }
   ],
   "source": [
    "geograficos_que_precisam_de_tratamento('Nota Matemática')"
   ]
  },
  {
   "cell_type": "code",
   "execution_count": 67,
   "metadata": {},
   "outputs": [
    {
     "data": {
      "application/vnd.plotly.v1+json": {
       "config": {
        "plotlyServerURL": "https://plot.ly"
       },
       "data": [
        {
         "coloraxis": "coloraxis",
         "geo": "geo",
         "hovertemplate": "<b>%{hovertext}</b><br><br>Ano=2009<br>País=%{location}<br>Nota Leitura=%{z}<extra></extra>",
         "hovertext": [
          "AUS",
          "BEL",
          "BRA",
          "CAN",
          "CHE",
          "CHL",
          "CZE",
          "DNK",
          "ESP",
          "EST",
          "FIN",
          "FRA",
          "GBR",
          "HUN",
          "IRL",
          "ISL",
          "ISR",
          "ITA",
          "JPN",
          "KOR",
          "LUX",
          "LVA",
          "MEX",
          "NLD",
          "NOR",
          "POL",
          "PRT",
          "RUS",
          "SVK",
          "SVN",
          "SWE",
          "TUR",
          "USA"
         ],
         "locations": [
          "AUS",
          "BEL",
          "BRA",
          "CAN",
          "CHE",
          "CHL",
          "CZE",
          "DNK",
          "ESP",
          "EST",
          "FIN",
          "FRA",
          "GBR",
          "HUN",
          "IRL",
          "ISL",
          "ISR",
          "ITA",
          "JPN",
          "KOR",
          "LUX",
          "LVA",
          "MEX",
          "NLD",
          "NOR",
          "POL",
          "PRT",
          "RUS",
          "SVK",
          "SVN",
          "SWE",
          "TUR",
          "USA"
         ],
         "name": "",
         "type": "choropleth",
         "z": [
          515,
          506,
          412,
          524,
          501,
          449,
          478,
          495,
          481,
          501,
          536,
          496,
          494,
          494,
          496,
          500,
          474,
          486,
          520,
          539,
          472,
          484,
          425,
          508,
          503,
          500,
          489,
          459,
          477,
          483,
          497,
          464,
          500
         ]
        }
       ],
       "frames": [
        {
         "data": [
          {
           "coloraxis": "coloraxis",
           "geo": "geo",
           "hovertemplate": "<b>%{hovertext}</b><br><br>Ano=2009<br>País=%{location}<br>Nota Leitura=%{z}<extra></extra>",
           "hovertext": [
            "AUS",
            "BEL",
            "BRA",
            "CAN",
            "CHE",
            "CHL",
            "CZE",
            "DNK",
            "ESP",
            "EST",
            "FIN",
            "FRA",
            "GBR",
            "HUN",
            "IRL",
            "ISL",
            "ISR",
            "ITA",
            "JPN",
            "KOR",
            "LUX",
            "LVA",
            "MEX",
            "NLD",
            "NOR",
            "POL",
            "PRT",
            "RUS",
            "SVK",
            "SVN",
            "SWE",
            "TUR",
            "USA"
           ],
           "locations": [
            "AUS",
            "BEL",
            "BRA",
            "CAN",
            "CHE",
            "CHL",
            "CZE",
            "DNK",
            "ESP",
            "EST",
            "FIN",
            "FRA",
            "GBR",
            "HUN",
            "IRL",
            "ISL",
            "ISR",
            "ITA",
            "JPN",
            "KOR",
            "LUX",
            "LVA",
            "MEX",
            "NLD",
            "NOR",
            "POL",
            "PRT",
            "RUS",
            "SVK",
            "SVN",
            "SWE",
            "TUR",
            "USA"
           ],
           "name": "",
           "type": "choropleth",
           "z": [
            515,
            506,
            412,
            524,
            501,
            449,
            478,
            495,
            481,
            501,
            536,
            496,
            494,
            494,
            496,
            500,
            474,
            486,
            520,
            539,
            472,
            484,
            425,
            508,
            503,
            500,
            489,
            459,
            477,
            483,
            497,
            464,
            500
           ]
          }
         ],
         "name": "2009"
        },
        {
         "data": [
          {
           "coloraxis": "coloraxis",
           "geo": "geo",
           "hovertemplate": "<b>%{hovertext}</b><br><br>Ano=2012<br>País=%{location}<br>Nota Leitura=%{z}<extra></extra>",
           "hovertext": [
            "AUS",
            "AUT",
            "BEL",
            "BRA",
            "CAN",
            "CHE",
            "CHL",
            "CZE",
            "DEU",
            "DNK",
            "ESP",
            "EST",
            "FIN",
            "FRA",
            "GBR",
            "GRC",
            "HUN",
            "IDN",
            "IRL",
            "ISL",
            "ISR",
            "ITA",
            "JPN",
            "KOR",
            "LUX",
            "LVA",
            "MEX",
            "NLD",
            "NOR",
            "NZL",
            "POL",
            "PRT",
            "RUS",
            "SVK",
            "SVN",
            "SWE",
            "TUR",
            "USA"
           ],
           "locations": [
            "AUS",
            "AUT",
            "BEL",
            "BRA",
            "CAN",
            "CHE",
            "CHL",
            "CZE",
            "DEU",
            "DNK",
            "ESP",
            "EST",
            "FIN",
            "FRA",
            "GBR",
            "GRC",
            "HUN",
            "IDN",
            "IRL",
            "ISL",
            "ISR",
            "ITA",
            "JPN",
            "KOR",
            "LUX",
            "LVA",
            "MEX",
            "NLD",
            "NOR",
            "NZL",
            "POL",
            "PRT",
            "RUS",
            "SVK",
            "SVN",
            "SWE",
            "TUR",
            "USA"
           ],
           "name": "",
           "type": "choropleth",
           "z": [
            512,
            490,
            509,
            407,
            523,
            509,
            441,
            493,
            508,
            496,
            488,
            516,
            524,
            505,
            499,
            477,
            488,
            396,
            523,
            483,
            486,
            490,
            538,
            536,
            488,
            489,
            424,
            511,
            504,
            512,
            518,
            488,
            475,
            463,
            481,
            483,
            475,
            498
           ]
          }
         ],
         "name": "2012"
        },
        {
         "data": [
          {
           "coloraxis": "coloraxis",
           "geo": "geo",
           "hovertemplate": "<b>%{hovertext}</b><br><br>Ano=2015<br>País=%{location}<br>Nota Leitura=%{z}<extra></extra>",
           "hovertext": [
            "AUS",
            "AUT",
            "BEL",
            "BRA",
            "CAN",
            "CHE",
            "CHL",
            "COL",
            "CZE",
            "DEU",
            "ESP",
            "EST",
            "FIN",
            "FRA",
            "GBR",
            "GRC",
            "HUN",
            "IDN",
            "IRL",
            "ISL",
            "ISR",
            "ITA",
            "JPN",
            "KOR",
            "LUX",
            "LVA",
            "MEX",
            "NLD",
            "NOR",
            "NZL",
            "POL",
            "PRT",
            "SVK",
            "SVN",
            "SWE",
            "TUR",
            "USA"
           ],
           "locations": [
            "AUS",
            "AUT",
            "BEL",
            "BRA",
            "CAN",
            "CHE",
            "CHL",
            "COL",
            "CZE",
            "DEU",
            "ESP",
            "EST",
            "FIN",
            "FRA",
            "GBR",
            "GRC",
            "HUN",
            "IDN",
            "IRL",
            "ISL",
            "ISR",
            "ITA",
            "JPN",
            "KOR",
            "LUX",
            "LVA",
            "MEX",
            "NLD",
            "NOR",
            "NZL",
            "POL",
            "PRT",
            "SVK",
            "SVN",
            "SWE",
            "TUR",
            "USA"
           ],
           "name": "",
           "type": "choropleth",
           "z": [
            503,
            485,
            499,
            407,
            527,
            492,
            459,
            425,
            487,
            509,
            496,
            519,
            526,
            499,
            498,
            467,
            470,
            397,
            521,
            482,
            479,
            485,
            516,
            517,
            481,
            488,
            423,
            503,
            513,
            509,
            506,
            498,
            453,
            505,
            500,
            428,
            497
           ]
          }
         ],
         "name": "2015"
        }
       ],
       "layout": {
        "coloraxis": {
         "colorbar": {
          "title": {
           "text": "Nota Leitura"
          }
         },
         "colorscale": [
          [
           0,
           "#440154"
          ],
          [
           0.1111111111111111,
           "#482878"
          ],
          [
           0.2222222222222222,
           "#3e4989"
          ],
          [
           0.3333333333333333,
           "#31688e"
          ],
          [
           0.4444444444444444,
           "#26828e"
          ],
          [
           0.5555555555555556,
           "#1f9e89"
          ],
          [
           0.6666666666666666,
           "#35b779"
          ],
          [
           0.7777777777777778,
           "#6ece58"
          ],
          [
           0.8888888888888888,
           "#b5de2b"
          ],
          [
           1,
           "#fde725"
          ]
         ]
        },
        "geo": {
         "center": {},
         "domain": {
          "x": [
           0,
           1
          ],
          "y": [
           0,
           1
          ]
         },
         "projection": {
          "type": "natural earth"
         }
        },
        "legend": {
         "tracegroupgap": 0
        },
        "sliders": [
         {
          "active": 0,
          "currentvalue": {
           "prefix": "Ano="
          },
          "len": 0.9,
          "pad": {
           "b": 10,
           "t": 60
          },
          "steps": [
           {
            "args": [
             [
              "2009"
             ],
             {
              "frame": {
               "duration": 0,
               "redraw": true
              },
              "fromcurrent": true,
              "mode": "immediate",
              "transition": {
               "duration": 0,
               "easing": "linear"
              }
             }
            ],
            "label": "2009",
            "method": "animate"
           },
           {
            "args": [
             [
              "2012"
             ],
             {
              "frame": {
               "duration": 0,
               "redraw": true
              },
              "fromcurrent": true,
              "mode": "immediate",
              "transition": {
               "duration": 0,
               "easing": "linear"
              }
             }
            ],
            "label": "2012",
            "method": "animate"
           },
           {
            "args": [
             [
              "2015"
             ],
             {
              "frame": {
               "duration": 0,
               "redraw": true
              },
              "fromcurrent": true,
              "mode": "immediate",
              "transition": {
               "duration": 0,
               "easing": "linear"
              }
             }
            ],
            "label": "2015",
            "method": "animate"
           }
          ],
          "x": 0.1,
          "xanchor": "left",
          "y": 0,
          "yanchor": "top"
         }
        ],
        "template": {
         "data": {
          "bar": [
           {
            "error_x": {
             "color": "#2a3f5f"
            },
            "error_y": {
             "color": "#2a3f5f"
            },
            "marker": {
             "line": {
              "color": "#E5ECF6",
              "width": 0.5
             }
            },
            "type": "bar"
           }
          ],
          "barpolar": [
           {
            "marker": {
             "line": {
              "color": "#E5ECF6",
              "width": 0.5
             }
            },
            "type": "barpolar"
           }
          ],
          "carpet": [
           {
            "aaxis": {
             "endlinecolor": "#2a3f5f",
             "gridcolor": "white",
             "linecolor": "white",
             "minorgridcolor": "white",
             "startlinecolor": "#2a3f5f"
            },
            "baxis": {
             "endlinecolor": "#2a3f5f",
             "gridcolor": "white",
             "linecolor": "white",
             "minorgridcolor": "white",
             "startlinecolor": "#2a3f5f"
            },
            "type": "carpet"
           }
          ],
          "choropleth": [
           {
            "colorbar": {
             "outlinewidth": 0,
             "ticks": ""
            },
            "type": "choropleth"
           }
          ],
          "contour": [
           {
            "colorbar": {
             "outlinewidth": 0,
             "ticks": ""
            },
            "colorscale": [
             [
              0,
              "#0d0887"
             ],
             [
              0.1111111111111111,
              "#46039f"
             ],
             [
              0.2222222222222222,
              "#7201a8"
             ],
             [
              0.3333333333333333,
              "#9c179e"
             ],
             [
              0.4444444444444444,
              "#bd3786"
             ],
             [
              0.5555555555555556,
              "#d8576b"
             ],
             [
              0.6666666666666666,
              "#ed7953"
             ],
             [
              0.7777777777777778,
              "#fb9f3a"
             ],
             [
              0.8888888888888888,
              "#fdca26"
             ],
             [
              1,
              "#f0f921"
             ]
            ],
            "type": "contour"
           }
          ],
          "contourcarpet": [
           {
            "colorbar": {
             "outlinewidth": 0,
             "ticks": ""
            },
            "type": "contourcarpet"
           }
          ],
          "heatmap": [
           {
            "colorbar": {
             "outlinewidth": 0,
             "ticks": ""
            },
            "colorscale": [
             [
              0,
              "#0d0887"
             ],
             [
              0.1111111111111111,
              "#46039f"
             ],
             [
              0.2222222222222222,
              "#7201a8"
             ],
             [
              0.3333333333333333,
              "#9c179e"
             ],
             [
              0.4444444444444444,
              "#bd3786"
             ],
             [
              0.5555555555555556,
              "#d8576b"
             ],
             [
              0.6666666666666666,
              "#ed7953"
             ],
             [
              0.7777777777777778,
              "#fb9f3a"
             ],
             [
              0.8888888888888888,
              "#fdca26"
             ],
             [
              1,
              "#f0f921"
             ]
            ],
            "type": "heatmap"
           }
          ],
          "heatmapgl": [
           {
            "colorbar": {
             "outlinewidth": 0,
             "ticks": ""
            },
            "colorscale": [
             [
              0,
              "#0d0887"
             ],
             [
              0.1111111111111111,
              "#46039f"
             ],
             [
              0.2222222222222222,
              "#7201a8"
             ],
             [
              0.3333333333333333,
              "#9c179e"
             ],
             [
              0.4444444444444444,
              "#bd3786"
             ],
             [
              0.5555555555555556,
              "#d8576b"
             ],
             [
              0.6666666666666666,
              "#ed7953"
             ],
             [
              0.7777777777777778,
              "#fb9f3a"
             ],
             [
              0.8888888888888888,
              "#fdca26"
             ],
             [
              1,
              "#f0f921"
             ]
            ],
            "type": "heatmapgl"
           }
          ],
          "histogram": [
           {
            "marker": {
             "colorbar": {
              "outlinewidth": 0,
              "ticks": ""
             }
            },
            "type": "histogram"
           }
          ],
          "histogram2d": [
           {
            "colorbar": {
             "outlinewidth": 0,
             "ticks": ""
            },
            "colorscale": [
             [
              0,
              "#0d0887"
             ],
             [
              0.1111111111111111,
              "#46039f"
             ],
             [
              0.2222222222222222,
              "#7201a8"
             ],
             [
              0.3333333333333333,
              "#9c179e"
             ],
             [
              0.4444444444444444,
              "#bd3786"
             ],
             [
              0.5555555555555556,
              "#d8576b"
             ],
             [
              0.6666666666666666,
              "#ed7953"
             ],
             [
              0.7777777777777778,
              "#fb9f3a"
             ],
             [
              0.8888888888888888,
              "#fdca26"
             ],
             [
              1,
              "#f0f921"
             ]
            ],
            "type": "histogram2d"
           }
          ],
          "histogram2dcontour": [
           {
            "colorbar": {
             "outlinewidth": 0,
             "ticks": ""
            },
            "colorscale": [
             [
              0,
              "#0d0887"
             ],
             [
              0.1111111111111111,
              "#46039f"
             ],
             [
              0.2222222222222222,
              "#7201a8"
             ],
             [
              0.3333333333333333,
              "#9c179e"
             ],
             [
              0.4444444444444444,
              "#bd3786"
             ],
             [
              0.5555555555555556,
              "#d8576b"
             ],
             [
              0.6666666666666666,
              "#ed7953"
             ],
             [
              0.7777777777777778,
              "#fb9f3a"
             ],
             [
              0.8888888888888888,
              "#fdca26"
             ],
             [
              1,
              "#f0f921"
             ]
            ],
            "type": "histogram2dcontour"
           }
          ],
          "mesh3d": [
           {
            "colorbar": {
             "outlinewidth": 0,
             "ticks": ""
            },
            "type": "mesh3d"
           }
          ],
          "parcoords": [
           {
            "line": {
             "colorbar": {
              "outlinewidth": 0,
              "ticks": ""
             }
            },
            "type": "parcoords"
           }
          ],
          "pie": [
           {
            "automargin": true,
            "type": "pie"
           }
          ],
          "scatter": [
           {
            "marker": {
             "colorbar": {
              "outlinewidth": 0,
              "ticks": ""
             }
            },
            "type": "scatter"
           }
          ],
          "scatter3d": [
           {
            "line": {
             "colorbar": {
              "outlinewidth": 0,
              "ticks": ""
             }
            },
            "marker": {
             "colorbar": {
              "outlinewidth": 0,
              "ticks": ""
             }
            },
            "type": "scatter3d"
           }
          ],
          "scattercarpet": [
           {
            "marker": {
             "colorbar": {
              "outlinewidth": 0,
              "ticks": ""
             }
            },
            "type": "scattercarpet"
           }
          ],
          "scattergeo": [
           {
            "marker": {
             "colorbar": {
              "outlinewidth": 0,
              "ticks": ""
             }
            },
            "type": "scattergeo"
           }
          ],
          "scattergl": [
           {
            "marker": {
             "colorbar": {
              "outlinewidth": 0,
              "ticks": ""
             }
            },
            "type": "scattergl"
           }
          ],
          "scattermapbox": [
           {
            "marker": {
             "colorbar": {
              "outlinewidth": 0,
              "ticks": ""
             }
            },
            "type": "scattermapbox"
           }
          ],
          "scatterpolar": [
           {
            "marker": {
             "colorbar": {
              "outlinewidth": 0,
              "ticks": ""
             }
            },
            "type": "scatterpolar"
           }
          ],
          "scatterpolargl": [
           {
            "marker": {
             "colorbar": {
              "outlinewidth": 0,
              "ticks": ""
             }
            },
            "type": "scatterpolargl"
           }
          ],
          "scatterternary": [
           {
            "marker": {
             "colorbar": {
              "outlinewidth": 0,
              "ticks": ""
             }
            },
            "type": "scatterternary"
           }
          ],
          "surface": [
           {
            "colorbar": {
             "outlinewidth": 0,
             "ticks": ""
            },
            "colorscale": [
             [
              0,
              "#0d0887"
             ],
             [
              0.1111111111111111,
              "#46039f"
             ],
             [
              0.2222222222222222,
              "#7201a8"
             ],
             [
              0.3333333333333333,
              "#9c179e"
             ],
             [
              0.4444444444444444,
              "#bd3786"
             ],
             [
              0.5555555555555556,
              "#d8576b"
             ],
             [
              0.6666666666666666,
              "#ed7953"
             ],
             [
              0.7777777777777778,
              "#fb9f3a"
             ],
             [
              0.8888888888888888,
              "#fdca26"
             ],
             [
              1,
              "#f0f921"
             ]
            ],
            "type": "surface"
           }
          ],
          "table": [
           {
            "cells": {
             "fill": {
              "color": "#EBF0F8"
             },
             "line": {
              "color": "white"
             }
            },
            "header": {
             "fill": {
              "color": "#C8D4E3"
             },
             "line": {
              "color": "white"
             }
            },
            "type": "table"
           }
          ]
         },
         "layout": {
          "annotationdefaults": {
           "arrowcolor": "#2a3f5f",
           "arrowhead": 0,
           "arrowwidth": 1
          },
          "coloraxis": {
           "colorbar": {
            "outlinewidth": 0,
            "ticks": ""
           }
          },
          "colorscale": {
           "diverging": [
            [
             0,
             "#8e0152"
            ],
            [
             0.1,
             "#c51b7d"
            ],
            [
             0.2,
             "#de77ae"
            ],
            [
             0.3,
             "#f1b6da"
            ],
            [
             0.4,
             "#fde0ef"
            ],
            [
             0.5,
             "#f7f7f7"
            ],
            [
             0.6,
             "#e6f5d0"
            ],
            [
             0.7,
             "#b8e186"
            ],
            [
             0.8,
             "#7fbc41"
            ],
            [
             0.9,
             "#4d9221"
            ],
            [
             1,
             "#276419"
            ]
           ],
           "sequential": [
            [
             0,
             "#0d0887"
            ],
            [
             0.1111111111111111,
             "#46039f"
            ],
            [
             0.2222222222222222,
             "#7201a8"
            ],
            [
             0.3333333333333333,
             "#9c179e"
            ],
            [
             0.4444444444444444,
             "#bd3786"
            ],
            [
             0.5555555555555556,
             "#d8576b"
            ],
            [
             0.6666666666666666,
             "#ed7953"
            ],
            [
             0.7777777777777778,
             "#fb9f3a"
            ],
            [
             0.8888888888888888,
             "#fdca26"
            ],
            [
             1,
             "#f0f921"
            ]
           ],
           "sequentialminus": [
            [
             0,
             "#0d0887"
            ],
            [
             0.1111111111111111,
             "#46039f"
            ],
            [
             0.2222222222222222,
             "#7201a8"
            ],
            [
             0.3333333333333333,
             "#9c179e"
            ],
            [
             0.4444444444444444,
             "#bd3786"
            ],
            [
             0.5555555555555556,
             "#d8576b"
            ],
            [
             0.6666666666666666,
             "#ed7953"
            ],
            [
             0.7777777777777778,
             "#fb9f3a"
            ],
            [
             0.8888888888888888,
             "#fdca26"
            ],
            [
             1,
             "#f0f921"
            ]
           ]
          },
          "colorway": [
           "#636efa",
           "#EF553B",
           "#00cc96",
           "#ab63fa",
           "#FFA15A",
           "#19d3f3",
           "#FF6692",
           "#B6E880",
           "#FF97FF",
           "#FECB52"
          ],
          "font": {
           "color": "#2a3f5f"
          },
          "geo": {
           "bgcolor": "white",
           "lakecolor": "white",
           "landcolor": "#E5ECF6",
           "showlakes": true,
           "showland": true,
           "subunitcolor": "white"
          },
          "hoverlabel": {
           "align": "left"
          },
          "hovermode": "closest",
          "mapbox": {
           "style": "light"
          },
          "paper_bgcolor": "white",
          "plot_bgcolor": "#E5ECF6",
          "polar": {
           "angularaxis": {
            "gridcolor": "white",
            "linecolor": "white",
            "ticks": ""
           },
           "bgcolor": "#E5ECF6",
           "radialaxis": {
            "gridcolor": "white",
            "linecolor": "white",
            "ticks": ""
           }
          },
          "scene": {
           "xaxis": {
            "backgroundcolor": "#E5ECF6",
            "gridcolor": "white",
            "gridwidth": 2,
            "linecolor": "white",
            "showbackground": true,
            "ticks": "",
            "zerolinecolor": "white"
           },
           "yaxis": {
            "backgroundcolor": "#E5ECF6",
            "gridcolor": "white",
            "gridwidth": 2,
            "linecolor": "white",
            "showbackground": true,
            "ticks": "",
            "zerolinecolor": "white"
           },
           "zaxis": {
            "backgroundcolor": "#E5ECF6",
            "gridcolor": "white",
            "gridwidth": 2,
            "linecolor": "white",
            "showbackground": true,
            "ticks": "",
            "zerolinecolor": "white"
           }
          },
          "shapedefaults": {
           "line": {
            "color": "#2a3f5f"
           }
          },
          "ternary": {
           "aaxis": {
            "gridcolor": "white",
            "linecolor": "white",
            "ticks": ""
           },
           "baxis": {
            "gridcolor": "white",
            "linecolor": "white",
            "ticks": ""
           },
           "bgcolor": "#E5ECF6",
           "caxis": {
            "gridcolor": "white",
            "linecolor": "white",
            "ticks": ""
           }
          },
          "title": {
           "x": 0.05
          },
          "xaxis": {
           "automargin": true,
           "gridcolor": "white",
           "linecolor": "white",
           "ticks": "",
           "title": {
            "standoff": 15
           },
           "zerolinecolor": "white",
           "zerolinewidth": 2
          },
          "yaxis": {
           "automargin": true,
           "gridcolor": "white",
           "linecolor": "white",
           "ticks": "",
           "title": {
            "standoff": 15
           },
           "zerolinecolor": "white",
           "zerolinewidth": 2
          }
         }
        },
        "title": {
         "text": "Evolução Nota Leitura"
        },
        "updatemenus": [
         {
          "buttons": [
           {
            "args": [
             null,
             {
              "frame": {
               "duration": 500,
               "redraw": true
              },
              "fromcurrent": true,
              "mode": "immediate",
              "transition": {
               "duration": 500,
               "easing": "linear"
              }
             }
            ],
            "label": "&#9654;",
            "method": "animate"
           },
           {
            "args": [
             [
              null
             ],
             {
              "frame": {
               "duration": 0,
               "redraw": true
              },
              "fromcurrent": true,
              "mode": "immediate",
              "transition": {
               "duration": 0,
               "easing": "linear"
              }
             }
            ],
            "label": "&#9724;",
            "method": "animate"
           }
          ],
          "direction": "left",
          "pad": {
           "r": 10,
           "t": 70
          },
          "showactive": false,
          "type": "buttons",
          "x": 0.1,
          "xanchor": "right",
          "y": 0,
          "yanchor": "top"
         }
        ]
       }
      },
      "text/html": [
       "<div>\n",
       "        \n",
       "        \n",
       "            <div id=\"690ee281-e8e3-438c-b1c1-4f9e7b3e32c4\" class=\"plotly-graph-div\" style=\"height:525px; width:100%;\"></div>\n",
       "            <script type=\"text/javascript\">\n",
       "                require([\"plotly\"], function(Plotly) {\n",
       "                    window.PLOTLYENV=window.PLOTLYENV || {};\n",
       "                    \n",
       "                if (document.getElementById(\"690ee281-e8e3-438c-b1c1-4f9e7b3e32c4\")) {\n",
       "                    Plotly.newPlot(\n",
       "                        '690ee281-e8e3-438c-b1c1-4f9e7b3e32c4',\n",
       "                        [{\"coloraxis\": \"coloraxis\", \"geo\": \"geo\", \"hovertemplate\": \"<b>%{hovertext}</b><br><br>Ano=2009<br>Pa\\u00eds=%{location}<br>Nota Leitura=%{z}<extra></extra>\", \"hovertext\": [\"AUS\", \"BEL\", \"BRA\", \"CAN\", \"CHE\", \"CHL\", \"CZE\", \"DNK\", \"ESP\", \"EST\", \"FIN\", \"FRA\", \"GBR\", \"HUN\", \"IRL\", \"ISL\", \"ISR\", \"ITA\", \"JPN\", \"KOR\", \"LUX\", \"LVA\", \"MEX\", \"NLD\", \"NOR\", \"POL\", \"PRT\", \"RUS\", \"SVK\", \"SVN\", \"SWE\", \"TUR\", \"USA\"], \"locations\": [\"AUS\", \"BEL\", \"BRA\", \"CAN\", \"CHE\", \"CHL\", \"CZE\", \"DNK\", \"ESP\", \"EST\", \"FIN\", \"FRA\", \"GBR\", \"HUN\", \"IRL\", \"ISL\", \"ISR\", \"ITA\", \"JPN\", \"KOR\", \"LUX\", \"LVA\", \"MEX\", \"NLD\", \"NOR\", \"POL\", \"PRT\", \"RUS\", \"SVK\", \"SVN\", \"SWE\", \"TUR\", \"USA\"], \"name\": \"\", \"type\": \"choropleth\", \"z\": [515.0, 506.0, 412.0, 524.0, 501.0, 449.0, 478.0, 495.0, 481.0, 501.0, 536.0, 496.0, 494.0, 494.0, 496.0, 500.0, 474.0, 486.0, 520.0, 539.0, 472.0, 484.0, 425.0, 508.0, 503.0, 500.0, 489.0, 459.0, 477.0, 483.0, 497.0, 464.0, 500.0]}],\n",
       "                        {\"coloraxis\": {\"colorbar\": {\"title\": {\"text\": \"Nota Leitura\"}}, \"colorscale\": [[0.0, \"#440154\"], [0.1111111111111111, \"#482878\"], [0.2222222222222222, \"#3e4989\"], [0.3333333333333333, \"#31688e\"], [0.4444444444444444, \"#26828e\"], [0.5555555555555556, \"#1f9e89\"], [0.6666666666666666, \"#35b779\"], [0.7777777777777778, \"#6ece58\"], [0.8888888888888888, \"#b5de2b\"], [1.0, \"#fde725\"]]}, \"geo\": {\"center\": {}, \"domain\": {\"x\": [0.0, 1.0], \"y\": [0.0, 1.0]}, \"projection\": {\"type\": \"natural earth\"}}, \"legend\": {\"tracegroupgap\": 0}, \"sliders\": [{\"active\": 0, \"currentvalue\": {\"prefix\": \"Ano=\"}, \"len\": 0.9, \"pad\": {\"b\": 10, \"t\": 60}, \"steps\": [{\"args\": [[\"2009\"], {\"frame\": {\"duration\": 0, \"redraw\": true}, \"fromcurrent\": true, \"mode\": \"immediate\", \"transition\": {\"duration\": 0, \"easing\": \"linear\"}}], \"label\": \"2009\", \"method\": \"animate\"}, {\"args\": [[\"2012\"], {\"frame\": {\"duration\": 0, \"redraw\": true}, \"fromcurrent\": true, \"mode\": \"immediate\", \"transition\": {\"duration\": 0, \"easing\": \"linear\"}}], \"label\": \"2012\", \"method\": \"animate\"}, {\"args\": [[\"2015\"], {\"frame\": {\"duration\": 0, \"redraw\": true}, \"fromcurrent\": true, \"mode\": \"immediate\", \"transition\": {\"duration\": 0, \"easing\": \"linear\"}}], \"label\": \"2015\", \"method\": \"animate\"}], \"x\": 0.1, \"xanchor\": \"left\", \"y\": 0, \"yanchor\": \"top\"}], \"template\": {\"data\": {\"bar\": [{\"error_x\": {\"color\": \"#2a3f5f\"}, \"error_y\": {\"color\": \"#2a3f5f\"}, \"marker\": {\"line\": {\"color\": \"#E5ECF6\", \"width\": 0.5}}, \"type\": \"bar\"}], \"barpolar\": [{\"marker\": {\"line\": {\"color\": \"#E5ECF6\", \"width\": 0.5}}, \"type\": \"barpolar\"}], \"carpet\": [{\"aaxis\": {\"endlinecolor\": \"#2a3f5f\", \"gridcolor\": \"white\", \"linecolor\": \"white\", \"minorgridcolor\": \"white\", \"startlinecolor\": \"#2a3f5f\"}, \"baxis\": {\"endlinecolor\": \"#2a3f5f\", \"gridcolor\": \"white\", \"linecolor\": \"white\", \"minorgridcolor\": \"white\", \"startlinecolor\": \"#2a3f5f\"}, \"type\": \"carpet\"}], \"choropleth\": [{\"colorbar\": {\"outlinewidth\": 0, \"ticks\": \"\"}, \"type\": \"choropleth\"}], \"contour\": [{\"colorbar\": {\"outlinewidth\": 0, \"ticks\": \"\"}, \"colorscale\": [[0.0, \"#0d0887\"], [0.1111111111111111, \"#46039f\"], [0.2222222222222222, \"#7201a8\"], [0.3333333333333333, \"#9c179e\"], [0.4444444444444444, \"#bd3786\"], [0.5555555555555556, \"#d8576b\"], [0.6666666666666666, \"#ed7953\"], [0.7777777777777778, \"#fb9f3a\"], [0.8888888888888888, \"#fdca26\"], [1.0, \"#f0f921\"]], \"type\": \"contour\"}], \"contourcarpet\": [{\"colorbar\": {\"outlinewidth\": 0, \"ticks\": \"\"}, \"type\": \"contourcarpet\"}], \"heatmap\": [{\"colorbar\": {\"outlinewidth\": 0, \"ticks\": \"\"}, \"colorscale\": [[0.0, \"#0d0887\"], [0.1111111111111111, \"#46039f\"], [0.2222222222222222, \"#7201a8\"], [0.3333333333333333, \"#9c179e\"], [0.4444444444444444, \"#bd3786\"], [0.5555555555555556, \"#d8576b\"], [0.6666666666666666, \"#ed7953\"], [0.7777777777777778, \"#fb9f3a\"], [0.8888888888888888, \"#fdca26\"], [1.0, \"#f0f921\"]], \"type\": \"heatmap\"}], \"heatmapgl\": [{\"colorbar\": {\"outlinewidth\": 0, \"ticks\": \"\"}, \"colorscale\": [[0.0, \"#0d0887\"], [0.1111111111111111, \"#46039f\"], [0.2222222222222222, \"#7201a8\"], [0.3333333333333333, \"#9c179e\"], [0.4444444444444444, \"#bd3786\"], [0.5555555555555556, \"#d8576b\"], [0.6666666666666666, \"#ed7953\"], [0.7777777777777778, \"#fb9f3a\"], [0.8888888888888888, \"#fdca26\"], [1.0, \"#f0f921\"]], \"type\": \"heatmapgl\"}], \"histogram\": [{\"marker\": {\"colorbar\": {\"outlinewidth\": 0, \"ticks\": \"\"}}, \"type\": \"histogram\"}], \"histogram2d\": [{\"colorbar\": {\"outlinewidth\": 0, \"ticks\": \"\"}, \"colorscale\": [[0.0, \"#0d0887\"], [0.1111111111111111, \"#46039f\"], [0.2222222222222222, \"#7201a8\"], [0.3333333333333333, \"#9c179e\"], [0.4444444444444444, \"#bd3786\"], [0.5555555555555556, \"#d8576b\"], [0.6666666666666666, \"#ed7953\"], [0.7777777777777778, \"#fb9f3a\"], [0.8888888888888888, \"#fdca26\"], [1.0, \"#f0f921\"]], \"type\": \"histogram2d\"}], \"histogram2dcontour\": [{\"colorbar\": {\"outlinewidth\": 0, \"ticks\": \"\"}, \"colorscale\": [[0.0, \"#0d0887\"], [0.1111111111111111, \"#46039f\"], [0.2222222222222222, \"#7201a8\"], [0.3333333333333333, \"#9c179e\"], [0.4444444444444444, \"#bd3786\"], [0.5555555555555556, \"#d8576b\"], [0.6666666666666666, \"#ed7953\"], [0.7777777777777778, \"#fb9f3a\"], [0.8888888888888888, \"#fdca26\"], [1.0, \"#f0f921\"]], \"type\": \"histogram2dcontour\"}], \"mesh3d\": [{\"colorbar\": {\"outlinewidth\": 0, \"ticks\": \"\"}, \"type\": \"mesh3d\"}], \"parcoords\": [{\"line\": {\"colorbar\": {\"outlinewidth\": 0, \"ticks\": \"\"}}, \"type\": \"parcoords\"}], \"pie\": [{\"automargin\": true, \"type\": \"pie\"}], \"scatter\": [{\"marker\": {\"colorbar\": {\"outlinewidth\": 0, \"ticks\": \"\"}}, \"type\": \"scatter\"}], \"scatter3d\": [{\"line\": {\"colorbar\": {\"outlinewidth\": 0, \"ticks\": \"\"}}, \"marker\": {\"colorbar\": {\"outlinewidth\": 0, \"ticks\": \"\"}}, \"type\": \"scatter3d\"}], \"scattercarpet\": [{\"marker\": {\"colorbar\": {\"outlinewidth\": 0, \"ticks\": \"\"}}, \"type\": \"scattercarpet\"}], \"scattergeo\": [{\"marker\": {\"colorbar\": {\"outlinewidth\": 0, \"ticks\": \"\"}}, \"type\": \"scattergeo\"}], \"scattergl\": [{\"marker\": {\"colorbar\": {\"outlinewidth\": 0, \"ticks\": \"\"}}, \"type\": \"scattergl\"}], \"scattermapbox\": [{\"marker\": {\"colorbar\": {\"outlinewidth\": 0, \"ticks\": \"\"}}, \"type\": \"scattermapbox\"}], \"scatterpolar\": [{\"marker\": {\"colorbar\": {\"outlinewidth\": 0, \"ticks\": \"\"}}, \"type\": \"scatterpolar\"}], \"scatterpolargl\": [{\"marker\": {\"colorbar\": {\"outlinewidth\": 0, \"ticks\": \"\"}}, \"type\": \"scatterpolargl\"}], \"scatterternary\": [{\"marker\": {\"colorbar\": {\"outlinewidth\": 0, \"ticks\": \"\"}}, \"type\": \"scatterternary\"}], \"surface\": [{\"colorbar\": {\"outlinewidth\": 0, \"ticks\": \"\"}, \"colorscale\": [[0.0, \"#0d0887\"], [0.1111111111111111, \"#46039f\"], [0.2222222222222222, \"#7201a8\"], [0.3333333333333333, \"#9c179e\"], [0.4444444444444444, \"#bd3786\"], [0.5555555555555556, \"#d8576b\"], [0.6666666666666666, \"#ed7953\"], [0.7777777777777778, \"#fb9f3a\"], [0.8888888888888888, \"#fdca26\"], [1.0, \"#f0f921\"]], \"type\": \"surface\"}], \"table\": [{\"cells\": {\"fill\": {\"color\": \"#EBF0F8\"}, \"line\": {\"color\": \"white\"}}, \"header\": {\"fill\": {\"color\": \"#C8D4E3\"}, \"line\": {\"color\": \"white\"}}, \"type\": \"table\"}]}, \"layout\": {\"annotationdefaults\": {\"arrowcolor\": \"#2a3f5f\", \"arrowhead\": 0, \"arrowwidth\": 1}, \"coloraxis\": {\"colorbar\": {\"outlinewidth\": 0, \"ticks\": \"\"}}, \"colorscale\": {\"diverging\": [[0, \"#8e0152\"], [0.1, \"#c51b7d\"], [0.2, \"#de77ae\"], [0.3, \"#f1b6da\"], [0.4, \"#fde0ef\"], [0.5, \"#f7f7f7\"], [0.6, \"#e6f5d0\"], [0.7, \"#b8e186\"], [0.8, \"#7fbc41\"], [0.9, \"#4d9221\"], [1, \"#276419\"]], \"sequential\": [[0.0, \"#0d0887\"], [0.1111111111111111, \"#46039f\"], [0.2222222222222222, \"#7201a8\"], [0.3333333333333333, \"#9c179e\"], [0.4444444444444444, \"#bd3786\"], [0.5555555555555556, \"#d8576b\"], [0.6666666666666666, \"#ed7953\"], [0.7777777777777778, \"#fb9f3a\"], [0.8888888888888888, \"#fdca26\"], [1.0, \"#f0f921\"]], \"sequentialminus\": [[0.0, \"#0d0887\"], [0.1111111111111111, \"#46039f\"], [0.2222222222222222, \"#7201a8\"], [0.3333333333333333, \"#9c179e\"], [0.4444444444444444, \"#bd3786\"], [0.5555555555555556, \"#d8576b\"], [0.6666666666666666, \"#ed7953\"], [0.7777777777777778, \"#fb9f3a\"], [0.8888888888888888, \"#fdca26\"], [1.0, \"#f0f921\"]]}, \"colorway\": [\"#636efa\", \"#EF553B\", \"#00cc96\", \"#ab63fa\", \"#FFA15A\", \"#19d3f3\", \"#FF6692\", \"#B6E880\", \"#FF97FF\", \"#FECB52\"], \"font\": {\"color\": \"#2a3f5f\"}, \"geo\": {\"bgcolor\": \"white\", \"lakecolor\": \"white\", \"landcolor\": \"#E5ECF6\", \"showlakes\": true, \"showland\": true, \"subunitcolor\": \"white\"}, \"hoverlabel\": {\"align\": \"left\"}, \"hovermode\": \"closest\", \"mapbox\": {\"style\": \"light\"}, \"paper_bgcolor\": \"white\", \"plot_bgcolor\": \"#E5ECF6\", \"polar\": {\"angularaxis\": {\"gridcolor\": \"white\", \"linecolor\": \"white\", \"ticks\": \"\"}, \"bgcolor\": \"#E5ECF6\", \"radialaxis\": {\"gridcolor\": \"white\", \"linecolor\": \"white\", \"ticks\": \"\"}}, \"scene\": {\"xaxis\": {\"backgroundcolor\": \"#E5ECF6\", \"gridcolor\": \"white\", \"gridwidth\": 2, \"linecolor\": \"white\", \"showbackground\": true, \"ticks\": \"\", \"zerolinecolor\": \"white\"}, \"yaxis\": {\"backgroundcolor\": \"#E5ECF6\", \"gridcolor\": \"white\", \"gridwidth\": 2, \"linecolor\": \"white\", \"showbackground\": true, \"ticks\": \"\", \"zerolinecolor\": \"white\"}, \"zaxis\": {\"backgroundcolor\": \"#E5ECF6\", \"gridcolor\": \"white\", \"gridwidth\": 2, \"linecolor\": \"white\", \"showbackground\": true, \"ticks\": \"\", \"zerolinecolor\": \"white\"}}, \"shapedefaults\": {\"line\": {\"color\": \"#2a3f5f\"}}, \"ternary\": {\"aaxis\": {\"gridcolor\": \"white\", \"linecolor\": \"white\", \"ticks\": \"\"}, \"baxis\": {\"gridcolor\": \"white\", \"linecolor\": \"white\", \"ticks\": \"\"}, \"bgcolor\": \"#E5ECF6\", \"caxis\": {\"gridcolor\": \"white\", \"linecolor\": \"white\", \"ticks\": \"\"}}, \"title\": {\"x\": 0.05}, \"xaxis\": {\"automargin\": true, \"gridcolor\": \"white\", \"linecolor\": \"white\", \"ticks\": \"\", \"title\": {\"standoff\": 15}, \"zerolinecolor\": \"white\", \"zerolinewidth\": 2}, \"yaxis\": {\"automargin\": true, \"gridcolor\": \"white\", \"linecolor\": \"white\", \"ticks\": \"\", \"title\": {\"standoff\": 15}, \"zerolinecolor\": \"white\", \"zerolinewidth\": 2}}}, \"title\": {\"text\": \"Evolu\\u00e7\\u00e3o Nota Leitura\"}, \"updatemenus\": [{\"buttons\": [{\"args\": [null, {\"frame\": {\"duration\": 500, \"redraw\": true}, \"fromcurrent\": true, \"mode\": \"immediate\", \"transition\": {\"duration\": 500, \"easing\": \"linear\"}}], \"label\": \"&#9654;\", \"method\": \"animate\"}, {\"args\": [[null], {\"frame\": {\"duration\": 0, \"redraw\": true}, \"fromcurrent\": true, \"mode\": \"immediate\", \"transition\": {\"duration\": 0, \"easing\": \"linear\"}}], \"label\": \"&#9724;\", \"method\": \"animate\"}], \"direction\": \"left\", \"pad\": {\"r\": 10, \"t\": 70}, \"showactive\": false, \"type\": \"buttons\", \"x\": 0.1, \"xanchor\": \"right\", \"y\": 0, \"yanchor\": \"top\"}]},\n",
       "                        {\"responsive\": true}\n",
       "                    ).then(function(){\n",
       "                            Plotly.addFrames('690ee281-e8e3-438c-b1c1-4f9e7b3e32c4', [{\"data\": [{\"coloraxis\": \"coloraxis\", \"geo\": \"geo\", \"hovertemplate\": \"<b>%{hovertext}</b><br><br>Ano=2009<br>Pa\\u00eds=%{location}<br>Nota Leitura=%{z}<extra></extra>\", \"hovertext\": [\"AUS\", \"BEL\", \"BRA\", \"CAN\", \"CHE\", \"CHL\", \"CZE\", \"DNK\", \"ESP\", \"EST\", \"FIN\", \"FRA\", \"GBR\", \"HUN\", \"IRL\", \"ISL\", \"ISR\", \"ITA\", \"JPN\", \"KOR\", \"LUX\", \"LVA\", \"MEX\", \"NLD\", \"NOR\", \"POL\", \"PRT\", \"RUS\", \"SVK\", \"SVN\", \"SWE\", \"TUR\", \"USA\"], \"locations\": [\"AUS\", \"BEL\", \"BRA\", \"CAN\", \"CHE\", \"CHL\", \"CZE\", \"DNK\", \"ESP\", \"EST\", \"FIN\", \"FRA\", \"GBR\", \"HUN\", \"IRL\", \"ISL\", \"ISR\", \"ITA\", \"JPN\", \"KOR\", \"LUX\", \"LVA\", \"MEX\", \"NLD\", \"NOR\", \"POL\", \"PRT\", \"RUS\", \"SVK\", \"SVN\", \"SWE\", \"TUR\", \"USA\"], \"name\": \"\", \"z\": [515.0, 506.0, 412.0, 524.0, 501.0, 449.0, 478.0, 495.0, 481.0, 501.0, 536.0, 496.0, 494.0, 494.0, 496.0, 500.0, 474.0, 486.0, 520.0, 539.0, 472.0, 484.0, 425.0, 508.0, 503.0, 500.0, 489.0, 459.0, 477.0, 483.0, 497.0, 464.0, 500.0], \"type\": \"choropleth\"}], \"name\": \"2009\"}, {\"data\": [{\"coloraxis\": \"coloraxis\", \"geo\": \"geo\", \"hovertemplate\": \"<b>%{hovertext}</b><br><br>Ano=2012<br>Pa\\u00eds=%{location}<br>Nota Leitura=%{z}<extra></extra>\", \"hovertext\": [\"AUS\", \"AUT\", \"BEL\", \"BRA\", \"CAN\", \"CHE\", \"CHL\", \"CZE\", \"DEU\", \"DNK\", \"ESP\", \"EST\", \"FIN\", \"FRA\", \"GBR\", \"GRC\", \"HUN\", \"IDN\", \"IRL\", \"ISL\", \"ISR\", \"ITA\", \"JPN\", \"KOR\", \"LUX\", \"LVA\", \"MEX\", \"NLD\", \"NOR\", \"NZL\", \"POL\", \"PRT\", \"RUS\", \"SVK\", \"SVN\", \"SWE\", \"TUR\", \"USA\"], \"locations\": [\"AUS\", \"AUT\", \"BEL\", \"BRA\", \"CAN\", \"CHE\", \"CHL\", \"CZE\", \"DEU\", \"DNK\", \"ESP\", \"EST\", \"FIN\", \"FRA\", \"GBR\", \"GRC\", \"HUN\", \"IDN\", \"IRL\", \"ISL\", \"ISR\", \"ITA\", \"JPN\", \"KOR\", \"LUX\", \"LVA\", \"MEX\", \"NLD\", \"NOR\", \"NZL\", \"POL\", \"PRT\", \"RUS\", \"SVK\", \"SVN\", \"SWE\", \"TUR\", \"USA\"], \"name\": \"\", \"z\": [512.0, 490.0, 509.0, 407.0, 523.0, 509.0, 441.0, 493.0, 508.0, 496.0, 488.0, 516.0, 524.0, 505.0, 499.0, 477.0, 488.0, 396.0, 523.0, 483.0, 486.0, 490.0, 538.0, 536.0, 488.0, 489.0, 424.0, 511.0, 504.0, 512.0, 518.0, 488.0, 475.0, 463.0, 481.0, 483.0, 475.0, 498.0], \"type\": \"choropleth\"}], \"name\": \"2012\"}, {\"data\": [{\"coloraxis\": \"coloraxis\", \"geo\": \"geo\", \"hovertemplate\": \"<b>%{hovertext}</b><br><br>Ano=2015<br>Pa\\u00eds=%{location}<br>Nota Leitura=%{z}<extra></extra>\", \"hovertext\": [\"AUS\", \"AUT\", \"BEL\", \"BRA\", \"CAN\", \"CHE\", \"CHL\", \"COL\", \"CZE\", \"DEU\", \"ESP\", \"EST\", \"FIN\", \"FRA\", \"GBR\", \"GRC\", \"HUN\", \"IDN\", \"IRL\", \"ISL\", \"ISR\", \"ITA\", \"JPN\", \"KOR\", \"LUX\", \"LVA\", \"MEX\", \"NLD\", \"NOR\", \"NZL\", \"POL\", \"PRT\", \"SVK\", \"SVN\", \"SWE\", \"TUR\", \"USA\"], \"locations\": [\"AUS\", \"AUT\", \"BEL\", \"BRA\", \"CAN\", \"CHE\", \"CHL\", \"COL\", \"CZE\", \"DEU\", \"ESP\", \"EST\", \"FIN\", \"FRA\", \"GBR\", \"GRC\", \"HUN\", \"IDN\", \"IRL\", \"ISL\", \"ISR\", \"ITA\", \"JPN\", \"KOR\", \"LUX\", \"LVA\", \"MEX\", \"NLD\", \"NOR\", \"NZL\", \"POL\", \"PRT\", \"SVK\", \"SVN\", \"SWE\", \"TUR\", \"USA\"], \"name\": \"\", \"z\": [503.0, 485.0, 499.0, 407.0, 527.0, 492.0, 459.0, 425.0, 487.0, 509.0, 496.0, 519.0, 526.0, 499.0, 498.0, 467.0, 470.0, 397.0, 521.0, 482.0, 479.0, 485.0, 516.0, 517.0, 481.0, 488.0, 423.0, 503.0, 513.0, 509.0, 506.0, 498.0, 453.0, 505.0, 500.0, 428.0, 497.0], \"type\": \"choropleth\"}], \"name\": \"2015\"}]);\n",
       "                        }).then(function(){\n",
       "                            \n",
       "var gd = document.getElementById('690ee281-e8e3-438c-b1c1-4f9e7b3e32c4');\n",
       "var x = new MutationObserver(function (mutations, observer) {{\n",
       "        var display = window.getComputedStyle(gd).display;\n",
       "        if (!display || display === 'none') {{\n",
       "            console.log([gd, 'removed!']);\n",
       "            Plotly.purge(gd);\n",
       "            observer.disconnect();\n",
       "        }}\n",
       "}});\n",
       "\n",
       "// Listen for the removal of the full notebook cells\n",
       "var notebookContainer = gd.closest('#notebook-container');\n",
       "if (notebookContainer) {{\n",
       "    x.observe(notebookContainer, {childList: true});\n",
       "}}\n",
       "\n",
       "// Listen for the clearing of the current output cell\n",
       "var outputEl = gd.closest('.output');\n",
       "if (outputEl) {{\n",
       "    x.observe(outputEl, {childList: true});\n",
       "}}\n",
       "\n",
       "                        })\n",
       "                };\n",
       "                });\n",
       "            </script>\n",
       "        </div>"
      ]
     },
     "metadata": {},
     "output_type": "display_data"
    }
   ],
   "source": [
    "geograficos_que_precisam_de_tratamento('Nota Leitura')"
   ]
  },
  {
   "cell_type": "code",
   "execution_count": 68,
   "metadata": {},
   "outputs": [
    {
     "data": {
      "application/vnd.plotly.v1+json": {
       "config": {
        "plotlyServerURL": "https://plot.ly"
       },
       "data": [
        {
         "coloraxis": "coloraxis",
         "geo": "geo",
         "hovertemplate": "<b>%{hovertext}</b><br><br>Ano=2009<br>País=%{location}<br>Nota Ciências=%{z}<extra></extra>",
         "hovertext": [
          "AUS",
          "BEL",
          "BRA",
          "CAN",
          "CHE",
          "CHL",
          "CZE",
          "DNK",
          "ESP",
          "EST",
          "FIN",
          "FRA",
          "GBR",
          "HUN",
          "IRL",
          "ISL",
          "ISR",
          "ITA",
          "JPN",
          "KOR",
          "LUX",
          "LVA",
          "MEX",
          "NLD",
          "NOR",
          "POL",
          "PRT",
          "RUS",
          "SVK",
          "SVN",
          "SWE",
          "TUR",
          "USA"
         ],
         "locations": [
          "AUS",
          "BEL",
          "BRA",
          "CAN",
          "CHE",
          "CHL",
          "CZE",
          "DNK",
          "ESP",
          "EST",
          "FIN",
          "FRA",
          "GBR",
          "HUN",
          "IRL",
          "ISL",
          "ISR",
          "ITA",
          "JPN",
          "KOR",
          "LUX",
          "LVA",
          "MEX",
          "NLD",
          "NOR",
          "POL",
          "PRT",
          "RUS",
          "SVK",
          "SVN",
          "SWE",
          "TUR",
          "USA"
         ],
         "name": "",
         "type": "choropleth",
         "z": [
          527,
          507,
          405,
          529,
          517,
          447,
          500,
          499,
          488,
          528,
          554,
          498,
          514,
          503,
          508,
          496,
          455,
          489,
          539,
          538,
          484,
          494,
          416,
          522,
          500,
          508,
          493,
          486,
          490,
          512,
          495,
          454,
          502
         ]
        }
       ],
       "frames": [
        {
         "data": [
          {
           "coloraxis": "coloraxis",
           "geo": "geo",
           "hovertemplate": "<b>%{hovertext}</b><br><br>Ano=2009<br>País=%{location}<br>Nota Ciências=%{z}<extra></extra>",
           "hovertext": [
            "AUS",
            "BEL",
            "BRA",
            "CAN",
            "CHE",
            "CHL",
            "CZE",
            "DNK",
            "ESP",
            "EST",
            "FIN",
            "FRA",
            "GBR",
            "HUN",
            "IRL",
            "ISL",
            "ISR",
            "ITA",
            "JPN",
            "KOR",
            "LUX",
            "LVA",
            "MEX",
            "NLD",
            "NOR",
            "POL",
            "PRT",
            "RUS",
            "SVK",
            "SVN",
            "SWE",
            "TUR",
            "USA"
           ],
           "locations": [
            "AUS",
            "BEL",
            "BRA",
            "CAN",
            "CHE",
            "CHL",
            "CZE",
            "DNK",
            "ESP",
            "EST",
            "FIN",
            "FRA",
            "GBR",
            "HUN",
            "IRL",
            "ISL",
            "ISR",
            "ITA",
            "JPN",
            "KOR",
            "LUX",
            "LVA",
            "MEX",
            "NLD",
            "NOR",
            "POL",
            "PRT",
            "RUS",
            "SVK",
            "SVN",
            "SWE",
            "TUR",
            "USA"
           ],
           "name": "",
           "type": "choropleth",
           "z": [
            527,
            507,
            405,
            529,
            517,
            447,
            500,
            499,
            488,
            528,
            554,
            498,
            514,
            503,
            508,
            496,
            455,
            489,
            539,
            538,
            484,
            494,
            416,
            522,
            500,
            508,
            493,
            486,
            490,
            512,
            495,
            454,
            502
           ]
          }
         ],
         "name": "2009"
        },
        {
         "data": [
          {
           "coloraxis": "coloraxis",
           "geo": "geo",
           "hovertemplate": "<b>%{hovertext}</b><br><br>Ano=2012<br>País=%{location}<br>Nota Ciências=%{z}<extra></extra>",
           "hovertext": [
            "AUS",
            "AUT",
            "BEL",
            "BRA",
            "CAN",
            "CHE",
            "CHL",
            "CZE",
            "DEU",
            "DNK",
            "ESP",
            "EST",
            "FIN",
            "FRA",
            "GBR",
            "GRC",
            "HUN",
            "IDN",
            "IRL",
            "ISL",
            "ISR",
            "ITA",
            "JPN",
            "KOR",
            "LUX",
            "LVA",
            "MEX",
            "NLD",
            "NOR",
            "NZL",
            "POL",
            "PRT",
            "RUS",
            "SVK",
            "SVN",
            "SWE",
            "TUR",
            "USA"
           ],
           "locations": [
            "AUS",
            "AUT",
            "BEL",
            "BRA",
            "CAN",
            "CHE",
            "CHL",
            "CZE",
            "DEU",
            "DNK",
            "ESP",
            "EST",
            "FIN",
            "FRA",
            "GBR",
            "GRC",
            "HUN",
            "IDN",
            "IRL",
            "ISL",
            "ISR",
            "ITA",
            "JPN",
            "KOR",
            "LUX",
            "LVA",
            "MEX",
            "NLD",
            "NOR",
            "NZL",
            "POL",
            "PRT",
            "RUS",
            "SVK",
            "SVN",
            "SWE",
            "TUR",
            "USA"
           ],
           "name": "",
           "type": "choropleth",
           "z": [
            521,
            506,
            505,
            402,
            525,
            515,
            445,
            508,
            524,
            498,
            496,
            541,
            545,
            499,
            514,
            467,
            494,
            382,
            522,
            478,
            470,
            494,
            547,
            538,
            491,
            502,
            415,
            522,
            495,
            516,
            526,
            489,
            487,
            471,
            514,
            485,
            463,
            497
           ]
          }
         ],
         "name": "2012"
        },
        {
         "data": [
          {
           "coloraxis": "coloraxis",
           "geo": "geo",
           "hovertemplate": "<b>%{hovertext}</b><br><br>Ano=2015<br>País=%{location}<br>Nota Ciências=%{z}<extra></extra>",
           "hovertext": [
            "AUS",
            "AUT",
            "BEL",
            "BRA",
            "CAN",
            "CHE",
            "CHL",
            "COL",
            "CZE",
            "DEU",
            "ESP",
            "EST",
            "FIN",
            "FRA",
            "GBR",
            "GRC",
            "HUN",
            "IDN",
            "IRL",
            "ISL",
            "ISR",
            "ITA",
            "JPN",
            "KOR",
            "LUX",
            "LVA",
            "MEX",
            "NLD",
            "NOR",
            "NZL",
            "POL",
            "PRT",
            "SVK",
            "SVN",
            "SWE",
            "TUR",
            "USA"
           ],
           "locations": [
            "AUS",
            "AUT",
            "BEL",
            "BRA",
            "CAN",
            "CHE",
            "CHL",
            "COL",
            "CZE",
            "DEU",
            "ESP",
            "EST",
            "FIN",
            "FRA",
            "GBR",
            "GRC",
            "HUN",
            "IDN",
            "IRL",
            "ISL",
            "ISR",
            "ITA",
            "JPN",
            "KOR",
            "LUX",
            "LVA",
            "MEX",
            "NLD",
            "NOR",
            "NZL",
            "POL",
            "PRT",
            "SVK",
            "SVN",
            "SWE",
            "TUR",
            "USA"
           ],
           "name": "",
           "type": "choropleth",
           "z": [
            510,
            495,
            502,
            401,
            528,
            506,
            447,
            416,
            493,
            509,
            493,
            534,
            531,
            495,
            509,
            455,
            477,
            403,
            503,
            473,
            467,
            481,
            538,
            516,
            483,
            490,
            416,
            509,
            498,
            513,
            501,
            501,
            461,
            513,
            493,
            425,
            496
           ]
          }
         ],
         "name": "2015"
        }
       ],
       "layout": {
        "coloraxis": {
         "colorbar": {
          "title": {
           "text": "Nota Ciências"
          }
         },
         "colorscale": [
          [
           0,
           "#440154"
          ],
          [
           0.1111111111111111,
           "#482878"
          ],
          [
           0.2222222222222222,
           "#3e4989"
          ],
          [
           0.3333333333333333,
           "#31688e"
          ],
          [
           0.4444444444444444,
           "#26828e"
          ],
          [
           0.5555555555555556,
           "#1f9e89"
          ],
          [
           0.6666666666666666,
           "#35b779"
          ],
          [
           0.7777777777777778,
           "#6ece58"
          ],
          [
           0.8888888888888888,
           "#b5de2b"
          ],
          [
           1,
           "#fde725"
          ]
         ]
        },
        "geo": {
         "center": {},
         "domain": {
          "x": [
           0,
           1
          ],
          "y": [
           0,
           1
          ]
         },
         "projection": {
          "type": "natural earth"
         }
        },
        "legend": {
         "tracegroupgap": 0
        },
        "sliders": [
         {
          "active": 0,
          "currentvalue": {
           "prefix": "Ano="
          },
          "len": 0.9,
          "pad": {
           "b": 10,
           "t": 60
          },
          "steps": [
           {
            "args": [
             [
              "2009"
             ],
             {
              "frame": {
               "duration": 0,
               "redraw": true
              },
              "fromcurrent": true,
              "mode": "immediate",
              "transition": {
               "duration": 0,
               "easing": "linear"
              }
             }
            ],
            "label": "2009",
            "method": "animate"
           },
           {
            "args": [
             [
              "2012"
             ],
             {
              "frame": {
               "duration": 0,
               "redraw": true
              },
              "fromcurrent": true,
              "mode": "immediate",
              "transition": {
               "duration": 0,
               "easing": "linear"
              }
             }
            ],
            "label": "2012",
            "method": "animate"
           },
           {
            "args": [
             [
              "2015"
             ],
             {
              "frame": {
               "duration": 0,
               "redraw": true
              },
              "fromcurrent": true,
              "mode": "immediate",
              "transition": {
               "duration": 0,
               "easing": "linear"
              }
             }
            ],
            "label": "2015",
            "method": "animate"
           }
          ],
          "x": 0.1,
          "xanchor": "left",
          "y": 0,
          "yanchor": "top"
         }
        ],
        "template": {
         "data": {
          "bar": [
           {
            "error_x": {
             "color": "#2a3f5f"
            },
            "error_y": {
             "color": "#2a3f5f"
            },
            "marker": {
             "line": {
              "color": "#E5ECF6",
              "width": 0.5
             }
            },
            "type": "bar"
           }
          ],
          "barpolar": [
           {
            "marker": {
             "line": {
              "color": "#E5ECF6",
              "width": 0.5
             }
            },
            "type": "barpolar"
           }
          ],
          "carpet": [
           {
            "aaxis": {
             "endlinecolor": "#2a3f5f",
             "gridcolor": "white",
             "linecolor": "white",
             "minorgridcolor": "white",
             "startlinecolor": "#2a3f5f"
            },
            "baxis": {
             "endlinecolor": "#2a3f5f",
             "gridcolor": "white",
             "linecolor": "white",
             "minorgridcolor": "white",
             "startlinecolor": "#2a3f5f"
            },
            "type": "carpet"
           }
          ],
          "choropleth": [
           {
            "colorbar": {
             "outlinewidth": 0,
             "ticks": ""
            },
            "type": "choropleth"
           }
          ],
          "contour": [
           {
            "colorbar": {
             "outlinewidth": 0,
             "ticks": ""
            },
            "colorscale": [
             [
              0,
              "#0d0887"
             ],
             [
              0.1111111111111111,
              "#46039f"
             ],
             [
              0.2222222222222222,
              "#7201a8"
             ],
             [
              0.3333333333333333,
              "#9c179e"
             ],
             [
              0.4444444444444444,
              "#bd3786"
             ],
             [
              0.5555555555555556,
              "#d8576b"
             ],
             [
              0.6666666666666666,
              "#ed7953"
             ],
             [
              0.7777777777777778,
              "#fb9f3a"
             ],
             [
              0.8888888888888888,
              "#fdca26"
             ],
             [
              1,
              "#f0f921"
             ]
            ],
            "type": "contour"
           }
          ],
          "contourcarpet": [
           {
            "colorbar": {
             "outlinewidth": 0,
             "ticks": ""
            },
            "type": "contourcarpet"
           }
          ],
          "heatmap": [
           {
            "colorbar": {
             "outlinewidth": 0,
             "ticks": ""
            },
            "colorscale": [
             [
              0,
              "#0d0887"
             ],
             [
              0.1111111111111111,
              "#46039f"
             ],
             [
              0.2222222222222222,
              "#7201a8"
             ],
             [
              0.3333333333333333,
              "#9c179e"
             ],
             [
              0.4444444444444444,
              "#bd3786"
             ],
             [
              0.5555555555555556,
              "#d8576b"
             ],
             [
              0.6666666666666666,
              "#ed7953"
             ],
             [
              0.7777777777777778,
              "#fb9f3a"
             ],
             [
              0.8888888888888888,
              "#fdca26"
             ],
             [
              1,
              "#f0f921"
             ]
            ],
            "type": "heatmap"
           }
          ],
          "heatmapgl": [
           {
            "colorbar": {
             "outlinewidth": 0,
             "ticks": ""
            },
            "colorscale": [
             [
              0,
              "#0d0887"
             ],
             [
              0.1111111111111111,
              "#46039f"
             ],
             [
              0.2222222222222222,
              "#7201a8"
             ],
             [
              0.3333333333333333,
              "#9c179e"
             ],
             [
              0.4444444444444444,
              "#bd3786"
             ],
             [
              0.5555555555555556,
              "#d8576b"
             ],
             [
              0.6666666666666666,
              "#ed7953"
             ],
             [
              0.7777777777777778,
              "#fb9f3a"
             ],
             [
              0.8888888888888888,
              "#fdca26"
             ],
             [
              1,
              "#f0f921"
             ]
            ],
            "type": "heatmapgl"
           }
          ],
          "histogram": [
           {
            "marker": {
             "colorbar": {
              "outlinewidth": 0,
              "ticks": ""
             }
            },
            "type": "histogram"
           }
          ],
          "histogram2d": [
           {
            "colorbar": {
             "outlinewidth": 0,
             "ticks": ""
            },
            "colorscale": [
             [
              0,
              "#0d0887"
             ],
             [
              0.1111111111111111,
              "#46039f"
             ],
             [
              0.2222222222222222,
              "#7201a8"
             ],
             [
              0.3333333333333333,
              "#9c179e"
             ],
             [
              0.4444444444444444,
              "#bd3786"
             ],
             [
              0.5555555555555556,
              "#d8576b"
             ],
             [
              0.6666666666666666,
              "#ed7953"
             ],
             [
              0.7777777777777778,
              "#fb9f3a"
             ],
             [
              0.8888888888888888,
              "#fdca26"
             ],
             [
              1,
              "#f0f921"
             ]
            ],
            "type": "histogram2d"
           }
          ],
          "histogram2dcontour": [
           {
            "colorbar": {
             "outlinewidth": 0,
             "ticks": ""
            },
            "colorscale": [
             [
              0,
              "#0d0887"
             ],
             [
              0.1111111111111111,
              "#46039f"
             ],
             [
              0.2222222222222222,
              "#7201a8"
             ],
             [
              0.3333333333333333,
              "#9c179e"
             ],
             [
              0.4444444444444444,
              "#bd3786"
             ],
             [
              0.5555555555555556,
              "#d8576b"
             ],
             [
              0.6666666666666666,
              "#ed7953"
             ],
             [
              0.7777777777777778,
              "#fb9f3a"
             ],
             [
              0.8888888888888888,
              "#fdca26"
             ],
             [
              1,
              "#f0f921"
             ]
            ],
            "type": "histogram2dcontour"
           }
          ],
          "mesh3d": [
           {
            "colorbar": {
             "outlinewidth": 0,
             "ticks": ""
            },
            "type": "mesh3d"
           }
          ],
          "parcoords": [
           {
            "line": {
             "colorbar": {
              "outlinewidth": 0,
              "ticks": ""
             }
            },
            "type": "parcoords"
           }
          ],
          "pie": [
           {
            "automargin": true,
            "type": "pie"
           }
          ],
          "scatter": [
           {
            "marker": {
             "colorbar": {
              "outlinewidth": 0,
              "ticks": ""
             }
            },
            "type": "scatter"
           }
          ],
          "scatter3d": [
           {
            "line": {
             "colorbar": {
              "outlinewidth": 0,
              "ticks": ""
             }
            },
            "marker": {
             "colorbar": {
              "outlinewidth": 0,
              "ticks": ""
             }
            },
            "type": "scatter3d"
           }
          ],
          "scattercarpet": [
           {
            "marker": {
             "colorbar": {
              "outlinewidth": 0,
              "ticks": ""
             }
            },
            "type": "scattercarpet"
           }
          ],
          "scattergeo": [
           {
            "marker": {
             "colorbar": {
              "outlinewidth": 0,
              "ticks": ""
             }
            },
            "type": "scattergeo"
           }
          ],
          "scattergl": [
           {
            "marker": {
             "colorbar": {
              "outlinewidth": 0,
              "ticks": ""
             }
            },
            "type": "scattergl"
           }
          ],
          "scattermapbox": [
           {
            "marker": {
             "colorbar": {
              "outlinewidth": 0,
              "ticks": ""
             }
            },
            "type": "scattermapbox"
           }
          ],
          "scatterpolar": [
           {
            "marker": {
             "colorbar": {
              "outlinewidth": 0,
              "ticks": ""
             }
            },
            "type": "scatterpolar"
           }
          ],
          "scatterpolargl": [
           {
            "marker": {
             "colorbar": {
              "outlinewidth": 0,
              "ticks": ""
             }
            },
            "type": "scatterpolargl"
           }
          ],
          "scatterternary": [
           {
            "marker": {
             "colorbar": {
              "outlinewidth": 0,
              "ticks": ""
             }
            },
            "type": "scatterternary"
           }
          ],
          "surface": [
           {
            "colorbar": {
             "outlinewidth": 0,
             "ticks": ""
            },
            "colorscale": [
             [
              0,
              "#0d0887"
             ],
             [
              0.1111111111111111,
              "#46039f"
             ],
             [
              0.2222222222222222,
              "#7201a8"
             ],
             [
              0.3333333333333333,
              "#9c179e"
             ],
             [
              0.4444444444444444,
              "#bd3786"
             ],
             [
              0.5555555555555556,
              "#d8576b"
             ],
             [
              0.6666666666666666,
              "#ed7953"
             ],
             [
              0.7777777777777778,
              "#fb9f3a"
             ],
             [
              0.8888888888888888,
              "#fdca26"
             ],
             [
              1,
              "#f0f921"
             ]
            ],
            "type": "surface"
           }
          ],
          "table": [
           {
            "cells": {
             "fill": {
              "color": "#EBF0F8"
             },
             "line": {
              "color": "white"
             }
            },
            "header": {
             "fill": {
              "color": "#C8D4E3"
             },
             "line": {
              "color": "white"
             }
            },
            "type": "table"
           }
          ]
         },
         "layout": {
          "annotationdefaults": {
           "arrowcolor": "#2a3f5f",
           "arrowhead": 0,
           "arrowwidth": 1
          },
          "coloraxis": {
           "colorbar": {
            "outlinewidth": 0,
            "ticks": ""
           }
          },
          "colorscale": {
           "diverging": [
            [
             0,
             "#8e0152"
            ],
            [
             0.1,
             "#c51b7d"
            ],
            [
             0.2,
             "#de77ae"
            ],
            [
             0.3,
             "#f1b6da"
            ],
            [
             0.4,
             "#fde0ef"
            ],
            [
             0.5,
             "#f7f7f7"
            ],
            [
             0.6,
             "#e6f5d0"
            ],
            [
             0.7,
             "#b8e186"
            ],
            [
             0.8,
             "#7fbc41"
            ],
            [
             0.9,
             "#4d9221"
            ],
            [
             1,
             "#276419"
            ]
           ],
           "sequential": [
            [
             0,
             "#0d0887"
            ],
            [
             0.1111111111111111,
             "#46039f"
            ],
            [
             0.2222222222222222,
             "#7201a8"
            ],
            [
             0.3333333333333333,
             "#9c179e"
            ],
            [
             0.4444444444444444,
             "#bd3786"
            ],
            [
             0.5555555555555556,
             "#d8576b"
            ],
            [
             0.6666666666666666,
             "#ed7953"
            ],
            [
             0.7777777777777778,
             "#fb9f3a"
            ],
            [
             0.8888888888888888,
             "#fdca26"
            ],
            [
             1,
             "#f0f921"
            ]
           ],
           "sequentialminus": [
            [
             0,
             "#0d0887"
            ],
            [
             0.1111111111111111,
             "#46039f"
            ],
            [
             0.2222222222222222,
             "#7201a8"
            ],
            [
             0.3333333333333333,
             "#9c179e"
            ],
            [
             0.4444444444444444,
             "#bd3786"
            ],
            [
             0.5555555555555556,
             "#d8576b"
            ],
            [
             0.6666666666666666,
             "#ed7953"
            ],
            [
             0.7777777777777778,
             "#fb9f3a"
            ],
            [
             0.8888888888888888,
             "#fdca26"
            ],
            [
             1,
             "#f0f921"
            ]
           ]
          },
          "colorway": [
           "#636efa",
           "#EF553B",
           "#00cc96",
           "#ab63fa",
           "#FFA15A",
           "#19d3f3",
           "#FF6692",
           "#B6E880",
           "#FF97FF",
           "#FECB52"
          ],
          "font": {
           "color": "#2a3f5f"
          },
          "geo": {
           "bgcolor": "white",
           "lakecolor": "white",
           "landcolor": "#E5ECF6",
           "showlakes": true,
           "showland": true,
           "subunitcolor": "white"
          },
          "hoverlabel": {
           "align": "left"
          },
          "hovermode": "closest",
          "mapbox": {
           "style": "light"
          },
          "paper_bgcolor": "white",
          "plot_bgcolor": "#E5ECF6",
          "polar": {
           "angularaxis": {
            "gridcolor": "white",
            "linecolor": "white",
            "ticks": ""
           },
           "bgcolor": "#E5ECF6",
           "radialaxis": {
            "gridcolor": "white",
            "linecolor": "white",
            "ticks": ""
           }
          },
          "scene": {
           "xaxis": {
            "backgroundcolor": "#E5ECF6",
            "gridcolor": "white",
            "gridwidth": 2,
            "linecolor": "white",
            "showbackground": true,
            "ticks": "",
            "zerolinecolor": "white"
           },
           "yaxis": {
            "backgroundcolor": "#E5ECF6",
            "gridcolor": "white",
            "gridwidth": 2,
            "linecolor": "white",
            "showbackground": true,
            "ticks": "",
            "zerolinecolor": "white"
           },
           "zaxis": {
            "backgroundcolor": "#E5ECF6",
            "gridcolor": "white",
            "gridwidth": 2,
            "linecolor": "white",
            "showbackground": true,
            "ticks": "",
            "zerolinecolor": "white"
           }
          },
          "shapedefaults": {
           "line": {
            "color": "#2a3f5f"
           }
          },
          "ternary": {
           "aaxis": {
            "gridcolor": "white",
            "linecolor": "white",
            "ticks": ""
           },
           "baxis": {
            "gridcolor": "white",
            "linecolor": "white",
            "ticks": ""
           },
           "bgcolor": "#E5ECF6",
           "caxis": {
            "gridcolor": "white",
            "linecolor": "white",
            "ticks": ""
           }
          },
          "title": {
           "x": 0.05
          },
          "xaxis": {
           "automargin": true,
           "gridcolor": "white",
           "linecolor": "white",
           "ticks": "",
           "title": {
            "standoff": 15
           },
           "zerolinecolor": "white",
           "zerolinewidth": 2
          },
          "yaxis": {
           "automargin": true,
           "gridcolor": "white",
           "linecolor": "white",
           "ticks": "",
           "title": {
            "standoff": 15
           },
           "zerolinecolor": "white",
           "zerolinewidth": 2
          }
         }
        },
        "title": {
         "text": "Evolução Nota Ciências"
        },
        "updatemenus": [
         {
          "buttons": [
           {
            "args": [
             null,
             {
              "frame": {
               "duration": 500,
               "redraw": true
              },
              "fromcurrent": true,
              "mode": "immediate",
              "transition": {
               "duration": 500,
               "easing": "linear"
              }
             }
            ],
            "label": "&#9654;",
            "method": "animate"
           },
           {
            "args": [
             [
              null
             ],
             {
              "frame": {
               "duration": 0,
               "redraw": true
              },
              "fromcurrent": true,
              "mode": "immediate",
              "transition": {
               "duration": 0,
               "easing": "linear"
              }
             }
            ],
            "label": "&#9724;",
            "method": "animate"
           }
          ],
          "direction": "left",
          "pad": {
           "r": 10,
           "t": 70
          },
          "showactive": false,
          "type": "buttons",
          "x": 0.1,
          "xanchor": "right",
          "y": 0,
          "yanchor": "top"
         }
        ]
       }
      },
      "text/html": [
       "<div>\n",
       "        \n",
       "        \n",
       "            <div id=\"a0a38307-340a-415b-a7a9-adb5658698d5\" class=\"plotly-graph-div\" style=\"height:525px; width:100%;\"></div>\n",
       "            <script type=\"text/javascript\">\n",
       "                require([\"plotly\"], function(Plotly) {\n",
       "                    window.PLOTLYENV=window.PLOTLYENV || {};\n",
       "                    \n",
       "                if (document.getElementById(\"a0a38307-340a-415b-a7a9-adb5658698d5\")) {\n",
       "                    Plotly.newPlot(\n",
       "                        'a0a38307-340a-415b-a7a9-adb5658698d5',\n",
       "                        [{\"coloraxis\": \"coloraxis\", \"geo\": \"geo\", \"hovertemplate\": \"<b>%{hovertext}</b><br><br>Ano=2009<br>Pa\\u00eds=%{location}<br>Nota Ci\\u00eancias=%{z}<extra></extra>\", \"hovertext\": [\"AUS\", \"BEL\", \"BRA\", \"CAN\", \"CHE\", \"CHL\", \"CZE\", \"DNK\", \"ESP\", \"EST\", \"FIN\", \"FRA\", \"GBR\", \"HUN\", \"IRL\", \"ISL\", \"ISR\", \"ITA\", \"JPN\", \"KOR\", \"LUX\", \"LVA\", \"MEX\", \"NLD\", \"NOR\", \"POL\", \"PRT\", \"RUS\", \"SVK\", \"SVN\", \"SWE\", \"TUR\", \"USA\"], \"locations\": [\"AUS\", \"BEL\", \"BRA\", \"CAN\", \"CHE\", \"CHL\", \"CZE\", \"DNK\", \"ESP\", \"EST\", \"FIN\", \"FRA\", \"GBR\", \"HUN\", \"IRL\", \"ISL\", \"ISR\", \"ITA\", \"JPN\", \"KOR\", \"LUX\", \"LVA\", \"MEX\", \"NLD\", \"NOR\", \"POL\", \"PRT\", \"RUS\", \"SVK\", \"SVN\", \"SWE\", \"TUR\", \"USA\"], \"name\": \"\", \"type\": \"choropleth\", \"z\": [527.0, 507.0, 405.0, 529.0, 517.0, 447.0, 500.0, 499.0, 488.0, 528.0, 554.0, 498.0, 514.0, 503.0, 508.0, 496.0, 455.0, 489.0, 539.0, 538.0, 484.0, 494.0, 416.0, 522.0, 500.0, 508.0, 493.0, 486.0, 490.0, 512.0, 495.0, 454.0, 502.0]}],\n",
       "                        {\"coloraxis\": {\"colorbar\": {\"title\": {\"text\": \"Nota Ci\\u00eancias\"}}, \"colorscale\": [[0.0, \"#440154\"], [0.1111111111111111, \"#482878\"], [0.2222222222222222, \"#3e4989\"], [0.3333333333333333, \"#31688e\"], [0.4444444444444444, \"#26828e\"], [0.5555555555555556, \"#1f9e89\"], [0.6666666666666666, \"#35b779\"], [0.7777777777777778, \"#6ece58\"], [0.8888888888888888, \"#b5de2b\"], [1.0, \"#fde725\"]]}, \"geo\": {\"center\": {}, \"domain\": {\"x\": [0.0, 1.0], \"y\": [0.0, 1.0]}, \"projection\": {\"type\": \"natural earth\"}}, \"legend\": {\"tracegroupgap\": 0}, \"sliders\": [{\"active\": 0, \"currentvalue\": {\"prefix\": \"Ano=\"}, \"len\": 0.9, \"pad\": {\"b\": 10, \"t\": 60}, \"steps\": [{\"args\": [[\"2009\"], {\"frame\": {\"duration\": 0, \"redraw\": true}, \"fromcurrent\": true, \"mode\": \"immediate\", \"transition\": {\"duration\": 0, \"easing\": \"linear\"}}], \"label\": \"2009\", \"method\": \"animate\"}, {\"args\": [[\"2012\"], {\"frame\": {\"duration\": 0, \"redraw\": true}, \"fromcurrent\": true, \"mode\": \"immediate\", \"transition\": {\"duration\": 0, \"easing\": \"linear\"}}], \"label\": \"2012\", \"method\": \"animate\"}, {\"args\": [[\"2015\"], {\"frame\": {\"duration\": 0, \"redraw\": true}, \"fromcurrent\": true, \"mode\": \"immediate\", \"transition\": {\"duration\": 0, \"easing\": \"linear\"}}], \"label\": \"2015\", \"method\": \"animate\"}], \"x\": 0.1, \"xanchor\": \"left\", \"y\": 0, \"yanchor\": \"top\"}], \"template\": {\"data\": {\"bar\": [{\"error_x\": {\"color\": \"#2a3f5f\"}, \"error_y\": {\"color\": \"#2a3f5f\"}, \"marker\": {\"line\": {\"color\": \"#E5ECF6\", \"width\": 0.5}}, \"type\": \"bar\"}], \"barpolar\": [{\"marker\": {\"line\": {\"color\": \"#E5ECF6\", \"width\": 0.5}}, \"type\": \"barpolar\"}], \"carpet\": [{\"aaxis\": {\"endlinecolor\": \"#2a3f5f\", \"gridcolor\": \"white\", \"linecolor\": \"white\", \"minorgridcolor\": \"white\", \"startlinecolor\": \"#2a3f5f\"}, \"baxis\": {\"endlinecolor\": \"#2a3f5f\", \"gridcolor\": \"white\", \"linecolor\": \"white\", \"minorgridcolor\": \"white\", \"startlinecolor\": \"#2a3f5f\"}, \"type\": \"carpet\"}], \"choropleth\": [{\"colorbar\": {\"outlinewidth\": 0, \"ticks\": \"\"}, \"type\": \"choropleth\"}], \"contour\": [{\"colorbar\": {\"outlinewidth\": 0, \"ticks\": \"\"}, \"colorscale\": [[0.0, \"#0d0887\"], [0.1111111111111111, \"#46039f\"], [0.2222222222222222, \"#7201a8\"], [0.3333333333333333, \"#9c179e\"], [0.4444444444444444, \"#bd3786\"], [0.5555555555555556, \"#d8576b\"], [0.6666666666666666, \"#ed7953\"], [0.7777777777777778, \"#fb9f3a\"], [0.8888888888888888, \"#fdca26\"], [1.0, \"#f0f921\"]], \"type\": \"contour\"}], \"contourcarpet\": [{\"colorbar\": {\"outlinewidth\": 0, \"ticks\": \"\"}, \"type\": \"contourcarpet\"}], \"heatmap\": [{\"colorbar\": {\"outlinewidth\": 0, \"ticks\": \"\"}, \"colorscale\": [[0.0, \"#0d0887\"], [0.1111111111111111, \"#46039f\"], [0.2222222222222222, \"#7201a8\"], [0.3333333333333333, \"#9c179e\"], [0.4444444444444444, \"#bd3786\"], [0.5555555555555556, \"#d8576b\"], [0.6666666666666666, \"#ed7953\"], [0.7777777777777778, \"#fb9f3a\"], [0.8888888888888888, \"#fdca26\"], [1.0, \"#f0f921\"]], \"type\": \"heatmap\"}], \"heatmapgl\": [{\"colorbar\": {\"outlinewidth\": 0, \"ticks\": \"\"}, \"colorscale\": [[0.0, \"#0d0887\"], [0.1111111111111111, \"#46039f\"], [0.2222222222222222, \"#7201a8\"], [0.3333333333333333, \"#9c179e\"], [0.4444444444444444, \"#bd3786\"], [0.5555555555555556, \"#d8576b\"], [0.6666666666666666, \"#ed7953\"], [0.7777777777777778, \"#fb9f3a\"], [0.8888888888888888, \"#fdca26\"], [1.0, \"#f0f921\"]], \"type\": \"heatmapgl\"}], \"histogram\": [{\"marker\": {\"colorbar\": {\"outlinewidth\": 0, \"ticks\": \"\"}}, \"type\": \"histogram\"}], \"histogram2d\": [{\"colorbar\": {\"outlinewidth\": 0, \"ticks\": \"\"}, \"colorscale\": [[0.0, \"#0d0887\"], [0.1111111111111111, \"#46039f\"], [0.2222222222222222, \"#7201a8\"], [0.3333333333333333, \"#9c179e\"], [0.4444444444444444, \"#bd3786\"], [0.5555555555555556, \"#d8576b\"], [0.6666666666666666, \"#ed7953\"], [0.7777777777777778, \"#fb9f3a\"], [0.8888888888888888, \"#fdca26\"], [1.0, \"#f0f921\"]], \"type\": \"histogram2d\"}], \"histogram2dcontour\": [{\"colorbar\": {\"outlinewidth\": 0, \"ticks\": \"\"}, \"colorscale\": [[0.0, \"#0d0887\"], [0.1111111111111111, \"#46039f\"], [0.2222222222222222, \"#7201a8\"], [0.3333333333333333, \"#9c179e\"], [0.4444444444444444, \"#bd3786\"], [0.5555555555555556, \"#d8576b\"], [0.6666666666666666, \"#ed7953\"], [0.7777777777777778, \"#fb9f3a\"], [0.8888888888888888, \"#fdca26\"], [1.0, \"#f0f921\"]], \"type\": \"histogram2dcontour\"}], \"mesh3d\": [{\"colorbar\": {\"outlinewidth\": 0, \"ticks\": \"\"}, \"type\": \"mesh3d\"}], \"parcoords\": [{\"line\": {\"colorbar\": {\"outlinewidth\": 0, \"ticks\": \"\"}}, \"type\": \"parcoords\"}], \"pie\": [{\"automargin\": true, \"type\": \"pie\"}], \"scatter\": [{\"marker\": {\"colorbar\": {\"outlinewidth\": 0, \"ticks\": \"\"}}, \"type\": \"scatter\"}], \"scatter3d\": [{\"line\": {\"colorbar\": {\"outlinewidth\": 0, \"ticks\": \"\"}}, \"marker\": {\"colorbar\": {\"outlinewidth\": 0, \"ticks\": \"\"}}, \"type\": \"scatter3d\"}], \"scattercarpet\": [{\"marker\": {\"colorbar\": {\"outlinewidth\": 0, \"ticks\": \"\"}}, \"type\": \"scattercarpet\"}], \"scattergeo\": [{\"marker\": {\"colorbar\": {\"outlinewidth\": 0, \"ticks\": \"\"}}, \"type\": \"scattergeo\"}], \"scattergl\": [{\"marker\": {\"colorbar\": {\"outlinewidth\": 0, \"ticks\": \"\"}}, \"type\": \"scattergl\"}], \"scattermapbox\": [{\"marker\": {\"colorbar\": {\"outlinewidth\": 0, \"ticks\": \"\"}}, \"type\": \"scattermapbox\"}], \"scatterpolar\": [{\"marker\": {\"colorbar\": {\"outlinewidth\": 0, \"ticks\": \"\"}}, \"type\": \"scatterpolar\"}], \"scatterpolargl\": [{\"marker\": {\"colorbar\": {\"outlinewidth\": 0, \"ticks\": \"\"}}, \"type\": \"scatterpolargl\"}], \"scatterternary\": [{\"marker\": {\"colorbar\": {\"outlinewidth\": 0, \"ticks\": \"\"}}, \"type\": \"scatterternary\"}], \"surface\": [{\"colorbar\": {\"outlinewidth\": 0, \"ticks\": \"\"}, \"colorscale\": [[0.0, \"#0d0887\"], [0.1111111111111111, \"#46039f\"], [0.2222222222222222, \"#7201a8\"], [0.3333333333333333, \"#9c179e\"], [0.4444444444444444, \"#bd3786\"], [0.5555555555555556, \"#d8576b\"], [0.6666666666666666, \"#ed7953\"], [0.7777777777777778, \"#fb9f3a\"], [0.8888888888888888, \"#fdca26\"], [1.0, \"#f0f921\"]], \"type\": \"surface\"}], \"table\": [{\"cells\": {\"fill\": {\"color\": \"#EBF0F8\"}, \"line\": {\"color\": \"white\"}}, \"header\": {\"fill\": {\"color\": \"#C8D4E3\"}, \"line\": {\"color\": \"white\"}}, \"type\": \"table\"}]}, \"layout\": {\"annotationdefaults\": {\"arrowcolor\": \"#2a3f5f\", \"arrowhead\": 0, \"arrowwidth\": 1}, \"coloraxis\": {\"colorbar\": {\"outlinewidth\": 0, \"ticks\": \"\"}}, \"colorscale\": {\"diverging\": [[0, \"#8e0152\"], [0.1, \"#c51b7d\"], [0.2, \"#de77ae\"], [0.3, \"#f1b6da\"], [0.4, \"#fde0ef\"], [0.5, \"#f7f7f7\"], [0.6, \"#e6f5d0\"], [0.7, \"#b8e186\"], [0.8, \"#7fbc41\"], [0.9, \"#4d9221\"], [1, \"#276419\"]], \"sequential\": [[0.0, \"#0d0887\"], [0.1111111111111111, \"#46039f\"], [0.2222222222222222, \"#7201a8\"], [0.3333333333333333, \"#9c179e\"], [0.4444444444444444, \"#bd3786\"], [0.5555555555555556, \"#d8576b\"], [0.6666666666666666, \"#ed7953\"], [0.7777777777777778, \"#fb9f3a\"], [0.8888888888888888, \"#fdca26\"], [1.0, \"#f0f921\"]], \"sequentialminus\": [[0.0, \"#0d0887\"], [0.1111111111111111, \"#46039f\"], [0.2222222222222222, \"#7201a8\"], [0.3333333333333333, \"#9c179e\"], [0.4444444444444444, \"#bd3786\"], [0.5555555555555556, \"#d8576b\"], [0.6666666666666666, \"#ed7953\"], [0.7777777777777778, \"#fb9f3a\"], [0.8888888888888888, \"#fdca26\"], [1.0, \"#f0f921\"]]}, \"colorway\": [\"#636efa\", \"#EF553B\", \"#00cc96\", \"#ab63fa\", \"#FFA15A\", \"#19d3f3\", \"#FF6692\", \"#B6E880\", \"#FF97FF\", \"#FECB52\"], \"font\": {\"color\": \"#2a3f5f\"}, \"geo\": {\"bgcolor\": \"white\", \"lakecolor\": \"white\", \"landcolor\": \"#E5ECF6\", \"showlakes\": true, \"showland\": true, \"subunitcolor\": \"white\"}, \"hoverlabel\": {\"align\": \"left\"}, \"hovermode\": \"closest\", \"mapbox\": {\"style\": \"light\"}, \"paper_bgcolor\": \"white\", \"plot_bgcolor\": \"#E5ECF6\", \"polar\": {\"angularaxis\": {\"gridcolor\": \"white\", \"linecolor\": \"white\", \"ticks\": \"\"}, \"bgcolor\": \"#E5ECF6\", \"radialaxis\": {\"gridcolor\": \"white\", \"linecolor\": \"white\", \"ticks\": \"\"}}, \"scene\": {\"xaxis\": {\"backgroundcolor\": \"#E5ECF6\", \"gridcolor\": \"white\", \"gridwidth\": 2, \"linecolor\": \"white\", \"showbackground\": true, \"ticks\": \"\", \"zerolinecolor\": \"white\"}, \"yaxis\": {\"backgroundcolor\": \"#E5ECF6\", \"gridcolor\": \"white\", \"gridwidth\": 2, \"linecolor\": \"white\", \"showbackground\": true, \"ticks\": \"\", \"zerolinecolor\": \"white\"}, \"zaxis\": {\"backgroundcolor\": \"#E5ECF6\", \"gridcolor\": \"white\", \"gridwidth\": 2, \"linecolor\": \"white\", \"showbackground\": true, \"ticks\": \"\", \"zerolinecolor\": \"white\"}}, \"shapedefaults\": {\"line\": {\"color\": \"#2a3f5f\"}}, \"ternary\": {\"aaxis\": {\"gridcolor\": \"white\", \"linecolor\": \"white\", \"ticks\": \"\"}, \"baxis\": {\"gridcolor\": \"white\", \"linecolor\": \"white\", \"ticks\": \"\"}, \"bgcolor\": \"#E5ECF6\", \"caxis\": {\"gridcolor\": \"white\", \"linecolor\": \"white\", \"ticks\": \"\"}}, \"title\": {\"x\": 0.05}, \"xaxis\": {\"automargin\": true, \"gridcolor\": \"white\", \"linecolor\": \"white\", \"ticks\": \"\", \"title\": {\"standoff\": 15}, \"zerolinecolor\": \"white\", \"zerolinewidth\": 2}, \"yaxis\": {\"automargin\": true, \"gridcolor\": \"white\", \"linecolor\": \"white\", \"ticks\": \"\", \"title\": {\"standoff\": 15}, \"zerolinecolor\": \"white\", \"zerolinewidth\": 2}}}, \"title\": {\"text\": \"Evolu\\u00e7\\u00e3o Nota Ci\\u00eancias\"}, \"updatemenus\": [{\"buttons\": [{\"args\": [null, {\"frame\": {\"duration\": 500, \"redraw\": true}, \"fromcurrent\": true, \"mode\": \"immediate\", \"transition\": {\"duration\": 500, \"easing\": \"linear\"}}], \"label\": \"&#9654;\", \"method\": \"animate\"}, {\"args\": [[null], {\"frame\": {\"duration\": 0, \"redraw\": true}, \"fromcurrent\": true, \"mode\": \"immediate\", \"transition\": {\"duration\": 0, \"easing\": \"linear\"}}], \"label\": \"&#9724;\", \"method\": \"animate\"}], \"direction\": \"left\", \"pad\": {\"r\": 10, \"t\": 70}, \"showactive\": false, \"type\": \"buttons\", \"x\": 0.1, \"xanchor\": \"right\", \"y\": 0, \"yanchor\": \"top\"}]},\n",
       "                        {\"responsive\": true}\n",
       "                    ).then(function(){\n",
       "                            Plotly.addFrames('a0a38307-340a-415b-a7a9-adb5658698d5', [{\"data\": [{\"coloraxis\": \"coloraxis\", \"geo\": \"geo\", \"hovertemplate\": \"<b>%{hovertext}</b><br><br>Ano=2009<br>Pa\\u00eds=%{location}<br>Nota Ci\\u00eancias=%{z}<extra></extra>\", \"hovertext\": [\"AUS\", \"BEL\", \"BRA\", \"CAN\", \"CHE\", \"CHL\", \"CZE\", \"DNK\", \"ESP\", \"EST\", \"FIN\", \"FRA\", \"GBR\", \"HUN\", \"IRL\", \"ISL\", \"ISR\", \"ITA\", \"JPN\", \"KOR\", \"LUX\", \"LVA\", \"MEX\", \"NLD\", \"NOR\", \"POL\", \"PRT\", \"RUS\", \"SVK\", \"SVN\", \"SWE\", \"TUR\", \"USA\"], \"locations\": [\"AUS\", \"BEL\", \"BRA\", \"CAN\", \"CHE\", \"CHL\", \"CZE\", \"DNK\", \"ESP\", \"EST\", \"FIN\", \"FRA\", \"GBR\", \"HUN\", \"IRL\", \"ISL\", \"ISR\", \"ITA\", \"JPN\", \"KOR\", \"LUX\", \"LVA\", \"MEX\", \"NLD\", \"NOR\", \"POL\", \"PRT\", \"RUS\", \"SVK\", \"SVN\", \"SWE\", \"TUR\", \"USA\"], \"name\": \"\", \"z\": [527.0, 507.0, 405.0, 529.0, 517.0, 447.0, 500.0, 499.0, 488.0, 528.0, 554.0, 498.0, 514.0, 503.0, 508.0, 496.0, 455.0, 489.0, 539.0, 538.0, 484.0, 494.0, 416.0, 522.0, 500.0, 508.0, 493.0, 486.0, 490.0, 512.0, 495.0, 454.0, 502.0], \"type\": \"choropleth\"}], \"name\": \"2009\"}, {\"data\": [{\"coloraxis\": \"coloraxis\", \"geo\": \"geo\", \"hovertemplate\": \"<b>%{hovertext}</b><br><br>Ano=2012<br>Pa\\u00eds=%{location}<br>Nota Ci\\u00eancias=%{z}<extra></extra>\", \"hovertext\": [\"AUS\", \"AUT\", \"BEL\", \"BRA\", \"CAN\", \"CHE\", \"CHL\", \"CZE\", \"DEU\", \"DNK\", \"ESP\", \"EST\", \"FIN\", \"FRA\", \"GBR\", \"GRC\", \"HUN\", \"IDN\", \"IRL\", \"ISL\", \"ISR\", \"ITA\", \"JPN\", \"KOR\", \"LUX\", \"LVA\", \"MEX\", \"NLD\", \"NOR\", \"NZL\", \"POL\", \"PRT\", \"RUS\", \"SVK\", \"SVN\", \"SWE\", \"TUR\", \"USA\"], \"locations\": [\"AUS\", \"AUT\", \"BEL\", \"BRA\", \"CAN\", \"CHE\", \"CHL\", \"CZE\", \"DEU\", \"DNK\", \"ESP\", \"EST\", \"FIN\", \"FRA\", \"GBR\", \"GRC\", \"HUN\", \"IDN\", \"IRL\", \"ISL\", \"ISR\", \"ITA\", \"JPN\", \"KOR\", \"LUX\", \"LVA\", \"MEX\", \"NLD\", \"NOR\", \"NZL\", \"POL\", \"PRT\", \"RUS\", \"SVK\", \"SVN\", \"SWE\", \"TUR\", \"USA\"], \"name\": \"\", \"z\": [521.0, 506.0, 505.0, 402.0, 525.0, 515.0, 445.0, 508.0, 524.0, 498.0, 496.0, 541.0, 545.0, 499.0, 514.0, 467.0, 494.0, 382.0, 522.0, 478.0, 470.0, 494.0, 547.0, 538.0, 491.0, 502.0, 415.0, 522.0, 495.0, 516.0, 526.0, 489.0, 487.0, 471.0, 514.0, 485.0, 463.0, 497.0], \"type\": \"choropleth\"}], \"name\": \"2012\"}, {\"data\": [{\"coloraxis\": \"coloraxis\", \"geo\": \"geo\", \"hovertemplate\": \"<b>%{hovertext}</b><br><br>Ano=2015<br>Pa\\u00eds=%{location}<br>Nota Ci\\u00eancias=%{z}<extra></extra>\", \"hovertext\": [\"AUS\", \"AUT\", \"BEL\", \"BRA\", \"CAN\", \"CHE\", \"CHL\", \"COL\", \"CZE\", \"DEU\", \"ESP\", \"EST\", \"FIN\", \"FRA\", \"GBR\", \"GRC\", \"HUN\", \"IDN\", \"IRL\", \"ISL\", \"ISR\", \"ITA\", \"JPN\", \"KOR\", \"LUX\", \"LVA\", \"MEX\", \"NLD\", \"NOR\", \"NZL\", \"POL\", \"PRT\", \"SVK\", \"SVN\", \"SWE\", \"TUR\", \"USA\"], \"locations\": [\"AUS\", \"AUT\", \"BEL\", \"BRA\", \"CAN\", \"CHE\", \"CHL\", \"COL\", \"CZE\", \"DEU\", \"ESP\", \"EST\", \"FIN\", \"FRA\", \"GBR\", \"GRC\", \"HUN\", \"IDN\", \"IRL\", \"ISL\", \"ISR\", \"ITA\", \"JPN\", \"KOR\", \"LUX\", \"LVA\", \"MEX\", \"NLD\", \"NOR\", \"NZL\", \"POL\", \"PRT\", \"SVK\", \"SVN\", \"SWE\", \"TUR\", \"USA\"], \"name\": \"\", \"z\": [510.0, 495.0, 502.0, 401.0, 528.0, 506.0, 447.0, 416.0, 493.0, 509.0, 493.0, 534.0, 531.0, 495.0, 509.0, 455.0, 477.0, 403.0, 503.0, 473.0, 467.0, 481.0, 538.0, 516.0, 483.0, 490.0, 416.0, 509.0, 498.0, 513.0, 501.0, 501.0, 461.0, 513.0, 493.0, 425.0, 496.0], \"type\": \"choropleth\"}], \"name\": \"2015\"}]);\n",
       "                        }).then(function(){\n",
       "                            \n",
       "var gd = document.getElementById('a0a38307-340a-415b-a7a9-adb5658698d5');\n",
       "var x = new MutationObserver(function (mutations, observer) {{\n",
       "        var display = window.getComputedStyle(gd).display;\n",
       "        if (!display || display === 'none') {{\n",
       "            console.log([gd, 'removed!']);\n",
       "            Plotly.purge(gd);\n",
       "            observer.disconnect();\n",
       "        }}\n",
       "}});\n",
       "\n",
       "// Listen for the removal of the full notebook cells\n",
       "var notebookContainer = gd.closest('#notebook-container');\n",
       "if (notebookContainer) {{\n",
       "    x.observe(notebookContainer, {childList: true});\n",
       "}}\n",
       "\n",
       "// Listen for the clearing of the current output cell\n",
       "var outputEl = gd.closest('.output');\n",
       "if (outputEl) {{\n",
       "    x.observe(outputEl, {childList: true});\n",
       "}}\n",
       "\n",
       "                        })\n",
       "                };\n",
       "                });\n",
       "            </script>\n",
       "        </div>"
      ]
     },
     "metadata": {},
     "output_type": "display_data"
    }
   ],
   "source": [
    "geograficos_que_precisam_de_tratamento('Nota Ciências')"
   ]
  }
 ],
 "metadata": {
  "kernelspec": {
   "display_name": "Python 3",
   "language": "python",
   "name": "python3"
  },
  "language_info": {
   "codemirror_mode": {
    "name": "ipython",
    "version": 3
   },
   "file_extension": ".py",
   "mimetype": "text/x-python",
   "name": "python",
   "nbconvert_exporter": "python",
   "pygments_lexer": "ipython3",
   "version": "3.7.6"
  }
 },
 "nbformat": 4,
 "nbformat_minor": 4
}
