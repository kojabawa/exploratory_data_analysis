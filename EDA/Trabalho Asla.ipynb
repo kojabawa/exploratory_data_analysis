{
 "cells": [
  {
   "cell_type": "markdown",
   "metadata": {},
   "source": [
    "---\n",
    "\n",
    "<h1><center><font color='#82ad32'>Gasto Público em Educação x Desempenho no PISA</font></center></h1>\n",
    "\n",
    "---\n",
    "\n",
    "O objetivo deste trabalho é avaliar possíveis correlações entre o gasto público de um país em educação e o desempenho dos alunos deste país na prova do Programa Internacional de Avaliação de Estudantes (PISA). Todas as informações necessárias foram baixadas no site de dados da OCDE [aqui](https://data.oecd.org/), onde é possível encontrar o histórico dos indicadores pertinentes em formato ```.csv```. \n",
    "\n",
    "Vale notar que por gasto público em educação nos referimos à porcentagem do PIB investida pelo país na educação primária e secundária. O desempenho do país no PISA, por sua vez, faz referência à nota de cada país na prova e está dividido em três bases, uma para cada área do conhecimento avaliada: Leitura, Matemática e Ciência. Maiores informações a respeito do PISA podem ser encontradas [aqui](http://portal.inep.gov.br/pisa), no site do INEP."
   ]
  },
  {
   "cell_type": "markdown",
   "metadata": {},
   "source": [
    "### <font color='#82ad32'>Divisão do Trabalho</font>\n",
    "\n",
    "0. Importação das Bibliotecas\n",
    "1. Input das Bases\n",
    "2. Tratamento das Bases\n",
    "3. Unificação das Bases\n",
    "4. Análise Exploratória dos Dados\n",
    "5. Correlação entre Gasto Público em Educação x Desempenho no PISA\n"
   ]
  },
  {
   "cell_type": "markdown",
   "metadata": {},
   "source": [
    "---\n",
    "\n",
    "## <font color='#82ad32'>0. Importação das Bibliotecas"
   ]
  },
  {
   "cell_type": "code",
   "execution_count": 2,
   "metadata": {},
   "outputs": [],
   "source": [
    "import numpy as np\n",
    "import pandas as pd\n",
    "import seaborn as sns\n",
    "import plotly.express as px\n",
    "import matplotlib.pyplot as plt\n",
    "import plotly.figure_factory as ff\n",
    "import matplotlib.gridspec as gridspec"
   ]
  },
  {
   "cell_type": "markdown",
   "metadata": {},
   "source": [
    "---\n",
    "\n",
    "## <font color='#82ad32'>1. Input das Bases"
   ]
  },
  {
   "cell_type": "code",
   "execution_count": 4,
   "metadata": {},
   "outputs": [],
   "source": [
    "# Gasto Público em Educação\n",
    "gp_educ = pd.read_csv('gasto_publico_educ_00-15.csv')\n",
    "\n",
    "# Desempenho no PISA\n",
    "# Matemática\n",
    "pisa_m = pd.read_csv('pisa_mat_03-18.csv')\n",
    "# Leitura\n",
    "pisa_l = pd.read_csv('pisa_leitura_00-18.csv')\n",
    "# Ciência\n",
    "pisa_c = pd.read_csv('pisa_sci_06-18.csv')\n",
    "\n",
    "# Chaves para cruzar os dados com seus paises e Continentes\n",
    "gapminder_keys = px.data.gapminder()[['country', \n",
    "                                      'continent', \n",
    "                                      'iso_alpha']\n",
    "                                    ].drop_duplicates().reset_index(drop=True)"
   ]
  },
  {
   "cell_type": "markdown",
   "metadata": {},
   "source": [
    "---\n",
    "\n",
    "## <font color='#82ad32'>2. Tratamento das Bases"
   ]
  },
  {
   "cell_type": "code",
   "execution_count": 5,
   "metadata": {},
   "outputs": [],
   "source": [
    "#Selecionando apenas colunas pertinentes\n",
    "gp_educ.drop(['INDICATOR','SUBJECT','MEASURE','FREQUENCY','Flag Codes'],axis=1,inplace=True)\n",
    "\n",
    "pisa_m.drop( ['INDICATOR','SUBJECT','MEASURE','FREQUENCY','Flag Codes'],axis=1,inplace=True)\n",
    "pisa_l.drop( ['INDICATOR','SUBJECT','MEASURE','FREQUENCY','Flag Codes'],axis=1,inplace=True)\n",
    "pisa_c.drop( ['INDICATOR','SUBJECT','MEASURE','FREQUENCY','Flag Codes'],axis=1,inplace=True)\n",
    "\n",
    "#Com isso, todas as bases contêm apenas o nome do país, o valor do indicador e o ano."
   ]
  },
  {
   "cell_type": "code",
   "execution_count": 6,
   "metadata": {},
   "outputs": [],
   "source": [
    "#Renomeando as colunas para maior comodidade \n",
    "gp_educ.columns = ['country','Ano','Gasto Educ (%)']\n",
    "pisa_m.columns  = ['country','Ano','Nota Matemática']\n",
    "pisa_l.columns  = ['country','Ano','Nota Leitura']\n",
    "pisa_c.columns  = ['country','Ano','Nota Ciências']\n",
    "\n",
    "gapminder_keys.columns = ['País', 'Continente', 'country'] # country vira o iso_alpha"
   ]
  },
  {
   "cell_type": "code",
   "execution_count": 7,
   "metadata": {},
   "outputs": [
    {
     "name": "stdout",
     "output_type": "stream",
     "text": [
      "country            object\n",
      "Ano                 int64\n",
      "Gasto Educ (%)    float64\n",
      "dtype: object\n",
      "\n",
      "country            object\n",
      "Ano                 int64\n",
      "Nota Matemática     int64\n",
      "dtype: object\n",
      "\n",
      "country          object\n",
      "Ano               int64\n",
      "Nota Ciências     int64\n",
      "dtype: object\n",
      "\n",
      "country         object\n",
      "Ano              int64\n",
      "Nota Leitura     int64\n",
      "dtype: object\n"
     ]
    }
   ],
   "source": [
    "#Avaliando se as colunas estão sendo lidas corretamente. Ano e Valor devem ser lidos como números inteiros (int)\n",
    "#ou fracionados (float)\n",
    "\n",
    "print(gp_educ.dtypes)\n",
    "print()\n",
    "print(pisa_m.dtypes)\n",
    "print()\n",
    "print(pisa_c.dtypes)\n",
    "print()\n",
    "print(pisa_l.dtypes)"
   ]
  },
  {
   "cell_type": "markdown",
   "metadata": {},
   "source": [
    "---\n",
    "\n",
    "## <font color='#82ad32'>3. Unificação das Bases"
   ]
  },
  {
   "cell_type": "code",
   "execution_count": 8,
   "metadata": {},
   "outputs": [],
   "source": [
    "#Para unificar as bases, precisamos de uma coluna para usar de referência. Como os valores fazem referência a um país e a um ano\n",
    "#simultaneamente, vamos concatenar a coluna país com a coluna ano. Com isso, essa coluna concatenada poderá ser usada para \n",
    "#cruzar as bases sem perda de informação.\n",
    "\n",
    "gp_educ['País-Ano'] = gp_educ['country'] + '-' + gp_educ['Ano'].astype(str)\n",
    "\n",
    "pisa_m['País-Ano']  = pisa_m['country']  + '-' + pisa_m['Ano'].astype(str)\n",
    "pisa_l['País-Ano']  = pisa_l['country']  + '-' + pisa_l['Ano'].astype(str)\n",
    "pisa_c['País-Ano']  = pisa_c['country']  + '-' + pisa_c['Ano'].astype(str)"
   ]
  },
  {
   "cell_type": "code",
   "execution_count": 9,
   "metadata": {},
   "outputs": [],
   "source": [
    "#Concatenando as bases\n",
    "base = pd.concat([gp_educ,pisa_m,pisa_l,pisa_c],axis=0,sort=False)\n",
    "#Com isso, a variável 'base' estará agrupada, mas terá valores repetidos para o país-ano \n",
    "#(duas linhas para Brasil-2005, por exemplo)\n",
    "\n",
    "#Para termos apenas um valor para cada país-ano, vamos agrupar a base na coluna País-Ano utilizando como função a mínimo. \n",
    "#Poderíamos aqui utilizar outras funções que não a mínimo, pois só existe 1 valor de cada indicador para cada país-ano.\n",
    "#Se fizessemos a função max(), por exemplo, o resultado seria o mesmo, pois o mínimo de [nan,nan,x] é igual ao\n",
    "#máximo de [nan,nan,x], já que só possui um valor - nan não conta.\n",
    "\n",
    "base_group = base.groupby('País-Ano').min()\n",
    "\n",
    "base_group = base_group.merge(gapminder_keys, on='country', how='left')"
   ]
  },
  {
   "cell_type": "markdown",
   "metadata": {},
   "source": [
    "---\n",
    "\n",
    "## <font color='#82ad32'>4. Análise Exploratória dos Dados"
   ]
  },
  {
   "cell_type": "markdown",
   "metadata": {},
   "source": [
    "Vamos ver quantos lançamentos existem por continente. "
   ]
  },
  {
   "cell_type": "code",
   "execution_count": 43,
   "metadata": {},
   "outputs": [
    {
     "data": {
      "text/html": [
       "<div>\n",
       "<style scoped>\n",
       "    .dataframe tbody tr th:only-of-type {\n",
       "        vertical-align: middle;\n",
       "    }\n",
       "\n",
       "    .dataframe tbody tr th {\n",
       "        vertical-align: top;\n",
       "    }\n",
       "\n",
       "    .dataframe thead th {\n",
       "        text-align: right;\n",
       "    }\n",
       "</style>\n",
       "<table border=\"1\" class=\"dataframe\">\n",
       "  <thead>\n",
       "    <tr style=\"text-align: right;\">\n",
       "      <th></th>\n",
       "      <th>País</th>\n",
       "    </tr>\n",
       "    <tr>\n",
       "      <th>Continente</th>\n",
       "      <th></th>\n",
       "    </tr>\n",
       "  </thead>\n",
       "  <tbody>\n",
       "    <tr>\n",
       "      <th>Africa</th>\n",
       "      <td>1</td>\n",
       "    </tr>\n",
       "    <tr>\n",
       "      <th>Americas</th>\n",
       "      <td>9</td>\n",
       "    </tr>\n",
       "    <tr>\n",
       "      <th>Asia</th>\n",
       "      <td>11</td>\n",
       "    </tr>\n",
       "    <tr>\n",
       "      <th>Europe</th>\n",
       "      <td>23</td>\n",
       "    </tr>\n",
       "    <tr>\n",
       "      <th>Oceania</th>\n",
       "      <td>2</td>\n",
       "    </tr>\n",
       "  </tbody>\n",
       "</table>\n",
       "</div>"
      ],
      "text/plain": [
       "            País\n",
       "Continente      \n",
       "Africa         1\n",
       "Americas       9\n",
       "Asia          11\n",
       "Europe        23\n",
       "Oceania        2"
      ]
     },
     "execution_count": 43,
     "metadata": {},
     "output_type": "execute_result"
    }
   ],
   "source": [
    "base_group.groupby(['País',\n",
    "                    'Continente'],\n",
    "                   as_index=False).count()[['País',\n",
    "                                            'Continente']].groupby('Continente').count()"
   ]
  },
  {
   "cell_type": "markdown",
   "metadata": {},
   "source": [
    "Conforme pode ser visto, a maior parte dos países é europeu. Também vimos que no caso da África existe apenas 1 país, apesar do continente possuir bem mais. Por isso, decidimos omitir a África da base - além de possuir apenas 1, o país em questão é a África do Sul, que é [o terceiro país mais rico do continente](https://en.wikipedia.org/wiki/List_of_African_countries_by_GDP_(nominal)) e portanto não é representativo."
   ]
  },
  {
   "cell_type": "code",
   "execution_count": 47,
   "metadata": {},
   "outputs": [],
   "source": [
    "base_group = base_group[base_group['Continente']!='Africa'] "
   ]
  },
  {
   "cell_type": "markdown",
   "metadata": {},
   "source": [
    "Feito isso, vamos buscar entender o comportamento das bases. Antes de mais nada, veremos quais são as estatísticas descritivas."
   ]
  },
  {
   "cell_type": "code",
   "execution_count": 107,
   "metadata": {},
   "outputs": [
    {
     "data": {
      "text/html": [
       "<div>\n",
       "<style scoped>\n",
       "    .dataframe tbody tr th:only-of-type {\n",
       "        vertical-align: middle;\n",
       "    }\n",
       "\n",
       "    .dataframe tbody tr th {\n",
       "        vertical-align: top;\n",
       "    }\n",
       "\n",
       "    .dataframe thead th {\n",
       "        text-align: right;\n",
       "    }\n",
       "</style>\n",
       "<table border=\"1\" class=\"dataframe\">\n",
       "  <thead>\n",
       "    <tr style=\"text-align: right;\">\n",
       "      <th></th>\n",
       "      <th>Gasto Educ (%)</th>\n",
       "      <th>Nota Matemática</th>\n",
       "      <th>Nota Leitura</th>\n",
       "      <th>Nota Ciências</th>\n",
       "    </tr>\n",
       "  </thead>\n",
       "  <tbody>\n",
       "    <tr>\n",
       "      <th>count</th>\n",
       "      <td>375.000000</td>\n",
       "      <td>242.000000</td>\n",
       "      <td>270.000000</td>\n",
       "      <td>207.000000</td>\n",
       "    </tr>\n",
       "    <tr>\n",
       "      <th>mean</th>\n",
       "      <td>3.283661</td>\n",
       "      <td>488.107438</td>\n",
       "      <td>487.051852</td>\n",
       "      <td>491.352657</td>\n",
       "    </tr>\n",
       "    <tr>\n",
       "      <th>std</th>\n",
       "      <td>0.673434</td>\n",
       "      <td>41.439613</td>\n",
       "      <td>34.827417</td>\n",
       "      <td>36.545573</td>\n",
       "    </tr>\n",
       "    <tr>\n",
       "      <th>min</th>\n",
       "      <td>1.543000</td>\n",
       "      <td>356.000000</td>\n",
       "      <td>371.000000</td>\n",
       "      <td>382.000000</td>\n",
       "    </tr>\n",
       "    <tr>\n",
       "      <th>25%</th>\n",
       "      <td>2.750000</td>\n",
       "      <td>481.000000</td>\n",
       "      <td>476.000000</td>\n",
       "      <td>479.500000</td>\n",
       "    </tr>\n",
       "    <tr>\n",
       "      <th>50%</th>\n",
       "      <td>3.241000</td>\n",
       "      <td>495.000000</td>\n",
       "      <td>494.000000</td>\n",
       "      <td>498.000000</td>\n",
       "    </tr>\n",
       "    <tr>\n",
       "      <th>75%</th>\n",
       "      <td>3.734500</td>\n",
       "      <td>514.000000</td>\n",
       "      <td>507.750000</td>\n",
       "      <td>514.500000</td>\n",
       "    </tr>\n",
       "    <tr>\n",
       "      <th>max</th>\n",
       "      <td>5.031000</td>\n",
       "      <td>564.000000</td>\n",
       "      <td>556.000000</td>\n",
       "      <td>563.000000</td>\n",
       "    </tr>\n",
       "  </tbody>\n",
       "</table>\n",
       "</div>"
      ],
      "text/plain": [
       "       Gasto Educ (%)  Nota Matemática  Nota Leitura  Nota Ciências\n",
       "count      375.000000       242.000000    270.000000     207.000000\n",
       "mean         3.283661       488.107438    487.051852     491.352657\n",
       "std          0.673434        41.439613     34.827417      36.545573\n",
       "min          1.543000       356.000000    371.000000     382.000000\n",
       "25%          2.750000       481.000000    476.000000     479.500000\n",
       "50%          3.241000       495.000000    494.000000     498.000000\n",
       "75%          3.734500       514.000000    507.750000     514.500000\n",
       "max          5.031000       564.000000    556.000000     563.000000"
      ]
     },
     "execution_count": 107,
     "metadata": {},
     "output_type": "execute_result"
    }
   ],
   "source": [
    "base_group.describe()[['Gasto Educ (%)', 'Nota Matemática', 'Nota Leitura','Nota Ciências']]"
   ]
  },
  {
   "cell_type": "markdown",
   "metadata": {},
   "source": [
    "Percebemos que o count das colunas não é igual. Isto significa que não existem todos os indicadores, todos os anos para todos os países. Isto é um problema, pois implica que precisaremos lidar com esses espaços vazios.\n",
    "\n",
    "Quanto ao Gasto Público em educação, percebemos que existe uma amplitude grande - de 1.5% à 5.1% de investimento -, com uma média de 3.29%\n",
    "\n",
    "Já as notas do PISA possuem médias muito parecidas, entre 485 e 490 pontos. Também possuem distribuições muito similares."
   ]
  },
  {
   "cell_type": "code",
   "execution_count": 106,
   "metadata": {},
   "outputs": [
    {
     "data": {
      "text/plain": [
       "Text(0.5, 0.98, 'Distribuição das Variáveis')"
      ]
     },
     "execution_count": 106,
     "metadata": {},
     "output_type": "execute_result"
    },
    {
     "data": {
      "image/png": "[encoded data removed]",
      "text/plain": [
       "<Figure size 864x432 with 4 Axes>"
      ]
     },
     "metadata": {
      "needs_background": "light"
     },
     "output_type": "display_data"
    }
   ],
   "source": [
    "#Vamos visualizar as distribuições dessas colunas.\n",
    "fig = plt.figure(figsize=(12,6))\n",
    "\n",
    "#Gerando um espaço de imagem do matplotlib\n",
    "gs = gridspec.GridSpec(3, 2, wspace=0.2, hspace=0.4,figure=fig)\n",
    "\n",
    "#Criando os sub-espaços (1 maior, e 3 menores)\n",
    "#No código abaixo estamos forçando os gráficos do PISA a terem todos os mesmo eixo X.\n",
    "ax0 = fig.add_subplot(gs[0, 1])\n",
    "plt.yticks([])\n",
    "plt.yticks([])\n",
    "plt.title('Nota em Matemática')\n",
    "plt.setp(ax0.get_xticklabels(), visible=False)\n",
    "\n",
    "ax1 = fig.add_subplot(gs[1, 1],sharex=ax0)\n",
    "plt.yticks([])\n",
    "plt.title('Nota em Leitura')\n",
    "plt.setp(ax1.get_xticklabels(), visible=False)\n",
    "\n",
    "ax2 = fig.add_subplot(gs[2, 1],sharex=ax0)\n",
    "plt.yticks([])\n",
    "plt.title('Nota em Ciências')\n",
    "\n",
    "ax3 = fig.add_subplot(gs[:, 0])\n",
    "plt.yticks([])\n",
    "plt.xticks([x/100 for x in range(100,700,50)])\n",
    "plt.title('Gasto Público em Educação (% do PIB)')\n",
    "\n",
    "#Plotando os gráficos de distribuição.\n",
    "sns.distplot(base_group['Gasto Educ (%)'],ax=ax3,hist=False,axlabel=False,kde_kws={\"shade\": True},color='#342d36')\n",
    "sns.distplot(base_group['Nota Matemática'],ax=ax0,hist=False,axlabel=False,kde_kws={\"shade\": True},color='#eb8989')\n",
    "sns.distplot(base_group['Nota Leitura'],ax=ax1,hist=False,kde_kws={\"shade\": True},axlabel=False)\n",
    "sns.distplot(base_group['Nota Ciências'],ax=ax2,hist=False,axlabel=False,kde_kws={\"shade\": True},color='#62e571')\n",
    "\n",
    "fig.suptitle('Distribuição das Variáveis',fontsize=20)"
   ]
  },
  {
   "cell_type": "markdown",
   "metadata": {},
   "source": [
    "As visualizações estatísticas mostram que as variáveis para as notas são parecidas. Vamos verificar a correlação entre elas."
   ]
  },
  {
   "cell_type": "code",
   "execution_count": 94,
   "metadata": {},
   "outputs": [
    {
     "data": {
      "text/plain": [
       "<matplotlib.axes._subplots.AxesSubplot at 0x2165b87dc40>"
      ]
     },
     "execution_count": 94,
     "metadata": {},
     "output_type": "execute_result"
    },
    {
     "data": {
      "image/png": "[encoded data removed]",
      "text/plain": [
       "<Figure size 432x288 with 2 Axes>"
      ]
     },
     "metadata": {
      "needs_background": "light"
     },
     "output_type": "display_data"
    }
   ],
   "source": [
    "sns.heatmap(base_group[['Gasto Educ (%)','Nota Leitura','Nota Matemática','Nota Ciências']].corr(), annot=True,\n",
    "            cmap='Greens',fmt='.2g')"
   ]
  },
  {
   "cell_type": "markdown",
   "metadata": {},
   "source": [
    "De fato, o comportamento das colunas é bastante correlacionado. Por isso, de agora em diante, com pouca perda de generalidade, vamos simplificar e criar uma coluna única de nota."
   ]
  },
  {
   "cell_type": "code",
   "execution_count": 108,
   "metadata": {},
   "outputs": [],
   "source": [
    "base_group['Nota Média'] = np.mean(base_group[['Nota Leitura','Nota Matemática','Nota Ciências']],axis=1)"
   ]
  },
  {
   "cell_type": "code",
   "execution_count": 256,
   "metadata": {},
   "outputs": [
    {
     "data": {
      "text/plain": [
       "Text(0.5, 0.98, 'Distribuição das Variáveis')"
      ]
     },
     "execution_count": 256,
     "metadata": {},
     "output_type": "execute_result"
    },
    {
     "data": {
      "image/png": "[encoded data removed]",
      "text/plain": [
       "<Figure size 864x432 with 2 Axes>"
      ]
     },
     "metadata": {
      "needs_background": "light"
     },
     "output_type": "display_data"
    }
   ],
   "source": [
    "#Vamos visualizar as distribuições dessas colunas.\n",
    "fig = plt.figure(figsize=(12,6))\n",
    "\n",
    "#Gerando um espaço de imagem do matplotlib\n",
    "gs = gridspec.GridSpec(3, 2, wspace=0.2, hspace=0.4,figure=fig)\n",
    "\n",
    "#Criando os sub-espaços (1 maior, e 3 menores)\n",
    "#No código abaixo estamos forçando os gráficos do PISA a terem todos os mesmo eixo X.\n",
    "ax0 = fig.add_subplot(gs[:, 1])\n",
    "plt.yticks([])\n",
    "plt.yticks([])\n",
    "plt.title('Nota Média')\n",
    "\n",
    "ax3 = fig.add_subplot(gs[:, 0])\n",
    "plt.yticks([])\n",
    "plt.xticks([x/100 for x in range(100,700,50)])\n",
    "plt.title('Gasto Público em Educação (% do PIB)')\n",
    "\n",
    "#Plotando os gráficos de distribuição.\n",
    "sns.distplot(base_group['Gasto Educ (%)'],ax=ax3,hist=False,axlabel=False,kde_kws={\"shade\": True},color='#342d36')\n",
    "sns.distplot(base_group['Nota Média'],ax=ax0,hist=False,axlabel=False,kde_kws={\"shade\": True},color='#eb8989')\n",
    "\n",
    "fig.suptitle('Distribuição das Variáveis',fontsize=20)"
   ]
  },
  {
   "cell_type": "markdown",
   "metadata": {},
   "source": [
    "Percebemos também que a distribuição da média das notas é bimodal. O que isso nos indica é que existe mais de uma realidade na base. Por mais que a maioria dos países siga um comportamento denotado pelo grande pico, as caudas possuem uma segunda moda, o que denota uma segunda realidade.\n",
    "\n",
    "Um possível motivo para essa distribuição bimodal é a presença de vários países europeus na base. Conforme já vimos anteriormente, a Europa é o continente com mais registros e, portanto, pode ser a responsável por distorcer as distribuições. Vamos então analisar as distribuições abertas por continente. "
   ]
  },
  {
   "cell_type": "code",
   "execution_count": 117,
   "metadata": {},
   "outputs": [
    {
     "name": "stderr",
     "output_type": "stream",
     "text": [
      "c:\\users\\antonio.tabajara\\appdata\\local\\programs\\python\\python38\\lib\\site-packages\\seaborn\\categorical.py:1326: RuntimeWarning:\n",
      "\n",
      "invalid value encountered in less\n",
      "\n",
      "c:\\users\\antonio.tabajara\\appdata\\local\\programs\\python\\python38\\lib\\site-packages\\seaborn\\categorical.py:1330: RuntimeWarning:\n",
      "\n",
      "invalid value encountered in greater\n",
      "\n",
      "c:\\users\\antonio.tabajara\\appdata\\local\\programs\\python\\python38\\lib\\site-packages\\seaborn\\categorical.py:1326: RuntimeWarning:\n",
      "\n",
      "invalid value encountered in less\n",
      "\n",
      "c:\\users\\antonio.tabajara\\appdata\\local\\programs\\python\\python38\\lib\\site-packages\\seaborn\\categorical.py:1330: RuntimeWarning:\n",
      "\n",
      "invalid value encountered in greater\n",
      "\n"
     ]
    },
    {
     "data": {
      "image/png": "[encoded data removed]",
      "text/plain": [
       "<Figure size 756x396 with 2 Axes>"
      ]
     },
     "metadata": {
      "needs_background": "light"
     },
     "output_type": "display_data"
    }
   ],
   "source": [
    "#Plotando gráficos de distribuição abertos por continente.\n",
    "f,ax = plt.subplots(2,figsize=[10.5,5.5])\n",
    "\n",
    "sns.violinplot(x=\"Continente\", y=\"Gasto Educ (%)\", data=base_group,\n",
    "                 showfliers = False,ax=ax[0])\n",
    "sns.swarmplot(x=\"Continente\", y=\"Gasto Educ (%)\", data=base_group,\n",
    "                   color='.2',ax=ax[0])\n",
    "ax[0].set_xlabel('')\n",
    "ax[0].set_xticks([])\n",
    "\n",
    "sns.violinplot(x=\"Continente\", y=\"Nota Média\", data=base_group,\n",
    "                 showfliers = False,ax=ax[1])\n",
    "sns.swarmplot(x=\"Continente\", y=\"Nota Média\", data=base_group,\n",
    "                   color='.2',ax=ax[1])\n",
    "plt.tight_layout()"
   ]
  },
  {
   "cell_type": "markdown",
   "metadata": {},
   "source": [
    "Os gráficos de distribuição acima mostram claramente que existem várias realidades nos países. Tanto em termos de desempenho no PISA quanto gasto em educação a Ásia se destaca por possuir duas realidades diferentes. Uma parcela dos países investe em educação e desempenha muito bem, e uma outra parcela não. As Américas possuem uma situação similar a da Ásia, também."
   ]
  },
  {
   "cell_type": "markdown",
   "metadata": {},
   "source": [
    "Por fim, como última visualização desta seção, analisaremos as variáveis no tempo. "
   ]
  },
  {
   "cell_type": "code",
   "execution_count": 224,
   "metadata": {},
   "outputs": [
    {
     "data": {
      "text/plain": [
       "Text(0.5, 0.98, 'Evolução da Educação nos Continentes')"
      ]
     },
     "execution_count": 224,
     "metadata": {},
     "output_type": "execute_result"
    },
    {
     "data": {
      "image/png": "[encoded data removed]",
      "text/plain": [
       "<Figure size 864x360 with 2 Axes>"
      ]
     },
     "metadata": {
      "needs_background": "light"
     },
     "output_type": "display_data"
    }
   ],
   "source": [
    "f,ax = plt.subplots(2,figsize=(12,5),sharex=True)\n",
    "\n",
    "sns.lineplot(data=base_group[base_group['Ano']<=2015],x='Ano',y='Gasto Educ (%)',ax=ax[1],hue='Continente',ci=0,legend=False,linewidth=2)\n",
    "sns.lineplot(data=base_group[base_group['Ano']<=2015],x='Ano',y='Nota Média',ax=ax[0],hue='Continente',ci=0)\n",
    "\n",
    "ax[1].set_xticks([x for x in range(2000,2016)])\n",
    "ax[1].set_xlabel('')\n",
    "ax[1].grid(axis='y', ls=':')\n",
    "\n",
    "ax[0].legend(bbox_to_anchor=(1.05, 0), loc='center left', borderaxespad=0.)\n",
    "ax[0].grid(axis='y', ls=':')\n",
    "\n",
    "sns.despine(left=True)\n",
    "f.suptitle('Evolução da Educação nos Continentes',fontsize=20)"
   ]
  },
  {
   "cell_type": "markdown",
   "metadata": {},
   "source": [
    "Percebemos que na maioria dos continentes houve um crescimento na fração do PIB investida em educação. Apesar disso, nesses mesmos continentes o desempenho dos alunos no PISA não correspondeu. Suspeitamos que o aumento na fração do PIB investida em educação na realidade não represente um aumento em termos reais. O motivo para essa suspeita foi o aumento brusco que ocorreu em todos os continentes entre os anos de 2008 e 2009, momento no qual o mundo viveu uma grande crise financeira. Os PIBs mundiais podem ter diminuido, aumentando a fração gasta em educação para um nível fixo do gasto."
   ]
  },
  {
   "cell_type": "markdown",
   "metadata": {},
   "source": [
    "---\n",
    "\n",
    "# <font color='#82ad32'>5. Correlação entre Gasto Público em Educação x Desempenho no PISA"
   ]
  },
  {
   "cell_type": "code",
   "execution_count": 245,
   "metadata": {
    "scrolled": false
   },
   "outputs": [
    {
     "data": {
      "text/plain": [
       "Text(0.5, 1.0, 'Gráfico de Dispersão do Gasto em Educação (% do PIB) x Nota Média no PISA')"
      ]
     },
     "execution_count": 245,
     "metadata": {},
     "output_type": "execute_result"
    },
    {
     "data": {
      "image/png": "[encoded data removed]",
      "text/plain": [
       "<Figure size 864x432 with 1 Axes>"
      ]
     },
     "metadata": {
      "needs_background": "light"
     },
     "output_type": "display_data"
    }
   ],
   "source": [
    "plt.figure(figsize=(12,6))\n",
    "\n",
    "sns.regplot(data=base_group,x='Gasto Educ (%)',y='Nota Média',color='#82ad32',marker='+',ci=0,\n",
    "            scatter_kws={'alpha':0.75})\n",
    "\n",
    "plt.title('Gráfico de Dispersão do Gasto em Educação (% do PIB) x Nota Média no PISA',fontsize=16)"
   ]
  },
  {
   "cell_type": "markdown",
   "metadata": {},
   "source": [
    "### <font color='#82ad32'>Anexo: Mapas Geográficos\n",
    "\n",
    "https://plotly.com/python/choropleth-maps/"
   ]
  },
  {
   "cell_type": "code",
   "execution_count": 254,
   "metadata": {},
   "outputs": [],
   "source": [
    "def geograficos_que_precisam_de_tratamento(variável):\n",
    "    \n",
    "    if variável in ['Gasto Educ (%)', 'Nota Matemática', \n",
    "                    'Nota Leitura', 'Nota Ciências']:\n",
    "    \n",
    "        return px.choropleth(base_group[base_group['Continente']=='Europe'],        # talvez usar o .dropna(axis=0)\n",
    "                             locations=\"country\", \n",
    "                             color=\"{}\".format(variável), \n",
    "                             hover_name=\"country\", \n",
    "                             animation_frame=\"Ano\",\n",
    "                             title = 'Evolução {}'.format(variável),\n",
    "                             color_continuous_scale=\"Blues\", # definir uma paleta de cores bonita;\n",
    "                             projection=\"natural earth\")       # estou pensando em algo c tons de verde"
   ]
  },
  {
   "cell_type": "code",
   "execution_count": 255,
   "metadata": {
    "scrolled": false
   },
   "outputs": [
    {
     "data": {
      "application/vnd.plotly.v1+json": {
       "config": {
        "plotlyServerURL": "https://plot.ly"
       },
       "data": [
        {
         "coloraxis": "coloraxis",
         "geo": "geo",
         "hoverlabel": {
          "namelength": 0
         },
         "hovertemplate": "<b>%{hovertext}</b><br><br>Ano=2000<br>country=%{location}<br>Gasto Educ (%)=%{z}",
         "hovertext": [
          "AUT",
          "BEL",
          "CHE",
          "CZE",
          "DEU",
          "DNK",
          "ESP",
          "FIN",
          "FRA",
          "GBR",
          "GRC",
          "HUN",
          "IRL",
          "ISL",
          "ITA",
          "NLD",
          "NOR",
          "POL",
          "PRT",
          "SVK",
          "SVN",
          "SWE",
          "TUR"
         ],
         "locations": [
          "AUT",
          "BEL",
          "CHE",
          "CZE",
          "DEU",
          "DNK",
          "ESP",
          "FIN",
          "FRA",
          "GBR",
          "GRC",
          "HUN",
          "IRL",
          "ISL",
          "ITA",
          "NLD",
          "NOR",
          "POL",
          "PRT",
          "SVK",
          "SVN",
          "SWE",
          "TUR"
         ],
         "name": "",
         "type": "choropleth",
         "z": [
          null,
          null,
          3.307,
          2.356,
          null,
          3.9210000000000003,
          2.8760000000000003,
          3.449,
          3.8080000000000003,
          2.799,
          2.3480000000000003,
          2.722,
          2.725,
          4.4910000000000005,
          3,
          2.722,
          4.921,
          null,
          3.7089999999999996,
          2.5810000000000004,
          null,
          4.015,
          1.73
         ]
        }
       ],
       "frames": [
        {
         "data": [
          {
           "coloraxis": "coloraxis",
           "geo": "geo",
           "hoverlabel": {
            "namelength": 0
           },
           "hovertemplate": "<b>%{hovertext}</b><br><br>Ano=2000<br>country=%{location}<br>Gasto Educ (%)=%{z}",
           "hovertext": [
            "AUT",
            "BEL",
            "CHE",
            "CZE",
            "DEU",
            "DNK",
            "ESP",
            "FIN",
            "FRA",
            "GBR",
            "GRC",
            "HUN",
            "IRL",
            "ISL",
            "ITA",
            "NLD",
            "NOR",
            "POL",
            "PRT",
            "SVK",
            "SVN",
            "SWE",
            "TUR"
           ],
           "locations": [
            "AUT",
            "BEL",
            "CHE",
            "CZE",
            "DEU",
            "DNK",
            "ESP",
            "FIN",
            "FRA",
            "GBR",
            "GRC",
            "HUN",
            "IRL",
            "ISL",
            "ITA",
            "NLD",
            "NOR",
            "POL",
            "PRT",
            "SVK",
            "SVN",
            "SWE",
            "TUR"
           ],
           "name": "",
           "type": "choropleth",
           "z": [
            null,
            null,
            3.307,
            2.356,
            null,
            3.9210000000000003,
            2.8760000000000003,
            3.449,
            3.8080000000000003,
            2.799,
            2.3480000000000003,
            2.722,
            2.725,
            4.4910000000000005,
            3,
            2.722,
            4.921,
            null,
            3.7089999999999996,
            2.5810000000000004,
            null,
            4.015,
            1.73
           ]
          }
         ],
         "name": "2000"
        },
        {
         "data": [
          {
           "coloraxis": "coloraxis",
           "geo": "geo",
           "hoverlabel": {
            "namelength": 0
           },
           "hovertemplate": "<b>%{hovertext}</b><br><br>Ano=2003<br>country=%{location}<br>Gasto Educ (%)=%{z}",
           "hovertext": [
            "AUT",
            "BEL",
            "CHE",
            "CZE",
            "DEU",
            "DNK",
            "ESP",
            "FIN",
            "FRA",
            "GRC",
            "HUN",
            "IRL",
            "ISL",
            "ITA",
            "NLD",
            "NOR",
            "POL",
            "PRT",
            "SVK",
            "SWE",
            "TUR"
           ],
           "locations": [
            "AUT",
            "BEL",
            "CHE",
            "CZE",
            "DEU",
            "DNK",
            "ESP",
            "FIN",
            "FRA",
            "GRC",
            "HUN",
            "IRL",
            "ISL",
            "ITA",
            "NLD",
            "NOR",
            "POL",
            "PRT",
            "SVK",
            "SWE",
            "TUR"
           ],
           "name": "",
           "type": "choropleth",
           "z": [
            null,
            null,
            null,
            null,
            null,
            null,
            null,
            null,
            null,
            null,
            null,
            null,
            null,
            null,
            null,
            null,
            null,
            null,
            null,
            null,
            null
           ]
          }
         ],
         "name": "2003"
        },
        {
         "data": [
          {
           "coloraxis": "coloraxis",
           "geo": "geo",
           "hoverlabel": {
            "namelength": 0
           },
           "hovertemplate": "<b>%{hovertext}</b><br><br>Ano=2005<br>country=%{location}<br>Gasto Educ (%)=%{z}",
           "hovertext": [
            "AUT",
            "BEL",
            "CHE",
            "CZE",
            "DEU",
            "DNK",
            "ESP",
            "FIN",
            "FRA",
            "GBR",
            "GRC",
            "HUN",
            "IRL",
            "ISL",
            "ITA",
            "NLD",
            "NOR",
            "POL",
            "PRT",
            "SVK",
            "SVN",
            "SWE",
            "TUR"
           ],
           "locations": [
            "AUT",
            "BEL",
            "CHE",
            "CZE",
            "DEU",
            "DNK",
            "ESP",
            "FIN",
            "FRA",
            "GBR",
            "GRC",
            "HUN",
            "IRL",
            "ISL",
            "ITA",
            "NLD",
            "NOR",
            "POL",
            "PRT",
            "SVK",
            "SVN",
            "SWE",
            "TUR"
           ],
           "name": "",
           "type": "choropleth",
           "z": [
            null,
            3.865,
            3.469,
            2.485,
            2.8160000000000003,
            4.265,
            2.65,
            3.668,
            3.529,
            3.2539999999999996,
            2.529,
            3.215,
            3.139,
            5.031000000000001,
            3.0260000000000002,
            3.12,
            4.894,
            3.641,
            3.569,
            2.41,
            3.7230000000000003,
            3.9939999999999998,
            1.925
           ]
          }
         ],
         "name": "2005"
        },
        {
         "data": [
          {
           "coloraxis": "coloraxis",
           "geo": "geo",
           "hoverlabel": {
            "namelength": 0
           },
           "hovertemplate": "<b>%{hovertext}</b><br><br>Ano=2006<br>country=%{location}<br>Gasto Educ (%)=%{z}",
           "hovertext": [
            "AUT",
            "BEL",
            "CHE",
            "CZE",
            "DEU",
            "DNK",
            "ESP",
            "FIN",
            "FRA",
            "GBR",
            "GRC",
            "HUN",
            "IRL",
            "ISL",
            "ITA",
            "NLD",
            "NOR",
            "POL",
            "PRT",
            "SVK",
            "SVN",
            "SWE",
            "TUR"
           ],
           "locations": [
            "AUT",
            "BEL",
            "CHE",
            "CZE",
            "DEU",
            "DNK",
            "ESP",
            "FIN",
            "FRA",
            "GBR",
            "GRC",
            "HUN",
            "IRL",
            "ISL",
            "ITA",
            "NLD",
            "NOR",
            "POL",
            "PRT",
            "SVK",
            "SVN",
            "SWE",
            "TUR"
           ],
           "name": "",
           "type": "choropleth",
           "z": [
            null,
            null,
            null,
            null,
            null,
            null,
            null,
            null,
            null,
            null,
            null,
            null,
            null,
            null,
            null,
            null,
            null,
            null,
            null,
            null,
            null,
            null,
            null
           ]
          }
         ],
         "name": "2006"
        },
        {
         "data": [
          {
           "coloraxis": "coloraxis",
           "geo": "geo",
           "hoverlabel": {
            "namelength": 0
           },
           "hovertemplate": "<b>%{hovertext}</b><br><br>Ano=2008<br>country=%{location}<br>Gasto Educ (%)=%{z}",
           "hovertext": [
            "AUT",
            "BEL",
            "CHE",
            "CZE",
            "DEU",
            "DNK",
            "ESP",
            "FIN",
            "FRA",
            "GBR",
            "GRC",
            "HUN",
            "IRL",
            "ISL",
            "ITA",
            "NLD",
            "NOR",
            "POL",
            "PRT",
            "SVK",
            "SVN",
            "SWE",
            "TUR"
           ],
           "locations": [
            "AUT",
            "BEL",
            "CHE",
            "CZE",
            "DEU",
            "DNK",
            "ESP",
            "FIN",
            "FRA",
            "GBR",
            "GRC",
            "HUN",
            "IRL",
            "ISL",
            "ITA",
            "NLD",
            "NOR",
            "POL",
            "PRT",
            "SVK",
            "SVN",
            "SWE",
            "TUR"
           ],
           "name": "",
           "type": "choropleth",
           "z": [
            null,
            4.1160000000000005,
            3.083,
            2.281,
            2.6439999999999997,
            4.034,
            2.785,
            3.568,
            3.505,
            2.986,
            null,
            2.918,
            3.862,
            4.649,
            3.091,
            2.985,
            4.61,
            3.387,
            3.267,
            2.14,
            3.31,
            3.822,
            2.057
           ]
          }
         ],
         "name": "2008"
        },
        {
         "data": [
          {
           "coloraxis": "coloraxis",
           "geo": "geo",
           "hoverlabel": {
            "namelength": 0
           },
           "hovertemplate": "<b>%{hovertext}</b><br><br>Ano=2009<br>country=%{location}<br>Gasto Educ (%)=%{z}",
           "hovertext": [
            "AUT",
            "BEL",
            "CHE",
            "CZE",
            "DEU",
            "DNK",
            "ESP",
            "FIN",
            "FRA",
            "GBR",
            "GRC",
            "HUN",
            "IRL",
            "ISL",
            "ITA",
            "NLD",
            "NOR",
            "POL",
            "PRT",
            "SVK",
            "SVN",
            "SWE",
            "TUR"
           ],
           "locations": [
            "AUT",
            "BEL",
            "CHE",
            "CZE",
            "DEU",
            "DNK",
            "ESP",
            "FIN",
            "FRA",
            "GBR",
            "GRC",
            "HUN",
            "IRL",
            "ISL",
            "ITA",
            "NLD",
            "NOR",
            "POL",
            "PRT",
            "SVK",
            "SVN",
            "SWE",
            "TUR"
           ],
           "name": "",
           "type": "choropleth",
           "z": [
            null,
            4.125,
            3.278,
            2.506,
            null,
            4.506,
            2.998,
            3.89,
            3.635,
            3.2710000000000004,
            null,
            2.855,
            4.302,
            4.6530000000000005,
            3.167,
            3.321,
            4.989,
            3.377,
            3.823,
            2.5140000000000002,
            3.529,
            3.983,
            2.3680000000000003
           ]
          }
         ],
         "name": "2009"
        },
        {
         "data": [
          {
           "coloraxis": "coloraxis",
           "geo": "geo",
           "hoverlabel": {
            "namelength": 0
           },
           "hovertemplate": "<b>%{hovertext}</b><br><br>Ano=2010<br>country=%{location}<br>Gasto Educ (%)=%{z}",
           "hovertext": [
            "AUT",
            "BEL",
            "CHE",
            "CZE",
            "DEU",
            "DNK",
            "ESP",
            "FIN",
            "FRA",
            "GBR",
            "GRC",
            "HUN",
            "IRL",
            "ISL",
            "ITA",
            "NLD",
            "NOR",
            "POL",
            "PRT",
            "SVK",
            "SVN",
            "SWE",
            "TUR"
           ],
           "locations": [
            "AUT",
            "BEL",
            "CHE",
            "CZE",
            "DEU",
            "DNK",
            "ESP",
            "FIN",
            "FRA",
            "GBR",
            "GRC",
            "HUN",
            "IRL",
            "ISL",
            "ITA",
            "NLD",
            "NOR",
            "POL",
            "PRT",
            "SVK",
            "SVN",
            "SWE",
            "TUR"
           ],
           "name": "",
           "type": "choropleth",
           "z": [
            null,
            4.12,
            3.196,
            2.45,
            2.889,
            4.553,
            2.944,
            3.929,
            3.593,
            3.344,
            null,
            2.737,
            4.27,
            4.473,
            3.0010000000000003,
            3.315,
            4.8660000000000005,
            3.36,
            3.733,
            2.638,
            3.5,
            3.775,
            2.373
           ]
          }
         ],
         "name": "2010"
        },
        {
         "data": [
          {
           "coloraxis": "coloraxis",
           "geo": "geo",
           "hoverlabel": {
            "namelength": 0
           },
           "hovertemplate": "<b>%{hovertext}</b><br><br>Ano=2011<br>country=%{location}<br>Gasto Educ (%)=%{z}",
           "hovertext": [
            "AUT",
            "BEL",
            "CHE",
            "CZE",
            "DEU",
            "DNK",
            "ESP",
            "FIN",
            "FRA",
            "GBR",
            "GRC",
            "HUN",
            "IRL",
            "ISL",
            "ITA",
            "NLD",
            "NOR",
            "POL",
            "PRT",
            "SVK",
            "SVN",
            "SWE",
            "TUR"
           ],
           "locations": [
            "AUT",
            "BEL",
            "CHE",
            "CZE",
            "DEU",
            "DNK",
            "ESP",
            "FIN",
            "FRA",
            "GBR",
            "GRC",
            "HUN",
            "IRL",
            "ISL",
            "ITA",
            "NLD",
            "NOR",
            "POL",
            "PRT",
            "SVK",
            "SVN",
            "SWE",
            "TUR"
           ],
           "name": "",
           "type": "choropleth",
           "z": [
            null,
            4.095,
            3.202,
            2.471,
            2.779,
            4.1339999999999995,
            2.8810000000000002,
            3.88,
            3.467,
            3.659,
            null,
            2.5269999999999997,
            4.14,
            4.526,
            2.84,
            3.2289999999999996,
            4.732,
            3.153,
            3.5580000000000003,
            2.404,
            3.3960000000000004,
            3.6860000000000004,
            2.528
           ]
          }
         ],
         "name": "2011"
        },
        {
         "data": [
          {
           "coloraxis": "coloraxis",
           "geo": "geo",
           "hoverlabel": {
            "namelength": 0
           },
           "hovertemplate": "<b>%{hovertext}</b><br><br>Ano=2012<br>country=%{location}<br>Gasto Educ (%)=%{z}",
           "hovertext": [
            "AUT",
            "BEL",
            "CHE",
            "CZE",
            "DEU",
            "DNK",
            "ESP",
            "FIN",
            "FRA",
            "GBR",
            "GRC",
            "HUN",
            "IRL",
            "ISL",
            "ITA",
            "NLD",
            "NOR",
            "POL",
            "PRT",
            "SVK",
            "SVN",
            "SWE",
            "TUR"
           ],
           "locations": [
            "AUT",
            "BEL",
            "CHE",
            "CZE",
            "DEU",
            "DNK",
            "ESP",
            "FIN",
            "FRA",
            "GBR",
            "GRC",
            "HUN",
            "IRL",
            "ISL",
            "ITA",
            "NLD",
            "NOR",
            "POL",
            "PRT",
            "SVK",
            "SVN",
            "SWE",
            "TUR"
           ],
           "name": "",
           "type": "choropleth",
           "z": [
            2.9939999999999998,
            4.171,
            3.3930000000000002,
            2.504,
            2.708,
            4.513,
            2.747,
            3.912,
            3.447,
            3.634,
            2.637,
            2.434,
            4.128,
            4.407,
            2.787,
            3.253,
            4.6,
            3.105,
            3.543,
            2.342,
            3.359,
            3.708,
            2.5789999999999997
           ]
          }
         ],
         "name": "2012"
        },
        {
         "data": [
          {
           "coloraxis": "coloraxis",
           "geo": "geo",
           "hoverlabel": {
            "namelength": 0
           },
           "hovertemplate": "<b>%{hovertext}</b><br><br>Ano=2013<br>country=%{location}<br>Gasto Educ (%)=%{z}",
           "hovertext": [
            "AUT",
            "BEL",
            "CHE",
            "CZE",
            "DEU",
            "DNK",
            "ESP",
            "FIN",
            "FRA",
            "GBR",
            "GRC",
            "HUN",
            "IRL",
            "ISL",
            "ITA",
            "NLD",
            "NOR",
            "POL",
            "PRT",
            "SVK",
            "SVN",
            "SWE",
            "TUR"
           ],
           "locations": [
            "AUT",
            "BEL",
            "CHE",
            "CZE",
            "DEU",
            "DNK",
            "ESP",
            "FIN",
            "FRA",
            "GBR",
            "GRC",
            "HUN",
            "IRL",
            "ISL",
            "ITA",
            "NLD",
            "NOR",
            "POL",
            "PRT",
            "SVK",
            "SVN",
            "SWE",
            "TUR"
           ],
           "name": "",
           "type": "choropleth",
           "z": [
            3.072,
            4.202,
            3.412,
            2.4419999999999997,
            2.6910000000000003,
            4.446000000000001,
            2.679,
            3.897,
            3.4330000000000003,
            3.931,
            2.655,
            2.311,
            3.798,
            4.349,
            2.838,
            3.318,
            4.685,
            3.0660000000000003,
            3.775,
            2.419,
            3.293,
            3.7030000000000003,
            2.5660000000000003
           ]
          }
         ],
         "name": "2013"
        },
        {
         "data": [
          {
           "coloraxis": "coloraxis",
           "geo": "geo",
           "hoverlabel": {
            "namelength": 0
           },
           "hovertemplate": "<b>%{hovertext}</b><br><br>Ano=2014<br>country=%{location}<br>Gasto Educ (%)=%{z}",
           "hovertext": [
            "AUT",
            "BEL",
            "CHE",
            "CZE",
            "DEU",
            "DNK",
            "ESP",
            "FIN",
            "FRA",
            "GBR",
            "GRC",
            "HUN",
            "IRL",
            "ISL",
            "ITA",
            "NLD",
            "NOR",
            "POL",
            "PRT",
            "SVK",
            "SVN",
            "SWE",
            "TUR"
           ],
           "locations": [
            "AUT",
            "BEL",
            "CHE",
            "CZE",
            "DEU",
            "DNK",
            "ESP",
            "FIN",
            "FRA",
            "GBR",
            "GRC",
            "HUN",
            "IRL",
            "ISL",
            "ITA",
            "NLD",
            "NOR",
            "POL",
            "PRT",
            "SVK",
            "SVN",
            "SWE",
            "TUR"
           ],
           "name": "",
           "type": "choropleth",
           "z": [
            2.9810000000000003,
            4.164,
            3.353,
            2.4090000000000003,
            2.668,
            4.6739999999999995,
            2.639,
            3.915,
            3.4360000000000004,
            4.082,
            2.67,
            2.6910000000000003,
            3.509,
            4.462,
            2.7510000000000003,
            3.188,
            4.499,
            3.0389999999999997,
            3.59,
            2.476,
            3.155,
            3.68,
            2.557
           ]
          }
         ],
         "name": "2014"
        },
        {
         "data": [
          {
           "coloraxis": "coloraxis",
           "geo": "geo",
           "hoverlabel": {
            "namelength": 0
           },
           "hovertemplate": "<b>%{hovertext}</b><br><br>Ano=2015<br>country=%{location}<br>Gasto Educ (%)=%{z}",
           "hovertext": [
            "AUT",
            "BEL",
            "CHE",
            "CZE",
            "DEU",
            "DNK",
            "ESP",
            "FIN",
            "FRA",
            "GBR",
            "GRC",
            "HUN",
            "IRL",
            "ISL",
            "ITA",
            "NLD",
            "NOR",
            "POL",
            "PRT",
            "SVK",
            "SVN",
            "SWE",
            "TUR"
           ],
           "locations": [
            "AUT",
            "BEL",
            "CHE",
            "CZE",
            "DEU",
            "DNK",
            "ESP",
            "FIN",
            "FRA",
            "GBR",
            "GRC",
            "HUN",
            "IRL",
            "ISL",
            "ITA",
            "NLD",
            "NOR",
            "POL",
            "PRT",
            "SVK",
            "SVN",
            "SWE",
            "TUR"
           ],
           "name": "",
           "type": "choropleth",
           "z": [
            2.978,
            4.13,
            3.2319999999999998,
            2.424,
            2.608,
            null,
            2.656,
            3.97,
            3.398,
            3.783,
            2.66,
            2.674,
            2.511,
            4.376,
            2.78,
            3.176,
            4.612,
            2.929,
            3.392,
            2.5540000000000003,
            2.955,
            3.6460000000000004,
            2.533
           ]
          }
         ],
         "name": "2015"
        },
        {
         "data": [
          {
           "coloraxis": "coloraxis",
           "geo": "geo",
           "hoverlabel": {
            "namelength": 0
           },
           "hovertemplate": "<b>%{hovertext}</b><br><br>Ano=2018<br>country=%{location}<br>Gasto Educ (%)=%{z}",
           "hovertext": [
            "AUT",
            "BEL",
            "CHE",
            "CZE",
            "DEU",
            "DNK",
            "ESP",
            "FIN",
            "FRA",
            "GBR",
            "GRC",
            "HUN",
            "IRL",
            "ISL",
            "ITA",
            "NLD",
            "NOR",
            "POL",
            "PRT",
            "SVK",
            "SVN",
            "SWE",
            "TUR"
           ],
           "locations": [
            "AUT",
            "BEL",
            "CHE",
            "CZE",
            "DEU",
            "DNK",
            "ESP",
            "FIN",
            "FRA",
            "GBR",
            "GRC",
            "HUN",
            "IRL",
            "ISL",
            "ITA",
            "NLD",
            "NOR",
            "POL",
            "PRT",
            "SVK",
            "SVN",
            "SWE",
            "TUR"
           ],
           "name": "",
           "type": "choropleth",
           "z": [
            null,
            null,
            null,
            null,
            null,
            null,
            null,
            null,
            null,
            null,
            null,
            null,
            null,
            null,
            null,
            null,
            null,
            null,
            null,
            null,
            null,
            null,
            null
           ]
          }
         ],
         "name": "2018"
        }
       ],
       "layout": {
        "coloraxis": {
         "colorbar": {
          "title": {
           "text": "Gasto Educ (%)"
          }
         },
         "colorscale": [
          [
           0,
           "rgb(247,251,255)"
          ],
          [
           0.125,
           "rgb(222,235,247)"
          ],
          [
           0.25,
           "rgb(198,219,239)"
          ],
          [
           0.375,
           "rgb(158,202,225)"
          ],
          [
           0.5,
           "rgb(107,174,214)"
          ],
          [
           0.625,
           "rgb(66,146,198)"
          ],
          [
           0.75,
           "rgb(33,113,181)"
          ],
          [
           0.875,
           "rgb(8,81,156)"
          ],
          [
           1,
           "rgb(8,48,107)"
          ]
         ]
        },
        "geo": {
         "center": {},
         "domain": {
          "x": [
           0,
           1
          ],
          "y": [
           0,
           1
          ]
         },
         "projection": {
          "type": "natural earth"
         }
        },
        "legend": {
         "tracegroupgap": 0
        },
        "sliders": [
         {
          "active": 0,
          "currentvalue": {
           "prefix": "Ano="
          },
          "len": 0.9,
          "pad": {
           "b": 10,
           "t": 60
          },
          "steps": [
           {
            "args": [
             [
              "2000"
             ],
             {
              "frame": {
               "duration": 0,
               "redraw": true
              },
              "fromcurrent": true,
              "mode": "immediate",
              "transition": {
               "duration": 0,
               "easing": "linear"
              }
             }
            ],
            "label": "2000",
            "method": "animate"
           },
           {
            "args": [
             [
              "2003"
             ],
             {
              "frame": {
               "duration": 0,
               "redraw": true
              },
              "fromcurrent": true,
              "mode": "immediate",
              "transition": {
               "duration": 0,
               "easing": "linear"
              }
             }
            ],
            "label": "2003",
            "method": "animate"
           },
           {
            "args": [
             [
              "2005"
             ],
             {
              "frame": {
               "duration": 0,
               "redraw": true
              },
              "fromcurrent": true,
              "mode": "immediate",
              "transition": {
               "duration": 0,
               "easing": "linear"
              }
             }
            ],
            "label": "2005",
            "method": "animate"
           },
           {
            "args": [
             [
              "2006"
             ],
             {
              "frame": {
               "duration": 0,
               "redraw": true
              },
              "fromcurrent": true,
              "mode": "immediate",
              "transition": {
               "duration": 0,
               "easing": "linear"
              }
             }
            ],
            "label": "2006",
            "method": "animate"
           },
           {
            "args": [
             [
              "2008"
             ],
             {
              "frame": {
               "duration": 0,
               "redraw": true
              },
              "fromcurrent": true,
              "mode": "immediate",
              "transition": {
               "duration": 0,
               "easing": "linear"
              }
             }
            ],
            "label": "2008",
            "method": "animate"
           },
           {
            "args": [
             [
              "2009"
             ],
             {
              "frame": {
               "duration": 0,
               "redraw": true
              },
              "fromcurrent": true,
              "mode": "immediate",
              "transition": {
               "duration": 0,
               "easing": "linear"
              }
             }
            ],
            "label": "2009",
            "method": "animate"
           },
           {
            "args": [
             [
              "2010"
             ],
             {
              "frame": {
               "duration": 0,
               "redraw": true
              },
              "fromcurrent": true,
              "mode": "immediate",
              "transition": {
               "duration": 0,
               "easing": "linear"
              }
             }
            ],
            "label": "2010",
            "method": "animate"
           },
           {
            "args": [
             [
              "2011"
             ],
             {
              "frame": {
               "duration": 0,
               "redraw": true
              },
              "fromcurrent": true,
              "mode": "immediate",
              "transition": {
               "duration": 0,
               "easing": "linear"
              }
             }
            ],
            "label": "2011",
            "method": "animate"
           },
           {
            "args": [
             [
              "2012"
             ],
             {
              "frame": {
               "duration": 0,
               "redraw": true
              },
              "fromcurrent": true,
              "mode": "immediate",
              "transition": {
               "duration": 0,
               "easing": "linear"
              }
             }
            ],
            "label": "2012",
            "method": "animate"
           },
           {
            "args": [
             [
              "2013"
             ],
             {
              "frame": {
               "duration": 0,
               "redraw": true
              },
              "fromcurrent": true,
              "mode": "immediate",
              "transition": {
               "duration": 0,
               "easing": "linear"
              }
             }
            ],
            "label": "2013",
            "method": "animate"
           },
           {
            "args": [
             [
              "2014"
             ],
             {
              "frame": {
               "duration": 0,
               "redraw": true
              },
              "fromcurrent": true,
              "mode": "immediate",
              "transition": {
               "duration": 0,
               "easing": "linear"
              }
             }
            ],
            "label": "2014",
            "method": "animate"
           },
           {
            "args": [
             [
              "2015"
             ],
             {
              "frame": {
               "duration": 0,
               "redraw": true
              },
              "fromcurrent": true,
              "mode": "immediate",
              "transition": {
               "duration": 0,
               "easing": "linear"
              }
             }
            ],
            "label": "2015",
            "method": "animate"
           },
           {
            "args": [
             [
              "2018"
             ],
             {
              "frame": {
               "duration": 0,
               "redraw": true
              },
              "fromcurrent": true,
              "mode": "immediate",
              "transition": {
               "duration": 0,
               "easing": "linear"
              }
             }
            ],
            "label": "2018",
            "method": "animate"
           }
          ],
          "x": 0.1,
          "xanchor": "left",
          "y": 0,
          "yanchor": "top"
         }
        ],
        "template": {
         "data": {
          "bar": [
           {
            "error_x": {
             "color": "#2a3f5f"
            },
            "error_y": {
             "color": "#2a3f5f"
            },
            "marker": {
             "line": {
              "color": "#E5ECF6",
              "width": 0.5
             }
            },
            "type": "bar"
           }
          ],
          "barpolar": [
           {
            "marker": {
             "line": {
              "color": "#E5ECF6",
              "width": 0.5
             }
            },
            "type": "barpolar"
           }
          ],
          "carpet": [
           {
            "aaxis": {
             "endlinecolor": "#2a3f5f",
             "gridcolor": "white",
             "linecolor": "white",
             "minorgridcolor": "white",
             "startlinecolor": "#2a3f5f"
            },
            "baxis": {
             "endlinecolor": "#2a3f5f",
             "gridcolor": "white",
             "linecolor": "white",
             "minorgridcolor": "white",
             "startlinecolor": "#2a3f5f"
            },
            "type": "carpet"
           }
          ],
          "choropleth": [
           {
            "colorbar": {
             "outlinewidth": 0,
             "ticks": ""
            },
            "type": "choropleth"
           }
          ],
          "contour": [
           {
            "colorbar": {
             "outlinewidth": 0,
             "ticks": ""
            },
            "colorscale": [
             [
              0,
              "#0d0887"
             ],
             [
              0.1111111111111111,
              "#46039f"
             ],
             [
              0.2222222222222222,
              "#7201a8"
             ],
             [
              0.3333333333333333,
              "#9c179e"
             ],
             [
              0.4444444444444444,
              "#bd3786"
             ],
             [
              0.5555555555555556,
              "#d8576b"
             ],
             [
              0.6666666666666666,
              "#ed7953"
             ],
             [
              0.7777777777777778,
              "#fb9f3a"
             ],
             [
              0.8888888888888888,
              "#fdca26"
             ],
             [
              1,
              "#f0f921"
             ]
            ],
            "type": "contour"
           }
          ],
          "contourcarpet": [
           {
            "colorbar": {
             "outlinewidth": 0,
             "ticks": ""
            },
            "type": "contourcarpet"
           }
          ],
          "heatmap": [
           {
            "colorbar": {
             "outlinewidth": 0,
             "ticks": ""
            },
            "colorscale": [
             [
              0,
              "#0d0887"
             ],
             [
              0.1111111111111111,
              "#46039f"
             ],
             [
              0.2222222222222222,
              "#7201a8"
             ],
             [
              0.3333333333333333,
              "#9c179e"
             ],
             [
              0.4444444444444444,
              "#bd3786"
             ],
             [
              0.5555555555555556,
              "#d8576b"
             ],
             [
              0.6666666666666666,
              "#ed7953"
             ],
             [
              0.7777777777777778,
              "#fb9f3a"
             ],
             [
              0.8888888888888888,
              "#fdca26"
             ],
             [
              1,
              "#f0f921"
             ]
            ],
            "type": "heatmap"
           }
          ],
          "heatmapgl": [
           {
            "colorbar": {
             "outlinewidth": 0,
             "ticks": ""
            },
            "colorscale": [
             [
              0,
              "#0d0887"
             ],
             [
              0.1111111111111111,
              "#46039f"
             ],
             [
              0.2222222222222222,
              "#7201a8"
             ],
             [
              0.3333333333333333,
              "#9c179e"
             ],
             [
              0.4444444444444444,
              "#bd3786"
             ],
             [
              0.5555555555555556,
              "#d8576b"
             ],
             [
              0.6666666666666666,
              "#ed7953"
             ],
             [
              0.7777777777777778,
              "#fb9f3a"
             ],
             [
              0.8888888888888888,
              "#fdca26"
             ],
             [
              1,
              "#f0f921"
             ]
            ],
            "type": "heatmapgl"
           }
          ],
          "histogram": [
           {
            "marker": {
             "colorbar": {
              "outlinewidth": 0,
              "ticks": ""
             }
            },
            "type": "histogram"
           }
          ],
          "histogram2d": [
           {
            "colorbar": {
             "outlinewidth": 0,
             "ticks": ""
            },
            "colorscale": [
             [
              0,
              "#0d0887"
             ],
             [
              0.1111111111111111,
              "#46039f"
             ],
             [
              0.2222222222222222,
              "#7201a8"
             ],
             [
              0.3333333333333333,
              "#9c179e"
             ],
             [
              0.4444444444444444,
              "#bd3786"
             ],
             [
              0.5555555555555556,
              "#d8576b"
             ],
             [
              0.6666666666666666,
              "#ed7953"
             ],
             [
              0.7777777777777778,
              "#fb9f3a"
             ],
             [
              0.8888888888888888,
              "#fdca26"
             ],
             [
              1,
              "#f0f921"
             ]
            ],
            "type": "histogram2d"
           }
          ],
          "histogram2dcontour": [
           {
            "colorbar": {
             "outlinewidth": 0,
             "ticks": ""
            },
            "colorscale": [
             [
              0,
              "#0d0887"
             ],
             [
              0.1111111111111111,
              "#46039f"
             ],
             [
              0.2222222222222222,
              "#7201a8"
             ],
             [
              0.3333333333333333,
              "#9c179e"
             ],
             [
              0.4444444444444444,
              "#bd3786"
             ],
             [
              0.5555555555555556,
              "#d8576b"
             ],
             [
              0.6666666666666666,
              "#ed7953"
             ],
             [
              0.7777777777777778,
              "#fb9f3a"
             ],
             [
              0.8888888888888888,
              "#fdca26"
             ],
             [
              1,
              "#f0f921"
             ]
            ],
            "type": "histogram2dcontour"
           }
          ],
          "mesh3d": [
           {
            "colorbar": {
             "outlinewidth": 0,
             "ticks": ""
            },
            "type": "mesh3d"
           }
          ],
          "parcoords": [
           {
            "line": {
             "colorbar": {
              "outlinewidth": 0,
              "ticks": ""
             }
            },
            "type": "parcoords"
           }
          ],
          "pie": [
           {
            "automargin": true,
            "type": "pie"
           }
          ],
          "scatter": [
           {
            "marker": {
             "colorbar": {
              "outlinewidth": 0,
              "ticks": ""
             }
            },
            "type": "scatter"
           }
          ],
          "scatter3d": [
           {
            "line": {
             "colorbar": {
              "outlinewidth": 0,
              "ticks": ""
             }
            },
            "marker": {
             "colorbar": {
              "outlinewidth": 0,
              "ticks": ""
             }
            },
            "type": "scatter3d"
           }
          ],
          "scattercarpet": [
           {
            "marker": {
             "colorbar": {
              "outlinewidth": 0,
              "ticks": ""
             }
            },
            "type": "scattercarpet"
           }
          ],
          "scattergeo": [
           {
            "marker": {
             "colorbar": {
              "outlinewidth": 0,
              "ticks": ""
             }
            },
            "type": "scattergeo"
           }
          ],
          "scattergl": [
           {
            "marker": {
             "colorbar": {
              "outlinewidth": 0,
              "ticks": ""
             }
            },
            "type": "scattergl"
           }
          ],
          "scattermapbox": [
           {
            "marker": {
             "colorbar": {
              "outlinewidth": 0,
              "ticks": ""
             }
            },
            "type": "scattermapbox"
           }
          ],
          "scatterpolar": [
           {
            "marker": {
             "colorbar": {
              "outlinewidth": 0,
              "ticks": ""
             }
            },
            "type": "scatterpolar"
           }
          ],
          "scatterpolargl": [
           {
            "marker": {
             "colorbar": {
              "outlinewidth": 0,
              "ticks": ""
             }
            },
            "type": "scatterpolargl"
           }
          ],
          "scatterternary": [
           {
            "marker": {
             "colorbar": {
              "outlinewidth": 0,
              "ticks": ""
             }
            },
            "type": "scatterternary"
           }
          ],
          "surface": [
           {
            "colorbar": {
             "outlinewidth": 0,
             "ticks": ""
            },
            "colorscale": [
             [
              0,
              "#0d0887"
             ],
             [
              0.1111111111111111,
              "#46039f"
             ],
             [
              0.2222222222222222,
              "#7201a8"
             ],
             [
              0.3333333333333333,
              "#9c179e"
             ],
             [
              0.4444444444444444,
              "#bd3786"
             ],
             [
              0.5555555555555556,
              "#d8576b"
             ],
             [
              0.6666666666666666,
              "#ed7953"
             ],
             [
              0.7777777777777778,
              "#fb9f3a"
             ],
             [
              0.8888888888888888,
              "#fdca26"
             ],
             [
              1,
              "#f0f921"
             ]
            ],
            "type": "surface"
           }
          ],
          "table": [
           {
            "cells": {
             "fill": {
              "color": "#EBF0F8"
             },
             "line": {
              "color": "white"
             }
            },
            "header": {
             "fill": {
              "color": "#C8D4E3"
             },
             "line": {
              "color": "white"
             }
            },
            "type": "table"
           }
          ]
         },
         "layout": {
          "annotationdefaults": {
           "arrowcolor": "#2a3f5f",
           "arrowhead": 0,
           "arrowwidth": 1
          },
          "coloraxis": {
           "colorbar": {
            "outlinewidth": 0,
            "ticks": ""
           }
          },
          "colorscale": {
           "diverging": [
            [
             0,
             "#8e0152"
            ],
            [
             0.1,
             "#c51b7d"
            ],
            [
             0.2,
             "#de77ae"
            ],
            [
             0.3,
             "#f1b6da"
            ],
            [
             0.4,
             "#fde0ef"
            ],
            [
             0.5,
             "#f7f7f7"
            ],
            [
             0.6,
             "#e6f5d0"
            ],
            [
             0.7,
             "#b8e186"
            ],
            [
             0.8,
             "#7fbc41"
            ],
            [
             0.9,
             "#4d9221"
            ],
            [
             1,
             "#276419"
            ]
           ],
           "sequential": [
            [
             0,
             "#0d0887"
            ],
            [
             0.1111111111111111,
             "#46039f"
            ],
            [
             0.2222222222222222,
             "#7201a8"
            ],
            [
             0.3333333333333333,
             "#9c179e"
            ],
            [
             0.4444444444444444,
             "#bd3786"
            ],
            [
             0.5555555555555556,
             "#d8576b"
            ],
            [
             0.6666666666666666,
             "#ed7953"
            ],
            [
             0.7777777777777778,
             "#fb9f3a"
            ],
            [
             0.8888888888888888,
             "#fdca26"
            ],
            [
             1,
             "#f0f921"
            ]
           ],
           "sequentialminus": [
            [
             0,
             "#0d0887"
            ],
            [
             0.1111111111111111,
             "#46039f"
            ],
            [
             0.2222222222222222,
             "#7201a8"
            ],
            [
             0.3333333333333333,
             "#9c179e"
            ],
            [
             0.4444444444444444,
             "#bd3786"
            ],
            [
             0.5555555555555556,
             "#d8576b"
            ],
            [
             0.6666666666666666,
             "#ed7953"
            ],
            [
             0.7777777777777778,
             "#fb9f3a"
            ],
            [
             0.8888888888888888,
             "#fdca26"
            ],
            [
             1,
             "#f0f921"
            ]
           ]
          },
          "colorway": [
           "#636efa",
           "#EF553B",
           "#00cc96",
           "#ab63fa",
           "#FFA15A",
           "#19d3f3",
           "#FF6692",
           "#B6E880",
           "#FF97FF",
           "#FECB52"
          ],
          "font": {
           "color": "#2a3f5f"
          },
          "geo": {
           "bgcolor": "white",
           "lakecolor": "white",
           "landcolor": "#E5ECF6",
           "showlakes": true,
           "showland": true,
           "subunitcolor": "white"
          },
          "hoverlabel": {
           "align": "left"
          },
          "hovermode": "closest",
          "mapbox": {
           "style": "light"
          },
          "paper_bgcolor": "white",
          "plot_bgcolor": "#E5ECF6",
          "polar": {
           "angularaxis": {
            "gridcolor": "white",
            "linecolor": "white",
            "ticks": ""
           },
           "bgcolor": "#E5ECF6",
           "radialaxis": {
            "gridcolor": "white",
            "linecolor": "white",
            "ticks": ""
           }
          },
          "scene": {
           "xaxis": {
            "backgroundcolor": "#E5ECF6",
            "gridcolor": "white",
            "gridwidth": 2,
            "linecolor": "white",
            "showbackground": true,
            "ticks": "",
            "zerolinecolor": "white"
           },
           "yaxis": {
            "backgroundcolor": "#E5ECF6",
            "gridcolor": "white",
            "gridwidth": 2,
            "linecolor": "white",
            "showbackground": true,
            "ticks": "",
            "zerolinecolor": "white"
           },
           "zaxis": {
            "backgroundcolor": "#E5ECF6",
            "gridcolor": "white",
            "gridwidth": 2,
            "linecolor": "white",
            "showbackground": true,
            "ticks": "",
            "zerolinecolor": "white"
           }
          },
          "shapedefaults": {
           "line": {
            "color": "#2a3f5f"
           }
          },
          "ternary": {
           "aaxis": {
            "gridcolor": "white",
            "linecolor": "white",
            "ticks": ""
           },
           "baxis": {
            "gridcolor": "white",
            "linecolor": "white",
            "ticks": ""
           },
           "bgcolor": "#E5ECF6",
           "caxis": {
            "gridcolor": "white",
            "linecolor": "white",
            "ticks": ""
           }
          },
          "title": {
           "x": 0.05
          },
          "xaxis": {
           "automargin": true,
           "gridcolor": "white",
           "linecolor": "white",
           "ticks": "",
           "title": {
            "standoff": 15
           },
           "zerolinecolor": "white",
           "zerolinewidth": 2
          },
          "yaxis": {
           "automargin": true,
           "gridcolor": "white",
           "linecolor": "white",
           "ticks": "",
           "title": {
            "standoff": 15
           },
           "zerolinecolor": "white",
           "zerolinewidth": 2
          }
         }
        },
        "title": {
         "text": "Evolução Gasto Educ (%)"
        },
        "updatemenus": [
         {
          "buttons": [
           {
            "args": [
             null,
             {
              "frame": {
               "duration": 500,
               "redraw": true
              },
              "fromcurrent": true,
              "mode": "immediate",
              "transition": {
               "duration": 500,
               "easing": "linear"
              }
             }
            ],
            "label": "&#9654;",
            "method": "animate"
           },
           {
            "args": [
             [
              null
             ],
             {
              "frame": {
               "duration": 0,
               "redraw": true
              },
              "fromcurrent": true,
              "mode": "immediate",
              "transition": {
               "duration": 0,
               "easing": "linear"
              }
             }
            ],
            "label": "&#9724;",
            "method": "animate"
           }
          ],
          "direction": "left",
          "pad": {
           "r": 10,
           "t": 70
          },
          "showactive": false,
          "type": "buttons",
          "x": 0.1,
          "xanchor": "right",
          "y": 0,
          "yanchor": "top"
         }
        ]
       }
      },
      "text/html": [
       "<div>\n",
       "        \n",
       "        \n",
       "            <div id=\"dbae00f5-a2d1-45e9-9572-9747f5aa411e\" class=\"plotly-graph-div\" style=\"height:525px; width:100%;\"></div>\n",
       "            <script type=\"text/javascript\">\n",
       "                require([\"plotly\"], function(Plotly) {\n",
       "                    window.PLOTLYENV=window.PLOTLYENV || {};\n",
       "                    \n",
       "                if (document.getElementById(\"dbae00f5-a2d1-45e9-9572-9747f5aa411e\")) {\n",
       "                    Plotly.newPlot(\n",
       "                        'dbae00f5-a2d1-45e9-9572-9747f5aa411e',\n",
       "                        [{\"coloraxis\": \"coloraxis\", \"geo\": \"geo\", \"hoverlabel\": {\"namelength\": 0}, \"hovertemplate\": \"<b>%{hovertext}</b><br><br>Ano=2000<br>country=%{location}<br>Gasto Educ (%)=%{z}\", \"hovertext\": [\"AUT\", \"BEL\", \"CHE\", \"CZE\", \"DEU\", \"DNK\", \"ESP\", \"FIN\", \"FRA\", \"GBR\", \"GRC\", \"HUN\", \"IRL\", \"ISL\", \"ITA\", \"NLD\", \"NOR\", \"POL\", \"PRT\", \"SVK\", \"SVN\", \"SWE\", \"TUR\"], \"locations\": [\"AUT\", \"BEL\", \"CHE\", \"CZE\", \"DEU\", \"DNK\", \"ESP\", \"FIN\", \"FRA\", \"GBR\", \"GRC\", \"HUN\", \"IRL\", \"ISL\", \"ITA\", \"NLD\", \"NOR\", \"POL\", \"PRT\", \"SVK\", \"SVN\", \"SWE\", \"TUR\"], \"name\": \"\", \"type\": \"choropleth\", \"z\": [null, null, 3.307, 2.356, null, 3.9210000000000003, 2.8760000000000003, 3.449, 3.8080000000000003, 2.799, 2.3480000000000003, 2.722, 2.725, 4.4910000000000005, 3.0, 2.722, 4.921, null, 3.7089999999999996, 2.5810000000000004, null, 4.015, 1.73]}],\n",
       "                        {\"coloraxis\": {\"colorbar\": {\"title\": {\"text\": \"Gasto Educ (%)\"}}, \"colorscale\": [[0.0, \"rgb(247,251,255)\"], [0.125, \"rgb(222,235,247)\"], [0.25, \"rgb(198,219,239)\"], [0.375, \"rgb(158,202,225)\"], [0.5, \"rgb(107,174,214)\"], [0.625, \"rgb(66,146,198)\"], [0.75, \"rgb(33,113,181)\"], [0.875, \"rgb(8,81,156)\"], [1.0, \"rgb(8,48,107)\"]]}, \"geo\": {\"center\": {}, \"domain\": {\"x\": [0.0, 1.0], \"y\": [0.0, 1.0]}, \"projection\": {\"type\": \"natural earth\"}}, \"legend\": {\"tracegroupgap\": 0}, \"sliders\": [{\"active\": 0, \"currentvalue\": {\"prefix\": \"Ano=\"}, \"len\": 0.9, \"pad\": {\"b\": 10, \"t\": 60}, \"steps\": [{\"args\": [[\"2000\"], {\"frame\": {\"duration\": 0, \"redraw\": true}, \"fromcurrent\": true, \"mode\": \"immediate\", \"transition\": {\"duration\": 0, \"easing\": \"linear\"}}], \"label\": \"2000\", \"method\": \"animate\"}, {\"args\": [[\"2003\"], {\"frame\": {\"duration\": 0, \"redraw\": true}, \"fromcurrent\": true, \"mode\": \"immediate\", \"transition\": {\"duration\": 0, \"easing\": \"linear\"}}], \"label\": \"2003\", \"method\": \"animate\"}, {\"args\": [[\"2005\"], {\"frame\": {\"duration\": 0, \"redraw\": true}, \"fromcurrent\": true, \"mode\": \"immediate\", \"transition\": {\"duration\": 0, \"easing\": \"linear\"}}], \"label\": \"2005\", \"method\": \"animate\"}, {\"args\": [[\"2006\"], {\"frame\": {\"duration\": 0, \"redraw\": true}, \"fromcurrent\": true, \"mode\": \"immediate\", \"transition\": {\"duration\": 0, \"easing\": \"linear\"}}], \"label\": \"2006\", \"method\": \"animate\"}, {\"args\": [[\"2008\"], {\"frame\": {\"duration\": 0, \"redraw\": true}, \"fromcurrent\": true, \"mode\": \"immediate\", \"transition\": {\"duration\": 0, \"easing\": \"linear\"}}], \"label\": \"2008\", \"method\": \"animate\"}, {\"args\": [[\"2009\"], {\"frame\": {\"duration\": 0, \"redraw\": true}, \"fromcurrent\": true, \"mode\": \"immediate\", \"transition\": {\"duration\": 0, \"easing\": \"linear\"}}], \"label\": \"2009\", \"method\": \"animate\"}, {\"args\": [[\"2010\"], {\"frame\": {\"duration\": 0, \"redraw\": true}, \"fromcurrent\": true, \"mode\": \"immediate\", \"transition\": {\"duration\": 0, \"easing\": \"linear\"}}], \"label\": \"2010\", \"method\": \"animate\"}, {\"args\": [[\"2011\"], {\"frame\": {\"duration\": 0, \"redraw\": true}, \"fromcurrent\": true, \"mode\": \"immediate\", \"transition\": {\"duration\": 0, \"easing\": \"linear\"}}], \"label\": \"2011\", \"method\": \"animate\"}, {\"args\": [[\"2012\"], {\"frame\": {\"duration\": 0, \"redraw\": true}, \"fromcurrent\": true, \"mode\": \"immediate\", \"transition\": {\"duration\": 0, \"easing\": \"linear\"}}], \"label\": \"2012\", \"method\": \"animate\"}, {\"args\": [[\"2013\"], {\"frame\": {\"duration\": 0, \"redraw\": true}, \"fromcurrent\": true, \"mode\": \"immediate\", \"transition\": {\"duration\": 0, \"easing\": \"linear\"}}], \"label\": \"2013\", \"method\": \"animate\"}, {\"args\": [[\"2014\"], {\"frame\": {\"duration\": 0, \"redraw\": true}, \"fromcurrent\": true, \"mode\": \"immediate\", \"transition\": {\"duration\": 0, \"easing\": \"linear\"}}], \"label\": \"2014\", \"method\": \"animate\"}, {\"args\": [[\"2015\"], {\"frame\": {\"duration\": 0, \"redraw\": true}, \"fromcurrent\": true, \"mode\": \"immediate\", \"transition\": {\"duration\": 0, \"easing\": \"linear\"}}], \"label\": \"2015\", \"method\": \"animate\"}, {\"args\": [[\"2018\"], {\"frame\": {\"duration\": 0, \"redraw\": true}, \"fromcurrent\": true, \"mode\": \"immediate\", \"transition\": {\"duration\": 0, \"easing\": \"linear\"}}], \"label\": \"2018\", \"method\": \"animate\"}], \"x\": 0.1, \"xanchor\": \"left\", \"y\": 0, \"yanchor\": \"top\"}], \"template\": {\"data\": {\"bar\": [{\"error_x\": {\"color\": \"#2a3f5f\"}, \"error_y\": {\"color\": \"#2a3f5f\"}, \"marker\": {\"line\": {\"color\": \"#E5ECF6\", \"width\": 0.5}}, \"type\": \"bar\"}], \"barpolar\": [{\"marker\": {\"line\": {\"color\": \"#E5ECF6\", \"width\": 0.5}}, \"type\": \"barpolar\"}], \"carpet\": [{\"aaxis\": {\"endlinecolor\": \"#2a3f5f\", \"gridcolor\": \"white\", \"linecolor\": \"white\", \"minorgridcolor\": \"white\", \"startlinecolor\": \"#2a3f5f\"}, \"baxis\": {\"endlinecolor\": \"#2a3f5f\", \"gridcolor\": \"white\", \"linecolor\": \"white\", \"minorgridcolor\": \"white\", \"startlinecolor\": \"#2a3f5f\"}, \"type\": \"carpet\"}], \"choropleth\": [{\"colorbar\": {\"outlinewidth\": 0, \"ticks\": \"\"}, \"type\": \"choropleth\"}], \"contour\": [{\"colorbar\": {\"outlinewidth\": 0, \"ticks\": \"\"}, \"colorscale\": [[0.0, \"#0d0887\"], [0.1111111111111111, \"#46039f\"], [0.2222222222222222, \"#7201a8\"], [0.3333333333333333, \"#9c179e\"], [0.4444444444444444, \"#bd3786\"], [0.5555555555555556, \"#d8576b\"], [0.6666666666666666, \"#ed7953\"], [0.7777777777777778, \"#fb9f3a\"], [0.8888888888888888, \"#fdca26\"], [1.0, \"#f0f921\"]], \"type\": \"contour\"}], \"contourcarpet\": [{\"colorbar\": {\"outlinewidth\": 0, \"ticks\": \"\"}, \"type\": \"contourcarpet\"}], \"heatmap\": [{\"colorbar\": {\"outlinewidth\": 0, \"ticks\": \"\"}, \"colorscale\": [[0.0, \"#0d0887\"], [0.1111111111111111, \"#46039f\"], [0.2222222222222222, \"#7201a8\"], [0.3333333333333333, \"#9c179e\"], [0.4444444444444444, \"#bd3786\"], [0.5555555555555556, \"#d8576b\"], [0.6666666666666666, \"#ed7953\"], [0.7777777777777778, \"#fb9f3a\"], [0.8888888888888888, \"#fdca26\"], [1.0, \"#f0f921\"]], \"type\": \"heatmap\"}], \"heatmapgl\": [{\"colorbar\": {\"outlinewidth\": 0, \"ticks\": \"\"}, \"colorscale\": [[0.0, \"#0d0887\"], [0.1111111111111111, \"#46039f\"], [0.2222222222222222, \"#7201a8\"], [0.3333333333333333, \"#9c179e\"], [0.4444444444444444, \"#bd3786\"], [0.5555555555555556, \"#d8576b\"], [0.6666666666666666, \"#ed7953\"], [0.7777777777777778, \"#fb9f3a\"], [0.8888888888888888, \"#fdca26\"], [1.0, \"#f0f921\"]], \"type\": \"heatmapgl\"}], \"histogram\": [{\"marker\": {\"colorbar\": {\"outlinewidth\": 0, \"ticks\": \"\"}}, \"type\": \"histogram\"}], \"histogram2d\": [{\"colorbar\": {\"outlinewidth\": 0, \"ticks\": \"\"}, \"colorscale\": [[0.0, \"#0d0887\"], [0.1111111111111111, \"#46039f\"], [0.2222222222222222, \"#7201a8\"], [0.3333333333333333, \"#9c179e\"], [0.4444444444444444, \"#bd3786\"], [0.5555555555555556, \"#d8576b\"], [0.6666666666666666, \"#ed7953\"], [0.7777777777777778, \"#fb9f3a\"], [0.8888888888888888, \"#fdca26\"], [1.0, \"#f0f921\"]], \"type\": \"histogram2d\"}], \"histogram2dcontour\": [{\"colorbar\": {\"outlinewidth\": 0, \"ticks\": \"\"}, \"colorscale\": [[0.0, \"#0d0887\"], [0.1111111111111111, \"#46039f\"], [0.2222222222222222, \"#7201a8\"], [0.3333333333333333, \"#9c179e\"], [0.4444444444444444, \"#bd3786\"], [0.5555555555555556, \"#d8576b\"], [0.6666666666666666, \"#ed7953\"], [0.7777777777777778, \"#fb9f3a\"], [0.8888888888888888, \"#fdca26\"], [1.0, \"#f0f921\"]], \"type\": \"histogram2dcontour\"}], \"mesh3d\": [{\"colorbar\": {\"outlinewidth\": 0, \"ticks\": \"\"}, \"type\": \"mesh3d\"}], \"parcoords\": [{\"line\": {\"colorbar\": {\"outlinewidth\": 0, \"ticks\": \"\"}}, \"type\": \"parcoords\"}], \"pie\": [{\"automargin\": true, \"type\": \"pie\"}], \"scatter\": [{\"marker\": {\"colorbar\": {\"outlinewidth\": 0, \"ticks\": \"\"}}, \"type\": \"scatter\"}], \"scatter3d\": [{\"line\": {\"colorbar\": {\"outlinewidth\": 0, \"ticks\": \"\"}}, \"marker\": {\"colorbar\": {\"outlinewidth\": 0, \"ticks\": \"\"}}, \"type\": \"scatter3d\"}], \"scattercarpet\": [{\"marker\": {\"colorbar\": {\"outlinewidth\": 0, \"ticks\": \"\"}}, \"type\": \"scattercarpet\"}], \"scattergeo\": [{\"marker\": {\"colorbar\": {\"outlinewidth\": 0, \"ticks\": \"\"}}, \"type\": \"scattergeo\"}], \"scattergl\": [{\"marker\": {\"colorbar\": {\"outlinewidth\": 0, \"ticks\": \"\"}}, \"type\": \"scattergl\"}], \"scattermapbox\": [{\"marker\": {\"colorbar\": {\"outlinewidth\": 0, \"ticks\": \"\"}}, \"type\": \"scattermapbox\"}], \"scatterpolar\": [{\"marker\": {\"colorbar\": {\"outlinewidth\": 0, \"ticks\": \"\"}}, \"type\": \"scatterpolar\"}], \"scatterpolargl\": [{\"marker\": {\"colorbar\": {\"outlinewidth\": 0, \"ticks\": \"\"}}, \"type\": \"scatterpolargl\"}], \"scatterternary\": [{\"marker\": {\"colorbar\": {\"outlinewidth\": 0, \"ticks\": \"\"}}, \"type\": \"scatterternary\"}], \"surface\": [{\"colorbar\": {\"outlinewidth\": 0, \"ticks\": \"\"}, \"colorscale\": [[0.0, \"#0d0887\"], [0.1111111111111111, \"#46039f\"], [0.2222222222222222, \"#7201a8\"], [0.3333333333333333, \"#9c179e\"], [0.4444444444444444, \"#bd3786\"], [0.5555555555555556, \"#d8576b\"], [0.6666666666666666, \"#ed7953\"], [0.7777777777777778, \"#fb9f3a\"], [0.8888888888888888, \"#fdca26\"], [1.0, \"#f0f921\"]], \"type\": \"surface\"}], \"table\": [{\"cells\": {\"fill\": {\"color\": \"#EBF0F8\"}, \"line\": {\"color\": \"white\"}}, \"header\": {\"fill\": {\"color\": \"#C8D4E3\"}, \"line\": {\"color\": \"white\"}}, \"type\": \"table\"}]}, \"layout\": {\"annotationdefaults\": {\"arrowcolor\": \"#2a3f5f\", \"arrowhead\": 0, \"arrowwidth\": 1}, \"coloraxis\": {\"colorbar\": {\"outlinewidth\": 0, \"ticks\": \"\"}}, \"colorscale\": {\"diverging\": [[0, \"#8e0152\"], [0.1, \"#c51b7d\"], [0.2, \"#de77ae\"], [0.3, \"#f1b6da\"], [0.4, \"#fde0ef\"], [0.5, \"#f7f7f7\"], [0.6, \"#e6f5d0\"], [0.7, \"#b8e186\"], [0.8, \"#7fbc41\"], [0.9, \"#4d9221\"], [1, \"#276419\"]], \"sequential\": [[0.0, \"#0d0887\"], [0.1111111111111111, \"#46039f\"], [0.2222222222222222, \"#7201a8\"], [0.3333333333333333, \"#9c179e\"], [0.4444444444444444, \"#bd3786\"], [0.5555555555555556, \"#d8576b\"], [0.6666666666666666, \"#ed7953\"], [0.7777777777777778, \"#fb9f3a\"], [0.8888888888888888, \"#fdca26\"], [1.0, \"#f0f921\"]], \"sequentialminus\": [[0.0, \"#0d0887\"], [0.1111111111111111, \"#46039f\"], [0.2222222222222222, \"#7201a8\"], [0.3333333333333333, \"#9c179e\"], [0.4444444444444444, \"#bd3786\"], [0.5555555555555556, \"#d8576b\"], [0.6666666666666666, \"#ed7953\"], [0.7777777777777778, \"#fb9f3a\"], [0.8888888888888888, \"#fdca26\"], [1.0, \"#f0f921\"]]}, \"colorway\": [\"#636efa\", \"#EF553B\", \"#00cc96\", \"#ab63fa\", \"#FFA15A\", \"#19d3f3\", \"#FF6692\", \"#B6E880\", \"#FF97FF\", \"#FECB52\"], \"font\": {\"color\": \"#2a3f5f\"}, \"geo\": {\"bgcolor\": \"white\", \"lakecolor\": \"white\", \"landcolor\": \"#E5ECF6\", \"showlakes\": true, \"showland\": true, \"subunitcolor\": \"white\"}, \"hoverlabel\": {\"align\": \"left\"}, \"hovermode\": \"closest\", \"mapbox\": {\"style\": \"light\"}, \"paper_bgcolor\": \"white\", \"plot_bgcolor\": \"#E5ECF6\", \"polar\": {\"angularaxis\": {\"gridcolor\": \"white\", \"linecolor\": \"white\", \"ticks\": \"\"}, \"bgcolor\": \"#E5ECF6\", \"radialaxis\": {\"gridcolor\": \"white\", \"linecolor\": \"white\", \"ticks\": \"\"}}, \"scene\": {\"xaxis\": {\"backgroundcolor\": \"#E5ECF6\", \"gridcolor\": \"white\", \"gridwidth\": 2, \"linecolor\": \"white\", \"showbackground\": true, \"ticks\": \"\", \"zerolinecolor\": \"white\"}, \"yaxis\": {\"backgroundcolor\": \"#E5ECF6\", \"gridcolor\": \"white\", \"gridwidth\": 2, \"linecolor\": \"white\", \"showbackground\": true, \"ticks\": \"\", \"zerolinecolor\": \"white\"}, \"zaxis\": {\"backgroundcolor\": \"#E5ECF6\", \"gridcolor\": \"white\", \"gridwidth\": 2, \"linecolor\": \"white\", \"showbackground\": true, \"ticks\": \"\", \"zerolinecolor\": \"white\"}}, \"shapedefaults\": {\"line\": {\"color\": \"#2a3f5f\"}}, \"ternary\": {\"aaxis\": {\"gridcolor\": \"white\", \"linecolor\": \"white\", \"ticks\": \"\"}, \"baxis\": {\"gridcolor\": \"white\", \"linecolor\": \"white\", \"ticks\": \"\"}, \"bgcolor\": \"#E5ECF6\", \"caxis\": {\"gridcolor\": \"white\", \"linecolor\": \"white\", \"ticks\": \"\"}}, \"title\": {\"x\": 0.05}, \"xaxis\": {\"automargin\": true, \"gridcolor\": \"white\", \"linecolor\": \"white\", \"ticks\": \"\", \"title\": {\"standoff\": 15}, \"zerolinecolor\": \"white\", \"zerolinewidth\": 2}, \"yaxis\": {\"automargin\": true, \"gridcolor\": \"white\", \"linecolor\": \"white\", \"ticks\": \"\", \"title\": {\"standoff\": 15}, \"zerolinecolor\": \"white\", \"zerolinewidth\": 2}}}, \"title\": {\"text\": \"Evolu\\u00e7\\u00e3o Gasto Educ (%)\"}, \"updatemenus\": [{\"buttons\": [{\"args\": [null, {\"frame\": {\"duration\": 500, \"redraw\": true}, \"fromcurrent\": true, \"mode\": \"immediate\", \"transition\": {\"duration\": 500, \"easing\": \"linear\"}}], \"label\": \"&#9654;\", \"method\": \"animate\"}, {\"args\": [[null], {\"frame\": {\"duration\": 0, \"redraw\": true}, \"fromcurrent\": true, \"mode\": \"immediate\", \"transition\": {\"duration\": 0, \"easing\": \"linear\"}}], \"label\": \"&#9724;\", \"method\": \"animate\"}], \"direction\": \"left\", \"pad\": {\"r\": 10, \"t\": 70}, \"showactive\": false, \"type\": \"buttons\", \"x\": 0.1, \"xanchor\": \"right\", \"y\": 0, \"yanchor\": \"top\"}]},\n",
       "                        {\"responsive\": true}\n",
       "                    ).then(function(){\n",
       "                            Plotly.addFrames('dbae00f5-a2d1-45e9-9572-9747f5aa411e', [{\"data\": [{\"coloraxis\": \"coloraxis\", \"geo\": \"geo\", \"hoverlabel\": {\"namelength\": 0}, \"hovertemplate\": \"<b>%{hovertext}</b><br><br>Ano=2000<br>country=%{location}<br>Gasto Educ (%)=%{z}\", \"hovertext\": [\"AUT\", \"BEL\", \"CHE\", \"CZE\", \"DEU\", \"DNK\", \"ESP\", \"FIN\", \"FRA\", \"GBR\", \"GRC\", \"HUN\", \"IRL\", \"ISL\", \"ITA\", \"NLD\", \"NOR\", \"POL\", \"PRT\", \"SVK\", \"SVN\", \"SWE\", \"TUR\"], \"locations\": [\"AUT\", \"BEL\", \"CHE\", \"CZE\", \"DEU\", \"DNK\", \"ESP\", \"FIN\", \"FRA\", \"GBR\", \"GRC\", \"HUN\", \"IRL\", \"ISL\", \"ITA\", \"NLD\", \"NOR\", \"POL\", \"PRT\", \"SVK\", \"SVN\", \"SWE\", \"TUR\"], \"name\": \"\", \"z\": [null, null, 3.307, 2.356, null, 3.9210000000000003, 2.8760000000000003, 3.449, 3.8080000000000003, 2.799, 2.3480000000000003, 2.722, 2.725, 4.4910000000000005, 3.0, 2.722, 4.921, null, 3.7089999999999996, 2.5810000000000004, null, 4.015, 1.73], \"type\": \"choropleth\"}], \"name\": \"2000\"}, {\"data\": [{\"coloraxis\": \"coloraxis\", \"geo\": \"geo\", \"hoverlabel\": {\"namelength\": 0}, \"hovertemplate\": \"<b>%{hovertext}</b><br><br>Ano=2003<br>country=%{location}<br>Gasto Educ (%)=%{z}\", \"hovertext\": [\"AUT\", \"BEL\", \"CHE\", \"CZE\", \"DEU\", \"DNK\", \"ESP\", \"FIN\", \"FRA\", \"GRC\", \"HUN\", \"IRL\", \"ISL\", \"ITA\", \"NLD\", \"NOR\", \"POL\", \"PRT\", \"SVK\", \"SWE\", \"TUR\"], \"locations\": [\"AUT\", \"BEL\", \"CHE\", \"CZE\", \"DEU\", \"DNK\", \"ESP\", \"FIN\", \"FRA\", \"GRC\", \"HUN\", \"IRL\", \"ISL\", \"ITA\", \"NLD\", \"NOR\", \"POL\", \"PRT\", \"SVK\", \"SWE\", \"TUR\"], \"name\": \"\", \"z\": [null, null, null, null, null, null, null, null, null, null, null, null, null, null, null, null, null, null, null, null, null], \"type\": \"choropleth\"}], \"name\": \"2003\"}, {\"data\": [{\"coloraxis\": \"coloraxis\", \"geo\": \"geo\", \"hoverlabel\": {\"namelength\": 0}, \"hovertemplate\": \"<b>%{hovertext}</b><br><br>Ano=2005<br>country=%{location}<br>Gasto Educ (%)=%{z}\", \"hovertext\": [\"AUT\", \"BEL\", \"CHE\", \"CZE\", \"DEU\", \"DNK\", \"ESP\", \"FIN\", \"FRA\", \"GBR\", \"GRC\", \"HUN\", \"IRL\", \"ISL\", \"ITA\", \"NLD\", \"NOR\", \"POL\", \"PRT\", \"SVK\", \"SVN\", \"SWE\", \"TUR\"], \"locations\": [\"AUT\", \"BEL\", \"CHE\", \"CZE\", \"DEU\", \"DNK\", \"ESP\", \"FIN\", \"FRA\", \"GBR\", \"GRC\", \"HUN\", \"IRL\", \"ISL\", \"ITA\", \"NLD\", \"NOR\", \"POL\", \"PRT\", \"SVK\", \"SVN\", \"SWE\", \"TUR\"], \"name\": \"\", \"z\": [null, 3.865, 3.469, 2.485, 2.8160000000000003, 4.265, 2.65, 3.668, 3.529, 3.2539999999999996, 2.529, 3.215, 3.139, 5.031000000000001, 3.0260000000000002, 3.12, 4.894, 3.641, 3.569, 2.41, 3.7230000000000003, 3.9939999999999998, 1.925], \"type\": \"choropleth\"}], \"name\": \"2005\"}, {\"data\": [{\"coloraxis\": \"coloraxis\", \"geo\": \"geo\", \"hoverlabel\": {\"namelength\": 0}, \"hovertemplate\": \"<b>%{hovertext}</b><br><br>Ano=2006<br>country=%{location}<br>Gasto Educ (%)=%{z}\", \"hovertext\": [\"AUT\", \"BEL\", \"CHE\", \"CZE\", \"DEU\", \"DNK\", \"ESP\", \"FIN\", \"FRA\", \"GBR\", \"GRC\", \"HUN\", \"IRL\", \"ISL\", \"ITA\", \"NLD\", \"NOR\", \"POL\", \"PRT\", \"SVK\", \"SVN\", \"SWE\", \"TUR\"], \"locations\": [\"AUT\", \"BEL\", \"CHE\", \"CZE\", \"DEU\", \"DNK\", \"ESP\", \"FIN\", \"FRA\", \"GBR\", \"GRC\", \"HUN\", \"IRL\", \"ISL\", \"ITA\", \"NLD\", \"NOR\", \"POL\", \"PRT\", \"SVK\", \"SVN\", \"SWE\", \"TUR\"], \"name\": \"\", \"z\": [null, null, null, null, null, null, null, null, null, null, null, null, null, null, null, null, null, null, null, null, null, null, null], \"type\": \"choropleth\"}], \"name\": \"2006\"}, {\"data\": [{\"coloraxis\": \"coloraxis\", \"geo\": \"geo\", \"hoverlabel\": {\"namelength\": 0}, \"hovertemplate\": \"<b>%{hovertext}</b><br><br>Ano=2008<br>country=%{location}<br>Gasto Educ (%)=%{z}\", \"hovertext\": [\"AUT\", \"BEL\", \"CHE\", \"CZE\", \"DEU\", \"DNK\", \"ESP\", \"FIN\", \"FRA\", \"GBR\", \"GRC\", \"HUN\", \"IRL\", \"ISL\", \"ITA\", \"NLD\", \"NOR\", \"POL\", \"PRT\", \"SVK\", \"SVN\", \"SWE\", \"TUR\"], \"locations\": [\"AUT\", \"BEL\", \"CHE\", \"CZE\", \"DEU\", \"DNK\", \"ESP\", \"FIN\", \"FRA\", \"GBR\", \"GRC\", \"HUN\", \"IRL\", \"ISL\", \"ITA\", \"NLD\", \"NOR\", \"POL\", \"PRT\", \"SVK\", \"SVN\", \"SWE\", \"TUR\"], \"name\": \"\", \"z\": [null, 4.1160000000000005, 3.083, 2.281, 2.6439999999999997, 4.034, 2.785, 3.568, 3.505, 2.986, null, 2.918, 3.862, 4.649, 3.091, 2.985, 4.61, 3.387, 3.267, 2.14, 3.31, 3.822, 2.057], \"type\": \"choropleth\"}], \"name\": \"2008\"}, {\"data\": [{\"coloraxis\": \"coloraxis\", \"geo\": \"geo\", \"hoverlabel\": {\"namelength\": 0}, \"hovertemplate\": \"<b>%{hovertext}</b><br><br>Ano=2009<br>country=%{location}<br>Gasto Educ (%)=%{z}\", \"hovertext\": [\"AUT\", \"BEL\", \"CHE\", \"CZE\", \"DEU\", \"DNK\", \"ESP\", \"FIN\", \"FRA\", \"GBR\", \"GRC\", \"HUN\", \"IRL\", \"ISL\", \"ITA\", \"NLD\", \"NOR\", \"POL\", \"PRT\", \"SVK\", \"SVN\", \"SWE\", \"TUR\"], \"locations\": [\"AUT\", \"BEL\", \"CHE\", \"CZE\", \"DEU\", \"DNK\", \"ESP\", \"FIN\", \"FRA\", \"GBR\", \"GRC\", \"HUN\", \"IRL\", \"ISL\", \"ITA\", \"NLD\", \"NOR\", \"POL\", \"PRT\", \"SVK\", \"SVN\", \"SWE\", \"TUR\"], \"name\": \"\", \"z\": [null, 4.125, 3.278, 2.506, null, 4.506, 2.998, 3.89, 3.635, 3.2710000000000004, null, 2.855, 4.302, 4.6530000000000005, 3.167, 3.321, 4.989, 3.377, 3.823, 2.5140000000000002, 3.529, 3.983, 2.3680000000000003], \"type\": \"choropleth\"}], \"name\": \"2009\"}, {\"data\": [{\"coloraxis\": \"coloraxis\", \"geo\": \"geo\", \"hoverlabel\": {\"namelength\": 0}, \"hovertemplate\": \"<b>%{hovertext}</b><br><br>Ano=2010<br>country=%{location}<br>Gasto Educ (%)=%{z}\", \"hovertext\": [\"AUT\", \"BEL\", \"CHE\", \"CZE\", \"DEU\", \"DNK\", \"ESP\", \"FIN\", \"FRA\", \"GBR\", \"GRC\", \"HUN\", \"IRL\", \"ISL\", \"ITA\", \"NLD\", \"NOR\", \"POL\", \"PRT\", \"SVK\", \"SVN\", \"SWE\", \"TUR\"], \"locations\": [\"AUT\", \"BEL\", \"CHE\", \"CZE\", \"DEU\", \"DNK\", \"ESP\", \"FIN\", \"FRA\", \"GBR\", \"GRC\", \"HUN\", \"IRL\", \"ISL\", \"ITA\", \"NLD\", \"NOR\", \"POL\", \"PRT\", \"SVK\", \"SVN\", \"SWE\", \"TUR\"], \"name\": \"\", \"z\": [null, 4.12, 3.196, 2.45, 2.889, 4.553, 2.944, 3.929, 3.593, 3.344, null, 2.737, 4.27, 4.473, 3.0010000000000003, 3.315, 4.8660000000000005, 3.36, 3.733, 2.638, 3.5, 3.775, 2.373], \"type\": \"choropleth\"}], \"name\": \"2010\"}, {\"data\": [{\"coloraxis\": \"coloraxis\", \"geo\": \"geo\", \"hoverlabel\": {\"namelength\": 0}, \"hovertemplate\": \"<b>%{hovertext}</b><br><br>Ano=2011<br>country=%{location}<br>Gasto Educ (%)=%{z}\", \"hovertext\": [\"AUT\", \"BEL\", \"CHE\", \"CZE\", \"DEU\", \"DNK\", \"ESP\", \"FIN\", \"FRA\", \"GBR\", \"GRC\", \"HUN\", \"IRL\", \"ISL\", \"ITA\", \"NLD\", \"NOR\", \"POL\", \"PRT\", \"SVK\", \"SVN\", \"SWE\", \"TUR\"], \"locations\": [\"AUT\", \"BEL\", \"CHE\", \"CZE\", \"DEU\", \"DNK\", \"ESP\", \"FIN\", \"FRA\", \"GBR\", \"GRC\", \"HUN\", \"IRL\", \"ISL\", \"ITA\", \"NLD\", \"NOR\", \"POL\", \"PRT\", \"SVK\", \"SVN\", \"SWE\", \"TUR\"], \"name\": \"\", \"z\": [null, 4.095, 3.202, 2.471, 2.779, 4.1339999999999995, 2.8810000000000002, 3.88, 3.467, 3.659, null, 2.5269999999999997, 4.14, 4.526, 2.84, 3.2289999999999996, 4.732, 3.153, 3.5580000000000003, 2.404, 3.3960000000000004, 3.6860000000000004, 2.528], \"type\": \"choropleth\"}], \"name\": \"2011\"}, {\"data\": [{\"coloraxis\": \"coloraxis\", \"geo\": \"geo\", \"hoverlabel\": {\"namelength\": 0}, \"hovertemplate\": \"<b>%{hovertext}</b><br><br>Ano=2012<br>country=%{location}<br>Gasto Educ (%)=%{z}\", \"hovertext\": [\"AUT\", \"BEL\", \"CHE\", \"CZE\", \"DEU\", \"DNK\", \"ESP\", \"FIN\", \"FRA\", \"GBR\", \"GRC\", \"HUN\", \"IRL\", \"ISL\", \"ITA\", \"NLD\", \"NOR\", \"POL\", \"PRT\", \"SVK\", \"SVN\", \"SWE\", \"TUR\"], \"locations\": [\"AUT\", \"BEL\", \"CHE\", \"CZE\", \"DEU\", \"DNK\", \"ESP\", \"FIN\", \"FRA\", \"GBR\", \"GRC\", \"HUN\", \"IRL\", \"ISL\", \"ITA\", \"NLD\", \"NOR\", \"POL\", \"PRT\", \"SVK\", \"SVN\", \"SWE\", \"TUR\"], \"name\": \"\", \"z\": [2.9939999999999998, 4.171, 3.3930000000000002, 2.504, 2.708, 4.513, 2.747, 3.912, 3.447, 3.634, 2.637, 2.434, 4.128, 4.407, 2.787, 3.253, 4.6, 3.105, 3.543, 2.342, 3.359, 3.708, 2.5789999999999997], \"type\": \"choropleth\"}], \"name\": \"2012\"}, {\"data\": [{\"coloraxis\": \"coloraxis\", \"geo\": \"geo\", \"hoverlabel\": {\"namelength\": 0}, \"hovertemplate\": \"<b>%{hovertext}</b><br><br>Ano=2013<br>country=%{location}<br>Gasto Educ (%)=%{z}\", \"hovertext\": [\"AUT\", \"BEL\", \"CHE\", \"CZE\", \"DEU\", \"DNK\", \"ESP\", \"FIN\", \"FRA\", \"GBR\", \"GRC\", \"HUN\", \"IRL\", \"ISL\", \"ITA\", \"NLD\", \"NOR\", \"POL\", \"PRT\", \"SVK\", \"SVN\", \"SWE\", \"TUR\"], \"locations\": [\"AUT\", \"BEL\", \"CHE\", \"CZE\", \"DEU\", \"DNK\", \"ESP\", \"FIN\", \"FRA\", \"GBR\", \"GRC\", \"HUN\", \"IRL\", \"ISL\", \"ITA\", \"NLD\", \"NOR\", \"POL\", \"PRT\", \"SVK\", \"SVN\", \"SWE\", \"TUR\"], \"name\": \"\", \"z\": [3.072, 4.202, 3.412, 2.4419999999999997, 2.6910000000000003, 4.446000000000001, 2.679, 3.897, 3.4330000000000003, 3.931, 2.655, 2.311, 3.798, 4.349, 2.838, 3.318, 4.685, 3.0660000000000003, 3.775, 2.419, 3.293, 3.7030000000000003, 2.5660000000000003], \"type\": \"choropleth\"}], \"name\": \"2013\"}, {\"data\": [{\"coloraxis\": \"coloraxis\", \"geo\": \"geo\", \"hoverlabel\": {\"namelength\": 0}, \"hovertemplate\": \"<b>%{hovertext}</b><br><br>Ano=2014<br>country=%{location}<br>Gasto Educ (%)=%{z}\", \"hovertext\": [\"AUT\", \"BEL\", \"CHE\", \"CZE\", \"DEU\", \"DNK\", \"ESP\", \"FIN\", \"FRA\", \"GBR\", \"GRC\", \"HUN\", \"IRL\", \"ISL\", \"ITA\", \"NLD\", \"NOR\", \"POL\", \"PRT\", \"SVK\", \"SVN\", \"SWE\", \"TUR\"], \"locations\": [\"AUT\", \"BEL\", \"CHE\", \"CZE\", \"DEU\", \"DNK\", \"ESP\", \"FIN\", \"FRA\", \"GBR\", \"GRC\", \"HUN\", \"IRL\", \"ISL\", \"ITA\", \"NLD\", \"NOR\", \"POL\", \"PRT\", \"SVK\", \"SVN\", \"SWE\", \"TUR\"], \"name\": \"\", \"z\": [2.9810000000000003, 4.164, 3.353, 2.4090000000000003, 2.668, 4.6739999999999995, 2.639, 3.915, 3.4360000000000004, 4.082, 2.67, 2.6910000000000003, 3.509, 4.462, 2.7510000000000003, 3.188, 4.499, 3.0389999999999997, 3.59, 2.476, 3.155, 3.68, 2.557], \"type\": \"choropleth\"}], \"name\": \"2014\"}, {\"data\": [{\"coloraxis\": \"coloraxis\", \"geo\": \"geo\", \"hoverlabel\": {\"namelength\": 0}, \"hovertemplate\": \"<b>%{hovertext}</b><br><br>Ano=2015<br>country=%{location}<br>Gasto Educ (%)=%{z}\", \"hovertext\": [\"AUT\", \"BEL\", \"CHE\", \"CZE\", \"DEU\", \"DNK\", \"ESP\", \"FIN\", \"FRA\", \"GBR\", \"GRC\", \"HUN\", \"IRL\", \"ISL\", \"ITA\", \"NLD\", \"NOR\", \"POL\", \"PRT\", \"SVK\", \"SVN\", \"SWE\", \"TUR\"], \"locations\": [\"AUT\", \"BEL\", \"CHE\", \"CZE\", \"DEU\", \"DNK\", \"ESP\", \"FIN\", \"FRA\", \"GBR\", \"GRC\", \"HUN\", \"IRL\", \"ISL\", \"ITA\", \"NLD\", \"NOR\", \"POL\", \"PRT\", \"SVK\", \"SVN\", \"SWE\", \"TUR\"], \"name\": \"\", \"z\": [2.978, 4.13, 3.2319999999999998, 2.424, 2.608, null, 2.656, 3.97, 3.398, 3.783, 2.66, 2.674, 2.511, 4.376, 2.78, 3.176, 4.612, 2.929, 3.392, 2.5540000000000003, 2.955, 3.6460000000000004, 2.533], \"type\": \"choropleth\"}], \"name\": \"2015\"}, {\"data\": [{\"coloraxis\": \"coloraxis\", \"geo\": \"geo\", \"hoverlabel\": {\"namelength\": 0}, \"hovertemplate\": \"<b>%{hovertext}</b><br><br>Ano=2018<br>country=%{location}<br>Gasto Educ (%)=%{z}\", \"hovertext\": [\"AUT\", \"BEL\", \"CHE\", \"CZE\", \"DEU\", \"DNK\", \"ESP\", \"FIN\", \"FRA\", \"GBR\", \"GRC\", \"HUN\", \"IRL\", \"ISL\", \"ITA\", \"NLD\", \"NOR\", \"POL\", \"PRT\", \"SVK\", \"SVN\", \"SWE\", \"TUR\"], \"locations\": [\"AUT\", \"BEL\", \"CHE\", \"CZE\", \"DEU\", \"DNK\", \"ESP\", \"FIN\", \"FRA\", \"GBR\", \"GRC\", \"HUN\", \"IRL\", \"ISL\", \"ITA\", \"NLD\", \"NOR\", \"POL\", \"PRT\", \"SVK\", \"SVN\", \"SWE\", \"TUR\"], \"name\": \"\", \"z\": [null, null, null, null, null, null, null, null, null, null, null, null, null, null, null, null, null, null, null, null, null, null, null], \"type\": \"choropleth\"}], \"name\": \"2018\"}]);\n",
       "                        }).then(function(){\n",
       "                            \n",
       "var gd = document.getElementById('dbae00f5-a2d1-45e9-9572-9747f5aa411e');\n",
       "var x = new MutationObserver(function (mutations, observer) {{\n",
       "        var display = window.getComputedStyle(gd).display;\n",
       "        if (!display || display === 'none') {{\n",
       "            console.log([gd, 'removed!']);\n",
       "            Plotly.purge(gd);\n",
       "            observer.disconnect();\n",
       "        }}\n",
       "}});\n",
       "\n",
       "// Listen for the removal of the full notebook cells\n",
       "var notebookContainer = gd.closest('#notebook-container');\n",
       "if (notebookContainer) {{\n",
       "    x.observe(notebookContainer, {childList: true});\n",
       "}}\n",
       "\n",
       "// Listen for the clearing of the current output cell\n",
       "var outputEl = gd.closest('.output');\n",
       "if (outputEl) {{\n",
       "    x.observe(outputEl, {childList: true});\n",
       "}}\n",
       "\n",
       "                        })\n",
       "                };\n",
       "                });\n",
       "            </script>\n",
       "        </div>"
      ]
     },
     "metadata": {},
     "output_type": "display_data"
    }
   ],
   "source": [
    "geograficos_que_precisam_de_tratamento('Gasto Educ (%)')"
   ]
  },
  {
   "cell_type": "code",
   "execution_count": 36,
   "metadata": {},
   "outputs": [
    {
     "data": {
      "application/vnd.plotly.v1+json": {
       "config": {
        "plotlyServerURL": "https://plot.ly"
       },
       "data": [
        {
         "coloraxis": "coloraxis",
         "geo": "geo",
         "hovertemplate": "<b>%{hovertext}</b><br><br>Ano=2009<br>country=%{location}<br>Nota Matemática=%{z}<extra></extra>",
         "hovertext": [
          "AUS",
          "BEL",
          "BRA",
          "CAN",
          "CHE",
          "CHL",
          "CZE",
          "DNK",
          "ESP",
          "FIN",
          "FRA",
          "GBR",
          "HUN",
          "IRL",
          "ISL",
          "ISR",
          "ITA",
          "JPN",
          "KOR",
          "KOR",
          "MEX",
          "NLD",
          "NOR",
          "POL",
          "PRT",
          "SVK",
          "SVN",
          "SWE",
          "TUR",
          "USA"
         ],
         "locations": [
          "AUS",
          "BEL",
          "BRA",
          "CAN",
          "CHE",
          "CHL",
          "CZE",
          "DNK",
          "ESP",
          "FIN",
          "FRA",
          "GBR",
          "HUN",
          "IRL",
          "ISL",
          "ISR",
          "ITA",
          "JPN",
          "KOR",
          "KOR",
          "MEX",
          "NLD",
          "NOR",
          "POL",
          "PRT",
          "SVK",
          "SVN",
          "SWE",
          "TUR",
          "USA"
         ],
         "name": "",
         "type": "choropleth",
         "z": [
          514,
          515,
          386,
          527,
          534,
          421,
          493,
          503,
          483,
          541,
          497,
          492,
          490,
          487,
          507,
          447,
          483,
          529,
          546,
          546,
          419,
          526,
          498,
          495,
          487,
          497,
          501,
          494,
          445,
          487
         ]
        }
       ],
       "frames": [
        {
         "data": [
          {
           "coloraxis": "coloraxis",
           "geo": "geo",
           "hovertemplate": "<b>%{hovertext}</b><br><br>Ano=2009<br>country=%{location}<br>Nota Matemática=%{z}<extra></extra>",
           "hovertext": [
            "AUS",
            "BEL",
            "BRA",
            "CAN",
            "CHE",
            "CHL",
            "CZE",
            "DNK",
            "ESP",
            "FIN",
            "FRA",
            "GBR",
            "HUN",
            "IRL",
            "ISL",
            "ISR",
            "ITA",
            "JPN",
            "KOR",
            "KOR",
            "MEX",
            "NLD",
            "NOR",
            "POL",
            "PRT",
            "SVK",
            "SVN",
            "SWE",
            "TUR",
            "USA"
           ],
           "locations": [
            "AUS",
            "BEL",
            "BRA",
            "CAN",
            "CHE",
            "CHL",
            "CZE",
            "DNK",
            "ESP",
            "FIN",
            "FRA",
            "GBR",
            "HUN",
            "IRL",
            "ISL",
            "ISR",
            "ITA",
            "JPN",
            "KOR",
            "KOR",
            "MEX",
            "NLD",
            "NOR",
            "POL",
            "PRT",
            "SVK",
            "SVN",
            "SWE",
            "TUR",
            "USA"
           ],
           "name": "",
           "type": "choropleth",
           "z": [
            514,
            515,
            386,
            527,
            534,
            421,
            493,
            503,
            483,
            541,
            497,
            492,
            490,
            487,
            507,
            447,
            483,
            529,
            546,
            546,
            419,
            526,
            498,
            495,
            487,
            497,
            501,
            494,
            445,
            487
           ]
          }
         ],
         "name": "2009"
        },
        {
         "data": [
          {
           "coloraxis": "coloraxis",
           "geo": "geo",
           "hovertemplate": "<b>%{hovertext}</b><br><br>Ano=2012<br>country=%{location}<br>Nota Matemática=%{z}<extra></extra>",
           "hovertext": [
            "AUS",
            "AUT",
            "BEL",
            "BRA",
            "CAN",
            "CHE",
            "CHL",
            "CZE",
            "DEU",
            "DNK",
            "ESP",
            "FIN",
            "FRA",
            "GBR",
            "GRC",
            "HUN",
            "IDN",
            "IRL",
            "ISL",
            "ISR",
            "ITA",
            "JPN",
            "KOR",
            "KOR",
            "MEX",
            "NLD",
            "NOR",
            "NZL",
            "POL",
            "PRT",
            "SVK",
            "SVN",
            "SWE",
            "TUR",
            "USA"
           ],
           "locations": [
            "AUS",
            "AUT",
            "BEL",
            "BRA",
            "CAN",
            "CHE",
            "CHL",
            "CZE",
            "DEU",
            "DNK",
            "ESP",
            "FIN",
            "FRA",
            "GBR",
            "GRC",
            "HUN",
            "IDN",
            "IRL",
            "ISL",
            "ISR",
            "ITA",
            "JPN",
            "KOR",
            "KOR",
            "MEX",
            "NLD",
            "NOR",
            "NZL",
            "POL",
            "PRT",
            "SVK",
            "SVN",
            "SWE",
            "TUR",
            "USA"
           ],
           "name": "",
           "type": "choropleth",
           "z": [
            504,
            506,
            515,
            389,
            518,
            531,
            423,
            499,
            514,
            500,
            484,
            519,
            495,
            494,
            453,
            477,
            375,
            501,
            493,
            466,
            485,
            536,
            554,
            554,
            413,
            523,
            489,
            500,
            518,
            487,
            482,
            501,
            478,
            448,
            481
           ]
          }
         ],
         "name": "2012"
        },
        {
         "data": [
          {
           "coloraxis": "coloraxis",
           "geo": "geo",
           "hovertemplate": "<b>%{hovertext}</b><br><br>Ano=2015<br>country=%{location}<br>Nota Matemática=%{z}<extra></extra>",
           "hovertext": [
            "AUS",
            "AUT",
            "BEL",
            "BRA",
            "CAN",
            "CHE",
            "CHL",
            "COL",
            "CZE",
            "DEU",
            "ESP",
            "FIN",
            "FRA",
            "GBR",
            "GRC",
            "HUN",
            "IDN",
            "IRL",
            "ISL",
            "ISR",
            "ITA",
            "JPN",
            "KOR",
            "KOR",
            "MEX",
            "NLD",
            "NOR",
            "NZL",
            "POL",
            "PRT",
            "SVK",
            "SVN",
            "SWE",
            "TUR",
            "USA"
           ],
           "locations": [
            "AUS",
            "AUT",
            "BEL",
            "BRA",
            "CAN",
            "CHE",
            "CHL",
            "COL",
            "CZE",
            "DEU",
            "ESP",
            "FIN",
            "FRA",
            "GBR",
            "GRC",
            "HUN",
            "IDN",
            "IRL",
            "ISL",
            "ISR",
            "ITA",
            "JPN",
            "KOR",
            "KOR",
            "MEX",
            "NLD",
            "NOR",
            "NZL",
            "POL",
            "PRT",
            "SVK",
            "SVN",
            "SWE",
            "TUR",
            "USA"
           ],
           "name": "",
           "type": "choropleth",
           "z": [
            494,
            497,
            507,
            377,
            516,
            521,
            423,
            390,
            492,
            506,
            486,
            511,
            493,
            492,
            454,
            477,
            386,
            504,
            488,
            470,
            490,
            532,
            524,
            524,
            408,
            512,
            502,
            495,
            504,
            492,
            475,
            510,
            494,
            420,
            470
           ]
          }
         ],
         "name": "2015"
        }
       ],
       "layout": {
        "coloraxis": {
         "colorbar": {
          "title": {
           "text": "Nota Matemática"
          }
         },
         "colorscale": [
          [
           0,
           "rgb(247,251,255)"
          ],
          [
           0.125,
           "rgb(222,235,247)"
          ],
          [
           0.25,
           "rgb(198,219,239)"
          ],
          [
           0.375,
           "rgb(158,202,225)"
          ],
          [
           0.5,
           "rgb(107,174,214)"
          ],
          [
           0.625,
           "rgb(66,146,198)"
          ],
          [
           0.75,
           "rgb(33,113,181)"
          ],
          [
           0.875,
           "rgb(8,81,156)"
          ],
          [
           1,
           "rgb(8,48,107)"
          ]
         ]
        },
        "geo": {
         "center": {},
         "domain": {
          "x": [
           0,
           1
          ],
          "y": [
           0,
           1
          ]
         },
         "projection": {
          "type": "natural earth"
         }
        },
        "legend": {
         "tracegroupgap": 0
        },
        "sliders": [
         {
          "active": 0,
          "currentvalue": {
           "prefix": "Ano="
          },
          "len": 0.9,
          "pad": {
           "b": 10,
           "t": 60
          },
          "steps": [
           {
            "args": [
             [
              "2009"
             ],
             {
              "frame": {
               "duration": 0,
               "redraw": true
              },
              "fromcurrent": true,
              "mode": "immediate",
              "transition": {
               "duration": 0,
               "easing": "linear"
              }
             }
            ],
            "label": "2009",
            "method": "animate"
           },
           {
            "args": [
             [
              "2012"
             ],
             {
              "frame": {
               "duration": 0,
               "redraw": true
              },
              "fromcurrent": true,
              "mode": "immediate",
              "transition": {
               "duration": 0,
               "easing": "linear"
              }
             }
            ],
            "label": "2012",
            "method": "animate"
           },
           {
            "args": [
             [
              "2015"
             ],
             {
              "frame": {
               "duration": 0,
               "redraw": true
              },
              "fromcurrent": true,
              "mode": "immediate",
              "transition": {
               "duration": 0,
               "easing": "linear"
              }
             }
            ],
            "label": "2015",
            "method": "animate"
           }
          ],
          "x": 0.1,
          "xanchor": "left",
          "y": 0,
          "yanchor": "top"
         }
        ],
        "template": {
         "data": {
          "bar": [
           {
            "error_x": {
             "color": "#2a3f5f"
            },
            "error_y": {
             "color": "#2a3f5f"
            },
            "marker": {
             "line": {
              "color": "#E5ECF6",
              "width": 0.5
             }
            },
            "type": "bar"
           }
          ],
          "barpolar": [
           {
            "marker": {
             "line": {
              "color": "#E5ECF6",
              "width": 0.5
             }
            },
            "type": "barpolar"
           }
          ],
          "carpet": [
           {
            "aaxis": {
             "endlinecolor": "#2a3f5f",
             "gridcolor": "white",
             "linecolor": "white",
             "minorgridcolor": "white",
             "startlinecolor": "#2a3f5f"
            },
            "baxis": {
             "endlinecolor": "#2a3f5f",
             "gridcolor": "white",
             "linecolor": "white",
             "minorgridcolor": "white",
             "startlinecolor": "#2a3f5f"
            },
            "type": "carpet"
           }
          ],
          "choropleth": [
           {
            "colorbar": {
             "outlinewidth": 0,
             "ticks": ""
            },
            "type": "choropleth"
           }
          ],
          "contour": [
           {
            "colorbar": {
             "outlinewidth": 0,
             "ticks": ""
            },
            "colorscale": [
             [
              0,
              "#0d0887"
             ],
             [
              0.1111111111111111,
              "#46039f"
             ],
             [
              0.2222222222222222,
              "#7201a8"
             ],
             [
              0.3333333333333333,
              "#9c179e"
             ],
             [
              0.4444444444444444,
              "#bd3786"
             ],
             [
              0.5555555555555556,
              "#d8576b"
             ],
             [
              0.6666666666666666,
              "#ed7953"
             ],
             [
              0.7777777777777778,
              "#fb9f3a"
             ],
             [
              0.8888888888888888,
              "#fdca26"
             ],
             [
              1,
              "#f0f921"
             ]
            ],
            "type": "contour"
           }
          ],
          "contourcarpet": [
           {
            "colorbar": {
             "outlinewidth": 0,
             "ticks": ""
            },
            "type": "contourcarpet"
           }
          ],
          "heatmap": [
           {
            "colorbar": {
             "outlinewidth": 0,
             "ticks": ""
            },
            "colorscale": [
             [
              0,
              "#0d0887"
             ],
             [
              0.1111111111111111,
              "#46039f"
             ],
             [
              0.2222222222222222,
              "#7201a8"
             ],
             [
              0.3333333333333333,
              "#9c179e"
             ],
             [
              0.4444444444444444,
              "#bd3786"
             ],
             [
              0.5555555555555556,
              "#d8576b"
             ],
             [
              0.6666666666666666,
              "#ed7953"
             ],
             [
              0.7777777777777778,
              "#fb9f3a"
             ],
             [
              0.8888888888888888,
              "#fdca26"
             ],
             [
              1,
              "#f0f921"
             ]
            ],
            "type": "heatmap"
           }
          ],
          "heatmapgl": [
           {
            "colorbar": {
             "outlinewidth": 0,
             "ticks": ""
            },
            "colorscale": [
             [
              0,
              "#0d0887"
             ],
             [
              0.1111111111111111,
              "#46039f"
             ],
             [
              0.2222222222222222,
              "#7201a8"
             ],
             [
              0.3333333333333333,
              "#9c179e"
             ],
             [
              0.4444444444444444,
              "#bd3786"
             ],
             [
              0.5555555555555556,
              "#d8576b"
             ],
             [
              0.6666666666666666,
              "#ed7953"
             ],
             [
              0.7777777777777778,
              "#fb9f3a"
             ],
             [
              0.8888888888888888,
              "#fdca26"
             ],
             [
              1,
              "#f0f921"
             ]
            ],
            "type": "heatmapgl"
           }
          ],
          "histogram": [
           {
            "marker": {
             "colorbar": {
              "outlinewidth": 0,
              "ticks": ""
             }
            },
            "type": "histogram"
           }
          ],
          "histogram2d": [
           {
            "colorbar": {
             "outlinewidth": 0,
             "ticks": ""
            },
            "colorscale": [
             [
              0,
              "#0d0887"
             ],
             [
              0.1111111111111111,
              "#46039f"
             ],
             [
              0.2222222222222222,
              "#7201a8"
             ],
             [
              0.3333333333333333,
              "#9c179e"
             ],
             [
              0.4444444444444444,
              "#bd3786"
             ],
             [
              0.5555555555555556,
              "#d8576b"
             ],
             [
              0.6666666666666666,
              "#ed7953"
             ],
             [
              0.7777777777777778,
              "#fb9f3a"
             ],
             [
              0.8888888888888888,
              "#fdca26"
             ],
             [
              1,
              "#f0f921"
             ]
            ],
            "type": "histogram2d"
           }
          ],
          "histogram2dcontour": [
           {
            "colorbar": {
             "outlinewidth": 0,
             "ticks": ""
            },
            "colorscale": [
             [
              0,
              "#0d0887"
             ],
             [
              0.1111111111111111,
              "#46039f"
             ],
             [
              0.2222222222222222,
              "#7201a8"
             ],
             [
              0.3333333333333333,
              "#9c179e"
             ],
             [
              0.4444444444444444,
              "#bd3786"
             ],
             [
              0.5555555555555556,
              "#d8576b"
             ],
             [
              0.6666666666666666,
              "#ed7953"
             ],
             [
              0.7777777777777778,
              "#fb9f3a"
             ],
             [
              0.8888888888888888,
              "#fdca26"
             ],
             [
              1,
              "#f0f921"
             ]
            ],
            "type": "histogram2dcontour"
           }
          ],
          "mesh3d": [
           {
            "colorbar": {
             "outlinewidth": 0,
             "ticks": ""
            },
            "type": "mesh3d"
           }
          ],
          "parcoords": [
           {
            "line": {
             "colorbar": {
              "outlinewidth": 0,
              "ticks": ""
             }
            },
            "type": "parcoords"
           }
          ],
          "pie": [
           {
            "automargin": true,
            "type": "pie"
           }
          ],
          "scatter": [
           {
            "marker": {
             "colorbar": {
              "outlinewidth": 0,
              "ticks": ""
             }
            },
            "type": "scatter"
           }
          ],
          "scatter3d": [
           {
            "line": {
             "colorbar": {
              "outlinewidth": 0,
              "ticks": ""
             }
            },
            "marker": {
             "colorbar": {
              "outlinewidth": 0,
              "ticks": ""
             }
            },
            "type": "scatter3d"
           }
          ],
          "scattercarpet": [
           {
            "marker": {
             "colorbar": {
              "outlinewidth": 0,
              "ticks": ""
             }
            },
            "type": "scattercarpet"
           }
          ],
          "scattergeo": [
           {
            "marker": {
             "colorbar": {
              "outlinewidth": 0,
              "ticks": ""
             }
            },
            "type": "scattergeo"
           }
          ],
          "scattergl": [
           {
            "marker": {
             "colorbar": {
              "outlinewidth": 0,
              "ticks": ""
             }
            },
            "type": "scattergl"
           }
          ],
          "scattermapbox": [
           {
            "marker": {
             "colorbar": {
              "outlinewidth": 0,
              "ticks": ""
             }
            },
            "type": "scattermapbox"
           }
          ],
          "scatterpolar": [
           {
            "marker": {
             "colorbar": {
              "outlinewidth": 0,
              "ticks": ""
             }
            },
            "type": "scatterpolar"
           }
          ],
          "scatterpolargl": [
           {
            "marker": {
             "colorbar": {
              "outlinewidth": 0,
              "ticks": ""
             }
            },
            "type": "scatterpolargl"
           }
          ],
          "scatterternary": [
           {
            "marker": {
             "colorbar": {
              "outlinewidth": 0,
              "ticks": ""
             }
            },
            "type": "scatterternary"
           }
          ],
          "surface": [
           {
            "colorbar": {
             "outlinewidth": 0,
             "ticks": ""
            },
            "colorscale": [
             [
              0,
              "#0d0887"
             ],
             [
              0.1111111111111111,
              "#46039f"
             ],
             [
              0.2222222222222222,
              "#7201a8"
             ],
             [
              0.3333333333333333,
              "#9c179e"
             ],
             [
              0.4444444444444444,
              "#bd3786"
             ],
             [
              0.5555555555555556,
              "#d8576b"
             ],
             [
              0.6666666666666666,
              "#ed7953"
             ],
             [
              0.7777777777777778,
              "#fb9f3a"
             ],
             [
              0.8888888888888888,
              "#fdca26"
             ],
             [
              1,
              "#f0f921"
             ]
            ],
            "type": "surface"
           }
          ],
          "table": [
           {
            "cells": {
             "fill": {
              "color": "#EBF0F8"
             },
             "line": {
              "color": "white"
             }
            },
            "header": {
             "fill": {
              "color": "#C8D4E3"
             },
             "line": {
              "color": "white"
             }
            },
            "type": "table"
           }
          ]
         },
         "layout": {
          "annotationdefaults": {
           "arrowcolor": "#2a3f5f",
           "arrowhead": 0,
           "arrowwidth": 1
          },
          "coloraxis": {
           "colorbar": {
            "outlinewidth": 0,
            "ticks": ""
           }
          },
          "colorscale": {
           "diverging": [
            [
             0,
             "#8e0152"
            ],
            [
             0.1,
             "#c51b7d"
            ],
            [
             0.2,
             "#de77ae"
            ],
            [
             0.3,
             "#f1b6da"
            ],
            [
             0.4,
             "#fde0ef"
            ],
            [
             0.5,
             "#f7f7f7"
            ],
            [
             0.6,
             "#e6f5d0"
            ],
            [
             0.7,
             "#b8e186"
            ],
            [
             0.8,
             "#7fbc41"
            ],
            [
             0.9,
             "#4d9221"
            ],
            [
             1,
             "#276419"
            ]
           ],
           "sequential": [
            [
             0,
             "#0d0887"
            ],
            [
             0.1111111111111111,
             "#46039f"
            ],
            [
             0.2222222222222222,
             "#7201a8"
            ],
            [
             0.3333333333333333,
             "#9c179e"
            ],
            [
             0.4444444444444444,
             "#bd3786"
            ],
            [
             0.5555555555555556,
             "#d8576b"
            ],
            [
             0.6666666666666666,
             "#ed7953"
            ],
            [
             0.7777777777777778,
             "#fb9f3a"
            ],
            [
             0.8888888888888888,
             "#fdca26"
            ],
            [
             1,
             "#f0f921"
            ]
           ],
           "sequentialminus": [
            [
             0,
             "#0d0887"
            ],
            [
             0.1111111111111111,
             "#46039f"
            ],
            [
             0.2222222222222222,
             "#7201a8"
            ],
            [
             0.3333333333333333,
             "#9c179e"
            ],
            [
             0.4444444444444444,
             "#bd3786"
            ],
            [
             0.5555555555555556,
             "#d8576b"
            ],
            [
             0.6666666666666666,
             "#ed7953"
            ],
            [
             0.7777777777777778,
             "#fb9f3a"
            ],
            [
             0.8888888888888888,
             "#fdca26"
            ],
            [
             1,
             "#f0f921"
            ]
           ]
          },
          "colorway": [
           "#636efa",
           "#EF553B",
           "#00cc96",
           "#ab63fa",
           "#FFA15A",
           "#19d3f3",
           "#FF6692",
           "#B6E880",
           "#FF97FF",
           "#FECB52"
          ],
          "font": {
           "color": "#2a3f5f"
          },
          "geo": {
           "bgcolor": "white",
           "lakecolor": "white",
           "landcolor": "#E5ECF6",
           "showlakes": true,
           "showland": true,
           "subunitcolor": "white"
          },
          "hoverlabel": {
           "align": "left"
          },
          "hovermode": "closest",
          "mapbox": {
           "style": "light"
          },
          "paper_bgcolor": "white",
          "plot_bgcolor": "#E5ECF6",
          "polar": {
           "angularaxis": {
            "gridcolor": "white",
            "linecolor": "white",
            "ticks": ""
           },
           "bgcolor": "#E5ECF6",
           "radialaxis": {
            "gridcolor": "white",
            "linecolor": "white",
            "ticks": ""
           }
          },
          "scene": {
           "xaxis": {
            "backgroundcolor": "#E5ECF6",
            "gridcolor": "white",
            "gridwidth": 2,
            "linecolor": "white",
            "showbackground": true,
            "ticks": "",
            "zerolinecolor": "white"
           },
           "yaxis": {
            "backgroundcolor": "#E5ECF6",
            "gridcolor": "white",
            "gridwidth": 2,
            "linecolor": "white",
            "showbackground": true,
            "ticks": "",
            "zerolinecolor": "white"
           },
           "zaxis": {
            "backgroundcolor": "#E5ECF6",
            "gridcolor": "white",
            "gridwidth": 2,
            "linecolor": "white",
            "showbackground": true,
            "ticks": "",
            "zerolinecolor": "white"
           }
          },
          "shapedefaults": {
           "line": {
            "color": "#2a3f5f"
           }
          },
          "ternary": {
           "aaxis": {
            "gridcolor": "white",
            "linecolor": "white",
            "ticks": ""
           },
           "baxis": {
            "gridcolor": "white",
            "linecolor": "white",
            "ticks": ""
           },
           "bgcolor": "#E5ECF6",
           "caxis": {
            "gridcolor": "white",
            "linecolor": "white",
            "ticks": ""
           }
          },
          "title": {
           "x": 0.05
          },
          "xaxis": {
           "automargin": true,
           "gridcolor": "white",
           "linecolor": "white",
           "ticks": "",
           "title": {
            "standoff": 15
           },
           "zerolinecolor": "white",
           "zerolinewidth": 2
          },
          "yaxis": {
           "automargin": true,
           "gridcolor": "white",
           "linecolor": "white",
           "ticks": "",
           "title": {
            "standoff": 15
           },
           "zerolinecolor": "white",
           "zerolinewidth": 2
          }
         }
        },
        "title": {
         "text": "Evolução Nota Matemática"
        },
        "updatemenus": [
         {
          "buttons": [
           {
            "args": [
             null,
             {
              "frame": {
               "duration": 500,
               "redraw": true
              },
              "fromcurrent": true,
              "mode": "immediate",
              "transition": {
               "duration": 500,
               "easing": "linear"
              }
             }
            ],
            "label": "&#9654;",
            "method": "animate"
           },
           {
            "args": [
             [
              null
             ],
             {
              "frame": {
               "duration": 0,
               "redraw": true
              },
              "fromcurrent": true,
              "mode": "immediate",
              "transition": {
               "duration": 0,
               "easing": "linear"
              }
             }
            ],
            "label": "&#9724;",
            "method": "animate"
           }
          ],
          "direction": "left",
          "pad": {
           "r": 10,
           "t": 70
          },
          "showactive": false,
          "type": "buttons",
          "x": 0.1,
          "xanchor": "right",
          "y": 0,
          "yanchor": "top"
         }
        ]
       }
      },
      "text/html": [
       "<div>\n",
       "        \n",
       "        \n",
       "            <div id=\"4ee2c5ae-bce0-441c-8294-48d37fd522d4\" class=\"plotly-graph-div\" style=\"height:525px; width:100%;\"></div>\n",
       "            <script type=\"text/javascript\">\n",
       "                require([\"plotly\"], function(Plotly) {\n",
       "                    window.PLOTLYENV=window.PLOTLYENV || {};\n",
       "                    \n",
       "                if (document.getElementById(\"4ee2c5ae-bce0-441c-8294-48d37fd522d4\")) {\n",
       "                    Plotly.newPlot(\n",
       "                        '4ee2c5ae-bce0-441c-8294-48d37fd522d4',\n",
       "                        [{\"coloraxis\": \"coloraxis\", \"geo\": \"geo\", \"hovertemplate\": \"<b>%{hovertext}</b><br><br>Ano=2009<br>country=%{location}<br>Nota Matem\\u00e1tica=%{z}<extra></extra>\", \"hovertext\": [\"AUS\", \"BEL\", \"BRA\", \"CAN\", \"CHE\", \"CHL\", \"CZE\", \"DNK\", \"ESP\", \"FIN\", \"FRA\", \"GBR\", \"HUN\", \"IRL\", \"ISL\", \"ISR\", \"ITA\", \"JPN\", \"KOR\", \"KOR\", \"MEX\", \"NLD\", \"NOR\", \"POL\", \"PRT\", \"SVK\", \"SVN\", \"SWE\", \"TUR\", \"USA\"], \"locations\": [\"AUS\", \"BEL\", \"BRA\", \"CAN\", \"CHE\", \"CHL\", \"CZE\", \"DNK\", \"ESP\", \"FIN\", \"FRA\", \"GBR\", \"HUN\", \"IRL\", \"ISL\", \"ISR\", \"ITA\", \"JPN\", \"KOR\", \"KOR\", \"MEX\", \"NLD\", \"NOR\", \"POL\", \"PRT\", \"SVK\", \"SVN\", \"SWE\", \"TUR\", \"USA\"], \"name\": \"\", \"type\": \"choropleth\", \"z\": [514.0, 515.0, 386.0, 527.0, 534.0, 421.0, 493.0, 503.0, 483.0, 541.0, 497.0, 492.0, 490.0, 487.0, 507.0, 447.0, 483.0, 529.0, 546.0, 546.0, 419.0, 526.0, 498.0, 495.0, 487.0, 497.0, 501.0, 494.0, 445.0, 487.0]}],\n",
       "                        {\"coloraxis\": {\"colorbar\": {\"title\": {\"text\": \"Nota Matem\\u00e1tica\"}}, \"colorscale\": [[0.0, \"rgb(247,251,255)\"], [0.125, \"rgb(222,235,247)\"], [0.25, \"rgb(198,219,239)\"], [0.375, \"rgb(158,202,225)\"], [0.5, \"rgb(107,174,214)\"], [0.625, \"rgb(66,146,198)\"], [0.75, \"rgb(33,113,181)\"], [0.875, \"rgb(8,81,156)\"], [1.0, \"rgb(8,48,107)\"]]}, \"geo\": {\"center\": {}, \"domain\": {\"x\": [0.0, 1.0], \"y\": [0.0, 1.0]}, \"projection\": {\"type\": \"natural earth\"}}, \"legend\": {\"tracegroupgap\": 0}, \"sliders\": [{\"active\": 0, \"currentvalue\": {\"prefix\": \"Ano=\"}, \"len\": 0.9, \"pad\": {\"b\": 10, \"t\": 60}, \"steps\": [{\"args\": [[\"2009\"], {\"frame\": {\"duration\": 0, \"redraw\": true}, \"fromcurrent\": true, \"mode\": \"immediate\", \"transition\": {\"duration\": 0, \"easing\": \"linear\"}}], \"label\": \"2009\", \"method\": \"animate\"}, {\"args\": [[\"2012\"], {\"frame\": {\"duration\": 0, \"redraw\": true}, \"fromcurrent\": true, \"mode\": \"immediate\", \"transition\": {\"duration\": 0, \"easing\": \"linear\"}}], \"label\": \"2012\", \"method\": \"animate\"}, {\"args\": [[\"2015\"], {\"frame\": {\"duration\": 0, \"redraw\": true}, \"fromcurrent\": true, \"mode\": \"immediate\", \"transition\": {\"duration\": 0, \"easing\": \"linear\"}}], \"label\": \"2015\", \"method\": \"animate\"}], \"x\": 0.1, \"xanchor\": \"left\", \"y\": 0, \"yanchor\": \"top\"}], \"template\": {\"data\": {\"bar\": [{\"error_x\": {\"color\": \"#2a3f5f\"}, \"error_y\": {\"color\": \"#2a3f5f\"}, \"marker\": {\"line\": {\"color\": \"#E5ECF6\", \"width\": 0.5}}, \"type\": \"bar\"}], \"barpolar\": [{\"marker\": {\"line\": {\"color\": \"#E5ECF6\", \"width\": 0.5}}, \"type\": \"barpolar\"}], \"carpet\": [{\"aaxis\": {\"endlinecolor\": \"#2a3f5f\", \"gridcolor\": \"white\", \"linecolor\": \"white\", \"minorgridcolor\": \"white\", \"startlinecolor\": \"#2a3f5f\"}, \"baxis\": {\"endlinecolor\": \"#2a3f5f\", \"gridcolor\": \"white\", \"linecolor\": \"white\", \"minorgridcolor\": \"white\", \"startlinecolor\": \"#2a3f5f\"}, \"type\": \"carpet\"}], \"choropleth\": [{\"colorbar\": {\"outlinewidth\": 0, \"ticks\": \"\"}, \"type\": \"choropleth\"}], \"contour\": [{\"colorbar\": {\"outlinewidth\": 0, \"ticks\": \"\"}, \"colorscale\": [[0.0, \"#0d0887\"], [0.1111111111111111, \"#46039f\"], [0.2222222222222222, \"#7201a8\"], [0.3333333333333333, \"#9c179e\"], [0.4444444444444444, \"#bd3786\"], [0.5555555555555556, \"#d8576b\"], [0.6666666666666666, \"#ed7953\"], [0.7777777777777778, \"#fb9f3a\"], [0.8888888888888888, \"#fdca26\"], [1.0, \"#f0f921\"]], \"type\": \"contour\"}], \"contourcarpet\": [{\"colorbar\": {\"outlinewidth\": 0, \"ticks\": \"\"}, \"type\": \"contourcarpet\"}], \"heatmap\": [{\"colorbar\": {\"outlinewidth\": 0, \"ticks\": \"\"}, \"colorscale\": [[0.0, \"#0d0887\"], [0.1111111111111111, \"#46039f\"], [0.2222222222222222, \"#7201a8\"], [0.3333333333333333, \"#9c179e\"], [0.4444444444444444, \"#bd3786\"], [0.5555555555555556, \"#d8576b\"], [0.6666666666666666, \"#ed7953\"], [0.7777777777777778, \"#fb9f3a\"], [0.8888888888888888, \"#fdca26\"], [1.0, \"#f0f921\"]], \"type\": \"heatmap\"}], \"heatmapgl\": [{\"colorbar\": {\"outlinewidth\": 0, \"ticks\": \"\"}, \"colorscale\": [[0.0, \"#0d0887\"], [0.1111111111111111, \"#46039f\"], [0.2222222222222222, \"#7201a8\"], [0.3333333333333333, \"#9c179e\"], [0.4444444444444444, \"#bd3786\"], [0.5555555555555556, \"#d8576b\"], [0.6666666666666666, \"#ed7953\"], [0.7777777777777778, \"#fb9f3a\"], [0.8888888888888888, \"#fdca26\"], [1.0, \"#f0f921\"]], \"type\": \"heatmapgl\"}], \"histogram\": [{\"marker\": {\"colorbar\": {\"outlinewidth\": 0, \"ticks\": \"\"}}, \"type\": \"histogram\"}], \"histogram2d\": [{\"colorbar\": {\"outlinewidth\": 0, \"ticks\": \"\"}, \"colorscale\": [[0.0, \"#0d0887\"], [0.1111111111111111, \"#46039f\"], [0.2222222222222222, \"#7201a8\"], [0.3333333333333333, \"#9c179e\"], [0.4444444444444444, \"#bd3786\"], [0.5555555555555556, \"#d8576b\"], [0.6666666666666666, \"#ed7953\"], [0.7777777777777778, \"#fb9f3a\"], [0.8888888888888888, \"#fdca26\"], [1.0, \"#f0f921\"]], \"type\": \"histogram2d\"}], \"histogram2dcontour\": [{\"colorbar\": {\"outlinewidth\": 0, \"ticks\": \"\"}, \"colorscale\": [[0.0, \"#0d0887\"], [0.1111111111111111, \"#46039f\"], [0.2222222222222222, \"#7201a8\"], [0.3333333333333333, \"#9c179e\"], [0.4444444444444444, \"#bd3786\"], [0.5555555555555556, \"#d8576b\"], [0.6666666666666666, \"#ed7953\"], [0.7777777777777778, \"#fb9f3a\"], [0.8888888888888888, \"#fdca26\"], [1.0, \"#f0f921\"]], \"type\": \"histogram2dcontour\"}], \"mesh3d\": [{\"colorbar\": {\"outlinewidth\": 0, \"ticks\": \"\"}, \"type\": \"mesh3d\"}], \"parcoords\": [{\"line\": {\"colorbar\": {\"outlinewidth\": 0, \"ticks\": \"\"}}, \"type\": \"parcoords\"}], \"pie\": [{\"automargin\": true, \"type\": \"pie\"}], \"scatter\": [{\"marker\": {\"colorbar\": {\"outlinewidth\": 0, \"ticks\": \"\"}}, \"type\": \"scatter\"}], \"scatter3d\": [{\"line\": {\"colorbar\": {\"outlinewidth\": 0, \"ticks\": \"\"}}, \"marker\": {\"colorbar\": {\"outlinewidth\": 0, \"ticks\": \"\"}}, \"type\": \"scatter3d\"}], \"scattercarpet\": [{\"marker\": {\"colorbar\": {\"outlinewidth\": 0, \"ticks\": \"\"}}, \"type\": \"scattercarpet\"}], \"scattergeo\": [{\"marker\": {\"colorbar\": {\"outlinewidth\": 0, \"ticks\": \"\"}}, \"type\": \"scattergeo\"}], \"scattergl\": [{\"marker\": {\"colorbar\": {\"outlinewidth\": 0, \"ticks\": \"\"}}, \"type\": \"scattergl\"}], \"scattermapbox\": [{\"marker\": {\"colorbar\": {\"outlinewidth\": 0, \"ticks\": \"\"}}, \"type\": \"scattermapbox\"}], \"scatterpolar\": [{\"marker\": {\"colorbar\": {\"outlinewidth\": 0, \"ticks\": \"\"}}, \"type\": \"scatterpolar\"}], \"scatterpolargl\": [{\"marker\": {\"colorbar\": {\"outlinewidth\": 0, \"ticks\": \"\"}}, \"type\": \"scatterpolargl\"}], \"scatterternary\": [{\"marker\": {\"colorbar\": {\"outlinewidth\": 0, \"ticks\": \"\"}}, \"type\": \"scatterternary\"}], \"surface\": [{\"colorbar\": {\"outlinewidth\": 0, \"ticks\": \"\"}, \"colorscale\": [[0.0, \"#0d0887\"], [0.1111111111111111, \"#46039f\"], [0.2222222222222222, \"#7201a8\"], [0.3333333333333333, \"#9c179e\"], [0.4444444444444444, \"#bd3786\"], [0.5555555555555556, \"#d8576b\"], [0.6666666666666666, \"#ed7953\"], [0.7777777777777778, \"#fb9f3a\"], [0.8888888888888888, \"#fdca26\"], [1.0, \"#f0f921\"]], \"type\": \"surface\"}], \"table\": [{\"cells\": {\"fill\": {\"color\": \"#EBF0F8\"}, \"line\": {\"color\": \"white\"}}, \"header\": {\"fill\": {\"color\": \"#C8D4E3\"}, \"line\": {\"color\": \"white\"}}, \"type\": \"table\"}]}, \"layout\": {\"annotationdefaults\": {\"arrowcolor\": \"#2a3f5f\", \"arrowhead\": 0, \"arrowwidth\": 1}, \"coloraxis\": {\"colorbar\": {\"outlinewidth\": 0, \"ticks\": \"\"}}, \"colorscale\": {\"diverging\": [[0, \"#8e0152\"], [0.1, \"#c51b7d\"], [0.2, \"#de77ae\"], [0.3, \"#f1b6da\"], [0.4, \"#fde0ef\"], [0.5, \"#f7f7f7\"], [0.6, \"#e6f5d0\"], [0.7, \"#b8e186\"], [0.8, \"#7fbc41\"], [0.9, \"#4d9221\"], [1, \"#276419\"]], \"sequential\": [[0.0, \"#0d0887\"], [0.1111111111111111, \"#46039f\"], [0.2222222222222222, \"#7201a8\"], [0.3333333333333333, \"#9c179e\"], [0.4444444444444444, \"#bd3786\"], [0.5555555555555556, \"#d8576b\"], [0.6666666666666666, \"#ed7953\"], [0.7777777777777778, \"#fb9f3a\"], [0.8888888888888888, \"#fdca26\"], [1.0, \"#f0f921\"]], \"sequentialminus\": [[0.0, \"#0d0887\"], [0.1111111111111111, \"#46039f\"], [0.2222222222222222, \"#7201a8\"], [0.3333333333333333, \"#9c179e\"], [0.4444444444444444, \"#bd3786\"], [0.5555555555555556, \"#d8576b\"], [0.6666666666666666, \"#ed7953\"], [0.7777777777777778, \"#fb9f3a\"], [0.8888888888888888, \"#fdca26\"], [1.0, \"#f0f921\"]]}, \"colorway\": [\"#636efa\", \"#EF553B\", \"#00cc96\", \"#ab63fa\", \"#FFA15A\", \"#19d3f3\", \"#FF6692\", \"#B6E880\", \"#FF97FF\", \"#FECB52\"], \"font\": {\"color\": \"#2a3f5f\"}, \"geo\": {\"bgcolor\": \"white\", \"lakecolor\": \"white\", \"landcolor\": \"#E5ECF6\", \"showlakes\": true, \"showland\": true, \"subunitcolor\": \"white\"}, \"hoverlabel\": {\"align\": \"left\"}, \"hovermode\": \"closest\", \"mapbox\": {\"style\": \"light\"}, \"paper_bgcolor\": \"white\", \"plot_bgcolor\": \"#E5ECF6\", \"polar\": {\"angularaxis\": {\"gridcolor\": \"white\", \"linecolor\": \"white\", \"ticks\": \"\"}, \"bgcolor\": \"#E5ECF6\", \"radialaxis\": {\"gridcolor\": \"white\", \"linecolor\": \"white\", \"ticks\": \"\"}}, \"scene\": {\"xaxis\": {\"backgroundcolor\": \"#E5ECF6\", \"gridcolor\": \"white\", \"gridwidth\": 2, \"linecolor\": \"white\", \"showbackground\": true, \"ticks\": \"\", \"zerolinecolor\": \"white\"}, \"yaxis\": {\"backgroundcolor\": \"#E5ECF6\", \"gridcolor\": \"white\", \"gridwidth\": 2, \"linecolor\": \"white\", \"showbackground\": true, \"ticks\": \"\", \"zerolinecolor\": \"white\"}, \"zaxis\": {\"backgroundcolor\": \"#E5ECF6\", \"gridcolor\": \"white\", \"gridwidth\": 2, \"linecolor\": \"white\", \"showbackground\": true, \"ticks\": \"\", \"zerolinecolor\": \"white\"}}, \"shapedefaults\": {\"line\": {\"color\": \"#2a3f5f\"}}, \"ternary\": {\"aaxis\": {\"gridcolor\": \"white\", \"linecolor\": \"white\", \"ticks\": \"\"}, \"baxis\": {\"gridcolor\": \"white\", \"linecolor\": \"white\", \"ticks\": \"\"}, \"bgcolor\": \"#E5ECF6\", \"caxis\": {\"gridcolor\": \"white\", \"linecolor\": \"white\", \"ticks\": \"\"}}, \"title\": {\"x\": 0.05}, \"xaxis\": {\"automargin\": true, \"gridcolor\": \"white\", \"linecolor\": \"white\", \"ticks\": \"\", \"title\": {\"standoff\": 15}, \"zerolinecolor\": \"white\", \"zerolinewidth\": 2}, \"yaxis\": {\"automargin\": true, \"gridcolor\": \"white\", \"linecolor\": \"white\", \"ticks\": \"\", \"title\": {\"standoff\": 15}, \"zerolinecolor\": \"white\", \"zerolinewidth\": 2}}}, \"title\": {\"text\": \"Evolu\\u00e7\\u00e3o Nota Matem\\u00e1tica\"}, \"updatemenus\": [{\"buttons\": [{\"args\": [null, {\"frame\": {\"duration\": 500, \"redraw\": true}, \"fromcurrent\": true, \"mode\": \"immediate\", \"transition\": {\"duration\": 500, \"easing\": \"linear\"}}], \"label\": \"&#9654;\", \"method\": \"animate\"}, {\"args\": [[null], {\"frame\": {\"duration\": 0, \"redraw\": true}, \"fromcurrent\": true, \"mode\": \"immediate\", \"transition\": {\"duration\": 0, \"easing\": \"linear\"}}], \"label\": \"&#9724;\", \"method\": \"animate\"}], \"direction\": \"left\", \"pad\": {\"r\": 10, \"t\": 70}, \"showactive\": false, \"type\": \"buttons\", \"x\": 0.1, \"xanchor\": \"right\", \"y\": 0, \"yanchor\": \"top\"}]},\n",
       "                        {\"responsive\": true}\n",
       "                    ).then(function(){\n",
       "                            Plotly.addFrames('4ee2c5ae-bce0-441c-8294-48d37fd522d4', [{\"data\": [{\"coloraxis\": \"coloraxis\", \"geo\": \"geo\", \"hovertemplate\": \"<b>%{hovertext}</b><br><br>Ano=2009<br>country=%{location}<br>Nota Matem\\u00e1tica=%{z}<extra></extra>\", \"hovertext\": [\"AUS\", \"BEL\", \"BRA\", \"CAN\", \"CHE\", \"CHL\", \"CZE\", \"DNK\", \"ESP\", \"FIN\", \"FRA\", \"GBR\", \"HUN\", \"IRL\", \"ISL\", \"ISR\", \"ITA\", \"JPN\", \"KOR\", \"KOR\", \"MEX\", \"NLD\", \"NOR\", \"POL\", \"PRT\", \"SVK\", \"SVN\", \"SWE\", \"TUR\", \"USA\"], \"locations\": [\"AUS\", \"BEL\", \"BRA\", \"CAN\", \"CHE\", \"CHL\", \"CZE\", \"DNK\", \"ESP\", \"FIN\", \"FRA\", \"GBR\", \"HUN\", \"IRL\", \"ISL\", \"ISR\", \"ITA\", \"JPN\", \"KOR\", \"KOR\", \"MEX\", \"NLD\", \"NOR\", \"POL\", \"PRT\", \"SVK\", \"SVN\", \"SWE\", \"TUR\", \"USA\"], \"name\": \"\", \"z\": [514.0, 515.0, 386.0, 527.0, 534.0, 421.0, 493.0, 503.0, 483.0, 541.0, 497.0, 492.0, 490.0, 487.0, 507.0, 447.0, 483.0, 529.0, 546.0, 546.0, 419.0, 526.0, 498.0, 495.0, 487.0, 497.0, 501.0, 494.0, 445.0, 487.0], \"type\": \"choropleth\"}], \"name\": \"2009\"}, {\"data\": [{\"coloraxis\": \"coloraxis\", \"geo\": \"geo\", \"hovertemplate\": \"<b>%{hovertext}</b><br><br>Ano=2012<br>country=%{location}<br>Nota Matem\\u00e1tica=%{z}<extra></extra>\", \"hovertext\": [\"AUS\", \"AUT\", \"BEL\", \"BRA\", \"CAN\", \"CHE\", \"CHL\", \"CZE\", \"DEU\", \"DNK\", \"ESP\", \"FIN\", \"FRA\", \"GBR\", \"GRC\", \"HUN\", \"IDN\", \"IRL\", \"ISL\", \"ISR\", \"ITA\", \"JPN\", \"KOR\", \"KOR\", \"MEX\", \"NLD\", \"NOR\", \"NZL\", \"POL\", \"PRT\", \"SVK\", \"SVN\", \"SWE\", \"TUR\", \"USA\"], \"locations\": [\"AUS\", \"AUT\", \"BEL\", \"BRA\", \"CAN\", \"CHE\", \"CHL\", \"CZE\", \"DEU\", \"DNK\", \"ESP\", \"FIN\", \"FRA\", \"GBR\", \"GRC\", \"HUN\", \"IDN\", \"IRL\", \"ISL\", \"ISR\", \"ITA\", \"JPN\", \"KOR\", \"KOR\", \"MEX\", \"NLD\", \"NOR\", \"NZL\", \"POL\", \"PRT\", \"SVK\", \"SVN\", \"SWE\", \"TUR\", \"USA\"], \"name\": \"\", \"z\": [504.0, 506.0, 515.0, 389.0, 518.0, 531.0, 423.0, 499.0, 514.0, 500.0, 484.0, 519.0, 495.0, 494.0, 453.0, 477.0, 375.0, 501.0, 493.0, 466.0, 485.0, 536.0, 554.0, 554.0, 413.0, 523.0, 489.0, 500.0, 518.0, 487.0, 482.0, 501.0, 478.0, 448.0, 481.0], \"type\": \"choropleth\"}], \"name\": \"2012\"}, {\"data\": [{\"coloraxis\": \"coloraxis\", \"geo\": \"geo\", \"hovertemplate\": \"<b>%{hovertext}</b><br><br>Ano=2015<br>country=%{location}<br>Nota Matem\\u00e1tica=%{z}<extra></extra>\", \"hovertext\": [\"AUS\", \"AUT\", \"BEL\", \"BRA\", \"CAN\", \"CHE\", \"CHL\", \"COL\", \"CZE\", \"DEU\", \"ESP\", \"FIN\", \"FRA\", \"GBR\", \"GRC\", \"HUN\", \"IDN\", \"IRL\", \"ISL\", \"ISR\", \"ITA\", \"JPN\", \"KOR\", \"KOR\", \"MEX\", \"NLD\", \"NOR\", \"NZL\", \"POL\", \"PRT\", \"SVK\", \"SVN\", \"SWE\", \"TUR\", \"USA\"], \"locations\": [\"AUS\", \"AUT\", \"BEL\", \"BRA\", \"CAN\", \"CHE\", \"CHL\", \"COL\", \"CZE\", \"DEU\", \"ESP\", \"FIN\", \"FRA\", \"GBR\", \"GRC\", \"HUN\", \"IDN\", \"IRL\", \"ISL\", \"ISR\", \"ITA\", \"JPN\", \"KOR\", \"KOR\", \"MEX\", \"NLD\", \"NOR\", \"NZL\", \"POL\", \"PRT\", \"SVK\", \"SVN\", \"SWE\", \"TUR\", \"USA\"], \"name\": \"\", \"z\": [494.0, 497.0, 507.0, 377.0, 516.0, 521.0, 423.0, 390.0, 492.0, 506.0, 486.0, 511.0, 493.0, 492.0, 454.0, 477.0, 386.0, 504.0, 488.0, 470.0, 490.0, 532.0, 524.0, 524.0, 408.0, 512.0, 502.0, 495.0, 504.0, 492.0, 475.0, 510.0, 494.0, 420.0, 470.0], \"type\": \"choropleth\"}], \"name\": \"2015\"}]);\n",
       "                        }).then(function(){\n",
       "                            \n",
       "var gd = document.getElementById('4ee2c5ae-bce0-441c-8294-48d37fd522d4');\n",
       "var x = new MutationObserver(function (mutations, observer) {{\n",
       "        var display = window.getComputedStyle(gd).display;\n",
       "        if (!display || display === 'none') {{\n",
       "            console.log([gd, 'removed!']);\n",
       "            Plotly.purge(gd);\n",
       "            observer.disconnect();\n",
       "        }}\n",
       "}});\n",
       "\n",
       "// Listen for the removal of the full notebook cells\n",
       "var notebookContainer = gd.closest('#notebook-container');\n",
       "if (notebookContainer) {{\n",
       "    x.observe(notebookContainer, {childList: true});\n",
       "}}\n",
       "\n",
       "// Listen for the clearing of the current output cell\n",
       "var outputEl = gd.closest('.output');\n",
       "if (outputEl) {{\n",
       "    x.observe(outputEl, {childList: true});\n",
       "}}\n",
       "\n",
       "                        })\n",
       "                };\n",
       "                });\n",
       "            </script>\n",
       "        </div>"
      ]
     },
     "metadata": {},
     "output_type": "display_data"
    }
   ],
   "source": [
    "geograficos_que_precisam_de_tratamento('Nota Matemática')"
   ]
  },
  {
   "cell_type": "code",
   "execution_count": 37,
   "metadata": {
    "scrolled": false
   },
   "outputs": [
    {
     "data": {
      "application/vnd.plotly.v1+json": {
       "config": {
        "plotlyServerURL": "https://plot.ly"
       },
       "data": [
        {
         "coloraxis": "coloraxis",
         "geo": "geo",
         "hovertemplate": "<b>%{hovertext}</b><br><br>Ano=2009<br>country=%{location}<br>Nota Leitura=%{z}<extra></extra>",
         "hovertext": [
          "AUS",
          "BEL",
          "BRA",
          "CAN",
          "CHE",
          "CHL",
          "CZE",
          "DNK",
          "ESP",
          "FIN",
          "FRA",
          "GBR",
          "HUN",
          "IRL",
          "ISL",
          "ISR",
          "ITA",
          "JPN",
          "KOR",
          "KOR",
          "MEX",
          "NLD",
          "NOR",
          "POL",
          "PRT",
          "SVK",
          "SVN",
          "SWE",
          "TUR",
          "USA"
         ],
         "locations": [
          "AUS",
          "BEL",
          "BRA",
          "CAN",
          "CHE",
          "CHL",
          "CZE",
          "DNK",
          "ESP",
          "FIN",
          "FRA",
          "GBR",
          "HUN",
          "IRL",
          "ISL",
          "ISR",
          "ITA",
          "JPN",
          "KOR",
          "KOR",
          "MEX",
          "NLD",
          "NOR",
          "POL",
          "PRT",
          "SVK",
          "SVN",
          "SWE",
          "TUR",
          "USA"
         ],
         "name": "",
         "type": "choropleth",
         "z": [
          515,
          506,
          412,
          524,
          501,
          449,
          478,
          495,
          481,
          536,
          496,
          494,
          494,
          496,
          500,
          474,
          486,
          520,
          539,
          539,
          425,
          508,
          503,
          500,
          489,
          477,
          483,
          497,
          464,
          500
         ]
        }
       ],
       "frames": [
        {
         "data": [
          {
           "coloraxis": "coloraxis",
           "geo": "geo",
           "hovertemplate": "<b>%{hovertext}</b><br><br>Ano=2009<br>country=%{location}<br>Nota Leitura=%{z}<extra></extra>",
           "hovertext": [
            "AUS",
            "BEL",
            "BRA",
            "CAN",
            "CHE",
            "CHL",
            "CZE",
            "DNK",
            "ESP",
            "FIN",
            "FRA",
            "GBR",
            "HUN",
            "IRL",
            "ISL",
            "ISR",
            "ITA",
            "JPN",
            "KOR",
            "KOR",
            "MEX",
            "NLD",
            "NOR",
            "POL",
            "PRT",
            "SVK",
            "SVN",
            "SWE",
            "TUR",
            "USA"
           ],
           "locations": [
            "AUS",
            "BEL",
            "BRA",
            "CAN",
            "CHE",
            "CHL",
            "CZE",
            "DNK",
            "ESP",
            "FIN",
            "FRA",
            "GBR",
            "HUN",
            "IRL",
            "ISL",
            "ISR",
            "ITA",
            "JPN",
            "KOR",
            "KOR",
            "MEX",
            "NLD",
            "NOR",
            "POL",
            "PRT",
            "SVK",
            "SVN",
            "SWE",
            "TUR",
            "USA"
           ],
           "name": "",
           "type": "choropleth",
           "z": [
            515,
            506,
            412,
            524,
            501,
            449,
            478,
            495,
            481,
            536,
            496,
            494,
            494,
            496,
            500,
            474,
            486,
            520,
            539,
            539,
            425,
            508,
            503,
            500,
            489,
            477,
            483,
            497,
            464,
            500
           ]
          }
         ],
         "name": "2009"
        },
        {
         "data": [
          {
           "coloraxis": "coloraxis",
           "geo": "geo",
           "hovertemplate": "<b>%{hovertext}</b><br><br>Ano=2012<br>country=%{location}<br>Nota Leitura=%{z}<extra></extra>",
           "hovertext": [
            "AUS",
            "AUT",
            "BEL",
            "BRA",
            "CAN",
            "CHE",
            "CHL",
            "CZE",
            "DEU",
            "DNK",
            "ESP",
            "FIN",
            "FRA",
            "GBR",
            "GRC",
            "HUN",
            "IDN",
            "IRL",
            "ISL",
            "ISR",
            "ITA",
            "JPN",
            "KOR",
            "KOR",
            "MEX",
            "NLD",
            "NOR",
            "NZL",
            "POL",
            "PRT",
            "SVK",
            "SVN",
            "SWE",
            "TUR",
            "USA"
           ],
           "locations": [
            "AUS",
            "AUT",
            "BEL",
            "BRA",
            "CAN",
            "CHE",
            "CHL",
            "CZE",
            "DEU",
            "DNK",
            "ESP",
            "FIN",
            "FRA",
            "GBR",
            "GRC",
            "HUN",
            "IDN",
            "IRL",
            "ISL",
            "ISR",
            "ITA",
            "JPN",
            "KOR",
            "KOR",
            "MEX",
            "NLD",
            "NOR",
            "NZL",
            "POL",
            "PRT",
            "SVK",
            "SVN",
            "SWE",
            "TUR",
            "USA"
           ],
           "name": "",
           "type": "choropleth",
           "z": [
            512,
            490,
            509,
            407,
            523,
            509,
            441,
            493,
            508,
            496,
            488,
            524,
            505,
            499,
            477,
            488,
            396,
            523,
            483,
            486,
            490,
            538,
            536,
            536,
            424,
            511,
            504,
            512,
            518,
            488,
            463,
            481,
            483,
            475,
            498
           ]
          }
         ],
         "name": "2012"
        },
        {
         "data": [
          {
           "coloraxis": "coloraxis",
           "geo": "geo",
           "hovertemplate": "<b>%{hovertext}</b><br><br>Ano=2015<br>country=%{location}<br>Nota Leitura=%{z}<extra></extra>",
           "hovertext": [
            "AUS",
            "AUT",
            "BEL",
            "BRA",
            "CAN",
            "CHE",
            "CHL",
            "COL",
            "CZE",
            "DEU",
            "ESP",
            "FIN",
            "FRA",
            "GBR",
            "GRC",
            "HUN",
            "IDN",
            "IRL",
            "ISL",
            "ISR",
            "ITA",
            "JPN",
            "KOR",
            "KOR",
            "MEX",
            "NLD",
            "NOR",
            "NZL",
            "POL",
            "PRT",
            "SVK",
            "SVN",
            "SWE",
            "TUR",
            "USA"
           ],
           "locations": [
            "AUS",
            "AUT",
            "BEL",
            "BRA",
            "CAN",
            "CHE",
            "CHL",
            "COL",
            "CZE",
            "DEU",
            "ESP",
            "FIN",
            "FRA",
            "GBR",
            "GRC",
            "HUN",
            "IDN",
            "IRL",
            "ISL",
            "ISR",
            "ITA",
            "JPN",
            "KOR",
            "KOR",
            "MEX",
            "NLD",
            "NOR",
            "NZL",
            "POL",
            "PRT",
            "SVK",
            "SVN",
            "SWE",
            "TUR",
            "USA"
           ],
           "name": "",
           "type": "choropleth",
           "z": [
            503,
            485,
            499,
            407,
            527,
            492,
            459,
            425,
            487,
            509,
            496,
            526,
            499,
            498,
            467,
            470,
            397,
            521,
            482,
            479,
            485,
            516,
            517,
            517,
            423,
            503,
            513,
            509,
            506,
            498,
            453,
            505,
            500,
            428,
            497
           ]
          }
         ],
         "name": "2015"
        }
       ],
       "layout": {
        "coloraxis": {
         "colorbar": {
          "title": {
           "text": "Nota Leitura"
          }
         },
         "colorscale": [
          [
           0,
           "rgb(247,251,255)"
          ],
          [
           0.125,
           "rgb(222,235,247)"
          ],
          [
           0.25,
           "rgb(198,219,239)"
          ],
          [
           0.375,
           "rgb(158,202,225)"
          ],
          [
           0.5,
           "rgb(107,174,214)"
          ],
          [
           0.625,
           "rgb(66,146,198)"
          ],
          [
           0.75,
           "rgb(33,113,181)"
          ],
          [
           0.875,
           "rgb(8,81,156)"
          ],
          [
           1,
           "rgb(8,48,107)"
          ]
         ]
        },
        "geo": {
         "center": {},
         "domain": {
          "x": [
           0,
           1
          ],
          "y": [
           0,
           1
          ]
         },
         "projection": {
          "type": "natural earth"
         }
        },
        "legend": {
         "tracegroupgap": 0
        },
        "sliders": [
         {
          "active": 0,
          "currentvalue": {
           "prefix": "Ano="
          },
          "len": 0.9,
          "pad": {
           "b": 10,
           "t": 60
          },
          "steps": [
           {
            "args": [
             [
              "2009"
             ],
             {
              "frame": {
               "duration": 0,
               "redraw": true
              },
              "fromcurrent": true,
              "mode": "immediate",
              "transition": {
               "duration": 0,
               "easing": "linear"
              }
             }
            ],
            "label": "2009",
            "method": "animate"
           },
           {
            "args": [
             [
              "2012"
             ],
             {
              "frame": {
               "duration": 0,
               "redraw": true
              },
              "fromcurrent": true,
              "mode": "immediate",
              "transition": {
               "duration": 0,
               "easing": "linear"
              }
             }
            ],
            "label": "2012",
            "method": "animate"
           },
           {
            "args": [
             [
              "2015"
             ],
             {
              "frame": {
               "duration": 0,
               "redraw": true
              },
              "fromcurrent": true,
              "mode": "immediate",
              "transition": {
               "duration": 0,
               "easing": "linear"
              }
             }
            ],
            "label": "2015",
            "method": "animate"
           }
          ],
          "x": 0.1,
          "xanchor": "left",
          "y": 0,
          "yanchor": "top"
         }
        ],
        "template": {
         "data": {
          "bar": [
           {
            "error_x": {
             "color": "#2a3f5f"
            },
            "error_y": {
             "color": "#2a3f5f"
            },
            "marker": {
             "line": {
              "color": "#E5ECF6",
              "width": 0.5
             }
            },
            "type": "bar"
           }
          ],
          "barpolar": [
           {
            "marker": {
             "line": {
              "color": "#E5ECF6",
              "width": 0.5
             }
            },
            "type": "barpolar"
           }
          ],
          "carpet": [
           {
            "aaxis": {
             "endlinecolor": "#2a3f5f",
             "gridcolor": "white",
             "linecolor": "white",
             "minorgridcolor": "white",
             "startlinecolor": "#2a3f5f"
            },
            "baxis": {
             "endlinecolor": "#2a3f5f",
             "gridcolor": "white",
             "linecolor": "white",
             "minorgridcolor": "white",
             "startlinecolor": "#2a3f5f"
            },
            "type": "carpet"
           }
          ],
          "choropleth": [
           {
            "colorbar": {
             "outlinewidth": 0,
             "ticks": ""
            },
            "type": "choropleth"
           }
          ],
          "contour": [
           {
            "colorbar": {
             "outlinewidth": 0,
             "ticks": ""
            },
            "colorscale": [
             [
              0,
              "#0d0887"
             ],
             [
              0.1111111111111111,
              "#46039f"
             ],
             [
              0.2222222222222222,
              "#7201a8"
             ],
             [
              0.3333333333333333,
              "#9c179e"
             ],
             [
              0.4444444444444444,
              "#bd3786"
             ],
             [
              0.5555555555555556,
              "#d8576b"
             ],
             [
              0.6666666666666666,
              "#ed7953"
             ],
             [
              0.7777777777777778,
              "#fb9f3a"
             ],
             [
              0.8888888888888888,
              "#fdca26"
             ],
             [
              1,
              "#f0f921"
             ]
            ],
            "type": "contour"
           }
          ],
          "contourcarpet": [
           {
            "colorbar": {
             "outlinewidth": 0,
             "ticks": ""
            },
            "type": "contourcarpet"
           }
          ],
          "heatmap": [
           {
            "colorbar": {
             "outlinewidth": 0,
             "ticks": ""
            },
            "colorscale": [
             [
              0,
              "#0d0887"
             ],
             [
              0.1111111111111111,
              "#46039f"
             ],
             [
              0.2222222222222222,
              "#7201a8"
             ],
             [
              0.3333333333333333,
              "#9c179e"
             ],
             [
              0.4444444444444444,
              "#bd3786"
             ],
             [
              0.5555555555555556,
              "#d8576b"
             ],
             [
              0.6666666666666666,
              "#ed7953"
             ],
             [
              0.7777777777777778,
              "#fb9f3a"
             ],
             [
              0.8888888888888888,
              "#fdca26"
             ],
             [
              1,
              "#f0f921"
             ]
            ],
            "type": "heatmap"
           }
          ],
          "heatmapgl": [
           {
            "colorbar": {
             "outlinewidth": 0,
             "ticks": ""
            },
            "colorscale": [
             [
              0,
              "#0d0887"
             ],
             [
              0.1111111111111111,
              "#46039f"
             ],
             [
              0.2222222222222222,
              "#7201a8"
             ],
             [
              0.3333333333333333,
              "#9c179e"
             ],
             [
              0.4444444444444444,
              "#bd3786"
             ],
             [
              0.5555555555555556,
              "#d8576b"
             ],
             [
              0.6666666666666666,
              "#ed7953"
             ],
             [
              0.7777777777777778,
              "#fb9f3a"
             ],
             [
              0.8888888888888888,
              "#fdca26"
             ],
             [
              1,
              "#f0f921"
             ]
            ],
            "type": "heatmapgl"
           }
          ],
          "histogram": [
           {
            "marker": {
             "colorbar": {
              "outlinewidth": 0,
              "ticks": ""
             }
            },
            "type": "histogram"
           }
          ],
          "histogram2d": [
           {
            "colorbar": {
             "outlinewidth": 0,
             "ticks": ""
            },
            "colorscale": [
             [
              0,
              "#0d0887"
             ],
             [
              0.1111111111111111,
              "#46039f"
             ],
             [
              0.2222222222222222,
              "#7201a8"
             ],
             [
              0.3333333333333333,
              "#9c179e"
             ],
             [
              0.4444444444444444,
              "#bd3786"
             ],
             [
              0.5555555555555556,
              "#d8576b"
             ],
             [
              0.6666666666666666,
              "#ed7953"
             ],
             [
              0.7777777777777778,
              "#fb9f3a"
             ],
             [
              0.8888888888888888,
              "#fdca26"
             ],
             [
              1,
              "#f0f921"
             ]
            ],
            "type": "histogram2d"
           }
          ],
          "histogram2dcontour": [
           {
            "colorbar": {
             "outlinewidth": 0,
             "ticks": ""
            },
            "colorscale": [
             [
              0,
              "#0d0887"
             ],
             [
              0.1111111111111111,
              "#46039f"
             ],
             [
              0.2222222222222222,
              "#7201a8"
             ],
             [
              0.3333333333333333,
              "#9c179e"
             ],
             [
              0.4444444444444444,
              "#bd3786"
             ],
             [
              0.5555555555555556,
              "#d8576b"
             ],
             [
              0.6666666666666666,
              "#ed7953"
             ],
             [
              0.7777777777777778,
              "#fb9f3a"
             ],
             [
              0.8888888888888888,
              "#fdca26"
             ],
             [
              1,
              "#f0f921"
             ]
            ],
            "type": "histogram2dcontour"
           }
          ],
          "mesh3d": [
           {
            "colorbar": {
             "outlinewidth": 0,
             "ticks": ""
            },
            "type": "mesh3d"
           }
          ],
          "parcoords": [
           {
            "line": {
             "colorbar": {
              "outlinewidth": 0,
              "ticks": ""
             }
            },
            "type": "parcoords"
           }
          ],
          "pie": [
           {
            "automargin": true,
            "type": "pie"
           }
          ],
          "scatter": [
           {
            "marker": {
             "colorbar": {
              "outlinewidth": 0,
              "ticks": ""
             }
            },
            "type": "scatter"
           }
          ],
          "scatter3d": [
           {
            "line": {
             "colorbar": {
              "outlinewidth": 0,
              "ticks": ""
             }
            },
            "marker": {
             "colorbar": {
              "outlinewidth": 0,
              "ticks": ""
             }
            },
            "type": "scatter3d"
           }
          ],
          "scattercarpet": [
           {
            "marker": {
             "colorbar": {
              "outlinewidth": 0,
              "ticks": ""
             }
            },
            "type": "scattercarpet"
           }
          ],
          "scattergeo": [
           {
            "marker": {
             "colorbar": {
              "outlinewidth": 0,
              "ticks": ""
             }
            },
            "type": "scattergeo"
           }
          ],
          "scattergl": [
           {
            "marker": {
             "colorbar": {
              "outlinewidth": 0,
              "ticks": ""
             }
            },
            "type": "scattergl"
           }
          ],
          "scattermapbox": [
           {
            "marker": {
             "colorbar": {
              "outlinewidth": 0,
              "ticks": ""
             }
            },
            "type": "scattermapbox"
           }
          ],
          "scatterpolar": [
           {
            "marker": {
             "colorbar": {
              "outlinewidth": 0,
              "ticks": ""
             }
            },
            "type": "scatterpolar"
           }
          ],
          "scatterpolargl": [
           {
            "marker": {
             "colorbar": {
              "outlinewidth": 0,
              "ticks": ""
             }
            },
            "type": "scatterpolargl"
           }
          ],
          "scatterternary": [
           {
            "marker": {
             "colorbar": {
              "outlinewidth": 0,
              "ticks": ""
             }
            },
            "type": "scatterternary"
           }
          ],
          "surface": [
           {
            "colorbar": {
             "outlinewidth": 0,
             "ticks": ""
            },
            "colorscale": [
             [
              0,
              "#0d0887"
             ],
             [
              0.1111111111111111,
              "#46039f"
             ],
             [
              0.2222222222222222,
              "#7201a8"
             ],
             [
              0.3333333333333333,
              "#9c179e"
             ],
             [
              0.4444444444444444,
              "#bd3786"
             ],
             [
              0.5555555555555556,
              "#d8576b"
             ],
             [
              0.6666666666666666,
              "#ed7953"
             ],
             [
              0.7777777777777778,
              "#fb9f3a"
             ],
             [
              0.8888888888888888,
              "#fdca26"
             ],
             [
              1,
              "#f0f921"
             ]
            ],
            "type": "surface"
           }
          ],
          "table": [
           {
            "cells": {
             "fill": {
              "color": "#EBF0F8"
             },
             "line": {
              "color": "white"
             }
            },
            "header": {
             "fill": {
              "color": "#C8D4E3"
             },
             "line": {
              "color": "white"
             }
            },
            "type": "table"
           }
          ]
         },
         "layout": {
          "annotationdefaults": {
           "arrowcolor": "#2a3f5f",
           "arrowhead": 0,
           "arrowwidth": 1
          },
          "coloraxis": {
           "colorbar": {
            "outlinewidth": 0,
            "ticks": ""
           }
          },
          "colorscale": {
           "diverging": [
            [
             0,
             "#8e0152"
            ],
            [
             0.1,
             "#c51b7d"
            ],
            [
             0.2,
             "#de77ae"
            ],
            [
             0.3,
             "#f1b6da"
            ],
            [
             0.4,
             "#fde0ef"
            ],
            [
             0.5,
             "#f7f7f7"
            ],
            [
             0.6,
             "#e6f5d0"
            ],
            [
             0.7,
             "#b8e186"
            ],
            [
             0.8,
             "#7fbc41"
            ],
            [
             0.9,
             "#4d9221"
            ],
            [
             1,
             "#276419"
            ]
           ],
           "sequential": [
            [
             0,
             "#0d0887"
            ],
            [
             0.1111111111111111,
             "#46039f"
            ],
            [
             0.2222222222222222,
             "#7201a8"
            ],
            [
             0.3333333333333333,
             "#9c179e"
            ],
            [
             0.4444444444444444,
             "#bd3786"
            ],
            [
             0.5555555555555556,
             "#d8576b"
            ],
            [
             0.6666666666666666,
             "#ed7953"
            ],
            [
             0.7777777777777778,
             "#fb9f3a"
            ],
            [
             0.8888888888888888,
             "#fdca26"
            ],
            [
             1,
             "#f0f921"
            ]
           ],
           "sequentialminus": [
            [
             0,
             "#0d0887"
            ],
            [
             0.1111111111111111,
             "#46039f"
            ],
            [
             0.2222222222222222,
             "#7201a8"
            ],
            [
             0.3333333333333333,
             "#9c179e"
            ],
            [
             0.4444444444444444,
             "#bd3786"
            ],
            [
             0.5555555555555556,
             "#d8576b"
            ],
            [
             0.6666666666666666,
             "#ed7953"
            ],
            [
             0.7777777777777778,
             "#fb9f3a"
            ],
            [
             0.8888888888888888,
             "#fdca26"
            ],
            [
             1,
             "#f0f921"
            ]
           ]
          },
          "colorway": [
           "#636efa",
           "#EF553B",
           "#00cc96",
           "#ab63fa",
           "#FFA15A",
           "#19d3f3",
           "#FF6692",
           "#B6E880",
           "#FF97FF",
           "#FECB52"
          ],
          "font": {
           "color": "#2a3f5f"
          },
          "geo": {
           "bgcolor": "white",
           "lakecolor": "white",
           "landcolor": "#E5ECF6",
           "showlakes": true,
           "showland": true,
           "subunitcolor": "white"
          },
          "hoverlabel": {
           "align": "left"
          },
          "hovermode": "closest",
          "mapbox": {
           "style": "light"
          },
          "paper_bgcolor": "white",
          "plot_bgcolor": "#E5ECF6",
          "polar": {
           "angularaxis": {
            "gridcolor": "white",
            "linecolor": "white",
            "ticks": ""
           },
           "bgcolor": "#E5ECF6",
           "radialaxis": {
            "gridcolor": "white",
            "linecolor": "white",
            "ticks": ""
           }
          },
          "scene": {
           "xaxis": {
            "backgroundcolor": "#E5ECF6",
            "gridcolor": "white",
            "gridwidth": 2,
            "linecolor": "white",
            "showbackground": true,
            "ticks": "",
            "zerolinecolor": "white"
           },
           "yaxis": {
            "backgroundcolor": "#E5ECF6",
            "gridcolor": "white",
            "gridwidth": 2,
            "linecolor": "white",
            "showbackground": true,
            "ticks": "",
            "zerolinecolor": "white"
           },
           "zaxis": {
            "backgroundcolor": "#E5ECF6",
            "gridcolor": "white",
            "gridwidth": 2,
            "linecolor": "white",
            "showbackground": true,
            "ticks": "",
            "zerolinecolor": "white"
           }
          },
          "shapedefaults": {
           "line": {
            "color": "#2a3f5f"
           }
          },
          "ternary": {
           "aaxis": {
            "gridcolor": "white",
            "linecolor": "white",
            "ticks": ""
           },
           "baxis": {
            "gridcolor": "white",
            "linecolor": "white",
            "ticks": ""
           },
           "bgcolor": "#E5ECF6",
           "caxis": {
            "gridcolor": "white",
            "linecolor": "white",
            "ticks": ""
           }
          },
          "title": {
           "x": 0.05
          },
          "xaxis": {
           "automargin": true,
           "gridcolor": "white",
           "linecolor": "white",
           "ticks": "",
           "title": {
            "standoff": 15
           },
           "zerolinecolor": "white",
           "zerolinewidth": 2
          },
          "yaxis": {
           "automargin": true,
           "gridcolor": "white",
           "linecolor": "white",
           "ticks": "",
           "title": {
            "standoff": 15
           },
           "zerolinecolor": "white",
           "zerolinewidth": 2
          }
         }
        },
        "title": {
         "text": "Evolução Nota Leitura"
        },
        "updatemenus": [
         {
          "buttons": [
           {
            "args": [
             null,
             {
              "frame": {
               "duration": 500,
               "redraw": true
              },
              "fromcurrent": true,
              "mode": "immediate",
              "transition": {
               "duration": 500,
               "easing": "linear"
              }
             }
            ],
            "label": "&#9654;",
            "method": "animate"
           },
           {
            "args": [
             [
              null
             ],
             {
              "frame": {
               "duration": 0,
               "redraw": true
              },
              "fromcurrent": true,
              "mode": "immediate",
              "transition": {
               "duration": 0,
               "easing": "linear"
              }
             }
            ],
            "label": "&#9724;",
            "method": "animate"
           }
          ],
          "direction": "left",
          "pad": {
           "r": 10,
           "t": 70
          },
          "showactive": false,
          "type": "buttons",
          "x": 0.1,
          "xanchor": "right",
          "y": 0,
          "yanchor": "top"
         }
        ]
       }
      },
      "text/html": [
       "<div>\n",
       "        \n",
       "        \n",
       "            <div id=\"98985e64-b108-4228-bb0c-0050b81a8e5b\" class=\"plotly-graph-div\" style=\"height:525px; width:100%;\"></div>\n",
       "            <script type=\"text/javascript\">\n",
       "                require([\"plotly\"], function(Plotly) {\n",
       "                    window.PLOTLYENV=window.PLOTLYENV || {};\n",
       "                    \n",
       "                if (document.getElementById(\"98985e64-b108-4228-bb0c-0050b81a8e5b\")) {\n",
       "                    Plotly.newPlot(\n",
       "                        '98985e64-b108-4228-bb0c-0050b81a8e5b',\n",
       "                        [{\"coloraxis\": \"coloraxis\", \"geo\": \"geo\", \"hovertemplate\": \"<b>%{hovertext}</b><br><br>Ano=2009<br>country=%{location}<br>Nota Leitura=%{z}<extra></extra>\", \"hovertext\": [\"AUS\", \"BEL\", \"BRA\", \"CAN\", \"CHE\", \"CHL\", \"CZE\", \"DNK\", \"ESP\", \"FIN\", \"FRA\", \"GBR\", \"HUN\", \"IRL\", \"ISL\", \"ISR\", \"ITA\", \"JPN\", \"KOR\", \"KOR\", \"MEX\", \"NLD\", \"NOR\", \"POL\", \"PRT\", \"SVK\", \"SVN\", \"SWE\", \"TUR\", \"USA\"], \"locations\": [\"AUS\", \"BEL\", \"BRA\", \"CAN\", \"CHE\", \"CHL\", \"CZE\", \"DNK\", \"ESP\", \"FIN\", \"FRA\", \"GBR\", \"HUN\", \"IRL\", \"ISL\", \"ISR\", \"ITA\", \"JPN\", \"KOR\", \"KOR\", \"MEX\", \"NLD\", \"NOR\", \"POL\", \"PRT\", \"SVK\", \"SVN\", \"SWE\", \"TUR\", \"USA\"], \"name\": \"\", \"type\": \"choropleth\", \"z\": [515.0, 506.0, 412.0, 524.0, 501.0, 449.0, 478.0, 495.0, 481.0, 536.0, 496.0, 494.0, 494.0, 496.0, 500.0, 474.0, 486.0, 520.0, 539.0, 539.0, 425.0, 508.0, 503.0, 500.0, 489.0, 477.0, 483.0, 497.0, 464.0, 500.0]}],\n",
       "                        {\"coloraxis\": {\"colorbar\": {\"title\": {\"text\": \"Nota Leitura\"}}, \"colorscale\": [[0.0, \"rgb(247,251,255)\"], [0.125, \"rgb(222,235,247)\"], [0.25, \"rgb(198,219,239)\"], [0.375, \"rgb(158,202,225)\"], [0.5, \"rgb(107,174,214)\"], [0.625, \"rgb(66,146,198)\"], [0.75, \"rgb(33,113,181)\"], [0.875, \"rgb(8,81,156)\"], [1.0, \"rgb(8,48,107)\"]]}, \"geo\": {\"center\": {}, \"domain\": {\"x\": [0.0, 1.0], \"y\": [0.0, 1.0]}, \"projection\": {\"type\": \"natural earth\"}}, \"legend\": {\"tracegroupgap\": 0}, \"sliders\": [{\"active\": 0, \"currentvalue\": {\"prefix\": \"Ano=\"}, \"len\": 0.9, \"pad\": {\"b\": 10, \"t\": 60}, \"steps\": [{\"args\": [[\"2009\"], {\"frame\": {\"duration\": 0, \"redraw\": true}, \"fromcurrent\": true, \"mode\": \"immediate\", \"transition\": {\"duration\": 0, \"easing\": \"linear\"}}], \"label\": \"2009\", \"method\": \"animate\"}, {\"args\": [[\"2012\"], {\"frame\": {\"duration\": 0, \"redraw\": true}, \"fromcurrent\": true, \"mode\": \"immediate\", \"transition\": {\"duration\": 0, \"easing\": \"linear\"}}], \"label\": \"2012\", \"method\": \"animate\"}, {\"args\": [[\"2015\"], {\"frame\": {\"duration\": 0, \"redraw\": true}, \"fromcurrent\": true, \"mode\": \"immediate\", \"transition\": {\"duration\": 0, \"easing\": \"linear\"}}], \"label\": \"2015\", \"method\": \"animate\"}], \"x\": 0.1, \"xanchor\": \"left\", \"y\": 0, \"yanchor\": \"top\"}], \"template\": {\"data\": {\"bar\": [{\"error_x\": {\"color\": \"#2a3f5f\"}, \"error_y\": {\"color\": \"#2a3f5f\"}, \"marker\": {\"line\": {\"color\": \"#E5ECF6\", \"width\": 0.5}}, \"type\": \"bar\"}], \"barpolar\": [{\"marker\": {\"line\": {\"color\": \"#E5ECF6\", \"width\": 0.5}}, \"type\": \"barpolar\"}], \"carpet\": [{\"aaxis\": {\"endlinecolor\": \"#2a3f5f\", \"gridcolor\": \"white\", \"linecolor\": \"white\", \"minorgridcolor\": \"white\", \"startlinecolor\": \"#2a3f5f\"}, \"baxis\": {\"endlinecolor\": \"#2a3f5f\", \"gridcolor\": \"white\", \"linecolor\": \"white\", \"minorgridcolor\": \"white\", \"startlinecolor\": \"#2a3f5f\"}, \"type\": \"carpet\"}], \"choropleth\": [{\"colorbar\": {\"outlinewidth\": 0, \"ticks\": \"\"}, \"type\": \"choropleth\"}], \"contour\": [{\"colorbar\": {\"outlinewidth\": 0, \"ticks\": \"\"}, \"colorscale\": [[0.0, \"#0d0887\"], [0.1111111111111111, \"#46039f\"], [0.2222222222222222, \"#7201a8\"], [0.3333333333333333, \"#9c179e\"], [0.4444444444444444, \"#bd3786\"], [0.5555555555555556, \"#d8576b\"], [0.6666666666666666, \"#ed7953\"], [0.7777777777777778, \"#fb9f3a\"], [0.8888888888888888, \"#fdca26\"], [1.0, \"#f0f921\"]], \"type\": \"contour\"}], \"contourcarpet\": [{\"colorbar\": {\"outlinewidth\": 0, \"ticks\": \"\"}, \"type\": \"contourcarpet\"}], \"heatmap\": [{\"colorbar\": {\"outlinewidth\": 0, \"ticks\": \"\"}, \"colorscale\": [[0.0, \"#0d0887\"], [0.1111111111111111, \"#46039f\"], [0.2222222222222222, \"#7201a8\"], [0.3333333333333333, \"#9c179e\"], [0.4444444444444444, \"#bd3786\"], [0.5555555555555556, \"#d8576b\"], [0.6666666666666666, \"#ed7953\"], [0.7777777777777778, \"#fb9f3a\"], [0.8888888888888888, \"#fdca26\"], [1.0, \"#f0f921\"]], \"type\": \"heatmap\"}], \"heatmapgl\": [{\"colorbar\": {\"outlinewidth\": 0, \"ticks\": \"\"}, \"colorscale\": [[0.0, \"#0d0887\"], [0.1111111111111111, \"#46039f\"], [0.2222222222222222, \"#7201a8\"], [0.3333333333333333, \"#9c179e\"], [0.4444444444444444, \"#bd3786\"], [0.5555555555555556, \"#d8576b\"], [0.6666666666666666, \"#ed7953\"], [0.7777777777777778, \"#fb9f3a\"], [0.8888888888888888, \"#fdca26\"], [1.0, \"#f0f921\"]], \"type\": \"heatmapgl\"}], \"histogram\": [{\"marker\": {\"colorbar\": {\"outlinewidth\": 0, \"ticks\": \"\"}}, \"type\": \"histogram\"}], \"histogram2d\": [{\"colorbar\": {\"outlinewidth\": 0, \"ticks\": \"\"}, \"colorscale\": [[0.0, \"#0d0887\"], [0.1111111111111111, \"#46039f\"], [0.2222222222222222, \"#7201a8\"], [0.3333333333333333, \"#9c179e\"], [0.4444444444444444, \"#bd3786\"], [0.5555555555555556, \"#d8576b\"], [0.6666666666666666, \"#ed7953\"], [0.7777777777777778, \"#fb9f3a\"], [0.8888888888888888, \"#fdca26\"], [1.0, \"#f0f921\"]], \"type\": \"histogram2d\"}], \"histogram2dcontour\": [{\"colorbar\": {\"outlinewidth\": 0, \"ticks\": \"\"}, \"colorscale\": [[0.0, \"#0d0887\"], [0.1111111111111111, \"#46039f\"], [0.2222222222222222, \"#7201a8\"], [0.3333333333333333, \"#9c179e\"], [0.4444444444444444, \"#bd3786\"], [0.5555555555555556, \"#d8576b\"], [0.6666666666666666, \"#ed7953\"], [0.7777777777777778, \"#fb9f3a\"], [0.8888888888888888, \"#fdca26\"], [1.0, \"#f0f921\"]], \"type\": \"histogram2dcontour\"}], \"mesh3d\": [{\"colorbar\": {\"outlinewidth\": 0, \"ticks\": \"\"}, \"type\": \"mesh3d\"}], \"parcoords\": [{\"line\": {\"colorbar\": {\"outlinewidth\": 0, \"ticks\": \"\"}}, \"type\": \"parcoords\"}], \"pie\": [{\"automargin\": true, \"type\": \"pie\"}], \"scatter\": [{\"marker\": {\"colorbar\": {\"outlinewidth\": 0, \"ticks\": \"\"}}, \"type\": \"scatter\"}], \"scatter3d\": [{\"line\": {\"colorbar\": {\"outlinewidth\": 0, \"ticks\": \"\"}}, \"marker\": {\"colorbar\": {\"outlinewidth\": 0, \"ticks\": \"\"}}, \"type\": \"scatter3d\"}], \"scattercarpet\": [{\"marker\": {\"colorbar\": {\"outlinewidth\": 0, \"ticks\": \"\"}}, \"type\": \"scattercarpet\"}], \"scattergeo\": [{\"marker\": {\"colorbar\": {\"outlinewidth\": 0, \"ticks\": \"\"}}, \"type\": \"scattergeo\"}], \"scattergl\": [{\"marker\": {\"colorbar\": {\"outlinewidth\": 0, \"ticks\": \"\"}}, \"type\": \"scattergl\"}], \"scattermapbox\": [{\"marker\": {\"colorbar\": {\"outlinewidth\": 0, \"ticks\": \"\"}}, \"type\": \"scattermapbox\"}], \"scatterpolar\": [{\"marker\": {\"colorbar\": {\"outlinewidth\": 0, \"ticks\": \"\"}}, \"type\": \"scatterpolar\"}], \"scatterpolargl\": [{\"marker\": {\"colorbar\": {\"outlinewidth\": 0, \"ticks\": \"\"}}, \"type\": \"scatterpolargl\"}], \"scatterternary\": [{\"marker\": {\"colorbar\": {\"outlinewidth\": 0, \"ticks\": \"\"}}, \"type\": \"scatterternary\"}], \"surface\": [{\"colorbar\": {\"outlinewidth\": 0, \"ticks\": \"\"}, \"colorscale\": [[0.0, \"#0d0887\"], [0.1111111111111111, \"#46039f\"], [0.2222222222222222, \"#7201a8\"], [0.3333333333333333, \"#9c179e\"], [0.4444444444444444, \"#bd3786\"], [0.5555555555555556, \"#d8576b\"], [0.6666666666666666, \"#ed7953\"], [0.7777777777777778, \"#fb9f3a\"], [0.8888888888888888, \"#fdca26\"], [1.0, \"#f0f921\"]], \"type\": \"surface\"}], \"table\": [{\"cells\": {\"fill\": {\"color\": \"#EBF0F8\"}, \"line\": {\"color\": \"white\"}}, \"header\": {\"fill\": {\"color\": \"#C8D4E3\"}, \"line\": {\"color\": \"white\"}}, \"type\": \"table\"}]}, \"layout\": {\"annotationdefaults\": {\"arrowcolor\": \"#2a3f5f\", \"arrowhead\": 0, \"arrowwidth\": 1}, \"coloraxis\": {\"colorbar\": {\"outlinewidth\": 0, \"ticks\": \"\"}}, \"colorscale\": {\"diverging\": [[0, \"#8e0152\"], [0.1, \"#c51b7d\"], [0.2, \"#de77ae\"], [0.3, \"#f1b6da\"], [0.4, \"#fde0ef\"], [0.5, \"#f7f7f7\"], [0.6, \"#e6f5d0\"], [0.7, \"#b8e186\"], [0.8, \"#7fbc41\"], [0.9, \"#4d9221\"], [1, \"#276419\"]], \"sequential\": [[0.0, \"#0d0887\"], [0.1111111111111111, \"#46039f\"], [0.2222222222222222, \"#7201a8\"], [0.3333333333333333, \"#9c179e\"], [0.4444444444444444, \"#bd3786\"], [0.5555555555555556, \"#d8576b\"], [0.6666666666666666, \"#ed7953\"], [0.7777777777777778, \"#fb9f3a\"], [0.8888888888888888, \"#fdca26\"], [1.0, \"#f0f921\"]], \"sequentialminus\": [[0.0, \"#0d0887\"], [0.1111111111111111, \"#46039f\"], [0.2222222222222222, \"#7201a8\"], [0.3333333333333333, \"#9c179e\"], [0.4444444444444444, \"#bd3786\"], [0.5555555555555556, \"#d8576b\"], [0.6666666666666666, \"#ed7953\"], [0.7777777777777778, \"#fb9f3a\"], [0.8888888888888888, \"#fdca26\"], [1.0, \"#f0f921\"]]}, \"colorway\": [\"#636efa\", \"#EF553B\", \"#00cc96\", \"#ab63fa\", \"#FFA15A\", \"#19d3f3\", \"#FF6692\", \"#B6E880\", \"#FF97FF\", \"#FECB52\"], \"font\": {\"color\": \"#2a3f5f\"}, \"geo\": {\"bgcolor\": \"white\", \"lakecolor\": \"white\", \"landcolor\": \"#E5ECF6\", \"showlakes\": true, \"showland\": true, \"subunitcolor\": \"white\"}, \"hoverlabel\": {\"align\": \"left\"}, \"hovermode\": \"closest\", \"mapbox\": {\"style\": \"light\"}, \"paper_bgcolor\": \"white\", \"plot_bgcolor\": \"#E5ECF6\", \"polar\": {\"angularaxis\": {\"gridcolor\": \"white\", \"linecolor\": \"white\", \"ticks\": \"\"}, \"bgcolor\": \"#E5ECF6\", \"radialaxis\": {\"gridcolor\": \"white\", \"linecolor\": \"white\", \"ticks\": \"\"}}, \"scene\": {\"xaxis\": {\"backgroundcolor\": \"#E5ECF6\", \"gridcolor\": \"white\", \"gridwidth\": 2, \"linecolor\": \"white\", \"showbackground\": true, \"ticks\": \"\", \"zerolinecolor\": \"white\"}, \"yaxis\": {\"backgroundcolor\": \"#E5ECF6\", \"gridcolor\": \"white\", \"gridwidth\": 2, \"linecolor\": \"white\", \"showbackground\": true, \"ticks\": \"\", \"zerolinecolor\": \"white\"}, \"zaxis\": {\"backgroundcolor\": \"#E5ECF6\", \"gridcolor\": \"white\", \"gridwidth\": 2, \"linecolor\": \"white\", \"showbackground\": true, \"ticks\": \"\", \"zerolinecolor\": \"white\"}}, \"shapedefaults\": {\"line\": {\"color\": \"#2a3f5f\"}}, \"ternary\": {\"aaxis\": {\"gridcolor\": \"white\", \"linecolor\": \"white\", \"ticks\": \"\"}, \"baxis\": {\"gridcolor\": \"white\", \"linecolor\": \"white\", \"ticks\": \"\"}, \"bgcolor\": \"#E5ECF6\", \"caxis\": {\"gridcolor\": \"white\", \"linecolor\": \"white\", \"ticks\": \"\"}}, \"title\": {\"x\": 0.05}, \"xaxis\": {\"automargin\": true, \"gridcolor\": \"white\", \"linecolor\": \"white\", \"ticks\": \"\", \"title\": {\"standoff\": 15}, \"zerolinecolor\": \"white\", \"zerolinewidth\": 2}, \"yaxis\": {\"automargin\": true, \"gridcolor\": \"white\", \"linecolor\": \"white\", \"ticks\": \"\", \"title\": {\"standoff\": 15}, \"zerolinecolor\": \"white\", \"zerolinewidth\": 2}}}, \"title\": {\"text\": \"Evolu\\u00e7\\u00e3o Nota Leitura\"}, \"updatemenus\": [{\"buttons\": [{\"args\": [null, {\"frame\": {\"duration\": 500, \"redraw\": true}, \"fromcurrent\": true, \"mode\": \"immediate\", \"transition\": {\"duration\": 500, \"easing\": \"linear\"}}], \"label\": \"&#9654;\", \"method\": \"animate\"}, {\"args\": [[null], {\"frame\": {\"duration\": 0, \"redraw\": true}, \"fromcurrent\": true, \"mode\": \"immediate\", \"transition\": {\"duration\": 0, \"easing\": \"linear\"}}], \"label\": \"&#9724;\", \"method\": \"animate\"}], \"direction\": \"left\", \"pad\": {\"r\": 10, \"t\": 70}, \"showactive\": false, \"type\": \"buttons\", \"x\": 0.1, \"xanchor\": \"right\", \"y\": 0, \"yanchor\": \"top\"}]},\n",
       "                        {\"responsive\": true}\n",
       "                    ).then(function(){\n",
       "                            Plotly.addFrames('98985e64-b108-4228-bb0c-0050b81a8e5b', [{\"data\": [{\"coloraxis\": \"coloraxis\", \"geo\": \"geo\", \"hovertemplate\": \"<b>%{hovertext}</b><br><br>Ano=2009<br>country=%{location}<br>Nota Leitura=%{z}<extra></extra>\", \"hovertext\": [\"AUS\", \"BEL\", \"BRA\", \"CAN\", \"CHE\", \"CHL\", \"CZE\", \"DNK\", \"ESP\", \"FIN\", \"FRA\", \"GBR\", \"HUN\", \"IRL\", \"ISL\", \"ISR\", \"ITA\", \"JPN\", \"KOR\", \"KOR\", \"MEX\", \"NLD\", \"NOR\", \"POL\", \"PRT\", \"SVK\", \"SVN\", \"SWE\", \"TUR\", \"USA\"], \"locations\": [\"AUS\", \"BEL\", \"BRA\", \"CAN\", \"CHE\", \"CHL\", \"CZE\", \"DNK\", \"ESP\", \"FIN\", \"FRA\", \"GBR\", \"HUN\", \"IRL\", \"ISL\", \"ISR\", \"ITA\", \"JPN\", \"KOR\", \"KOR\", \"MEX\", \"NLD\", \"NOR\", \"POL\", \"PRT\", \"SVK\", \"SVN\", \"SWE\", \"TUR\", \"USA\"], \"name\": \"\", \"z\": [515.0, 506.0, 412.0, 524.0, 501.0, 449.0, 478.0, 495.0, 481.0, 536.0, 496.0, 494.0, 494.0, 496.0, 500.0, 474.0, 486.0, 520.0, 539.0, 539.0, 425.0, 508.0, 503.0, 500.0, 489.0, 477.0, 483.0, 497.0, 464.0, 500.0], \"type\": \"choropleth\"}], \"name\": \"2009\"}, {\"data\": [{\"coloraxis\": \"coloraxis\", \"geo\": \"geo\", \"hovertemplate\": \"<b>%{hovertext}</b><br><br>Ano=2012<br>country=%{location}<br>Nota Leitura=%{z}<extra></extra>\", \"hovertext\": [\"AUS\", \"AUT\", \"BEL\", \"BRA\", \"CAN\", \"CHE\", \"CHL\", \"CZE\", \"DEU\", \"DNK\", \"ESP\", \"FIN\", \"FRA\", \"GBR\", \"GRC\", \"HUN\", \"IDN\", \"IRL\", \"ISL\", \"ISR\", \"ITA\", \"JPN\", \"KOR\", \"KOR\", \"MEX\", \"NLD\", \"NOR\", \"NZL\", \"POL\", \"PRT\", \"SVK\", \"SVN\", \"SWE\", \"TUR\", \"USA\"], \"locations\": [\"AUS\", \"AUT\", \"BEL\", \"BRA\", \"CAN\", \"CHE\", \"CHL\", \"CZE\", \"DEU\", \"DNK\", \"ESP\", \"FIN\", \"FRA\", \"GBR\", \"GRC\", \"HUN\", \"IDN\", \"IRL\", \"ISL\", \"ISR\", \"ITA\", \"JPN\", \"KOR\", \"KOR\", \"MEX\", \"NLD\", \"NOR\", \"NZL\", \"POL\", \"PRT\", \"SVK\", \"SVN\", \"SWE\", \"TUR\", \"USA\"], \"name\": \"\", \"z\": [512.0, 490.0, 509.0, 407.0, 523.0, 509.0, 441.0, 493.0, 508.0, 496.0, 488.0, 524.0, 505.0, 499.0, 477.0, 488.0, 396.0, 523.0, 483.0, 486.0, 490.0, 538.0, 536.0, 536.0, 424.0, 511.0, 504.0, 512.0, 518.0, 488.0, 463.0, 481.0, 483.0, 475.0, 498.0], \"type\": \"choropleth\"}], \"name\": \"2012\"}, {\"data\": [{\"coloraxis\": \"coloraxis\", \"geo\": \"geo\", \"hovertemplate\": \"<b>%{hovertext}</b><br><br>Ano=2015<br>country=%{location}<br>Nota Leitura=%{z}<extra></extra>\", \"hovertext\": [\"AUS\", \"AUT\", \"BEL\", \"BRA\", \"CAN\", \"CHE\", \"CHL\", \"COL\", \"CZE\", \"DEU\", \"ESP\", \"FIN\", \"FRA\", \"GBR\", \"GRC\", \"HUN\", \"IDN\", \"IRL\", \"ISL\", \"ISR\", \"ITA\", \"JPN\", \"KOR\", \"KOR\", \"MEX\", \"NLD\", \"NOR\", \"NZL\", \"POL\", \"PRT\", \"SVK\", \"SVN\", \"SWE\", \"TUR\", \"USA\"], \"locations\": [\"AUS\", \"AUT\", \"BEL\", \"BRA\", \"CAN\", \"CHE\", \"CHL\", \"COL\", \"CZE\", \"DEU\", \"ESP\", \"FIN\", \"FRA\", \"GBR\", \"GRC\", \"HUN\", \"IDN\", \"IRL\", \"ISL\", \"ISR\", \"ITA\", \"JPN\", \"KOR\", \"KOR\", \"MEX\", \"NLD\", \"NOR\", \"NZL\", \"POL\", \"PRT\", \"SVK\", \"SVN\", \"SWE\", \"TUR\", \"USA\"], \"name\": \"\", \"z\": [503.0, 485.0, 499.0, 407.0, 527.0, 492.0, 459.0, 425.0, 487.0, 509.0, 496.0, 526.0, 499.0, 498.0, 467.0, 470.0, 397.0, 521.0, 482.0, 479.0, 485.0, 516.0, 517.0, 517.0, 423.0, 503.0, 513.0, 509.0, 506.0, 498.0, 453.0, 505.0, 500.0, 428.0, 497.0], \"type\": \"choropleth\"}], \"name\": \"2015\"}]);\n",
       "                        }).then(function(){\n",
       "                            \n",
       "var gd = document.getElementById('98985e64-b108-4228-bb0c-0050b81a8e5b');\n",
       "var x = new MutationObserver(function (mutations, observer) {{\n",
       "        var display = window.getComputedStyle(gd).display;\n",
       "        if (!display || display === 'none') {{\n",
       "            console.log([gd, 'removed!']);\n",
       "            Plotly.purge(gd);\n",
       "            observer.disconnect();\n",
       "        }}\n",
       "}});\n",
       "\n",
       "// Listen for the removal of the full notebook cells\n",
       "var notebookContainer = gd.closest('#notebook-container');\n",
       "if (notebookContainer) {{\n",
       "    x.observe(notebookContainer, {childList: true});\n",
       "}}\n",
       "\n",
       "// Listen for the clearing of the current output cell\n",
       "var outputEl = gd.closest('.output');\n",
       "if (outputEl) {{\n",
       "    x.observe(outputEl, {childList: true});\n",
       "}}\n",
       "\n",
       "                        })\n",
       "                };\n",
       "                });\n",
       "            </script>\n",
       "        </div>"
      ]
     },
     "metadata": {},
     "output_type": "display_data"
    }
   ],
   "source": [
    "geograficos_que_precisam_de_tratamento('Nota Leitura')"
   ]
  },
  {
   "cell_type": "code",
   "execution_count": 38,
   "metadata": {},
   "outputs": [
    {
     "data": {
      "application/vnd.plotly.v1+json": {
       "config": {
        "plotlyServerURL": "https://plot.ly"
       },
       "data": [
        {
         "coloraxis": "coloraxis",
         "geo": "geo",
         "hovertemplate": "<b>%{hovertext}</b><br><br>Ano=2009<br>country=%{location}<br>Nota Ciências=%{z}<extra></extra>",
         "hovertext": [
          "AUS",
          "BEL",
          "BRA",
          "CAN",
          "CHE",
          "CHL",
          "CZE",
          "DNK",
          "ESP",
          "FIN",
          "FRA",
          "GBR",
          "HUN",
          "IRL",
          "ISL",
          "ISR",
          "ITA",
          "JPN",
          "KOR",
          "KOR",
          "MEX",
          "NLD",
          "NOR",
          "POL",
          "PRT",
          "SVK",
          "SVN",
          "SWE",
          "TUR",
          "USA"
         ],
         "locations": [
          "AUS",
          "BEL",
          "BRA",
          "CAN",
          "CHE",
          "CHL",
          "CZE",
          "DNK",
          "ESP",
          "FIN",
          "FRA",
          "GBR",
          "HUN",
          "IRL",
          "ISL",
          "ISR",
          "ITA",
          "JPN",
          "KOR",
          "KOR",
          "MEX",
          "NLD",
          "NOR",
          "POL",
          "PRT",
          "SVK",
          "SVN",
          "SWE",
          "TUR",
          "USA"
         ],
         "name": "",
         "type": "choropleth",
         "z": [
          527,
          507,
          405,
          529,
          517,
          447,
          500,
          499,
          488,
          554,
          498,
          514,
          503,
          508,
          496,
          455,
          489,
          539,
          538,
          538,
          416,
          522,
          500,
          508,
          493,
          490,
          512,
          495,
          454,
          502
         ]
        }
       ],
       "frames": [
        {
         "data": [
          {
           "coloraxis": "coloraxis",
           "geo": "geo",
           "hovertemplate": "<b>%{hovertext}</b><br><br>Ano=2009<br>country=%{location}<br>Nota Ciências=%{z}<extra></extra>",
           "hovertext": [
            "AUS",
            "BEL",
            "BRA",
            "CAN",
            "CHE",
            "CHL",
            "CZE",
            "DNK",
            "ESP",
            "FIN",
            "FRA",
            "GBR",
            "HUN",
            "IRL",
            "ISL",
            "ISR",
            "ITA",
            "JPN",
            "KOR",
            "KOR",
            "MEX",
            "NLD",
            "NOR",
            "POL",
            "PRT",
            "SVK",
            "SVN",
            "SWE",
            "TUR",
            "USA"
           ],
           "locations": [
            "AUS",
            "BEL",
            "BRA",
            "CAN",
            "CHE",
            "CHL",
            "CZE",
            "DNK",
            "ESP",
            "FIN",
            "FRA",
            "GBR",
            "HUN",
            "IRL",
            "ISL",
            "ISR",
            "ITA",
            "JPN",
            "KOR",
            "KOR",
            "MEX",
            "NLD",
            "NOR",
            "POL",
            "PRT",
            "SVK",
            "SVN",
            "SWE",
            "TUR",
            "USA"
           ],
           "name": "",
           "type": "choropleth",
           "z": [
            527,
            507,
            405,
            529,
            517,
            447,
            500,
            499,
            488,
            554,
            498,
            514,
            503,
            508,
            496,
            455,
            489,
            539,
            538,
            538,
            416,
            522,
            500,
            508,
            493,
            490,
            512,
            495,
            454,
            502
           ]
          }
         ],
         "name": "2009"
        },
        {
         "data": [
          {
           "coloraxis": "coloraxis",
           "geo": "geo",
           "hovertemplate": "<b>%{hovertext}</b><br><br>Ano=2012<br>country=%{location}<br>Nota Ciências=%{z}<extra></extra>",
           "hovertext": [
            "AUS",
            "AUT",
            "BEL",
            "BRA",
            "CAN",
            "CHE",
            "CHL",
            "CZE",
            "DEU",
            "DNK",
            "ESP",
            "FIN",
            "FRA",
            "GBR",
            "GRC",
            "HUN",
            "IDN",
            "IRL",
            "ISL",
            "ISR",
            "ITA",
            "JPN",
            "KOR",
            "KOR",
            "MEX",
            "NLD",
            "NOR",
            "NZL",
            "POL",
            "PRT",
            "SVK",
            "SVN",
            "SWE",
            "TUR",
            "USA"
           ],
           "locations": [
            "AUS",
            "AUT",
            "BEL",
            "BRA",
            "CAN",
            "CHE",
            "CHL",
            "CZE",
            "DEU",
            "DNK",
            "ESP",
            "FIN",
            "FRA",
            "GBR",
            "GRC",
            "HUN",
            "IDN",
            "IRL",
            "ISL",
            "ISR",
            "ITA",
            "JPN",
            "KOR",
            "KOR",
            "MEX",
            "NLD",
            "NOR",
            "NZL",
            "POL",
            "PRT",
            "SVK",
            "SVN",
            "SWE",
            "TUR",
            "USA"
           ],
           "name": "",
           "type": "choropleth",
           "z": [
            521,
            506,
            505,
            402,
            525,
            515,
            445,
            508,
            524,
            498,
            496,
            545,
            499,
            514,
            467,
            494,
            382,
            522,
            478,
            470,
            494,
            547,
            538,
            538,
            415,
            522,
            495,
            516,
            526,
            489,
            471,
            514,
            485,
            463,
            497
           ]
          }
         ],
         "name": "2012"
        },
        {
         "data": [
          {
           "coloraxis": "coloraxis",
           "geo": "geo",
           "hovertemplate": "<b>%{hovertext}</b><br><br>Ano=2015<br>country=%{location}<br>Nota Ciências=%{z}<extra></extra>",
           "hovertext": [
            "AUS",
            "AUT",
            "BEL",
            "BRA",
            "CAN",
            "CHE",
            "CHL",
            "COL",
            "CZE",
            "DEU",
            "ESP",
            "FIN",
            "FRA",
            "GBR",
            "GRC",
            "HUN",
            "IDN",
            "IRL",
            "ISL",
            "ISR",
            "ITA",
            "JPN",
            "KOR",
            "KOR",
            "MEX",
            "NLD",
            "NOR",
            "NZL",
            "POL",
            "PRT",
            "SVK",
            "SVN",
            "SWE",
            "TUR",
            "USA"
           ],
           "locations": [
            "AUS",
            "AUT",
            "BEL",
            "BRA",
            "CAN",
            "CHE",
            "CHL",
            "COL",
            "CZE",
            "DEU",
            "ESP",
            "FIN",
            "FRA",
            "GBR",
            "GRC",
            "HUN",
            "IDN",
            "IRL",
            "ISL",
            "ISR",
            "ITA",
            "JPN",
            "KOR",
            "KOR",
            "MEX",
            "NLD",
            "NOR",
            "NZL",
            "POL",
            "PRT",
            "SVK",
            "SVN",
            "SWE",
            "TUR",
            "USA"
           ],
           "name": "",
           "type": "choropleth",
           "z": [
            510,
            495,
            502,
            401,
            528,
            506,
            447,
            416,
            493,
            509,
            493,
            531,
            495,
            509,
            455,
            477,
            403,
            503,
            473,
            467,
            481,
            538,
            516,
            516,
            416,
            509,
            498,
            513,
            501,
            501,
            461,
            513,
            493,
            425,
            496
           ]
          }
         ],
         "name": "2015"
        }
       ],
       "layout": {
        "coloraxis": {
         "colorbar": {
          "title": {
           "text": "Nota Ciências"
          }
         },
         "colorscale": [
          [
           0,
           "rgb(247,251,255)"
          ],
          [
           0.125,
           "rgb(222,235,247)"
          ],
          [
           0.25,
           "rgb(198,219,239)"
          ],
          [
           0.375,
           "rgb(158,202,225)"
          ],
          [
           0.5,
           "rgb(107,174,214)"
          ],
          [
           0.625,
           "rgb(66,146,198)"
          ],
          [
           0.75,
           "rgb(33,113,181)"
          ],
          [
           0.875,
           "rgb(8,81,156)"
          ],
          [
           1,
           "rgb(8,48,107)"
          ]
         ]
        },
        "geo": {
         "center": {},
         "domain": {
          "x": [
           0,
           1
          ],
          "y": [
           0,
           1
          ]
         },
         "projection": {
          "type": "natural earth"
         }
        },
        "legend": {
         "tracegroupgap": 0
        },
        "sliders": [
         {
          "active": 0,
          "currentvalue": {
           "prefix": "Ano="
          },
          "len": 0.9,
          "pad": {
           "b": 10,
           "t": 60
          },
          "steps": [
           {
            "args": [
             [
              "2009"
             ],
             {
              "frame": {
               "duration": 0,
               "redraw": true
              },
              "fromcurrent": true,
              "mode": "immediate",
              "transition": {
               "duration": 0,
               "easing": "linear"
              }
             }
            ],
            "label": "2009",
            "method": "animate"
           },
           {
            "args": [
             [
              "2012"
             ],
             {
              "frame": {
               "duration": 0,
               "redraw": true
              },
              "fromcurrent": true,
              "mode": "immediate",
              "transition": {
               "duration": 0,
               "easing": "linear"
              }
             }
            ],
            "label": "2012",
            "method": "animate"
           },
           {
            "args": [
             [
              "2015"
             ],
             {
              "frame": {
               "duration": 0,
               "redraw": true
              },
              "fromcurrent": true,
              "mode": "immediate",
              "transition": {
               "duration": 0,
               "easing": "linear"
              }
             }
            ],
            "label": "2015",
            "method": "animate"
           }
          ],
          "x": 0.1,
          "xanchor": "left",
          "y": 0,
          "yanchor": "top"
         }
        ],
        "template": {
         "data": {
          "bar": [
           {
            "error_x": {
             "color": "#2a3f5f"
            },
            "error_y": {
             "color": "#2a3f5f"
            },
            "marker": {
             "line": {
              "color": "#E5ECF6",
              "width": 0.5
             }
            },
            "type": "bar"
           }
          ],
          "barpolar": [
           {
            "marker": {
             "line": {
              "color": "#E5ECF6",
              "width": 0.5
             }
            },
            "type": "barpolar"
           }
          ],
          "carpet": [
           {
            "aaxis": {
             "endlinecolor": "#2a3f5f",
             "gridcolor": "white",
             "linecolor": "white",
             "minorgridcolor": "white",
             "startlinecolor": "#2a3f5f"
            },
            "baxis": {
             "endlinecolor": "#2a3f5f",
             "gridcolor": "white",
             "linecolor": "white",
             "minorgridcolor": "white",
             "startlinecolor": "#2a3f5f"
            },
            "type": "carpet"
           }
          ],
          "choropleth": [
           {
            "colorbar": {
             "outlinewidth": 0,
             "ticks": ""
            },
            "type": "choropleth"
           }
          ],
          "contour": [
           {
            "colorbar": {
             "outlinewidth": 0,
             "ticks": ""
            },
            "colorscale": [
             [
              0,
              "#0d0887"
             ],
             [
              0.1111111111111111,
              "#46039f"
             ],
             [
              0.2222222222222222,
              "#7201a8"
             ],
             [
              0.3333333333333333,
              "#9c179e"
             ],
             [
              0.4444444444444444,
              "#bd3786"
             ],
             [
              0.5555555555555556,
              "#d8576b"
             ],
             [
              0.6666666666666666,
              "#ed7953"
             ],
             [
              0.7777777777777778,
              "#fb9f3a"
             ],
             [
              0.8888888888888888,
              "#fdca26"
             ],
             [
              1,
              "#f0f921"
             ]
            ],
            "type": "contour"
           }
          ],
          "contourcarpet": [
           {
            "colorbar": {
             "outlinewidth": 0,
             "ticks": ""
            },
            "type": "contourcarpet"
           }
          ],
          "heatmap": [
           {
            "colorbar": {
             "outlinewidth": 0,
             "ticks": ""
            },
            "colorscale": [
             [
              0,
              "#0d0887"
             ],
             [
              0.1111111111111111,
              "#46039f"
             ],
             [
              0.2222222222222222,
              "#7201a8"
             ],
             [
              0.3333333333333333,
              "#9c179e"
             ],
             [
              0.4444444444444444,
              "#bd3786"
             ],
             [
              0.5555555555555556,
              "#d8576b"
             ],
             [
              0.6666666666666666,
              "#ed7953"
             ],
             [
              0.7777777777777778,
              "#fb9f3a"
             ],
             [
              0.8888888888888888,
              "#fdca26"
             ],
             [
              1,
              "#f0f921"
             ]
            ],
            "type": "heatmap"
           }
          ],
          "heatmapgl": [
           {
            "colorbar": {
             "outlinewidth": 0,
             "ticks": ""
            },
            "colorscale": [
             [
              0,
              "#0d0887"
             ],
             [
              0.1111111111111111,
              "#46039f"
             ],
             [
              0.2222222222222222,
              "#7201a8"
             ],
             [
              0.3333333333333333,
              "#9c179e"
             ],
             [
              0.4444444444444444,
              "#bd3786"
             ],
             [
              0.5555555555555556,
              "#d8576b"
             ],
             [
              0.6666666666666666,
              "#ed7953"
             ],
             [
              0.7777777777777778,
              "#fb9f3a"
             ],
             [
              0.8888888888888888,
              "#fdca26"
             ],
             [
              1,
              "#f0f921"
             ]
            ],
            "type": "heatmapgl"
           }
          ],
          "histogram": [
           {
            "marker": {
             "colorbar": {
              "outlinewidth": 0,
              "ticks": ""
             }
            },
            "type": "histogram"
           }
          ],
          "histogram2d": [
           {
            "colorbar": {
             "outlinewidth": 0,
             "ticks": ""
            },
            "colorscale": [
             [
              0,
              "#0d0887"
             ],
             [
              0.1111111111111111,
              "#46039f"
             ],
             [
              0.2222222222222222,
              "#7201a8"
             ],
             [
              0.3333333333333333,
              "#9c179e"
             ],
             [
              0.4444444444444444,
              "#bd3786"
             ],
             [
              0.5555555555555556,
              "#d8576b"
             ],
             [
              0.6666666666666666,
              "#ed7953"
             ],
             [
              0.7777777777777778,
              "#fb9f3a"
             ],
             [
              0.8888888888888888,
              "#fdca26"
             ],
             [
              1,
              "#f0f921"
             ]
            ],
            "type": "histogram2d"
           }
          ],
          "histogram2dcontour": [
           {
            "colorbar": {
             "outlinewidth": 0,
             "ticks": ""
            },
            "colorscale": [
             [
              0,
              "#0d0887"
             ],
             [
              0.1111111111111111,
              "#46039f"
             ],
             [
              0.2222222222222222,
              "#7201a8"
             ],
             [
              0.3333333333333333,
              "#9c179e"
             ],
             [
              0.4444444444444444,
              "#bd3786"
             ],
             [
              0.5555555555555556,
              "#d8576b"
             ],
             [
              0.6666666666666666,
              "#ed7953"
             ],
             [
              0.7777777777777778,
              "#fb9f3a"
             ],
             [
              0.8888888888888888,
              "#fdca26"
             ],
             [
              1,
              "#f0f921"
             ]
            ],
            "type": "histogram2dcontour"
           }
          ],
          "mesh3d": [
           {
            "colorbar": {
             "outlinewidth": 0,
             "ticks": ""
            },
            "type": "mesh3d"
           }
          ],
          "parcoords": [
           {
            "line": {
             "colorbar": {
              "outlinewidth": 0,
              "ticks": ""
             }
            },
            "type": "parcoords"
           }
          ],
          "pie": [
           {
            "automargin": true,
            "type": "pie"
           }
          ],
          "scatter": [
           {
            "marker": {
             "colorbar": {
              "outlinewidth": 0,
              "ticks": ""
             }
            },
            "type": "scatter"
           }
          ],
          "scatter3d": [
           {
            "line": {
             "colorbar": {
              "outlinewidth": 0,
              "ticks": ""
             }
            },
            "marker": {
             "colorbar": {
              "outlinewidth": 0,
              "ticks": ""
             }
            },
            "type": "scatter3d"
           }
          ],
          "scattercarpet": [
           {
            "marker": {
             "colorbar": {
              "outlinewidth": 0,
              "ticks": ""
             }
            },
            "type": "scattercarpet"
           }
          ],
          "scattergeo": [
           {
            "marker": {
             "colorbar": {
              "outlinewidth": 0,
              "ticks": ""
             }
            },
            "type": "scattergeo"
           }
          ],
          "scattergl": [
           {
            "marker": {
             "colorbar": {
              "outlinewidth": 0,
              "ticks": ""
             }
            },
            "type": "scattergl"
           }
          ],
          "scattermapbox": [
           {
            "marker": {
             "colorbar": {
              "outlinewidth": 0,
              "ticks": ""
             }
            },
            "type": "scattermapbox"
           }
          ],
          "scatterpolar": [
           {
            "marker": {
             "colorbar": {
              "outlinewidth": 0,
              "ticks": ""
             }
            },
            "type": "scatterpolar"
           }
          ],
          "scatterpolargl": [
           {
            "marker": {
             "colorbar": {
              "outlinewidth": 0,
              "ticks": ""
             }
            },
            "type": "scatterpolargl"
           }
          ],
          "scatterternary": [
           {
            "marker": {
             "colorbar": {
              "outlinewidth": 0,
              "ticks": ""
             }
            },
            "type": "scatterternary"
           }
          ],
          "surface": [
           {
            "colorbar": {
             "outlinewidth": 0,
             "ticks": ""
            },
            "colorscale": [
             [
              0,
              "#0d0887"
             ],
             [
              0.1111111111111111,
              "#46039f"
             ],
             [
              0.2222222222222222,
              "#7201a8"
             ],
             [
              0.3333333333333333,
              "#9c179e"
             ],
             [
              0.4444444444444444,
              "#bd3786"
             ],
             [
              0.5555555555555556,
              "#d8576b"
             ],
             [
              0.6666666666666666,
              "#ed7953"
             ],
             [
              0.7777777777777778,
              "#fb9f3a"
             ],
             [
              0.8888888888888888,
              "#fdca26"
             ],
             [
              1,
              "#f0f921"
             ]
            ],
            "type": "surface"
           }
          ],
          "table": [
           {
            "cells": {
             "fill": {
              "color": "#EBF0F8"
             },
             "line": {
              "color": "white"
             }
            },
            "header": {
             "fill": {
              "color": "#C8D4E3"
             },
             "line": {
              "color": "white"
             }
            },
            "type": "table"
           }
          ]
         },
         "layout": {
          "annotationdefaults": {
           "arrowcolor": "#2a3f5f",
           "arrowhead": 0,
           "arrowwidth": 1
          },
          "coloraxis": {
           "colorbar": {
            "outlinewidth": 0,
            "ticks": ""
           }
          },
          "colorscale": {
           "diverging": [
            [
             0,
             "#8e0152"
            ],
            [
             0.1,
             "#c51b7d"
            ],
            [
             0.2,
             "#de77ae"
            ],
            [
             0.3,
             "#f1b6da"
            ],
            [
             0.4,
             "#fde0ef"
            ],
            [
             0.5,
             "#f7f7f7"
            ],
            [
             0.6,
             "#e6f5d0"
            ],
            [
             0.7,
             "#b8e186"
            ],
            [
             0.8,
             "#7fbc41"
            ],
            [
             0.9,
             "#4d9221"
            ],
            [
             1,
             "#276419"
            ]
           ],
           "sequential": [
            [
             0,
             "#0d0887"
            ],
            [
             0.1111111111111111,
             "#46039f"
            ],
            [
             0.2222222222222222,
             "#7201a8"
            ],
            [
             0.3333333333333333,
             "#9c179e"
            ],
            [
             0.4444444444444444,
             "#bd3786"
            ],
            [
             0.5555555555555556,
             "#d8576b"
            ],
            [
             0.6666666666666666,
             "#ed7953"
            ],
            [
             0.7777777777777778,
             "#fb9f3a"
            ],
            [
             0.8888888888888888,
             "#fdca26"
            ],
            [
             1,
             "#f0f921"
            ]
           ],
           "sequentialminus": [
            [
             0,
             "#0d0887"
            ],
            [
             0.1111111111111111,
             "#46039f"
            ],
            [
             0.2222222222222222,
             "#7201a8"
            ],
            [
             0.3333333333333333,
             "#9c179e"
            ],
            [
             0.4444444444444444,
             "#bd3786"
            ],
            [
             0.5555555555555556,
             "#d8576b"
            ],
            [
             0.6666666666666666,
             "#ed7953"
            ],
            [
             0.7777777777777778,
             "#fb9f3a"
            ],
            [
             0.8888888888888888,
             "#fdca26"
            ],
            [
             1,
             "#f0f921"
            ]
           ]
          },
          "colorway": [
           "#636efa",
           "#EF553B",
           "#00cc96",
           "#ab63fa",
           "#FFA15A",
           "#19d3f3",
           "#FF6692",
           "#B6E880",
           "#FF97FF",
           "#FECB52"
          ],
          "font": {
           "color": "#2a3f5f"
          },
          "geo": {
           "bgcolor": "white",
           "lakecolor": "white",
           "landcolor": "#E5ECF6",
           "showlakes": true,
           "showland": true,
           "subunitcolor": "white"
          },
          "hoverlabel": {
           "align": "left"
          },
          "hovermode": "closest",
          "mapbox": {
           "style": "light"
          },
          "paper_bgcolor": "white",
          "plot_bgcolor": "#E5ECF6",
          "polar": {
           "angularaxis": {
            "gridcolor": "white",
            "linecolor": "white",
            "ticks": ""
           },
           "bgcolor": "#E5ECF6",
           "radialaxis": {
            "gridcolor": "white",
            "linecolor": "white",
            "ticks": ""
           }
          },
          "scene": {
           "xaxis": {
            "backgroundcolor": "#E5ECF6",
            "gridcolor": "white",
            "gridwidth": 2,
            "linecolor": "white",
            "showbackground": true,
            "ticks": "",
            "zerolinecolor": "white"
           },
           "yaxis": {
            "backgroundcolor": "#E5ECF6",
            "gridcolor": "white",
            "gridwidth": 2,
            "linecolor": "white",
            "showbackground": true,
            "ticks": "",
            "zerolinecolor": "white"
           },
           "zaxis": {
            "backgroundcolor": "#E5ECF6",
            "gridcolor": "white",
            "gridwidth": 2,
            "linecolor": "white",
            "showbackground": true,
            "ticks": "",
            "zerolinecolor": "white"
           }
          },
          "shapedefaults": {
           "line": {
            "color": "#2a3f5f"
           }
          },
          "ternary": {
           "aaxis": {
            "gridcolor": "white",
            "linecolor": "white",
            "ticks": ""
           },
           "baxis": {
            "gridcolor": "white",
            "linecolor": "white",
            "ticks": ""
           },
           "bgcolor": "#E5ECF6",
           "caxis": {
            "gridcolor": "white",
            "linecolor": "white",
            "ticks": ""
           }
          },
          "title": {
           "x": 0.05
          },
          "xaxis": {
           "automargin": true,
           "gridcolor": "white",
           "linecolor": "white",
           "ticks": "",
           "title": {
            "standoff": 15
           },
           "zerolinecolor": "white",
           "zerolinewidth": 2
          },
          "yaxis": {
           "automargin": true,
           "gridcolor": "white",
           "linecolor": "white",
           "ticks": "",
           "title": {
            "standoff": 15
           },
           "zerolinecolor": "white",
           "zerolinewidth": 2
          }
         }
        },
        "title": {
         "text": "Evolução Nota Ciências"
        },
        "updatemenus": [
         {
          "buttons": [
           {
            "args": [
             null,
             {
              "frame": {
               "duration": 500,
               "redraw": true
              },
              "fromcurrent": true,
              "mode": "immediate",
              "transition": {
               "duration": 500,
               "easing": "linear"
              }
             }
            ],
            "label": "&#9654;",
            "method": "animate"
           },
           {
            "args": [
             [
              null
             ],
             {
              "frame": {
               "duration": 0,
               "redraw": true
              },
              "fromcurrent": true,
              "mode": "immediate",
              "transition": {
               "duration": 0,
               "easing": "linear"
              }
             }
            ],
            "label": "&#9724;",
            "method": "animate"
           }
          ],
          "direction": "left",
          "pad": {
           "r": 10,
           "t": 70
          },
          "showactive": false,
          "type": "buttons",
          "x": 0.1,
          "xanchor": "right",
          "y": 0,
          "yanchor": "top"
         }
        ]
       }
      },
      "text/html": [
       "<div>\n",
       "        \n",
       "        \n",
       "            <div id=\"0026d330-2ff2-4182-9e42-64e973eb3ef4\" class=\"plotly-graph-div\" style=\"height:525px; width:100%;\"></div>\n",
       "            <script type=\"text/javascript\">\n",
       "                require([\"plotly\"], function(Plotly) {\n",
       "                    window.PLOTLYENV=window.PLOTLYENV || {};\n",
       "                    \n",
       "                if (document.getElementById(\"0026d330-2ff2-4182-9e42-64e973eb3ef4\")) {\n",
       "                    Plotly.newPlot(\n",
       "                        '0026d330-2ff2-4182-9e42-64e973eb3ef4',\n",
       "                        [{\"coloraxis\": \"coloraxis\", \"geo\": \"geo\", \"hovertemplate\": \"<b>%{hovertext}</b><br><br>Ano=2009<br>country=%{location}<br>Nota Ci\\u00eancias=%{z}<extra></extra>\", \"hovertext\": [\"AUS\", \"BEL\", \"BRA\", \"CAN\", \"CHE\", \"CHL\", \"CZE\", \"DNK\", \"ESP\", \"FIN\", \"FRA\", \"GBR\", \"HUN\", \"IRL\", \"ISL\", \"ISR\", \"ITA\", \"JPN\", \"KOR\", \"KOR\", \"MEX\", \"NLD\", \"NOR\", \"POL\", \"PRT\", \"SVK\", \"SVN\", \"SWE\", \"TUR\", \"USA\"], \"locations\": [\"AUS\", \"BEL\", \"BRA\", \"CAN\", \"CHE\", \"CHL\", \"CZE\", \"DNK\", \"ESP\", \"FIN\", \"FRA\", \"GBR\", \"HUN\", \"IRL\", \"ISL\", \"ISR\", \"ITA\", \"JPN\", \"KOR\", \"KOR\", \"MEX\", \"NLD\", \"NOR\", \"POL\", \"PRT\", \"SVK\", \"SVN\", \"SWE\", \"TUR\", \"USA\"], \"name\": \"\", \"type\": \"choropleth\", \"z\": [527.0, 507.0, 405.0, 529.0, 517.0, 447.0, 500.0, 499.0, 488.0, 554.0, 498.0, 514.0, 503.0, 508.0, 496.0, 455.0, 489.0, 539.0, 538.0, 538.0, 416.0, 522.0, 500.0, 508.0, 493.0, 490.0, 512.0, 495.0, 454.0, 502.0]}],\n",
       "                        {\"coloraxis\": {\"colorbar\": {\"title\": {\"text\": \"Nota Ci\\u00eancias\"}}, \"colorscale\": [[0.0, \"rgb(247,251,255)\"], [0.125, \"rgb(222,235,247)\"], [0.25, \"rgb(198,219,239)\"], [0.375, \"rgb(158,202,225)\"], [0.5, \"rgb(107,174,214)\"], [0.625, \"rgb(66,146,198)\"], [0.75, \"rgb(33,113,181)\"], [0.875, \"rgb(8,81,156)\"], [1.0, \"rgb(8,48,107)\"]]}, \"geo\": {\"center\": {}, \"domain\": {\"x\": [0.0, 1.0], \"y\": [0.0, 1.0]}, \"projection\": {\"type\": \"natural earth\"}}, \"legend\": {\"tracegroupgap\": 0}, \"sliders\": [{\"active\": 0, \"currentvalue\": {\"prefix\": \"Ano=\"}, \"len\": 0.9, \"pad\": {\"b\": 10, \"t\": 60}, \"steps\": [{\"args\": [[\"2009\"], {\"frame\": {\"duration\": 0, \"redraw\": true}, \"fromcurrent\": true, \"mode\": \"immediate\", \"transition\": {\"duration\": 0, \"easing\": \"linear\"}}], \"label\": \"2009\", \"method\": \"animate\"}, {\"args\": [[\"2012\"], {\"frame\": {\"duration\": 0, \"redraw\": true}, \"fromcurrent\": true, \"mode\": \"immediate\", \"transition\": {\"duration\": 0, \"easing\": \"linear\"}}], \"label\": \"2012\", \"method\": \"animate\"}, {\"args\": [[\"2015\"], {\"frame\": {\"duration\": 0, \"redraw\": true}, \"fromcurrent\": true, \"mode\": \"immediate\", \"transition\": {\"duration\": 0, \"easing\": \"linear\"}}], \"label\": \"2015\", \"method\": \"animate\"}], \"x\": 0.1, \"xanchor\": \"left\", \"y\": 0, \"yanchor\": \"top\"}], \"template\": {\"data\": {\"bar\": [{\"error_x\": {\"color\": \"#2a3f5f\"}, \"error_y\": {\"color\": \"#2a3f5f\"}, \"marker\": {\"line\": {\"color\": \"#E5ECF6\", \"width\": 0.5}}, \"type\": \"bar\"}], \"barpolar\": [{\"marker\": {\"line\": {\"color\": \"#E5ECF6\", \"width\": 0.5}}, \"type\": \"barpolar\"}], \"carpet\": [{\"aaxis\": {\"endlinecolor\": \"#2a3f5f\", \"gridcolor\": \"white\", \"linecolor\": \"white\", \"minorgridcolor\": \"white\", \"startlinecolor\": \"#2a3f5f\"}, \"baxis\": {\"endlinecolor\": \"#2a3f5f\", \"gridcolor\": \"white\", \"linecolor\": \"white\", \"minorgridcolor\": \"white\", \"startlinecolor\": \"#2a3f5f\"}, \"type\": \"carpet\"}], \"choropleth\": [{\"colorbar\": {\"outlinewidth\": 0, \"ticks\": \"\"}, \"type\": \"choropleth\"}], \"contour\": [{\"colorbar\": {\"outlinewidth\": 0, \"ticks\": \"\"}, \"colorscale\": [[0.0, \"#0d0887\"], [0.1111111111111111, \"#46039f\"], [0.2222222222222222, \"#7201a8\"], [0.3333333333333333, \"#9c179e\"], [0.4444444444444444, \"#bd3786\"], [0.5555555555555556, \"#d8576b\"], [0.6666666666666666, \"#ed7953\"], [0.7777777777777778, \"#fb9f3a\"], [0.8888888888888888, \"#fdca26\"], [1.0, \"#f0f921\"]], \"type\": \"contour\"}], \"contourcarpet\": [{\"colorbar\": {\"outlinewidth\": 0, \"ticks\": \"\"}, \"type\": \"contourcarpet\"}], \"heatmap\": [{\"colorbar\": {\"outlinewidth\": 0, \"ticks\": \"\"}, \"colorscale\": [[0.0, \"#0d0887\"], [0.1111111111111111, \"#46039f\"], [0.2222222222222222, \"#7201a8\"], [0.3333333333333333, \"#9c179e\"], [0.4444444444444444, \"#bd3786\"], [0.5555555555555556, \"#d8576b\"], [0.6666666666666666, \"#ed7953\"], [0.7777777777777778, \"#fb9f3a\"], [0.8888888888888888, \"#fdca26\"], [1.0, \"#f0f921\"]], \"type\": \"heatmap\"}], \"heatmapgl\": [{\"colorbar\": {\"outlinewidth\": 0, \"ticks\": \"\"}, \"colorscale\": [[0.0, \"#0d0887\"], [0.1111111111111111, \"#46039f\"], [0.2222222222222222, \"#7201a8\"], [0.3333333333333333, \"#9c179e\"], [0.4444444444444444, \"#bd3786\"], [0.5555555555555556, \"#d8576b\"], [0.6666666666666666, \"#ed7953\"], [0.7777777777777778, \"#fb9f3a\"], [0.8888888888888888, \"#fdca26\"], [1.0, \"#f0f921\"]], \"type\": \"heatmapgl\"}], \"histogram\": [{\"marker\": {\"colorbar\": {\"outlinewidth\": 0, \"ticks\": \"\"}}, \"type\": \"histogram\"}], \"histogram2d\": [{\"colorbar\": {\"outlinewidth\": 0, \"ticks\": \"\"}, \"colorscale\": [[0.0, \"#0d0887\"], [0.1111111111111111, \"#46039f\"], [0.2222222222222222, \"#7201a8\"], [0.3333333333333333, \"#9c179e\"], [0.4444444444444444, \"#bd3786\"], [0.5555555555555556, \"#d8576b\"], [0.6666666666666666, \"#ed7953\"], [0.7777777777777778, \"#fb9f3a\"], [0.8888888888888888, \"#fdca26\"], [1.0, \"#f0f921\"]], \"type\": \"histogram2d\"}], \"histogram2dcontour\": [{\"colorbar\": {\"outlinewidth\": 0, \"ticks\": \"\"}, \"colorscale\": [[0.0, \"#0d0887\"], [0.1111111111111111, \"#46039f\"], [0.2222222222222222, \"#7201a8\"], [0.3333333333333333, \"#9c179e\"], [0.4444444444444444, \"#bd3786\"], [0.5555555555555556, \"#d8576b\"], [0.6666666666666666, \"#ed7953\"], [0.7777777777777778, \"#fb9f3a\"], [0.8888888888888888, \"#fdca26\"], [1.0, \"#f0f921\"]], \"type\": \"histogram2dcontour\"}], \"mesh3d\": [{\"colorbar\": {\"outlinewidth\": 0, \"ticks\": \"\"}, \"type\": \"mesh3d\"}], \"parcoords\": [{\"line\": {\"colorbar\": {\"outlinewidth\": 0, \"ticks\": \"\"}}, \"type\": \"parcoords\"}], \"pie\": [{\"automargin\": true, \"type\": \"pie\"}], \"scatter\": [{\"marker\": {\"colorbar\": {\"outlinewidth\": 0, \"ticks\": \"\"}}, \"type\": \"scatter\"}], \"scatter3d\": [{\"line\": {\"colorbar\": {\"outlinewidth\": 0, \"ticks\": \"\"}}, \"marker\": {\"colorbar\": {\"outlinewidth\": 0, \"ticks\": \"\"}}, \"type\": \"scatter3d\"}], \"scattercarpet\": [{\"marker\": {\"colorbar\": {\"outlinewidth\": 0, \"ticks\": \"\"}}, \"type\": \"scattercarpet\"}], \"scattergeo\": [{\"marker\": {\"colorbar\": {\"outlinewidth\": 0, \"ticks\": \"\"}}, \"type\": \"scattergeo\"}], \"scattergl\": [{\"marker\": {\"colorbar\": {\"outlinewidth\": 0, \"ticks\": \"\"}}, \"type\": \"scattergl\"}], \"scattermapbox\": [{\"marker\": {\"colorbar\": {\"outlinewidth\": 0, \"ticks\": \"\"}}, \"type\": \"scattermapbox\"}], \"scatterpolar\": [{\"marker\": {\"colorbar\": {\"outlinewidth\": 0, \"ticks\": \"\"}}, \"type\": \"scatterpolar\"}], \"scatterpolargl\": [{\"marker\": {\"colorbar\": {\"outlinewidth\": 0, \"ticks\": \"\"}}, \"type\": \"scatterpolargl\"}], \"scatterternary\": [{\"marker\": {\"colorbar\": {\"outlinewidth\": 0, \"ticks\": \"\"}}, \"type\": \"scatterternary\"}], \"surface\": [{\"colorbar\": {\"outlinewidth\": 0, \"ticks\": \"\"}, \"colorscale\": [[0.0, \"#0d0887\"], [0.1111111111111111, \"#46039f\"], [0.2222222222222222, \"#7201a8\"], [0.3333333333333333, \"#9c179e\"], [0.4444444444444444, \"#bd3786\"], [0.5555555555555556, \"#d8576b\"], [0.6666666666666666, \"#ed7953\"], [0.7777777777777778, \"#fb9f3a\"], [0.8888888888888888, \"#fdca26\"], [1.0, \"#f0f921\"]], \"type\": \"surface\"}], \"table\": [{\"cells\": {\"fill\": {\"color\": \"#EBF0F8\"}, \"line\": {\"color\": \"white\"}}, \"header\": {\"fill\": {\"color\": \"#C8D4E3\"}, \"line\": {\"color\": \"white\"}}, \"type\": \"table\"}]}, \"layout\": {\"annotationdefaults\": {\"arrowcolor\": \"#2a3f5f\", \"arrowhead\": 0, \"arrowwidth\": 1}, \"coloraxis\": {\"colorbar\": {\"outlinewidth\": 0, \"ticks\": \"\"}}, \"colorscale\": {\"diverging\": [[0, \"#8e0152\"], [0.1, \"#c51b7d\"], [0.2, \"#de77ae\"], [0.3, \"#f1b6da\"], [0.4, \"#fde0ef\"], [0.5, \"#f7f7f7\"], [0.6, \"#e6f5d0\"], [0.7, \"#b8e186\"], [0.8, \"#7fbc41\"], [0.9, \"#4d9221\"], [1, \"#276419\"]], \"sequential\": [[0.0, \"#0d0887\"], [0.1111111111111111, \"#46039f\"], [0.2222222222222222, \"#7201a8\"], [0.3333333333333333, \"#9c179e\"], [0.4444444444444444, \"#bd3786\"], [0.5555555555555556, \"#d8576b\"], [0.6666666666666666, \"#ed7953\"], [0.7777777777777778, \"#fb9f3a\"], [0.8888888888888888, \"#fdca26\"], [1.0, \"#f0f921\"]], \"sequentialminus\": [[0.0, \"#0d0887\"], [0.1111111111111111, \"#46039f\"], [0.2222222222222222, \"#7201a8\"], [0.3333333333333333, \"#9c179e\"], [0.4444444444444444, \"#bd3786\"], [0.5555555555555556, \"#d8576b\"], [0.6666666666666666, \"#ed7953\"], [0.7777777777777778, \"#fb9f3a\"], [0.8888888888888888, \"#fdca26\"], [1.0, \"#f0f921\"]]}, \"colorway\": [\"#636efa\", \"#EF553B\", \"#00cc96\", \"#ab63fa\", \"#FFA15A\", \"#19d3f3\", \"#FF6692\", \"#B6E880\", \"#FF97FF\", \"#FECB52\"], \"font\": {\"color\": \"#2a3f5f\"}, \"geo\": {\"bgcolor\": \"white\", \"lakecolor\": \"white\", \"landcolor\": \"#E5ECF6\", \"showlakes\": true, \"showland\": true, \"subunitcolor\": \"white\"}, \"hoverlabel\": {\"align\": \"left\"}, \"hovermode\": \"closest\", \"mapbox\": {\"style\": \"light\"}, \"paper_bgcolor\": \"white\", \"plot_bgcolor\": \"#E5ECF6\", \"polar\": {\"angularaxis\": {\"gridcolor\": \"white\", \"linecolor\": \"white\", \"ticks\": \"\"}, \"bgcolor\": \"#E5ECF6\", \"radialaxis\": {\"gridcolor\": \"white\", \"linecolor\": \"white\", \"ticks\": \"\"}}, \"scene\": {\"xaxis\": {\"backgroundcolor\": \"#E5ECF6\", \"gridcolor\": \"white\", \"gridwidth\": 2, \"linecolor\": \"white\", \"showbackground\": true, \"ticks\": \"\", \"zerolinecolor\": \"white\"}, \"yaxis\": {\"backgroundcolor\": \"#E5ECF6\", \"gridcolor\": \"white\", \"gridwidth\": 2, \"linecolor\": \"white\", \"showbackground\": true, \"ticks\": \"\", \"zerolinecolor\": \"white\"}, \"zaxis\": {\"backgroundcolor\": \"#E5ECF6\", \"gridcolor\": \"white\", \"gridwidth\": 2, \"linecolor\": \"white\", \"showbackground\": true, \"ticks\": \"\", \"zerolinecolor\": \"white\"}}, \"shapedefaults\": {\"line\": {\"color\": \"#2a3f5f\"}}, \"ternary\": {\"aaxis\": {\"gridcolor\": \"white\", \"linecolor\": \"white\", \"ticks\": \"\"}, \"baxis\": {\"gridcolor\": \"white\", \"linecolor\": \"white\", \"ticks\": \"\"}, \"bgcolor\": \"#E5ECF6\", \"caxis\": {\"gridcolor\": \"white\", \"linecolor\": \"white\", \"ticks\": \"\"}}, \"title\": {\"x\": 0.05}, \"xaxis\": {\"automargin\": true, \"gridcolor\": \"white\", \"linecolor\": \"white\", \"ticks\": \"\", \"title\": {\"standoff\": 15}, \"zerolinecolor\": \"white\", \"zerolinewidth\": 2}, \"yaxis\": {\"automargin\": true, \"gridcolor\": \"white\", \"linecolor\": \"white\", \"ticks\": \"\", \"title\": {\"standoff\": 15}, \"zerolinecolor\": \"white\", \"zerolinewidth\": 2}}}, \"title\": {\"text\": \"Evolu\\u00e7\\u00e3o Nota Ci\\u00eancias\"}, \"updatemenus\": [{\"buttons\": [{\"args\": [null, {\"frame\": {\"duration\": 500, \"redraw\": true}, \"fromcurrent\": true, \"mode\": \"immediate\", \"transition\": {\"duration\": 500, \"easing\": \"linear\"}}], \"label\": \"&#9654;\", \"method\": \"animate\"}, {\"args\": [[null], {\"frame\": {\"duration\": 0, \"redraw\": true}, \"fromcurrent\": true, \"mode\": \"immediate\", \"transition\": {\"duration\": 0, \"easing\": \"linear\"}}], \"label\": \"&#9724;\", \"method\": \"animate\"}], \"direction\": \"left\", \"pad\": {\"r\": 10, \"t\": 70}, \"showactive\": false, \"type\": \"buttons\", \"x\": 0.1, \"xanchor\": \"right\", \"y\": 0, \"yanchor\": \"top\"}]},\n",
       "                        {\"responsive\": true}\n",
       "                    ).then(function(){\n",
       "                            Plotly.addFrames('0026d330-2ff2-4182-9e42-64e973eb3ef4', [{\"data\": [{\"coloraxis\": \"coloraxis\", \"geo\": \"geo\", \"hovertemplate\": \"<b>%{hovertext}</b><br><br>Ano=2009<br>country=%{location}<br>Nota Ci\\u00eancias=%{z}<extra></extra>\", \"hovertext\": [\"AUS\", \"BEL\", \"BRA\", \"CAN\", \"CHE\", \"CHL\", \"CZE\", \"DNK\", \"ESP\", \"FIN\", \"FRA\", \"GBR\", \"HUN\", \"IRL\", \"ISL\", \"ISR\", \"ITA\", \"JPN\", \"KOR\", \"KOR\", \"MEX\", \"NLD\", \"NOR\", \"POL\", \"PRT\", \"SVK\", \"SVN\", \"SWE\", \"TUR\", \"USA\"], \"locations\": [\"AUS\", \"BEL\", \"BRA\", \"CAN\", \"CHE\", \"CHL\", \"CZE\", \"DNK\", \"ESP\", \"FIN\", \"FRA\", \"GBR\", \"HUN\", \"IRL\", \"ISL\", \"ISR\", \"ITA\", \"JPN\", \"KOR\", \"KOR\", \"MEX\", \"NLD\", \"NOR\", \"POL\", \"PRT\", \"SVK\", \"SVN\", \"SWE\", \"TUR\", \"USA\"], \"name\": \"\", \"z\": [527.0, 507.0, 405.0, 529.0, 517.0, 447.0, 500.0, 499.0, 488.0, 554.0, 498.0, 514.0, 503.0, 508.0, 496.0, 455.0, 489.0, 539.0, 538.0, 538.0, 416.0, 522.0, 500.0, 508.0, 493.0, 490.0, 512.0, 495.0, 454.0, 502.0], \"type\": \"choropleth\"}], \"name\": \"2009\"}, {\"data\": [{\"coloraxis\": \"coloraxis\", \"geo\": \"geo\", \"hovertemplate\": \"<b>%{hovertext}</b><br><br>Ano=2012<br>country=%{location}<br>Nota Ci\\u00eancias=%{z}<extra></extra>\", \"hovertext\": [\"AUS\", \"AUT\", \"BEL\", \"BRA\", \"CAN\", \"CHE\", \"CHL\", \"CZE\", \"DEU\", \"DNK\", \"ESP\", \"FIN\", \"FRA\", \"GBR\", \"GRC\", \"HUN\", \"IDN\", \"IRL\", \"ISL\", \"ISR\", \"ITA\", \"JPN\", \"KOR\", \"KOR\", \"MEX\", \"NLD\", \"NOR\", \"NZL\", \"POL\", \"PRT\", \"SVK\", \"SVN\", \"SWE\", \"TUR\", \"USA\"], \"locations\": [\"AUS\", \"AUT\", \"BEL\", \"BRA\", \"CAN\", \"CHE\", \"CHL\", \"CZE\", \"DEU\", \"DNK\", \"ESP\", \"FIN\", \"FRA\", \"GBR\", \"GRC\", \"HUN\", \"IDN\", \"IRL\", \"ISL\", \"ISR\", \"ITA\", \"JPN\", \"KOR\", \"KOR\", \"MEX\", \"NLD\", \"NOR\", \"NZL\", \"POL\", \"PRT\", \"SVK\", \"SVN\", \"SWE\", \"TUR\", \"USA\"], \"name\": \"\", \"z\": [521.0, 506.0, 505.0, 402.0, 525.0, 515.0, 445.0, 508.0, 524.0, 498.0, 496.0, 545.0, 499.0, 514.0, 467.0, 494.0, 382.0, 522.0, 478.0, 470.0, 494.0, 547.0, 538.0, 538.0, 415.0, 522.0, 495.0, 516.0, 526.0, 489.0, 471.0, 514.0, 485.0, 463.0, 497.0], \"type\": \"choropleth\"}], \"name\": \"2012\"}, {\"data\": [{\"coloraxis\": \"coloraxis\", \"geo\": \"geo\", \"hovertemplate\": \"<b>%{hovertext}</b><br><br>Ano=2015<br>country=%{location}<br>Nota Ci\\u00eancias=%{z}<extra></extra>\", \"hovertext\": [\"AUS\", \"AUT\", \"BEL\", \"BRA\", \"CAN\", \"CHE\", \"CHL\", \"COL\", \"CZE\", \"DEU\", \"ESP\", \"FIN\", \"FRA\", \"GBR\", \"GRC\", \"HUN\", \"IDN\", \"IRL\", \"ISL\", \"ISR\", \"ITA\", \"JPN\", \"KOR\", \"KOR\", \"MEX\", \"NLD\", \"NOR\", \"NZL\", \"POL\", \"PRT\", \"SVK\", \"SVN\", \"SWE\", \"TUR\", \"USA\"], \"locations\": [\"AUS\", \"AUT\", \"BEL\", \"BRA\", \"CAN\", \"CHE\", \"CHL\", \"COL\", \"CZE\", \"DEU\", \"ESP\", \"FIN\", \"FRA\", \"GBR\", \"GRC\", \"HUN\", \"IDN\", \"IRL\", \"ISL\", \"ISR\", \"ITA\", \"JPN\", \"KOR\", \"KOR\", \"MEX\", \"NLD\", \"NOR\", \"NZL\", \"POL\", \"PRT\", \"SVK\", \"SVN\", \"SWE\", \"TUR\", \"USA\"], \"name\": \"\", \"z\": [510.0, 495.0, 502.0, 401.0, 528.0, 506.0, 447.0, 416.0, 493.0, 509.0, 493.0, 531.0, 495.0, 509.0, 455.0, 477.0, 403.0, 503.0, 473.0, 467.0, 481.0, 538.0, 516.0, 516.0, 416.0, 509.0, 498.0, 513.0, 501.0, 501.0, 461.0, 513.0, 493.0, 425.0, 496.0], \"type\": \"choropleth\"}], \"name\": \"2015\"}]);\n",
       "                        }).then(function(){\n",
       "                            \n",
       "var gd = document.getElementById('0026d330-2ff2-4182-9e42-64e973eb3ef4');\n",
       "var x = new MutationObserver(function (mutations, observer) {{\n",
       "        var display = window.getComputedStyle(gd).display;\n",
       "        if (!display || display === 'none') {{\n",
       "            console.log([gd, 'removed!']);\n",
       "            Plotly.purge(gd);\n",
       "            observer.disconnect();\n",
       "        }}\n",
       "}});\n",
       "\n",
       "// Listen for the removal of the full notebook cells\n",
       "var notebookContainer = gd.closest('#notebook-container');\n",
       "if (notebookContainer) {{\n",
       "    x.observe(notebookContainer, {childList: true});\n",
       "}}\n",
       "\n",
       "// Listen for the clearing of the current output cell\n",
       "var outputEl = gd.closest('.output');\n",
       "if (outputEl) {{\n",
       "    x.observe(outputEl, {childList: true});\n",
       "}}\n",
       "\n",
       "                        })\n",
       "                };\n",
       "                });\n",
       "            </script>\n",
       "        </div>"
      ]
     },
     "metadata": {},
     "output_type": "display_data"
    }
   ],
   "source": [
    "geograficos_que_precisam_de_tratamento('Nota Ciências')"
   ]
  }
 ],
 "metadata": {
  "kernelspec": {
   "display_name": "Python 3",
   "language": "python",
   "name": "python3"
  },
  "language_info": {
   "codemirror_mode": {
    "name": "ipython",
    "version": 3
   },
   "file_extension": ".py",
   "mimetype": "text/x-python",
   "name": "python",
   "nbconvert_exporter": "python",
   "pygments_lexer": "ipython3",
   "version": "3.8.0"
  }
 },
 "nbformat": 4,
 "nbformat_minor": 4
}
