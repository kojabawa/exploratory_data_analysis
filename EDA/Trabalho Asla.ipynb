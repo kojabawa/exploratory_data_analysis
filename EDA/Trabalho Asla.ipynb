{
 "cells": [
  {
   "cell_type": "markdown",
   "metadata": {},
   "source": [
    "# Gasto Público em Educação x Desempenho no PISA\n",
    "\n",
    "\n",
    "O objetivo deste trabalho é avaliar possíveis correlações entre o gasto público de um país em educação e o desempenho dos alunos deste país na prova do Programa Internacional de Avaliação de Estudantes (PISA). Todas as informações necessárias foram baixadas no site de dados da OCDE [aqui](https://data.oecd.org/), onde é possível encontrar o histórico dos indicadores pertinentes em formato csv. \n",
    "\n",
    "Vale notar que por gasto público em educação nos referimos à porcentagem do PIB investida pelo país na educação primária e secundária. O desempenho do país no PISA, por sua vez, faz referência à nota de cada país na prova e está dividido em três bases, uma para cada área do conhecimento avaliada: Leitura, Matemática e Ciência. Maiores informações a respeito do PISA podem ser encontradas [aqui](http://portal.inep.gov.br/pisa), no site do INEP."
   ]
  },
  {
   "cell_type": "markdown",
   "metadata": {},
   "source": [
    "### Divisão do Trabalho\n",
    "\n",
    "0. Importação das Bibliotecas\n",
    "1. Input das Bases\n",
    "2. Tratamento das Bases\n",
    "3. Unificação das Bases\n",
    "4. Análise Exploratória dos Dados\n",
    "5. Correlação entre Gasto Público em Educação x Desempenho no PISA\n"
   ]
  },
  {
   "cell_type": "markdown",
   "metadata": {},
   "source": [
    "## 0. Importação das Bibliotecas"
   ]
  },
  {
   "cell_type": "code",
   "execution_count": 1,
   "metadata": {},
   "outputs": [],
   "source": [
    "import pandas as pd\n",
    "import numpy as np\n",
    "import matplotlib.pyplot as plt\n",
    "import matplotlib.gridspec as gridspec\n",
    "\n",
    "import seaborn as sns\n",
    "import plotly.figure_factory as ff\n",
    "import plotly.express as px"
   ]
  },
  {
   "cell_type": "markdown",
   "metadata": {},
   "source": [
    "## 1. Input das Bases"
   ]
  },
  {
   "cell_type": "code",
   "execution_count": 144,
   "metadata": {},
   "outputs": [],
   "source": [
    "#Gasto Público em Educação\n",
    "gp_educ = pd.read_csv('gasto_publico_educ_00-15.csv')\n",
    "\n",
    "#Desempenho no PISA\n",
    "#Matemática\n",
    "pisa_m = pd.read_csv('pisa_mat_03-18.csv')\n",
    "#Leitura\n",
    "pisa_l = pd.read_csv('pisa_leitura_00-18.csv')\n",
    "#Ciência\n",
    "pisa_c = pd.read_csv('pisa_sci_06-18.csv')"
   ]
  },
  {
   "cell_type": "markdown",
   "metadata": {},
   "source": [
    "## 2. Tratamento das Bases"
   ]
  },
  {
   "cell_type": "code",
   "execution_count": 145,
   "metadata": {},
   "outputs": [],
   "source": [
    "#Selecionando apenas colunas pertinentes\n",
    "gp_educ.drop(['INDICATOR','SUBJECT','MEASURE','FREQUENCY','Flag Codes'],axis=1,inplace=True)\n",
    "\n",
    "pisa_m.drop(['INDICATOR','SUBJECT','MEASURE','FREQUENCY','Flag Codes'],axis=1,inplace=True)\n",
    "pisa_l.drop(['INDICATOR','SUBJECT','MEASURE','FREQUENCY','Flag Codes'],axis=1,inplace=True)\n",
    "pisa_c.drop(['INDICATOR','SUBJECT','MEASURE','FREQUENCY','Flag Codes'],axis=1,inplace=True)\n",
    "\n",
    "#Com isso, todas as bases contêm apenas o nome do país, o valor do indicador e o ano."
   ]
  },
  {
   "cell_type": "code",
   "execution_count": 146,
   "metadata": {},
   "outputs": [],
   "source": [
    "#Renomeando as colunas para maior comodidade \n",
    "gp_educ.columns = ['País','Ano','Gasto Educ (%)']\n",
    "pisa_m.columns = ['País','Ano','Nota Matemática']\n",
    "pisa_l.columns = ['País','Ano','Nota Leitura']\n",
    "pisa_c.columns = ['País','Ano','Nota Ciências']"
   ]
  },
  {
   "cell_type": "code",
   "execution_count": 147,
   "metadata": {},
   "outputs": [
    {
     "name": "stdout",
     "output_type": "stream",
     "text": [
      "País               object\n",
      "Ano                 int64\n",
      "Gasto Educ (%)    float64\n",
      "dtype: object\n",
      "\n",
      "País               object\n",
      "Ano                 int64\n",
      "Nota Matemática     int64\n",
      "dtype: object\n",
      "\n",
      "País             object\n",
      "Ano               int64\n",
      "Nota Ciências     int64\n",
      "dtype: object\n",
      "\n",
      "País            object\n",
      "Ano              int64\n",
      "Nota Leitura     int64\n",
      "dtype: object\n"
     ]
    }
   ],
   "source": [
    "#Avaliando se as colunas estão sendo lidas corretamente. Ano e Valor devem ser lidos como números inteiros (int)\n",
    "#ou fracionados (float)\n",
    "\n",
    "print(gp_educ.dtypes)\n",
    "print()\n",
    "print(pisa_m.dtypes)\n",
    "print()\n",
    "print(pisa_c.dtypes)\n",
    "print()\n",
    "print(pisa_l.dtypes)"
   ]
  },
  {
   "cell_type": "markdown",
   "metadata": {},
   "source": [
    "## 3. Unificação das Bases"
   ]
  },
  {
   "cell_type": "code",
   "execution_count": 148,
   "metadata": {},
   "outputs": [],
   "source": [
    "#Para unificar as bases, precisamos de uma coluna para usar de referência. Como os valores fazem referência a um país e a um ano\n",
    "#simultaneamente, vamos concatenar a coluna país com a coluna ano. Com isso, essa coluna concatenada poderá ser usada para \n",
    "#cruzar as bases sem perda de informação.\n",
    "\n",
    "gp_educ['País-Ano'] = gp_educ['País'] + '-' + gp_educ['Ano'].astype(str)\n",
    "\n",
    "pisa_m['País-Ano'] = pisa_m['País'] + '-' + pisa_m['Ano'].astype(str)\n",
    "pisa_l['País-Ano'] = pisa_l['País'] + '-' + pisa_l['Ano'].astype(str)\n",
    "pisa_c['País-Ano'] = pisa_c['País'] + '-' + pisa_c['Ano'].astype(str)"
   ]
  },
  {
   "cell_type": "code",
   "execution_count": 149,
   "metadata": {},
   "outputs": [],
   "source": [
    "#Concatenando as bases\n",
    "base = pd.concat([gp_educ,pisa_m,pisa_l,pisa_c],axis=0,sort=False)\n",
    "#Com isso, a variável 'base' estará agrupada, mas terá valores repetidos para o país-ano \n",
    "#(duas linhas para Brasil-2005, por exemplo)\n",
    "\n",
    "#Para termos apenas um valor para cada país-ano, vamos agrupar a base na coluna País-Ano utilizando como função a mínimo. \n",
    "#Poderíamos aqui utilizar outras funções que não a mínimo, pois só existe 1 valor de cada indicador para cada país-ano.\n",
    "#Se fizessemos a função max(), por exemplo, o resultado seria o mesmo, pois o mínimo de [nan,nan,x] é igual ao\n",
    "#máximo de [nan,nan,x], já que só possui um valor - nan não conta.\n",
    "\n",
    "base_group = base.groupby('País-Ano').min()"
   ]
  },
  {
   "cell_type": "markdown",
   "metadata": {},
   "source": [
    "## 4. Análise Exploratória dos Dados"
   ]
  },
  {
   "cell_type": "markdown",
   "metadata": {},
   "source": [
    "Nesta seção, vamos buscar entender o comportamento das bases. Antes de mais nada, veremos quais são as estatísticas descritivas da base."
   ]
  },
  {
   "cell_type": "code",
   "execution_count": 151,
   "metadata": {},
   "outputs": [
    {
     "data": {
      "text/html": [
       "<div>\n",
       "<style scoped>\n",
       "    .dataframe tbody tr th:only-of-type {\n",
       "        vertical-align: middle;\n",
       "    }\n",
       "\n",
       "    .dataframe tbody tr th {\n",
       "        vertical-align: top;\n",
       "    }\n",
       "\n",
       "    .dataframe thead th {\n",
       "        text-align: right;\n",
       "    }\n",
       "</style>\n",
       "<table border=\"1\" class=\"dataframe\">\n",
       "  <thead>\n",
       "    <tr style=\"text-align: right;\">\n",
       "      <th></th>\n",
       "      <th>Gasto Educ (%)</th>\n",
       "      <th>Nota Matemática</th>\n",
       "      <th>Nota Leitura</th>\n",
       "      <th>Nota Ciências</th>\n",
       "    </tr>\n",
       "  </thead>\n",
       "  <tbody>\n",
       "    <tr>\n",
       "      <th>count</th>\n",
       "      <td>369.000000</td>\n",
       "      <td>236.000000</td>\n",
       "      <td>263.000000</td>\n",
       "      <td>202.000000</td>\n",
       "    </tr>\n",
       "    <tr>\n",
       "      <th>mean</th>\n",
       "      <td>3.293992</td>\n",
       "      <td>486.792373</td>\n",
       "      <td>485.866920</td>\n",
       "      <td>490.480198</td>\n",
       "    </tr>\n",
       "    <tr>\n",
       "      <th>std</th>\n",
       "      <td>0.693616</td>\n",
       "      <td>41.084077</td>\n",
       "      <td>34.442027</td>\n",
       "      <td>36.536115</td>\n",
       "    </tr>\n",
       "    <tr>\n",
       "      <th>min</th>\n",
       "      <td>1.543000</td>\n",
       "      <td>356.000000</td>\n",
       "      <td>371.000000</td>\n",
       "      <td>382.000000</td>\n",
       "    </tr>\n",
       "    <tr>\n",
       "      <th>25%</th>\n",
       "      <td>2.747000</td>\n",
       "      <td>480.750000</td>\n",
       "      <td>476.000000</td>\n",
       "      <td>478.000000</td>\n",
       "    </tr>\n",
       "    <tr>\n",
       "      <th>50%</th>\n",
       "      <td>3.238000</td>\n",
       "      <td>494.500000</td>\n",
       "      <td>493.000000</td>\n",
       "      <td>497.000000</td>\n",
       "    </tr>\n",
       "    <tr>\n",
       "      <th>75%</th>\n",
       "      <td>3.754000</td>\n",
       "      <td>512.000000</td>\n",
       "      <td>506.500000</td>\n",
       "      <td>513.000000</td>\n",
       "    </tr>\n",
       "    <tr>\n",
       "      <th>max</th>\n",
       "      <td>5.158000</td>\n",
       "      <td>564.000000</td>\n",
       "      <td>556.000000</td>\n",
       "      <td>563.000000</td>\n",
       "    </tr>\n",
       "  </tbody>\n",
       "</table>\n",
       "</div>"
      ],
      "text/plain": [
       "       Gasto Educ (%)  Nota Matemática  Nota Leitura  Nota Ciências\n",
       "count      369.000000       236.000000    263.000000     202.000000\n",
       "mean         3.293992       486.792373    485.866920     490.480198\n",
       "std          0.693616        41.084077     34.442027      36.536115\n",
       "min          1.543000       356.000000    371.000000     382.000000\n",
       "25%          2.747000       480.750000    476.000000     478.000000\n",
       "50%          3.238000       494.500000    493.000000     497.000000\n",
       "75%          3.754000       512.000000    506.500000     513.000000\n",
       "max          5.158000       564.000000    556.000000     563.000000"
      ]
     },
     "execution_count": 151,
     "metadata": {},
     "output_type": "execute_result"
    }
   ],
   "source": [
    "base_group.describe()[['Gasto Educ (%)', 'Nota Matemática', 'Nota Leitura','Nota Ciências']]\n",
    "\n",
    "#Antes de mais nada, percebemos que o count das colunas não é igual. Isto significa que não existem todos os indicadores,\n",
    "#todos os anos para todos os países. Isto é um problema, pois implica que precisaremos lidar com esses espaços vazios.\n",
    "\n",
    "#Quanto ao Gasto Público em educação, percebemos que existe uma amplitude grande - de 1.5% à 5.1% de investimento -, com uma \n",
    "#média de 3.29%\n",
    "\n",
    "#Já as notas do PISA possuem médias muito parecidas, entre 485 e 490 pontos."
   ]
  },
  {
   "cell_type": "code",
   "execution_count": 280,
   "metadata": {},
   "outputs": [
    {
     "data": {
      "text/plain": [
       "Text(0.5, 0.98, 'Distribuição das Variáveis')"
      ]
     },
     "execution_count": 280,
     "metadata": {},
     "output_type": "execute_result"
    },
    {
     "data": {
      "image/png": "[encoded data removed]",
      "text/plain": [
       "<Figure size 864x432 with 4 Axes>"
      ]
     },
     "metadata": {
      "needs_background": "light"
     },
     "output_type": "display_data"
    }
   ],
   "source": [
    "#Vamos visualizar as distribuições dessas colunas.\n",
    "fig = plt.figure(figsize=(12,6))\n",
    "\n",
    "#Gerando um espaço de imagem do matplotlib\n",
    "gs = gridspec.GridSpec(3, 2, wspace=0.2, hspace=0.4,figure=fig)\n",
    "\n",
    "#Criando os sub-espaços (1 maior, e 3 menores)\n",
    "#No código abaixo estamos forçando os gráficos do PISA a terem todos os mesmo eixo X.\n",
    "ax0 = fig.add_subplot(gs[0, 1])\n",
    "plt.yticks([])\n",
    "plt.yticks([])\n",
    "plt.title('Nota em Matemática')\n",
    "plt.setp(ax0.get_xticklabels(), visible=False)\n",
    "\n",
    "ax1 = fig.add_subplot(gs[1, 1],sharex=ax0)\n",
    "plt.yticks([])\n",
    "plt.title('Nota em Leitura')\n",
    "plt.setp(ax1.get_xticklabels(), visible=False)\n",
    "\n",
    "ax2 = fig.add_subplot(gs[2, 1],sharex=ax0)\n",
    "plt.yticks([])\n",
    "plt.title('Nota em Ciências')\n",
    "\n",
    "ax3 = fig.add_subplot(gs[:, 0])\n",
    "plt.yticks([])\n",
    "plt.xticks([x/100 for x in range(100,700,50)])\n",
    "plt.title('Gasto Público em Educação (% do PIB)')\n",
    "\n",
    "#Plotando os gráficos de distribuição.\n",
    "sns.distplot(base_group['Gasto Educ (%)'],ax=ax3,hist=False,axlabel=False,kde_kws={\"shade\": True},color='#342d36')\n",
    "sns.distplot(base_group['Nota Matemática'],ax=ax0,hist=False,axlabel=False,kde_kws={\"shade\": True},color='#eb8989')\n",
    "sns.distplot(base_group['Nota Leitura'],ax=ax1,hist=False,kde_kws={\"shade\": True},axlabel=False)\n",
    "sns.distplot(base_group['Nota Ciências'],ax=ax2,hist=False,axlabel=False,kde_kws={\"shade\": True},color='#62e571')\n",
    "\n",
    "fig.suptitle('Distribuição das Variáveis',fontsize=20)"
   ]
  }
 ],
 "metadata": {
  "kernelspec": {
   "display_name": "Python 3",
   "language": "python",
   "name": "python3"
  },
  "language_info": {
   "codemirror_mode": {
    "name": "ipython",
    "version": 3
   },
   "file_extension": ".py",
   "mimetype": "text/x-python",
   "name": "python",
   "nbconvert_exporter": "python",
   "pygments_lexer": "ipython3",
   "version": "3.7.6"
  }
 },
 "nbformat": 4,
 "nbformat_minor": 4
}
